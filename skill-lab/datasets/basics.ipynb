{
 "cells": [
  {
   "cell_type": "code",
   "execution_count": 2,
   "metadata": {},
   "outputs": [],
   "source": [
    "# Common Setup\n",
    "%run setup.ipynb"
   ]
  },
  {
   "cell_type": "code",
   "execution_count": 3,
   "metadata": {},
   "outputs": [],
   "source": [
    "# Instantiate Cortex Client and Builder\n",
    "cortex = Cortex.client()\n",
    "builder = cortex.builder()"
   ]
  },
  {
   "cell_type": "code",
   "execution_count": 4,
   "metadata": {},
   "outputs": [
    {
     "data": {
      "text/html": [
       "<div>\n",
       "<style scoped>\n",
       "    .dataframe tbody tr th:only-of-type {\n",
       "        vertical-align: middle;\n",
       "    }\n",
       "\n",
       "    .dataframe tbody tr th {\n",
       "        vertical-align: top;\n",
       "    }\n",
       "\n",
       "    .dataframe thead th {\n",
       "        text-align: right;\n",
       "    }\n",
       "</style>\n",
       "<table border=\"1\" class=\"dataframe\">\n",
       "  <thead>\n",
       "    <tr style=\"text-align: right;\">\n",
       "      <th></th>\n",
       "      <th>Date</th>\n",
       "      <th>Open</th>\n",
       "      <th>High</th>\n",
       "      <th>Low</th>\n",
       "      <th>Close</th>\n",
       "      <th>Adj Close</th>\n",
       "      <th>Volume</th>\n",
       "    </tr>\n",
       "  </thead>\n",
       "  <tbody>\n",
       "    <tr>\n",
       "      <th>0</th>\n",
       "      <td>2013-07-25</td>\n",
       "      <td>1685.209961</td>\n",
       "      <td>1690.939941</td>\n",
       "      <td>1680.069946</td>\n",
       "      <td>1690.250000</td>\n",
       "      <td>1690.250000</td>\n",
       "      <td>3322500000</td>\n",
       "    </tr>\n",
       "    <tr>\n",
       "      <th>1</th>\n",
       "      <td>2013-07-26</td>\n",
       "      <td>1687.310059</td>\n",
       "      <td>1691.849976</td>\n",
       "      <td>1676.030029</td>\n",
       "      <td>1691.650024</td>\n",
       "      <td>1691.650024</td>\n",
       "      <td>2762770000</td>\n",
       "    </tr>\n",
       "    <tr>\n",
       "      <th>2</th>\n",
       "      <td>2013-07-29</td>\n",
       "      <td>1690.319946</td>\n",
       "      <td>1690.920044</td>\n",
       "      <td>1681.859985</td>\n",
       "      <td>1685.329956</td>\n",
       "      <td>1685.329956</td>\n",
       "      <td>2840520000</td>\n",
       "    </tr>\n",
       "    <tr>\n",
       "      <th>3</th>\n",
       "      <td>2013-07-30</td>\n",
       "      <td>1687.920044</td>\n",
       "      <td>1693.189941</td>\n",
       "      <td>1682.420044</td>\n",
       "      <td>1685.959961</td>\n",
       "      <td>1685.959961</td>\n",
       "      <td>3320530000</td>\n",
       "    </tr>\n",
       "    <tr>\n",
       "      <th>4</th>\n",
       "      <td>2013-07-31</td>\n",
       "      <td>1687.760010</td>\n",
       "      <td>1698.430054</td>\n",
       "      <td>1684.939941</td>\n",
       "      <td>1685.729980</td>\n",
       "      <td>1685.729980</td>\n",
       "      <td>3847390000</td>\n",
       "    </tr>\n",
       "  </tbody>\n",
       "</table>\n",
       "</div>"
      ],
      "text/plain": [
       "         Date         Open         High          Low        Close  \\\n",
       "0  2013-07-25  1685.209961  1690.939941  1680.069946  1690.250000   \n",
       "1  2013-07-26  1687.310059  1691.849976  1676.030029  1691.650024   \n",
       "2  2013-07-29  1690.319946  1690.920044  1681.859985  1685.329956   \n",
       "3  2013-07-30  1687.920044  1693.189941  1682.420044  1685.959961   \n",
       "4  2013-07-31  1687.760010  1698.430054  1684.939941  1685.729980   \n",
       "\n",
       "     Adj Close      Volume  \n",
       "0  1690.250000  3322500000  \n",
       "1  1691.650024  2762770000  \n",
       "2  1685.329956  2840520000  \n",
       "3  1685.959961  3320530000  \n",
       "4  1685.729980  3847390000  "
      ]
     },
     "execution_count": 4,
     "metadata": {},
     "output_type": "execute_result"
    }
   ],
   "source": [
    "# Load source data\n",
    "df = pd.read_csv('../../data/financial/sp500_daily_5y_07242018.csv', header=0)\n",
    "df.head()"
   ]
  },
  {
   "cell_type": "code",
   "execution_count": 7,
   "metadata": {},
   "outputs": [
    {
     "name": "stdout",
     "output_type": "stream",
     "text": [
      "demo/SP500-daily-5y\n",
      "9\n"
     ]
    }
   ],
   "source": [
    "# Use the Pandas DataFrame to declare a Cortex Dataset\n",
    "ds = builder.dataset('demo/SP500-daily-5y').title('S&P 500 5y Daily').from_df(df, '/demo/data/financial/SP500-daily-5y.json', format='json').build()\n",
    "print(ds.name)\n",
    "print(ds.version)"
   ]
  },
  {
   "cell_type": "code",
   "execution_count": 10,
   "metadata": {},
   "outputs": [
    {
     "data": {
      "text/html": [
       "<div>\n",
       "<style scoped>\n",
       "    .dataframe tbody tr th:only-of-type {\n",
       "        vertical-align: middle;\n",
       "    }\n",
       "\n",
       "    .dataframe tbody tr th {\n",
       "        vertical-align: top;\n",
       "    }\n",
       "\n",
       "    .dataframe thead th {\n",
       "        text-align: right;\n",
       "    }\n",
       "</style>\n",
       "<table border=\"1\" class=\"dataframe\">\n",
       "  <thead>\n",
       "    <tr style=\"text-align: right;\">\n",
       "      <th></th>\n",
       "      <th>Date</th>\n",
       "      <th>Open</th>\n",
       "      <th>High</th>\n",
       "      <th>Low</th>\n",
       "      <th>Close</th>\n",
       "      <th>Adj Close</th>\n",
       "      <th>Volume</th>\n",
       "    </tr>\n",
       "  </thead>\n",
       "  <tbody>\n",
       "    <tr>\n",
       "      <th>0</th>\n",
       "      <td>2013-07-25</td>\n",
       "      <td>1685.209961</td>\n",
       "      <td>1690.939941</td>\n",
       "      <td>1680.069946</td>\n",
       "      <td>1690.250000</td>\n",
       "      <td>1690.250000</td>\n",
       "      <td>3322500000</td>\n",
       "    </tr>\n",
       "    <tr>\n",
       "      <th>1</th>\n",
       "      <td>2013-07-26</td>\n",
       "      <td>1687.310059</td>\n",
       "      <td>1691.849976</td>\n",
       "      <td>1676.030029</td>\n",
       "      <td>1691.650024</td>\n",
       "      <td>1691.650024</td>\n",
       "      <td>2762770000</td>\n",
       "    </tr>\n",
       "    <tr>\n",
       "      <th>2</th>\n",
       "      <td>2013-07-29</td>\n",
       "      <td>1690.319946</td>\n",
       "      <td>1690.920044</td>\n",
       "      <td>1681.859985</td>\n",
       "      <td>1685.329956</td>\n",
       "      <td>1685.329956</td>\n",
       "      <td>2840520000</td>\n",
       "    </tr>\n",
       "    <tr>\n",
       "      <th>3</th>\n",
       "      <td>2013-07-30</td>\n",
       "      <td>1687.920044</td>\n",
       "      <td>1693.189941</td>\n",
       "      <td>1682.420044</td>\n",
       "      <td>1685.959961</td>\n",
       "      <td>1685.959961</td>\n",
       "      <td>3320530000</td>\n",
       "    </tr>\n",
       "    <tr>\n",
       "      <th>4</th>\n",
       "      <td>2013-07-31</td>\n",
       "      <td>1687.760010</td>\n",
       "      <td>1698.430054</td>\n",
       "      <td>1684.939941</td>\n",
       "      <td>1685.729980</td>\n",
       "      <td>1685.729980</td>\n",
       "      <td>3847390000</td>\n",
       "    </tr>\n",
       "  </tbody>\n",
       "</table>\n",
       "</div>"
      ],
      "text/plain": [
       "         Date         Open         High          Low        Close  \\\n",
       "0  2013-07-25  1685.209961  1690.939941  1680.069946  1690.250000   \n",
       "1  2013-07-26  1687.310059  1691.849976  1676.030029  1691.650024   \n",
       "2  2013-07-29  1690.319946  1690.920044  1681.859985  1685.329956   \n",
       "3  2013-07-30  1687.920044  1693.189941  1682.420044  1685.959961   \n",
       "4  2013-07-31  1687.760010  1698.430054  1684.939941  1685.729980   \n",
       "\n",
       "     Adj Close      Volume  \n",
       "0  1690.250000  3322500000  \n",
       "1  1691.650024  2762770000  \n",
       "2  1685.329956  2840520000  \n",
       "3  1685.959961  3320530000  \n",
       "4  1685.729980  3847390000  "
      ]
     },
     "execution_count": 10,
     "metadata": {},
     "output_type": "execute_result"
    }
   ],
   "source": [
    "# Reload the DataFrame from the server to test\n",
    "ds = cortex.dataset('demo/SP500-daily-5y')\n",
    "df = ds.as_pandas()\n",
    "df.head()"
   ]
  },
  {
   "cell_type": "code",
   "execution_count": null,
   "metadata": {},
   "outputs": [],
   "source": []
  }
 ],
 "metadata": {
  "kernelspec": {
   "display_name": "Python 3",
   "language": "python",
   "name": "python3"
  },
  "language_info": {
   "codemirror_mode": {
    "name": "ipython",
    "version": 3
   },
   "file_extension": ".py",
   "mimetype": "text/x-python",
   "name": "python",
   "nbconvert_exporter": "python",
   "pygments_lexer": "ipython3",
   "version": "3.6.6"
  }
 },
 "nbformat": 4,
 "nbformat_minor": 2
}
