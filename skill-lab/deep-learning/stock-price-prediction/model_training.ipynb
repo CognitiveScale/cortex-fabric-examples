{
 "cells": [
  {
   "cell_type": "code",
   "execution_count": 1,
   "metadata": {},
   "outputs": [],
   "source": [
    "%run config.ipynb"
   ]
  },
  {
   "cell_type": "code",
   "execution_count": 2,
   "metadata": {},
   "outputs": [
    {
     "name": "stderr",
     "output_type": "stream",
     "text": [
      "Using TensorFlow backend.\n"
     ]
    }
   ],
   "source": [
    "from numpy import newaxis\n",
    "import keras\n",
    "from keras.layers.core import Dense, Activation, Dropout\n",
    "from keras.layers import Convolution1D, MaxPooling1D, Flatten,  Embedding\n",
    "from keras.layers import Conv1D, GlobalMaxPooling1D\n",
    "from keras.layers.recurrent import LSTM\n",
    "from keras.models import Sequential, load_model\n",
    "from datetime import datetime"
   ]
  },
  {
   "cell_type": "code",
   "execution_count": 3,
   "metadata": {},
   "outputs": [],
   "source": [
    "# Connect to Cortex\n",
    "cortex = Cortex.client()"
   ]
  },
  {
   "cell_type": "code",
   "execution_count": 4,
   "metadata": {},
   "outputs": [],
   "source": [
    "# Our stock symbols\n",
    "symbols = ['fb', 'xlf', 'aapl']"
   ]
  },
  {
   "cell_type": "code",
   "execution_count": 5,
   "metadata": {},
   "outputs": [
    {
     "name": "stdout",
     "output_type": "stream",
     "text": [
      "Loading stock prices for fb\n"
     ]
    },
    {
     "data": {
      "text/html": [
       "<div>\n",
       "<style scoped>\n",
       "    .dataframe tbody tr th:only-of-type {\n",
       "        vertical-align: middle;\n",
       "    }\n",
       "\n",
       "    .dataframe tbody tr th {\n",
       "        vertical-align: top;\n",
       "    }\n",
       "\n",
       "    .dataframe thead th {\n",
       "        text-align: right;\n",
       "    }\n",
       "</style>\n",
       "<table border=\"1\" class=\"dataframe\">\n",
       "  <thead>\n",
       "    <tr style=\"text-align: right;\">\n",
       "      <th></th>\n",
       "      <th>Attribute</th>\n",
       "      <th>Type</th>\n",
       "      <th>% Nulls</th>\n",
       "      <th>Count</th>\n",
       "      <th>Unique</th>\n",
       "      <th>Observations</th>\n",
       "      <th>Knowledge</th>\n",
       "    </tr>\n",
       "  </thead>\n",
       "  <tbody>\n",
       "    <tr>\n",
       "      <th>0</th>\n",
       "      <td>close</td>\n",
       "      <td>float64</td>\n",
       "      <td>0.0</td>\n",
       "      <td>1259</td>\n",
       "      <td>1200</td>\n",
       "      <td>max=2.4019017239971596 | min=-1.6881672929783968 | mean=-0.0</td>\n",
       "      <td></td>\n",
       "    </tr>\n",
       "  </tbody>\n",
       "</table>\n",
       "</div>"
      ],
      "text/plain": [
       "  Attribute     Type  % Nulls  Count  Unique  \\\n",
       "0     close  float64      0.0   1259    1200   \n",
       "\n",
       "                                                   Observations Knowledge  \n",
       "0  max=2.4019017239971596 | min=-1.6881672929783968 | mean=-0.0            "
      ]
     },
     "execution_count": 5,
     "metadata": {},
     "output_type": "execute_result"
    }
   ],
   "source": [
    "s = symbols[0]\n",
    "print('Loading stock prices for %s' % s)\n",
    "ds = cortex.dataset('demo/stock-prices-%s' % s)\n",
    "c = ds.contract('stock-prices')\n",
    "df = c.load_feature_file(tag='prices_%s' % s)\n",
    "c.discover.data_dictionary(df)"
   ]
  },
  {
   "cell_type": "code",
   "execution_count": 6,
   "metadata": {},
   "outputs": [
    {
     "data": {
      "text/plain": [
       "(1114, 1)"
      ]
     },
     "execution_count": 6,
     "metadata": {},
     "output_type": "execute_result"
    }
   ],
   "source": [
    "look_back = 30\n",
    "holdout_date = pd.to_datetime('2018-01-01')\n",
    "\n",
    "train_df = df.loc[df.index < holdout_date]\n",
    "\n",
    "# Convert our target variable to the right output format (2d array)\n",
    "timeseries = np.asarray(train_df.close)\n",
    "timeseries = np.atleast_2d(timeseries)\n",
    "if timeseries.shape[0] == 1:\n",
    "    timeseries = timeseries.T\n",
    "    \n",
    "timeseries.shape"
   ]
  },
  {
   "cell_type": "code",
   "execution_count": 7,
   "metadata": {},
   "outputs": [
    {
     "name": "stdout",
     "output_type": "stream",
     "text": [
      "(1084, 30, 1)\n",
      "[[-1.6827422 ]\n",
      " [-1.66716766]\n",
      " [-1.6544865 ]\n",
      " [-1.62873991]\n",
      " [-1.64318422]\n",
      " [-1.63595076]\n",
      " [-1.64341026]\n",
      " [-1.64431445]\n",
      " [-1.65064372]\n",
      " [-1.6777918 ]\n",
      " [-1.68613288]\n",
      " [-1.68816729]\n",
      " [-1.67641292]\n",
      " [-1.65991159]\n",
      " [-1.64634886]\n",
      " [-1.64838327]\n",
      " [-1.64318422]\n",
      " [-1.5979751 ]\n",
      " [-1.5801175 ]\n",
      " [-1.61854525]\n",
      " [-1.59802031]\n",
      " [-1.58147377]\n",
      " [-1.58115731]\n",
      " [-1.56813708]\n",
      " [-1.57017149]\n",
      " [-1.55027948]\n",
      " [-1.5211196 ]\n",
      " [-1.51908519]\n",
      " [-1.52903119]\n",
      " [-1.49648063]]\n",
      "(1084, 1)\n",
      "[[-1.50303595]\n",
      " [-1.51298196]\n",
      " [-1.55367016]\n",
      " [-1.49580249]]\n"
     ]
    }
   ],
   "source": [
    "# Setup training instances\n",
    "X = np.atleast_3d(np.array([timeseries[start:start + look_back] for start in range(0, timeseries.shape[0] - look_back)]))\n",
    "y = timeseries[look_back:]\n",
    "\n",
    "print(X.shape)\n",
    "print(X[0])\n",
    "print(y.shape)\n",
    "print(y[0:4])"
   ]
  },
  {
   "cell_type": "code",
   "execution_count": 8,
   "metadata": {},
   "outputs": [],
   "source": [
    "model = Sequential()\n",
    "model.add(LSTM(input_shape = (1,), input_dim=1, output_dim=6, return_sequences=True))\n",
    "model.add(LSTM(input_shape = (1,), input_dim=1, output_dim=6, return_sequences=False))\n",
    "model.add(Dense(1))\n",
    "model.add(Activation('linear'))\n",
    "model.compile(loss=\"mse\", optimizer=\"rmsprop\")"
   ]
  },
  {
   "cell_type": "code",
   "execution_count": null,
   "metadata": {},
   "outputs": [],
   "source": [
    "from keras_tqdm import TQDMNotebookCallback\n",
    "\n",
    "callbacks = []\n",
    "# callbacks.append(TQDMNotebookCallback(leave_inner=False, leave_outer=True))\n",
    "\n",
    "model.fit(X, \n",
    "          y, \n",
    "          epochs=1000, \n",
    "          batch_size=80, shuffle=False, callbacks=callbacks)"
   ]
  },
  {
   "cell_type": "code",
   "execution_count": 11,
   "metadata": {},
   "outputs": [],
   "source": [
    "# Save model\n",
    "model.save(filepath='model_stock_prices_%s.h5' % s, overwrite=True)"
   ]
  },
  {
   "cell_type": "code",
   "execution_count": null,
   "metadata": {},
   "outputs": [],
   "source": []
  }
 ],
 "metadata": {
  "kernelspec": {
   "display_name": "Python 3",
   "language": "python",
   "name": "python3"
  },
  "language_info": {
   "codemirror_mode": {
    "name": "ipython",
    "version": 3
   },
   "file_extension": ".py",
   "mimetype": "text/x-python",
   "name": "python",
   "nbconvert_exporter": "python",
   "pygments_lexer": "ipython3",
   "version": "3.6.6"
  }
 },
 "nbformat": 4,
 "nbformat_minor": 2
}
