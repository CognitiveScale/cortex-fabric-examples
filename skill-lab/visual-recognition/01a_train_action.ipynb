{
 "cells": [
  {
   "cell_type": "code",
   "execution_count": 3,
   "metadata": {
    "collapsed": true
   },
   "outputs": [
    {
     "name": "stdout",
     "output_type": "stream",
     "text": [
      "Python version: 3.6.6\n",
      "Pandas version: 0.23.4\n",
      "Numpy version: 1.15.1\n"
     ]
    }
   ],
   "source": [
    "# Basic setup and sanity checking\n",
    "%run ./00_setup.ipynb"
   ]
  },
  {
   "cell_type": "markdown",
   "metadata": {},
   "source": [
    "## Create a data set for Training Data"
   ]
  },
  {
   "cell_type": "markdown",
   "metadata": {},
   "source": [
    "Create a data set for Visual Recognition training. These are input files or folders that typically exist in your local file system or in S3."
   ]
  },
  {
   "cell_type": "code",
   "execution_count": 19,
   "metadata": {},
   "outputs": [],
   "source": [
    "from cortex.dataset import Dataset\n",
    "from cortex.builder.dataset_builder import DatasetBuilder\n",
    "from cortex_client.connectionclient import ConnectionClient\n",
    "import os\n",
    "from os.path import join\n",
    "cortex = Cortex.client()\n",
    "builder = cortex.builder()\n",
    "\n",
    "positive_example_1 = ''\n",
    "\n",
    "for filename in os.listdir('./data/images'):\n",
    "    fullpath = join('./data/images',filename)\n",
    "    datasetbuilder = builder.dataset(\"lkrishna/\" + filename)\n",
    "    datasetbuilder.title(filename)\n",
    "    with open(fullpath,'rb') as f:\n",
    "        datasetbuilder.from_file(f,format='zip').build()"
   ]
  },
  {
   "cell_type": "markdown",
   "metadata": {},
   "source": [
    "## Action Authoring and Deployment\n",
    "A Cortex Action can be authored and deployed from within a notebook for rapid prototyping and testing.  The Cortex SDK for Python includes an iPython Magic called `%%cortex_action` that takes a notebook cell and deploys it as a Cortex Action."
   ]
  },
  {
   "cell_type": "code",
   "execution_count": 89,
   "metadata": {
    "collapsed": true
   },
   "outputs": [
    {
     "name": "stdout",
     "output_type": "stream",
     "text": [
      "Building Cortex Action (daemon): c12e/image-train\n",
      "Building Docker image private-registry.cortex.insights.ai/lkrishna-prod/c12e_image-train:t31t7z1...\n",
      "Step 1/13 : FROM continuumio/miniconda3:4.5.4\n",
      "Step 2/13 : WORKDIR /app\n",
      "Step 3/13 : RUN apt-get update && apt-get install -y linux-headers-amd64 build-essential\n",
      "Step 4/13 : RUN conda config --add channels conda-forge\n",
      "Step 5/13 : RUN conda install --yes flask gunicorn\n",
      "Step 6/13 : COPY conda_requirements.txt .\n",
      "Step 7/13 : RUN conda install --yes --file conda_requirements.txt\n",
      "Step 8/13 : RUN pip install \"dill==0.2.8.2\" \"cortex-client==5.5.0\"\n",
      "Step 9/13 : COPY requirements.txt .\n",
      "Step 10/13 : RUN pip install -r requirements.txt\n",
      "Step 11/13 : COPY action.py .\n",
      "Step 12/13 : EXPOSE 5000\n",
      "Removing intermediate container 0cf34033900c\n",
      "Step 13/13 : ENTRYPOINT [\"gunicorn\", \"-b\", \"0.0.0.0:5000\", \"-t\", \"60\", \"action:app\"]\n",
      "Removing intermediate container 9c8b56a8345f\n",
      "Successfully built f41673859664\n",
      "Successfully tagged private-registry.cortex.insights.ai/lkrishna-prod/c12e_image-train:t31t7z1\n",
      "Image private-registry.cortex.insights.ai/lkrishna-prod/c12e_image-train:t31t7z1 built in 1.275444 seconds\n",
      "Pushing image to remote repository...\n",
      "t31t7z1: digest: sha256:a268b7b5457b39ac086783f308eca717eb2c91e093096f2c3daa6b84dfafcf34 size: 3464\n",
      "Image private-registry.cortex.insights.ai/lkrishna-prod/c12e_image-train:t31t7z1 pushed in 3.543828 seconds\n",
      "Cleaning up...\n",
      "Removing previous image: sha256:c2c3da6d7f\n",
      "Action deployed\n"
     ]
    },
    {
     "data": {
      "text/html": [
       "\n",
       "        <table>\n",
       "            <thead>\n",
       "                <tr>\n",
       "                    <th>Name</th>\n",
       "                    <th>Version</th>\n",
       "                    <th>Type</th>\n",
       "                    <th>Kind</th>\n",
       "                    <th>Image</th>\n",
       "                    <th>Deployment Status</th>\n",
       "                </tr>\n",
       "            </thead>\n",
       "            <tbody>\n",
       "                <td>c12e/image-train</td>\n",
       "                <td>34</td>\n",
       "                <td>daemon</td>\n",
       "                <td>None</td>\n",
       "                <td>private-registry.cortex.insights.ai/lkrishna-prod/c12e_image-train:t31t7z1</td>\n",
       "                <td>STARTED</td>\n",
       "            </tbody>\n",
       "        </table>\n",
       "        "
      ],
      "text/plain": [
       "<cortex.action.Action at 0x115da1e10>"
      ]
     },
     "execution_count": 89,
     "metadata": {},
     "output_type": "execute_result"
    }
   ],
   "source": [
    "%%cortex_action --name c12e/image-train --function train --daemon --requirements watson_developer_cloud\n",
    "\n",
    "from cortex import Message\n",
    "from watson_developer_cloud import VisualRecognitionV3\n",
    "import cortex_client\n",
    "import io\n",
    "\n",
    "def get_dataset_refs(params):\n",
    "    return {\n",
    "        x[\"datasetName\"]: x[\"refName\"] for x in params[\"datasetBindings\"]\n",
    "    }\n",
    "\n",
    "def read_dataset(args, jwt, dsname):\n",
    "\n",
    "    URL = 'https://api.cortex.insights.ai'\n",
    "    dc = cortex_client.DatasetsClient(URL, \"3\", jwt)\n",
    "    data = dc.get_stream(dsname).read()\n",
    "    return data\n",
    "    \n",
    "def train(params):\n",
    "\n",
    "\n",
    "    msg = Message(params)\n",
    "    \n",
    "    #datasetReferences = get_dataset_refs(params)\n",
    "    \n",
    "    #parsedArgs = {\n",
    "    #    HDMI_FILE_REF: datasetReferences.get(HDMI_FILE_REF),\n",
    "    #    \"api_endpoint\": params.get(\"apiEndpoint\")\n",
    "    #   }\n",
    "    \n",
    "    parsedArgs = None\n",
    "    jwt = params.get(\"token\")\n",
    "    \n",
    "    apiKey = msg.payload.get('apiKey')\n",
    "    classifier_name = msg.payload.get('classifier_name')\n",
    "    datasets = msg.payload.get('datasets')\n",
    "    classes = msg.payload.get('classes')\n",
    "    \n",
    "    if classifier_name is None or classifier_name == \"\":\n",
    "        return {\"payload\": \"Classifier Name Not Provided\"}\n",
    "    \n",
    "    # Store all files\n",
    "    image_files = []\n",
    "    count = 0\n",
    "    for dataset in datasets:\n",
    "        file_name = '/tmp/file_'+ str(count) + '.zip'\n",
    "        file = open(file_name,'wb')\n",
    "        file.write(read_dataset(parsedArgs, jwt, dataset))\n",
    "        image_files.append(file_name)\n",
    "        count=count+1\n",
    "    \n",
    "    # Get Watson VR\n",
    "    visual_recognition = VisualRecognitionV3('2018-03-19', iam_apikey=apiKey)\n",
    "    \n",
    "    positive_examples = {}\n",
    "    \n",
    "    count = 0\n",
    "    for class_name in classes:\n",
    "        file_name = class_name + \"_positive_examples\"\n",
    "        file = open(image_files[count],'rb')\n",
    "        positive_examples[file_name] = file\n",
    "        count=count+1\n",
    "\n",
    "    model = visual_recognition.create_classifier(\n",
    "        classifier_name,\n",
    "        **positive_examples).get_result()\n",
    "    response = json.dumps(model, indent=2)\n",
    "    \n",
    "    if response is not None:\n",
    "        return {\"payload\": response}\n",
    "    else:\n",
    "        return {\"payload\": \"Unable to get response from Watson Visual Recognition\"}        \n"
   ]
  },
  {
   "cell_type": "markdown",
   "metadata": {},
   "source": [
    "## Local Testing\n",
    "Once the Action is built, we can run both a local and remote test.  The local test in our example can be done by simply calling the `detect` function we defined above."
   ]
  },
  {
   "cell_type": "code",
   "execution_count": 97,
   "metadata": {},
   "outputs": [
    {
     "name": "stdout",
     "output_type": "stream",
     "text": [
      "{'payload': '{\\n'\n",
      "            '  \"classifier_id\": \"Connectors_318281756\",\\n'\n",
      "            '  \"name\": \"Connectors\",\\n'\n",
      "            '  \"status\": \"training\",\\n'\n",
      "            '  \"owner\": \"252e799b-e77d-4aca-87ab-8eb95787b580\",\\n'\n",
      "            '  \"created\": \"2018-12-12T20:23:15.875Z\",\\n'\n",
      "            '  \"updated\": \"2018-12-12T20:23:15.875Z\",\\n'\n",
      "            '  \"classes\": [\\n'\n",
      "            '    {\\n'\n",
      "            '      \"class\": \"hdmi_male\"\\n'\n",
      "            '    },\\n'\n",
      "            '    {\\n'\n",
      "            '      \"class\": \"thunderbolt_male\"\\n'\n",
      "            '    },\\n'\n",
      "            '    {\\n'\n",
      "            '      \"class\": \"vga_male\"\\n'\n",
      "            '    },\\n'\n",
      "            '    {\\n'\n",
      "            '      \"class\": \"usb_male\"\\n'\n",
      "            '    }\\n'\n",
      "            '  ],\\n'\n",
      "            '  \"core_ml_enabled\": true\\n'\n",
      "            '}'}\n"
     ]
    }
   ],
   "source": [
    "import sys\n",
    "import argparse\n",
    "from pprint import pprint\n",
    "\n",
    "\n",
    "def test_train(args):\n",
    "    classifier_name = 'Connectors'\n",
    "    apiKey = 'BVaceevn9oDep6ow12MASoLubdwkLYkDYEKdjLdBKFRi'\n",
    "    m = Message.with_payload({'apiKey':apiKey,'classifier_name':classifier_name,'classes':['thunderbolt_male','hdmi_male','usb_male','vga_male'],'datasets':['lkrishna/hdmi_male.zip','lkrishna/thunderbolt_male.zip','lkrishna/vga_male.zip','lkrishna/usb_male.zip']})\n",
    "    result = train(m.to_params())\n",
    "    pprint(result)\n",
    "\n",
    "test_train(None)"
   ]
  },
  {
   "cell_type": "markdown",
   "metadata": {},
   "source": [
    "## Remote Testing\n",
    "Using the Cortex client, we can execute a remote test of our Action to make sure it deployed as expected."
   ]
  },
  {
   "cell_type": "code",
   "execution_count": 103,
   "metadata": {},
   "outputs": [
    {
     "data": {
      "text/html": [
       "\n",
       "        <table>\n",
       "            <thead>\n",
       "                <tr>\n",
       "                    <th>Name</th>\n",
       "                    <th>Version</th>\n",
       "                    <th>Type</th>\n",
       "                    <th>Kind</th>\n",
       "                    <th>Image</th>\n",
       "                    <th>Deployment Status</th>\n",
       "                </tr>\n",
       "            </thead>\n",
       "            <tbody>\n",
       "                <td>c12e/image-train</td>\n",
       "                <td>34</td>\n",
       "                <td>daemon</td>\n",
       "                <td>None</td>\n",
       "                <td>private-registry.cortex.insights.ai/lkrishna-prod/c12e_image-train:t31t7z1</td>\n",
       "                <td>COMPLETED (running)</td>\n",
       "            </tbody>\n",
       "        </table>\n",
       "        "
      ],
      "text/plain": [
       "<cortex.action.Action at 0x115c4cd30>"
      ]
     },
     "execution_count": 103,
     "metadata": {},
     "output_type": "execute_result"
    }
   ],
   "source": [
    "client = Cortex.client()\n",
    "action = client.action('c12e/image-train')\n",
    "action"
   ]
  },
  {
   "cell_type": "code",
   "execution_count": 107,
   "metadata": {},
   "outputs": [
    {
     "name": "stdout",
     "output_type": "stream",
     "text": [
      "{\n",
      "  \"classifier_id\": \"Connectors_933615994\",\n",
      "  \"name\": \"Connectors\",\n",
      "  \"status\": \"training\",\n",
      "  \"owner\": \"252e799b-e77d-4aca-87ab-8eb95787b580\",\n",
      "  \"created\": \"2018-12-12T20:24:08.998Z\",\n",
      "  \"updated\": \"2018-12-12T20:24:08.998Z\",\n",
      "  \"classes\": [\n",
      "    {\n",
      "      \"class\": \"vga_male\"\n",
      "    },\n",
      "    {\n",
      "      \"class\": \"usb_male\"\n",
      "    },\n",
      "    {\n",
      "      \"class\": \"hdmi_male\"\n",
      "    },\n",
      "    {\n",
      "      \"class\": \"thunderbolt_male\"\n",
      "    }\n",
      "  ],\n",
      "  \"core_ml_enabled\": true\n",
      "}\n"
     ]
    }
   ],
   "source": [
    "classifier_name = 'Connectors'\n",
    "apiKey = 'BVaceevn9oDep6ow12MASoLubdwkLYkDYEKdjLdBKFRi'\n",
    "params = {'payload': {'apiKey':apiKey,'classifier_name':classifier_name,'datasets':['lkrishna/thunderbolt_male.zip','lkrishna/hdmi_male.zip','lkrishna/usb_male.zip','lkrishna/vga_male.zip'],'classes':['thunderbolt_male','hdmi_male','usb_male','vga_male']}}\n",
    "rs = action.invoke(Message.with_payload(params.get('payload')))\n",
    "result = rs.payload\n",
    "print(result)"
   ]
  },
  {
   "cell_type": "markdown",
   "metadata": {},
   "source": [
    "## Get Status of Training"
   ]
  }
 ],
 "metadata": {
  "kernelspec": {
   "display_name": "Python 3",
   "language": "python",
   "name": "python3"
  },
  "language_info": {
   "codemirror_mode": {
    "name": "ipython",
    "version": 3
   },
   "file_extension": ".py",
   "mimetype": "text/x-python",
   "name": "python",
   "nbconvert_exporter": "python",
   "pygments_lexer": "ipython3",
   "version": "3.6.6"
  }
 },
 "nbformat": 4,
 "nbformat_minor": 2
}
