{
 "cells": [
  {
   "cell_type": "code",
   "execution_count": 69,
   "metadata": {
    "collapsed": true
   },
   "outputs": [
    {
     "name": "stdout",
     "output_type": "stream",
     "text": [
      "Python version: 3.6.6\n",
      "Pandas version: 0.23.4\n",
      "Numpy version: 1.15.1\n"
     ]
    }
   ],
   "source": [
    "# Basic setup and sanity checking\n",
    "%run ./00_setup.ipynb"
   ]
  },
  {
   "cell_type": "markdown",
   "metadata": {},
   "source": [
    "## Action Authoring and Deployment\n",
    "A Cortex Action can be authored and deployed from within a notebook for rapid prototyping and testing.  The Cortex SDK for Python includes an iPython Magic called `%%cortex_action` that takes a notebook cell and deploys it as a Cortex Action."
   ]
  },
  {
   "cell_type": "code",
   "execution_count": 78,
   "metadata": {
    "collapsed": true
   },
   "outputs": [
    {
     "name": "stdout",
     "output_type": "stream",
     "text": [
      "Building Cortex Action (daemon): c12e/image-classify\n",
      "Building Docker image private-registry.cortex.insights.ai/lkrishna-prod/c12e_image-classify:wi0h7g0...\n",
      "Step 1/13 : FROM continuumio/miniconda3:4.5.4\n",
      "Step 2/13 : WORKDIR /app\n",
      "Step 3/13 : RUN apt-get update && apt-get install -y linux-headers-amd64 build-essential\n",
      "Step 4/13 : RUN conda config --add channels conda-forge\n",
      "Step 5/13 : RUN conda install --yes flask gunicorn\n",
      "Step 6/13 : COPY conda_requirements.txt .\n",
      "Step 7/13 : RUN conda install --yes --file conda_requirements.txt\n",
      "Step 8/13 : RUN pip install \"dill==0.2.8.2\" \"cortex-client==5.4.6\"\n",
      "Step 9/13 : COPY requirements.txt .\n",
      "Step 10/13 : RUN pip install -r requirements.txt\n",
      "Step 11/13 : COPY action.py .\n",
      "Step 12/13 : EXPOSE 5000\n",
      "Removing intermediate container d831775f0156\n",
      "Step 13/13 : ENTRYPOINT [\"gunicorn\", \"-b\", \"0.0.0.0:5000\", \"-t\", \"60\", \"action:app\"]\n",
      "Removing intermediate container ab8152da5882\n",
      "Successfully built 1e16ad9318fc\n",
      "Successfully tagged private-registry.cortex.insights.ai/lkrishna-prod/c12e_image-classify:wi0h7g0\n",
      "Image private-registry.cortex.insights.ai/lkrishna-prod/c12e_image-classify:wi0h7g0 built in 1.184119 seconds\n",
      "Pushing image to remote repository...\n",
      "wi0h7g0: digest: sha256:facfe8cc69281575f3cb694b9c6e9b86eea0525a20bb91a1a265027c1bd4f341 size: 3463\n",
      "Image private-registry.cortex.insights.ai/lkrishna-prod/c12e_image-classify:wi0h7g0 pushed in 201.096542 seconds\n",
      "Cleaning up...\n",
      "Action deployed\n"
     ]
    },
    {
     "data": {
      "text/html": [
       "\n",
       "        <table>\n",
       "            <thead>\n",
       "                <tr>\n",
       "                    <th>Name</th>\n",
       "                    <th>Version</th>\n",
       "                    <th>Type</th>\n",
       "                    <th>Kind</th>\n",
       "                    <th>Image</th>\n",
       "                    <th>Deployment Status</th>\n",
       "                </tr>\n",
       "            </thead>\n",
       "            <tbody>\n",
       "                <td>c12e/image-classify</td>\n",
       "                <td>1</td>\n",
       "                <td>daemon</td>\n",
       "                <td>None</td>\n",
       "                <td>private-registry.cortex.insights.ai/lkrishna-prod/c12e_image-classify:wi0h7g0</td>\n",
       "                <td>STARTED</td>\n",
       "            </tbody>\n",
       "        </table>\n",
       "        "
      ],
      "text/plain": [
       "<cortex.action.Action at 0x11e752cf8>"
      ]
     },
     "execution_count": 78,
     "metadata": {},
     "output_type": "execute_result"
    }
   ],
   "source": [
    "%%cortex_action --name c12e/image-classify --function classify --daemon --requirements watson_developer_cloud\n",
    "\n",
    "from cortex import Message\n",
    "from watson_developer_cloud import VisualRecognitionV3\n",
    "\n",
    "def classify(params):\n",
    "\n",
    "    msg = Message(params)\n",
    "\n",
    "    image_url = msg.payload.get('imageUrl')\n",
    "    apiKey = msg.payload.get('apiKey')\n",
    "    classifierId = msg.payload.get('classifierId')\n",
    "\n",
    "    if classifierId is None or classifierId == \"\":\n",
    "        return {\"payload\": \"Classifier ID Not Provided\"}\n",
    "\n",
    "    visual_recognition = VisualRecognitionV3('2018-03-19', iam_apikey=apiKey)\n",
    "\n",
    "    response = visual_recognition.classify(url=image_url, classifier_ids=[classifierId], threshold=\"0.5\").get_result()\n",
    "\n",
    "    if response is not None:\n",
    "        return {\"payload\": response}\n",
    "    else:\n",
    "        return {\"payload\": \"Unable to get response from Watson Visual Recognition\"}"
   ]
  },
  {
   "cell_type": "markdown",
   "metadata": {},
   "source": [
    "## Local Testing\n",
    "Once the Action is built, we can run both a local and remote test.  The local test in our example can be done by simply calling the `detect` function we defined above."
   ]
  },
  {
   "cell_type": "code",
   "execution_count": 95,
   "metadata": {},
   "outputs": [
    {
     "name": "stdout",
     "output_type": "stream",
     "text": [
      "{'custom_classes': 4,\n",
      " 'images': [{'classifiers': [{'classes': [{'class': 'usb_male',\n",
      "                                           'score': 0.882}],\n",
      "                              'classifier_id': 'Connectors_227384960',\n",
      "                              'name': 'Connectors'}],\n",
      "             'resolved_url': 'https://showmecables-static.scdn3.secure.raxcdn.com/media/catalog/product/cache/c687aa7517cf01e65c009f6943c2b1e9/u/s/usb-a-male-to-usb-b-female-adapter-3506-1.jpg',\n",
      "             'source_url': 'https://showmecables-static.scdn3.secure.raxcdn.com/media/catalog/product/cache/c687aa7517cf01e65c009f6943c2b1e9/u/s/usb-a-male-to-usb-b-female-adapter-3506-1.jpg'}],\n",
      " 'images_processed': 1}\n"
     ]
    }
   ],
   "source": [
    "import sys\n",
    "import argparse\n",
    "from pprint import pprint\n",
    "\n",
    "\n",
    "def test_detect(args):\n",
    "    imageUrl = 'https://showmecables-static.scdn3.secure.raxcdn.com/media/catalog/product/cache/c687aa7517cf01e65c009f6943c2b1e9/u/s/usb-a-male-to-usb-b-female-adapter-3506-1.jpg'\n",
    "    classifierId = 'Connectors_227384960'\n",
    "    apiKey = 'BVaceevn9oDep6ow12MASoLubdwkLYkDYEKdjLdBKFRi'\n",
    "    m = Message.with_payload({'imageUrl': imageUrl,'apiKey':apiKey,'classifierId':classifierId})\n",
    "    result = classify(m.to_params())\n",
    "    pprint(result['payload'])\n",
    "\n",
    "test_detect(None)"
   ]
  },
  {
   "cell_type": "markdown",
   "metadata": {},
   "source": [
    "## Remote Testing\n",
    "Using the Cortex client, we can execute a remote test of our Action to make sure it deployed as expected."
   ]
  },
  {
   "cell_type": "code",
   "execution_count": 101,
   "metadata": {},
   "outputs": [
    {
     "data": {
      "text/html": [
       "\n",
       "        <table>\n",
       "            <thead>\n",
       "                <tr>\n",
       "                    <th>Name</th>\n",
       "                    <th>Version</th>\n",
       "                    <th>Type</th>\n",
       "                    <th>Kind</th>\n",
       "                    <th>Image</th>\n",
       "                    <th>Deployment Status</th>\n",
       "                </tr>\n",
       "            </thead>\n",
       "            <tbody>\n",
       "                <td>c12e/image-classify</td>\n",
       "                <td>1</td>\n",
       "                <td>daemon</td>\n",
       "                <td>None</td>\n",
       "                <td>private-registry.cortex.insights.ai/lkrishna-prod/c12e_image-classify:wi0h7g0</td>\n",
       "                <td>COMPLETED (running)</td>\n",
       "            </tbody>\n",
       "        </table>\n",
       "        "
      ],
      "text/plain": [
       "<cortex.action.Action at 0x11fec6978>"
      ]
     },
     "execution_count": 101,
     "metadata": {},
     "output_type": "execute_result"
    }
   ],
   "source": [
    "client = Cortex.client()\n",
    "action = client.action('c12e/image-classify')\n",
    "action"
   ]
  },
  {
   "cell_type": "code",
   "execution_count": 174,
   "metadata": {},
   "outputs": [
    {
     "name": "stdout",
     "output_type": "stream",
     "text": [
      "[{'classifier_id': 'Connectors_227384960', 'name': 'Connectors', 'classes': [{'class': 'usb_male', 'score': 0.882}]}]\n"
     ]
    }
   ],
   "source": [
    "imageUrl = 'https://showmecables-static.scdn3.secure.raxcdn.com/media/catalog/product/cache/c687aa7517cf01e65c009f6943c2b1e9/u/s/usb-a-male-to-usb-b-female-adapter-3506-1.jpg'\n",
    "classifierId = 'Connectors_227384960'\n",
    "apiKey = 'BVaceevn9oDep6ow12MASoLubdwkLYkDYEKdjLdBKFRi'\n",
    "params = {'payload': {'imageUrl': imageUrl,'apiKey':apiKey,'classifierId':classifierId}}\n",
    "rs = action.invoke(Message.with_payload(params.get('payload')))\n",
    "result = rs.payload\n",
    "classifiers =  result.get(\"images\")\n",
    "print (classifiers[0].get('classifiers'))"
   ]
  },
  {
   "cell_type": "code",
   "execution_count": null,
   "metadata": {},
   "outputs": [],
   "source": []
  }
 ],
 "metadata": {
  "kernelspec": {
   "display_name": "Python 3",
   "language": "python",
   "name": "python3"
  },
  "language_info": {
   "codemirror_mode": {
    "name": "ipython",
    "version": 3
   },
   "file_extension": ".py",
   "mimetype": "text/x-python",
   "name": "python",
   "nbconvert_exporter": "python",
   "pygments_lexer": "ipython3",
   "version": "3.6.6"
  }
 },
 "nbformat": 4,
 "nbformat_minor": 2
}
