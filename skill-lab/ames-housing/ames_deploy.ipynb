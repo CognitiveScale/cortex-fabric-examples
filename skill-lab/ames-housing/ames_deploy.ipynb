{
 "cells": [
  {
   "cell_type": "code",
   "execution_count": 1,
   "metadata": {},
   "outputs": [],
   "source": [
    "%run config.ipynb"
   ]
  },
  {
   "cell_type": "code",
   "execution_count": 2,
   "metadata": {},
   "outputs": [],
   "source": [
    "cortex = Cortex.client()\n",
    "builder = cortex.builder()"
   ]
  },
  {
   "cell_type": "code",
   "execution_count": 3,
   "metadata": {},
   "outputs": [],
   "source": [
    "exp = cortex.experiment('kaggle/ames-housing-regression')"
   ]
  },
  {
   "cell_type": "code",
   "execution_count": 4,
   "metadata": {},
   "outputs": [
    {
     "data": {
      "text/html": [
       "\n",
       "                <style>\n",
       "                    #table1 { \n",
       "                      border: solid thin; \n",
       "                      border-collapse: collapse; \n",
       "                    }\n",
       "                    #table1 caption { \n",
       "                      padding-bottom: 0.5em; \n",
       "                    }\n",
       "                    #table1 th, \n",
       "                    #table1 td { \n",
       "                      border: solid thin;\n",
       "                      padding: 0.5rem 2rem;\n",
       "                    }\n",
       "                    #table1 td {\n",
       "                      white-space: nowrap;\n",
       "                    }\n",
       "                    #table1 td { \n",
       "                      border-style: none solid; \n",
       "                      vertical-align: top; \n",
       "                    }\n",
       "                    #table1 th { \n",
       "                      padding: 0.2em; \n",
       "                      vertical-align: middle; \n",
       "                      text-align: center; \n",
       "                    }\n",
       "                    #table1 tbody td:first-child::after { \n",
       "                      content: leader(\". \"); '\n",
       "                    }\n",
       "                </style>\n",
       "                <table id=\"table1\">\n",
       "                    <caption><b>Experiment:</b> kaggle/ames-housing-regression</caption>\n",
       "                    <thead>\n",
       "                    <tr>\n",
       "                        <th rowspan=\"2\">ID</th>\n",
       "                        <th rowspan=\"2\">Date</th>\n",
       "                        <th rowspan=\"2\">Took</th>\n",
       "                        <th colspan=\"2\" scope=\"colgroup\">Params</th>\n",
       "                        <th colspan=\"2\" scope=\"colgroup\">Metrics</th>\n",
       "                    </tr>\n",
       "                    <tr>\n",
       "                        \n",
       "                        <th>alphas</th>\n",
       "                        \n",
       "                        <th>model_type</th>\n",
       "                        \n",
       "                        \n",
       "                        <th>r2</th>\n",
       "                        \n",
       "                        <th>rmse</th>\n",
       "                        \n",
       "                    </tr>\n",
       "                    </thead>\n",
       "                    <tbody>\n",
       "                        \n",
       "                        <tr>\n",
       "                        <td>yr74ahb</td>\n",
       "                        <td>Sun, 19 Aug 2018 18:08:34 GMT</td>\n",
       "                        <td>1.87 s</td>\n",
       "                        \n",
       "                        <td>[1, 0.1, 0.001, 0.0001]</td>\n",
       "                        \n",
       "                        <td>ElasticNet</td>\n",
       "                        \n",
       "                        \n",
       "                        <td>0.920501</td>\n",
       "                        \n",
       "                        <td>0.108520</td>\n",
       "                        \n",
       "                        </tr>\n",
       "                        \n",
       "                        <tr>\n",
       "                        <td>pd94aen</td>\n",
       "                        <td>Sun, 19 Aug 2018 18:08:58 GMT</td>\n",
       "                        <td>1.40 s</td>\n",
       "                        \n",
       "                        <td>[1, 0.1, 0.001, 0.0005]</td>\n",
       "                        \n",
       "                        <td>Lasso</td>\n",
       "                        \n",
       "                        \n",
       "                        <td>0.920696</td>\n",
       "                        \n",
       "                        <td>0.108386</td>\n",
       "                        \n",
       "                        </tr>\n",
       "                        \n",
       "                        <tr>\n",
       "                        <td>r80eaae</td>\n",
       "                        <td>Sun, 19 Aug 2018 18:11:42 GMT</td>\n",
       "                        <td>1.41 s</td>\n",
       "                        \n",
       "                        <td>[1, 0.1, 0.001, 0.0005]</td>\n",
       "                        \n",
       "                        <td>Lasso</td>\n",
       "                        \n",
       "                        \n",
       "                        <td>0.920696</td>\n",
       "                        \n",
       "                        <td>0.108386</td>\n",
       "                        \n",
       "                        </tr>\n",
       "                        \n",
       "                        <tr>\n",
       "                        <td>1m4eafp</td>\n",
       "                        <td>Mon, 20 Aug 2018 22:48:56 GMT</td>\n",
       "                        <td>2.01 s</td>\n",
       "                        \n",
       "                        <td>[1, 0.1, 0.001, 0.0001]</td>\n",
       "                        \n",
       "                        <td>ElasticNet</td>\n",
       "                        \n",
       "                        \n",
       "                        <td>0.920501</td>\n",
       "                        \n",
       "                        <td>0.108520</td>\n",
       "                        \n",
       "                        </tr>\n",
       "                        \n",
       "                        <tr>\n",
       "                        <td>h79eaf2</td>\n",
       "                        <td>Mon, 20 Aug 2018 22:49:39 GMT</td>\n",
       "                        <td>1.47 s</td>\n",
       "                        \n",
       "                        <td>[1, 0.1, 0.001, 0.0005]</td>\n",
       "                        \n",
       "                        <td>Lasso</td>\n",
       "                        \n",
       "                        \n",
       "                        <td>0.920696</td>\n",
       "                        \n",
       "                        <td>0.108386</td>\n",
       "                        \n",
       "                        </tr>\n",
       "                        \n",
       "                    </tbody>\n",
       "                </table>"
      ],
      "text/plain": [
       "<cortex.experiment.Experiment at 0x111456908>"
      ]
     },
     "execution_count": 4,
     "metadata": {},
     "output_type": "execute_result"
    }
   ],
   "source": [
    "exp"
   ]
  },
  {
   "cell_type": "code",
   "execution_count": 5,
   "metadata": {},
   "outputs": [],
   "source": [
    "run = exp.get_run('h79eaf2')"
   ]
  },
  {
   "cell_type": "code",
   "execution_count": 6,
   "metadata": {},
   "outputs": [
    {
     "data": {
      "text/plain": [
       "sklearn.linear_model.coordinate_descent.LassoCV"
      ]
     },
     "execution_count": 6,
     "metadata": {},
     "output_type": "execute_result"
    }
   ],
   "source": [
    "model = run.get_artifact('model')\n",
    "type(model)"
   ]
  },
  {
   "cell_type": "code",
   "execution_count": 7,
   "metadata": {},
   "outputs": [],
   "source": [
    "action = builder.action('kaggle/ames-housing-predict').from_model(model).with_requirements(['scipy', 'scikit-learn']).build()"
   ]
  },
  {
   "cell_type": "code",
   "execution_count": 9,
   "metadata": {},
   "outputs": [
    {
     "data": {
      "text/html": [
       "\n",
       "        <table>\n",
       "            <thead>\n",
       "                <tr>\n",
       "                    <th>Name</th>\n",
       "                    <th>Title</th>\n",
       "                    <th>Version</th>\n",
       "                    <th>Kind</th>\n",
       "                    <th>Image</th>\n",
       "                    <th>Deployment Status</th>\n",
       "                </tr>\n",
       "            </thead>\n",
       "            <tbody>\n",
       "                <td>kaggle/ames-housing-predict</td>\n",
       "                <td>None</td>\n",
       "                <td>23</td>\n",
       "                <td>python:3</td>\n",
       "                <td>None</td>\n",
       "                <td>{'FAILED': '{\"killed\":false,\"code\":1,\"signal\":null,\"cmd\":\"cd cjl2vkrvw000t01mk4bds3mwe/unzipped/ && fn init --name msanchez_cogscale/cjl2vkrvw000t01mk4bds3mwe && fn build\"}'}</td>\n",
       "            </tbody>\n",
       "        </table>\n",
       "        "
      ],
      "text/plain": [
       "<cortex.action.Action at 0x1a23f88a58>"
      ]
     },
     "execution_count": 9,
     "metadata": {},
     "output_type": "execute_result"
    }
   ],
   "source": [
    "action"
   ]
  },
  {
   "cell_type": "code",
   "execution_count": null,
   "metadata": {},
   "outputs": [],
   "source": []
  },
  {
   "cell_type": "code",
   "execution_count": null,
   "metadata": {},
   "outputs": [],
   "source": []
  }
 ],
 "metadata": {
  "kernelspec": {
   "display_name": "Python 3",
   "language": "python",
   "name": "python3"
  },
  "language_info": {
   "codemirror_mode": {
    "name": "ipython",
    "version": 3
   },
   "file_extension": ".py",
   "mimetype": "text/x-python",
   "name": "python",
   "nbconvert_exporter": "python",
   "pygments_lexer": "ipython3",
   "version": "3.6.6"
  }
 },
 "nbformat": 4,
 "nbformat_minor": 2
}
