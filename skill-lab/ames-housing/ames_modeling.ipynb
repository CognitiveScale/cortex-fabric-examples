{
 "cells": [
  {
   "cell_type": "markdown",
   "metadata": {},
   "source": [
    "# Ames Housing Prices - Step 4: Modeling\n",
    "We are now ready to begin building our regression model to predict prices.  This notebook demonstrates how to use the previous work (cleaning and feature prep) to quickly build up the engineered features we need to train our ML model."
   ]
  },
  {
   "cell_type": "code",
   "execution_count": 18,
   "metadata": {},
   "outputs": [],
   "source": [
    "# Basic setup\n",
    "%run config.ipynb"
   ]
  },
  {
   "cell_type": "code",
   "execution_count": 19,
   "metadata": {},
   "outputs": [],
   "source": [
    "# Connect to Cortex 5 and create a Builder instance\n",
    "cortex = Cortex.client()\n",
    "builder = cortex.builder()"
   ]
  },
  {
   "cell_type": "markdown",
   "metadata": {},
   "source": [
    "### Training Data\n",
    "We will start with the training dataset from our previous steps and run the _features_ pipeline to get cleaned and prepared data."
   ]
  },
  {
   "cell_type": "code",
   "execution_count": 20,
   "metadata": {},
   "outputs": [],
   "source": [
    "train_ds = cortex.dataset('kaggle/ames-housing-train')"
   ]
  },
  {
   "cell_type": "code",
   "execution_count": 21,
   "metadata": {},
   "outputs": [
    {
     "name": "stdout",
     "output_type": "stream",
     "text": [
      "running pipeline [clean] for dataset [kaggle/ames-housing-train]:\n",
      "> drop_unused \n",
      "> drop_outliers \n",
      "> fill_zero_cols \n",
      "> fill_median_cols \n",
      "> fill_na_none \n",
      "running pipeline [features] for dataset [kaggle/ames-housing-train]:\n",
      "> scale_target \n"
     ]
    }
   ],
   "source": [
    "pipeline = train_ds.pipeline('features')\n",
    "train_df = pipeline.run()"
   ]
  },
  {
   "cell_type": "markdown",
   "metadata": {},
   "source": [
    "### Feature Framing\n",
    "We now need to split out our target variable from the training data and convert our categorical values into _dummies_."
   ]
  },
  {
   "cell_type": "code",
   "execution_count": 22,
   "metadata": {},
   "outputs": [],
   "source": [
    "y = train_df['SalePrice']"
   ]
  },
  {
   "cell_type": "code",
   "execution_count": 23,
   "metadata": {},
   "outputs": [
    {
     "name": "stdout",
     "output_type": "stream",
     "text": [
      "running pipeline [clean] for dataset [kaggle/ames-housing-train]:\n",
      "> drop_unused \n",
      "> drop_outliers \n",
      "> fill_zero_cols \n",
      "> fill_median_cols \n",
      "> fill_na_none \n",
      "running pipeline [features] for dataset [kaggle/ames-housing-train]:\n",
      "> scale_target \n",
      "running pipeline [engineer] for dataset [kaggle/ames-housing-train]:\n",
      "> drop_target \n",
      "> get_dummies \n",
      "\n",
      "Train shape: (1458, 303)\n"
     ]
    }
   ],
   "source": [
    "def drop_target(pipeline, df):\n",
    "    df.drop('SalePrice', 1, inplace=True)\n",
    "    \n",
    "def get_dummies(pipeline, df):\n",
    "    return pd.get_dummies(df)\n",
    "\n",
    "pipeline = train_ds.pipeline('engineer', depends=['features'], clear_cache=True)\n",
    "pipeline.reset()\n",
    "pipeline.add_step(drop_target)\n",
    "pipeline.add_step(get_dummies)\n",
    "\n",
    "# Run the feature engineering pipeline to prepare for model training\n",
    "train_df = pipeline.run()\n",
    "\n",
    "# Remember the full set of engineered columns we need to produce for the model\n",
    "pipeline.set_context('columns', train_df.columns.tolist())\n",
    "\n",
    "print('\\nTrain shape: (%d, %d)' % train_df.shape)"
   ]
  },
  {
   "cell_type": "markdown",
   "metadata": {},
   "source": [
    "## Model Training, Validation, and Experimentation\n",
    "We are going to try a variety of alogithms and parameters to achieve optimal results.  This will be an iterative process that Cortex 5 will help us track and reproduce in the future by recording the data pipeline used, the model parameters, model metrics, and model artifacts in Experiments."
   ]
  },
  {
   "cell_type": "code",
   "execution_count": 24,
   "metadata": {},
   "outputs": [],
   "source": [
    "from sklearn.linear_model import LinearRegression, RidgeCV, LassoCV, ElasticNetCV\n",
    "from sklearn.metrics import mean_squared_error\n",
    "from sklearn.model_selection import train_test_split"
   ]
  },
  {
   "cell_type": "code",
   "execution_count": 25,
   "metadata": {},
   "outputs": [],
   "source": [
    "def train(x, y, **kwargs):\n",
    "    alphas = kwargs.get('alphas', [1, 0.1, 0.001, 0.0001])\n",
    "\n",
    "    # Select alogrithm\n",
    "    mtype = kwargs.get('model_type')\n",
    "    if mtype == 'Lasso':\n",
    "        model = LassoCV(alphas=alphas)\n",
    "    elif mtype == 'Ridge':\n",
    "        model = RidgeCV(alphas=alphas)\n",
    "    elif mtype == 'ElasticNet':\n",
    "        model = ElasticNetCV(alphas=alphas)\n",
    "    else:\n",
    "        model = LinearRegression()\n",
    "\n",
    "    # Train model\n",
    "    model.fit(x, y)\n",
    "    \n",
    "    return model"
   ]
  },
  {
   "cell_type": "code",
   "execution_count": 26,
   "metadata": {},
   "outputs": [],
   "source": [
    "def predict_and_score(model, x, y):\n",
    "    predictions = model.predict(x)\n",
    "    rmse = np.sqrt(mean_squared_error(predictions, y))\n",
    "    return [predictions, rmse]"
   ]
  },
  {
   "cell_type": "code",
   "execution_count": 27,
   "metadata": {},
   "outputs": [],
   "source": [
    "X_train, X_test, y_train, y_test = train_test_split(train_df, y.values, test_size=0.20, random_state=10)"
   ]
  },
  {
   "cell_type": "markdown",
   "metadata": {},
   "source": [
    "### Experiment Management\n",
    "We are ready to run our train and validation loop and select the optimal model.  As we run our experiment, Cortex will track each run and record the key params, metrics, and artifacts needed to reproduce and/or deploy the model later."
   ]
  },
  {
   "cell_type": "code",
   "execution_count": 34,
   "metadata": {},
   "outputs": [
    {
     "name": "stdout",
     "output_type": "stream",
     "text": [
      "------------------------------------------------------------------------------------------\n",
      "Training model using Linear regression algorithm\n",
      "Training error: 0.08792096455489082\n",
      "Testing error: 0.11715496123176918\n",
      "------------------------------------------------------------------------------------------\n",
      "Training model using Lasso regression algorithm\n",
      "Training error: 0.10474725124109076\n",
      "Testing error: 0.11210731416333446\n",
      "------------------------------------------------------------------------------------------\n",
      "Training model using Ridge regression algorithm\n",
      "Training error: 0.08952814678982611\n",
      "Testing error: 0.1108089661962949\n",
      "------------------------------------------------------------------------------------------\n",
      "Training model using ElasticNet regression algorithm\n",
      "Training error: 0.09986249373851433\n",
      "Testing error: 0.10851964458526744\n",
      "------------------------------------------------------------------------------------------\n",
      "CPU times: user 1.83 s, sys: 20.8 ms, total: 1.85 s\n",
      "Wall time: 323 ms\n"
     ]
    }
   ],
   "source": [
    "%%time\n",
    "\n",
    "best_model = None\n",
    "best_model_type = None\n",
    "best_rmse = 1.0\n",
    "\n",
    "exp = cortex.experiment('kaggle/ames-housing-regression')\n",
    "# exp.reset()\n",
    "exp.set_pipeline(pipeline)\n",
    "exp.set_meta('style', 'supervised')\n",
    "exp.set_meta('function', 'regression')\n",
    "\n",
    "with exp.start_run() as run:\n",
    "    alphas = [1, 0.1, 0.001, 0.0001]\n",
    "    for model_type in ['Linear', 'Lasso', 'Ridge', 'ElasticNet']:\n",
    "        print('---'*30)\n",
    "        print('Training model using {} regression algorithm'.format(model_type))\n",
    "        model = train(X_train, y_train, model_type=model_type, alphas=alphas)\n",
    "        [predictions, rmse] = predict_and_score(model, X_train, y_train)\n",
    "        print('Training error:', rmse)\n",
    "        [predictions, rmse] = predict_and_score(model, X_test, y_test)\n",
    "        print('Testing error:', rmse)\n",
    "        \n",
    "        if rmse < best_rmse:\n",
    "            best_rmse = rmse\n",
    "            best_model = model\n",
    "            best_model_type = model_type\n",
    "    \n",
    "    r2 = best_model.score(X_test, y_test)\n",
    "    run.log_metric('r2', r2)\n",
    "    run.log_metric('rmse', best_rmse)\n",
    "    run.log_param('model_type', best_model_type)\n",
    "    run.log_param('alphas', alphas)\n",
    "    run.log_artifact('model', best_model)\n",
    "\n",
    "print('---'*30)"
   ]
  },
  {
   "cell_type": "code",
   "execution_count": 35,
   "metadata": {},
   "outputs": [
    {
     "name": "stdout",
     "output_type": "stream",
     "text": [
      "Best model: ElasticNet\n",
      "Best testing error: 0.108520\n",
      "R2 score: 0.920501\n"
     ]
    }
   ],
   "source": [
    "print('Best model: ' + best_model_type)\n",
    "print('Best testing error: %.6f' % best_rmse)\n",
    "print('R2 score: %.6f' % r2)"
   ]
  },
  {
   "cell_type": "code",
   "execution_count": 36,
   "metadata": {},
   "outputs": [
    {
     "data": {
      "text/html": [
       "\n",
       "                <style>\n",
       "                    #table1 { \n",
       "                      border: solid thin; \n",
       "                      border-collapse: collapse; \n",
       "                    }\n",
       "                    #table1 caption { \n",
       "                      padding-bottom: 0.5em; \n",
       "                    }\n",
       "                    #table1 th, \n",
       "                    #table1 td { \n",
       "                      border: solid thin;\n",
       "                      padding: 0.5rem 2rem;\n",
       "                    }\n",
       "                    #table1 td {\n",
       "                      white-space: nowrap;\n",
       "                    }\n",
       "                    #table1 td { \n",
       "                      border-style: none solid; \n",
       "                      vertical-align: top; \n",
       "                    }\n",
       "                    #table1 th { \n",
       "                      padding: 0.2em; \n",
       "                      vertical-align: middle; \n",
       "                      text-align: center; \n",
       "                    }\n",
       "                    #table1 tbody td:first-child::after { \n",
       "                      content: leader(\". \"); '\n",
       "                    }\n",
       "                </style>\n",
       "                <table id=\"table1\">\n",
       "                    <caption><b>Experiment:</b> kaggle/ames-housing-regression</caption>\n",
       "                    <thead>\n",
       "                    <tr>\n",
       "                        <th rowspan=\"2\">ID</th>\n",
       "                        <th rowspan=\"2\">Date</th>\n",
       "                        <th rowspan=\"2\">Took</th>\n",
       "                        <th colspan=\"2\" scope=\"colgroup\">Params</th>\n",
       "                        <th colspan=\"2\" scope=\"colgroup\">Metrics</th>\n",
       "                    </tr>\n",
       "                    <tr>\n",
       "                        \n",
       "                        <th>alphas</th>\n",
       "                        \n",
       "                        <th>model_type</th>\n",
       "                        \n",
       "                        \n",
       "                        <th>r2</th>\n",
       "                        \n",
       "                        <th>rmse</th>\n",
       "                        \n",
       "                    </tr>\n",
       "                    </thead>\n",
       "                    <tbody>\n",
       "                        \n",
       "                        <tr>\n",
       "                        <td>uy8oaok</td>\n",
       "                        <td>Tue, 21 Aug 2018 21:48:56 GMT</td>\n",
       "                        <td>1.36 s</td>\n",
       "                        \n",
       "                        <td>[1, 0.1, 0.001, 0.0005]</td>\n",
       "                        \n",
       "                        <td>Lasso</td>\n",
       "                        \n",
       "                        \n",
       "                        <td>0.920696</td>\n",
       "                        \n",
       "                        <td>0.108386</td>\n",
       "                        \n",
       "                        </tr>\n",
       "                        \n",
       "                        <tr>\n",
       "                        <td>joaoamy</td>\n",
       "                        <td>Tue, 21 Aug 2018 21:49:07 GMT</td>\n",
       "                        <td>1.82 s</td>\n",
       "                        \n",
       "                        <td>[1, 0.1, 0.001, 0.0001]</td>\n",
       "                        \n",
       "                        <td>ElasticNet</td>\n",
       "                        \n",
       "                        \n",
       "                        <td>0.920501</td>\n",
       "                        \n",
       "                        <td>0.108520</td>\n",
       "                        \n",
       "                        </tr>\n",
       "                        \n",
       "                    </tbody>\n",
       "                </table>"
      ],
      "text/plain": [
       "<cortex.experiment.Experiment at 0x1a1d500588>"
      ]
     },
     "execution_count": 36,
     "metadata": {},
     "output_type": "execute_result"
    }
   ],
   "source": [
    "exp"
   ]
  },
  {
   "cell_type": "code",
   "execution_count": null,
   "metadata": {},
   "outputs": [],
   "source": []
  }
 ],
 "metadata": {
  "kernelspec": {
   "display_name": "Python 3",
   "language": "python",
   "name": "python3"
  },
  "language_info": {
   "codemirror_mode": {
    "name": "ipython",
    "version": 3
   },
   "file_extension": ".py",
   "mimetype": "text/x-python",
   "name": "python",
   "nbconvert_exporter": "python",
   "pygments_lexer": "ipython3",
   "version": "3.6.6"
  }
 },
 "nbformat": 4,
 "nbformat_minor": 2
}
