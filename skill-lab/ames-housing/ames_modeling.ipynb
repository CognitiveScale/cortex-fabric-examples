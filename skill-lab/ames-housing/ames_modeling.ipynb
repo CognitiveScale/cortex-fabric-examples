{
 "cells": [
  {
   "cell_type": "code",
   "execution_count": 14,
   "metadata": {},
   "outputs": [],
   "source": [
    "%run config.ipynb"
   ]
  },
  {
   "cell_type": "code",
   "execution_count": 15,
   "metadata": {},
   "outputs": [],
   "source": [
    "cortex = Cortex.client()\n",
    "builder = cortex.builder()"
   ]
  },
  {
   "cell_type": "code",
   "execution_count": 16,
   "metadata": {},
   "outputs": [],
   "source": [
    "train_ds = cortex.dataset('kaggle/ames-housing-train')"
   ]
  },
  {
   "cell_type": "code",
   "execution_count": 17,
   "metadata": {},
   "outputs": [
    {
     "name": "stdout",
     "output_type": "stream",
     "text": [
      "running pipeline [clean] for dataset [kaggle/ames-housing-train]:\n",
      "> drop_unused \n",
      "> drop_outliers \n",
      "> fill_zero_cols \n",
      "> fill_median_cols \n",
      "> fill_na_none \n",
      "running pipeline [features] for dataset [kaggle/ames-housing-train]:\n",
      "> scale_target \n"
     ]
    }
   ],
   "source": [
    "pipeline = train_ds.pipeline('features')\n",
    "train_df = pipeline.run()"
   ]
  },
  {
   "cell_type": "code",
   "execution_count": 18,
   "metadata": {},
   "outputs": [],
   "source": [
    "y = train_df['SalePrice']"
   ]
  },
  {
   "cell_type": "code",
   "execution_count": 19,
   "metadata": {},
   "outputs": [
    {
     "name": "stdout",
     "output_type": "stream",
     "text": [
      "running pipeline [clean] for dataset [kaggle/ames-housing-train]:\n",
      "> drop_unused \n",
      "> drop_outliers \n",
      "> fill_zero_cols \n",
      "> fill_median_cols \n",
      "> fill_na_none \n",
      "running pipeline [features] for dataset [kaggle/ames-housing-train]:\n",
      "> scale_target \n",
      "running pipeline [engineer] for dataset [kaggle/ames-housing-train]:\n",
      "> drop_target \n",
      "> get_dummies \n",
      "\n",
      "Train shape: (1458, 303)\n"
     ]
    }
   ],
   "source": [
    "def drop_target(pipeline, df):\n",
    "    df.drop('SalePrice', 1, inplace=True)\n",
    "    \n",
    "def get_dummies(pipeline, df):\n",
    "    return pd.get_dummies(df)\n",
    "\n",
    "pipeline = train_ds.pipeline('engineer', depends=['features'], clear_cache=True)\n",
    "pipeline.reset()\n",
    "pipeline.add_step(drop_target)\n",
    "pipeline.add_step(get_dummies)\n",
    "\n",
    "# Run the feature engineering pipeline to prepare for model training\n",
    "train_df = pipeline.run()\n",
    "print('\\nTrain shape: (%d, %d)' % train_df.shape)"
   ]
  },
  {
   "cell_type": "code",
   "execution_count": 20,
   "metadata": {},
   "outputs": [],
   "source": [
    "from sklearn.linear_model import LinearRegression, RidgeCV, LassoCV, ElasticNetCV\n",
    "from sklearn.metrics import mean_squared_error\n",
    "from sklearn.model_selection import train_test_split"
   ]
  },
  {
   "cell_type": "code",
   "execution_count": 21,
   "metadata": {},
   "outputs": [],
   "source": [
    "def train(x, y, **kwargs):\n",
    "    alphas = kwargs.get('alphas', [1, 0.1, 0.001, 0.0001])\n",
    "\n",
    "    # Select alogrithm\n",
    "    mtype = kwargs.get('model_type')\n",
    "    if mtype == 'Lasso':\n",
    "        model = LassoCV(alphas=alphas)\n",
    "    elif mtype == 'Ridge':\n",
    "        model = RidgeCV(alphas=alphas)\n",
    "    elif mtype == 'ElasticNet':\n",
    "        model = ElasticNetCV(alphas=alphas)\n",
    "    else:\n",
    "        model = LinearRegression()\n",
    "\n",
    "    # Train model\n",
    "    model.fit(x, y)\n",
    "    \n",
    "    return model"
   ]
  },
  {
   "cell_type": "code",
   "execution_count": 22,
   "metadata": {},
   "outputs": [],
   "source": [
    "def predict_and_score(model, x, y):\n",
    "    predictions = model.predict(x)\n",
    "    rmse = np.sqrt(mean_squared_error(predictions, y))\n",
    "    return [predictions, rmse]"
   ]
  },
  {
   "cell_type": "code",
   "execution_count": 23,
   "metadata": {},
   "outputs": [],
   "source": [
    "X_train, X_test, y_train, y_test = train_test_split(train_df, y.values, test_size=0.20, random_state=10)"
   ]
  },
  {
   "cell_type": "code",
   "execution_count": 27,
   "metadata": {},
   "outputs": [
    {
     "name": "stdout",
     "output_type": "stream",
     "text": [
      "------------------------------------------------------------------------------------------\n",
      "Training model using Linear regression algorithm\n",
      "Training error: 0.08792096455489082\n",
      "Testing error: 0.11715496123176918\n",
      "------------------------------------------------------------------------------------------\n",
      "Training model using Lasso regression algorithm\n",
      "Training error: 0.09951434597883627\n",
      "Testing error: 0.10838639184071473\n",
      "------------------------------------------------------------------------------------------\n",
      "Training model using Ridge regression algorithm\n",
      "Training error: 0.08952814678982611\n",
      "Testing error: 0.1108089661962949\n",
      "------------------------------------------------------------------------------------------\n",
      "Training model using ElasticNet regression algorithm\n",
      "Training error: 0.09986249373851433\n",
      "Testing error: 0.10851964458526744\n",
      "------------------------------------------------------------------------------------------\n",
      "CPU times: user 1.51 s, sys: 19.9 ms, total: 1.53 s\n",
      "Wall time: 279 ms\n"
     ]
    }
   ],
   "source": [
    "%%time\n",
    "\n",
    "best_model = None\n",
    "best_model_type = None\n",
    "best_rmse = 1.0\n",
    "\n",
    "exp = cortex.experiment('kaggle/ames-housing-regression')\n",
    "# exp.reset()\n",
    "exp.set_pipeline(pipeline)\n",
    "exp.set_meta('style', 'supervised')\n",
    "exp.set_meta('function', 'regression')\n",
    "\n",
    "with exp.start_run() as run:\n",
    "    alphas = [1, 0.1, 0.001, 0.0005]\n",
    "    for model_type in ['Linear', 'Lasso', 'Ridge', 'ElasticNet']:\n",
    "        print('---'*30)\n",
    "        print('Training model using {} regression algorithm'.format(model_type))\n",
    "        model = train(X_train, y_train, model_type=model_type, alphas=alphas)\n",
    "        [predictions, rmse] = predict_and_score(model, X_train, y_train)\n",
    "        print('Training error:', rmse)\n",
    "        [predictions, rmse] = predict_and_score(model, X_test, y_test)\n",
    "        print('Testing error:', rmse)\n",
    "        \n",
    "        if rmse < best_rmse:\n",
    "            best_rmse = rmse\n",
    "            best_model = model\n",
    "            best_model_type = model_type\n",
    "    \n",
    "    r2 = best_model.score(X_test, y_test)\n",
    "    run.log_metric('r2', r2)\n",
    "    run.log_metric('rmse', best_rmse)\n",
    "    run.log_param('model_type', best_model_type)\n",
    "    run.log_param('alphas', alphas)\n",
    "    run.log_artifact('model', best_model)\n",
    "\n",
    "print('---'*30)"
   ]
  },
  {
   "cell_type": "code",
   "execution_count": 28,
   "metadata": {},
   "outputs": [
    {
     "name": "stdout",
     "output_type": "stream",
     "text": [
      "Best model: Lasso\n",
      "Best testing error: 0.108386\n",
      "R2 score: 0.920696\n"
     ]
    }
   ],
   "source": [
    "print('Best model: ' + best_model_type)\n",
    "print('Best testing error: %.6f' % best_rmse)\n",
    "print('R2 score: %.6f' % r2)"
   ]
  },
  {
   "cell_type": "code",
   "execution_count": 29,
   "metadata": {},
   "outputs": [
    {
     "data": {
      "text/html": [
       "\n",
       "        <style>\n",
       "            #table1 { \n",
       "              border: solid thin; \n",
       "              border-collapse: collapse; \n",
       "            }\n",
       "            #table1 caption { \n",
       "              padding-bottom: 0.5em; \n",
       "            }\n",
       "            #table1 th, \n",
       "            #table1 td { \n",
       "              border: solid thin;\n",
       "              padding: 0.5rem 2rem;\n",
       "            }\n",
       "            #table1 td {\n",
       "              white-space: nowrap;\n",
       "            }\n",
       "            #table1 td { \n",
       "              border-style: none solid; \n",
       "              vertical-align: top; \n",
       "            }\n",
       "            #table1 th { \n",
       "              padding: 0.2em; \n",
       "              vertical-align: middle; \n",
       "              text-align: center; \n",
       "            }\n",
       "            #table1 tbody td:first-child::after { \n",
       "              content: leader(\". \"); '\n",
       "            }\n",
       "        </style>\n",
       "        <table id=\"table1\">\n",
       "            <caption><b>Experiment:</b> kaggle/ames-housing-regression</caption>\n",
       "            <thead>\n",
       "            <tr>\n",
       "                <th rowspan=\"2\">ID</th>\n",
       "                <th rowspan=\"2\">Date</th>\n",
       "                <th rowspan=\"2\">Took</th>\n",
       "                <th colspan=\"2\" scope=\"colgroup\">Params</th>\n",
       "                <th colspan=\"2\" scope=\"colgroup\">Metrics</th>\n",
       "            </tr>\n",
       "            <tr>\n",
       "                \n",
       "                <th>alphas</th>\n",
       "                \n",
       "                <th>model_type</th>\n",
       "                \n",
       "                \n",
       "                <th>r2</th>\n",
       "                \n",
       "                <th>rmse</th>\n",
       "                \n",
       "            </tr>\n",
       "            </thead>\n",
       "            <tbody>\n",
       "                \n",
       "                <tr>\n",
       "                <td>yr74ahb</td>\n",
       "                <td>Sun, 19 Aug 2018 18:08:34 GMT</td>\n",
       "                <td>1.87 s</td>\n",
       "                \n",
       "                <td>[1, 0.1, 0.001, 0.0001]</td>\n",
       "                \n",
       "                <td>ElasticNet</td>\n",
       "                \n",
       "                \n",
       "                <td>0.920501</td>\n",
       "                \n",
       "                <td>0.108520</td>\n",
       "                \n",
       "                </tr>\n",
       "                \n",
       "                <tr>\n",
       "                <td>pd94aen</td>\n",
       "                <td>Sun, 19 Aug 2018 18:08:58 GMT</td>\n",
       "                <td>1.40 s</td>\n",
       "                \n",
       "                <td>[1, 0.1, 0.001, 0.0005]</td>\n",
       "                \n",
       "                <td>Lasso</td>\n",
       "                \n",
       "                \n",
       "                <td>0.920696</td>\n",
       "                \n",
       "                <td>0.108386</td>\n",
       "                \n",
       "                </tr>\n",
       "                \n",
       "                <tr>\n",
       "                <td>r80eaae</td>\n",
       "                <td>Sun, 19 Aug 2018 18:11:42 GMT</td>\n",
       "                <td>1.41 s</td>\n",
       "                \n",
       "                <td>[1, 0.1, 0.001, 0.0005]</td>\n",
       "                \n",
       "                <td>Lasso</td>\n",
       "                \n",
       "                \n",
       "                <td>0.920696</td>\n",
       "                \n",
       "                <td>0.108386</td>\n",
       "                \n",
       "                </tr>\n",
       "                \n",
       "                <tr>\n",
       "                <td>1m4eafp</td>\n",
       "                <td>Mon, 20 Aug 2018 22:48:56 GMT</td>\n",
       "                <td>2.01 s</td>\n",
       "                \n",
       "                <td>[1, 0.1, 0.001, 0.0001]</td>\n",
       "                \n",
       "                <td>ElasticNet</td>\n",
       "                \n",
       "                \n",
       "                <td>0.920501</td>\n",
       "                \n",
       "                <td>0.108520</td>\n",
       "                \n",
       "                </tr>\n",
       "                \n",
       "                <tr>\n",
       "                <td>h79eaf2</td>\n",
       "                <td>Mon, 20 Aug 2018 22:49:39 GMT</td>\n",
       "                <td>1.47 s</td>\n",
       "                \n",
       "                <td>[1, 0.1, 0.001, 0.0005]</td>\n",
       "                \n",
       "                <td>Lasso</td>\n",
       "                \n",
       "                \n",
       "                <td>0.920696</td>\n",
       "                \n",
       "                <td>0.108386</td>\n",
       "                \n",
       "                </tr>\n",
       "                \n",
       "            </tbody>\n",
       "        </table>"
      ],
      "text/plain": [
       "<IPython.core.display.HTML object>"
      ]
     },
     "metadata": {},
     "output_type": "display_data"
    }
   ],
   "source": [
    "exp.display()"
   ]
  },
  {
   "cell_type": "code",
   "execution_count": null,
   "metadata": {},
   "outputs": [],
   "source": []
  }
 ],
 "metadata": {
  "kernelspec": {
   "display_name": "Python 3",
   "language": "python",
   "name": "python3"
  },
  "language_info": {
   "codemirror_mode": {
    "name": "ipython",
    "version": 3
   },
   "file_extension": ".py",
   "mimetype": "text/x-python",
   "name": "python",
   "nbconvert_exporter": "python",
   "pygments_lexer": "ipython3",
   "version": "3.6.6"
  }
 },
 "nbformat": 4,
 "nbformat_minor": 2
}
