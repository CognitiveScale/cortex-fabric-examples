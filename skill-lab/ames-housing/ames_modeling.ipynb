{
 "cells": [
  {
   "cell_type": "code",
   "execution_count": 1,
   "metadata": {},
   "outputs": [],
   "source": [
    "%run config.ipynb"
   ]
  },
  {
   "cell_type": "code",
   "execution_count": 2,
   "metadata": {},
   "outputs": [],
   "source": [
    "cortex = Cortex.client()\n",
    "builder = cortex.builder()"
   ]
  },
  {
   "cell_type": "code",
   "execution_count": 3,
   "metadata": {},
   "outputs": [],
   "source": [
    "train_ds = cortex.dataset('kaggle/ames-housing-train')"
   ]
  },
  {
   "cell_type": "code",
   "execution_count": 4,
   "metadata": {},
   "outputs": [
    {
     "name": "stdout",
     "output_type": "stream",
     "text": [
      "running pipeline [clean] for dataset [kaggle/ames-housing-train]:\n",
      "> drop_unused \n",
      "> drop_outliers \n",
      "> fill_zero_cols \n",
      "> fill_median_cols \n",
      "> fill_na_none \n",
      "running pipeline [features] for dataset [kaggle/ames-housing-train]:\n",
      "> scale_target \n"
     ]
    }
   ],
   "source": [
    "pipeline = train_ds.pipeline('features')\n",
    "train_df = pipeline.run()"
   ]
  },
  {
   "cell_type": "code",
   "execution_count": 5,
   "metadata": {},
   "outputs": [],
   "source": [
    "y = train_df['SalePrice']"
   ]
  },
  {
   "cell_type": "code",
   "execution_count": 6,
   "metadata": {},
   "outputs": [
    {
     "name": "stdout",
     "output_type": "stream",
     "text": [
      "running pipeline [clean] for dataset [kaggle/ames-housing-train]:\n",
      "> drop_unused \n",
      "> drop_outliers \n",
      "> fill_zero_cols \n",
      "> fill_median_cols \n",
      "> fill_na_none \n",
      "running pipeline [features] for dataset [kaggle/ames-housing-train]:\n",
      "> scale_target \n",
      "running pipeline [engineer] for dataset [kaggle/ames-housing-train]:\n",
      "> drop_target \n",
      "> get_dummies \n",
      "\n",
      "Train shape: (1458, 303)\n"
     ]
    }
   ],
   "source": [
    "def drop_target(pipeline, df):\n",
    "    df.drop('SalePrice', 1, inplace=True)\n",
    "    \n",
    "def get_dummies(pipeline, df):\n",
    "    return pd.get_dummies(df)\n",
    "\n",
    "pipeline = train_ds.pipeline('engineer', depends=['features'], clear_cache=True)\n",
    "pipeline.reset()\n",
    "pipeline.add_step(drop_target).add_step(get_dummies)\n",
    "\n",
    "train_df = pipeline.run()\n",
    "print('\\nTrain shape: (%d, %d)' % train_df.shape)"
   ]
  },
  {
   "cell_type": "code",
   "execution_count": 7,
   "metadata": {},
   "outputs": [],
   "source": [
    "from sklearn.linear_model import LinearRegression\n",
    "from sklearn.linear_model import RidgeCV\n",
    "from sklearn.linear_model import LassoCV\n",
    "from sklearn.metrics import mean_squared_error\n",
    "from sklearn.model_selection import train_test_split"
   ]
  },
  {
   "cell_type": "code",
   "execution_count": 8,
   "metadata": {},
   "outputs": [],
   "source": [
    "def train(x, y, **kwargs):\n",
    "    alphas = [1, 0.1, 0.001, 0.0001]\n",
    "\n",
    "    mtype = kwargs.get('model_type')\n",
    "    if mtype == 'Lasso':\n",
    "        model = LassoCV(alphas=alphas)\n",
    "    elif mtype == 'Ridge':\n",
    "        model = RidgeCV(alphas=alphas)\n",
    "    else:\n",
    "        model = LinearRegression()\n",
    "\n",
    "    model.fit(x, y)\n",
    "    return model"
   ]
  },
  {
   "cell_type": "code",
   "execution_count": 9,
   "metadata": {},
   "outputs": [],
   "source": [
    "def predict(model, x, y):\n",
    "    predictions = model.predict(x)\n",
    "    rmse = np.sqrt(mean_squared_error(predictions, y))\n",
    "    return [predictions, rmse]"
   ]
  },
  {
   "cell_type": "code",
   "execution_count": 10,
   "metadata": {},
   "outputs": [],
   "source": [
    "X_train, X_test, y_train, y_test = train_test_split(train_df, y.values, test_size=0.20, random_state=10)"
   ]
  },
  {
   "cell_type": "code",
   "execution_count": 11,
   "metadata": {},
   "outputs": [
    {
     "name": "stdout",
     "output_type": "stream",
     "text": [
      "------------------------------------------------------------------------------------------\n",
      "Training model using Linear regression algorithm\n",
      "Training error: 0.08792096455489082\n",
      "Testing error: 0.11715496123176918\n",
      "------------------------------------------------------------------------------------------\n",
      "Training model using Lasso regression algorithm\n",
      "Training error: 0.10474725124109076\n",
      "Testing error: 0.11210731416333446\n",
      "------------------------------------------------------------------------------------------\n",
      "Training model using Ridge regression algorithm\n",
      "Training error: 0.08952814678982611\n",
      "Testing error: 0.1108089661962949\n"
     ]
    }
   ],
   "source": [
    "best_model = None\n",
    "best_model_type = None\n",
    "best_score = 100.0\n",
    "\n",
    "for model_type in ['Linear','Lasso','Ridge']:\n",
    "    print('---'*30)\n",
    "    print('Training model using {} regression algorithm'.format(model_type))\n",
    "    model = train(X_train, y_train, model_type=model_type)\n",
    "    [predictions, rmse] = predict(model, X_train, y_train)\n",
    "    print('Training error:', rmse)\n",
    "    [predictions, rmse] = predict(model, X_test, y_test)\n",
    "    print('Testing error:', rmse)\n",
    "    if rmse < best_score:\n",
    "        best_score = rmse\n",
    "        best_model = model\n",
    "        best_model_type = model_type"
   ]
  },
  {
   "cell_type": "code",
   "execution_count": 12,
   "metadata": {},
   "outputs": [
    {
     "name": "stdout",
     "output_type": "stream",
     "text": [
      "Best model: Ridge\n",
      "Best training error: 0.110809\n",
      "Best R2 score: 0.917111\n"
     ]
    }
   ],
   "source": [
    "r2 = best_model.score(X_test, y_test)\n",
    "\n",
    "print('Best model: ' + best_model_type)\n",
    "print('Best training error: %.6f' % best_score)\n",
    "print('Best R2 score: %.6f' % r2)"
   ]
  },
  {
   "cell_type": "code",
   "execution_count": null,
   "metadata": {},
   "outputs": [],
   "source": []
  }
 ],
 "metadata": {
  "kernelspec": {
   "display_name": "Python 3",
   "language": "python",
   "name": "python3"
  },
  "language_info": {
   "codemirror_mode": {
    "name": "ipython",
    "version": 3
   },
   "file_extension": ".py",
   "mimetype": "text/x-python",
   "name": "python",
   "nbconvert_exporter": "python",
   "pygments_lexer": "ipython3",
   "version": "3.6.6"
  }
 },
 "nbformat": 4,
 "nbformat_minor": 2
}
