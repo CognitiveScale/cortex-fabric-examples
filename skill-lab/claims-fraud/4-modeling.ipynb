{
 "cells": [
  {
   "cell_type": "markdown",
   "metadata": {},
   "source": [
    "# Insurance Fraud Claim Prediction - Step 4: Modeling\n",
    "We are now ready to begin building our regression model to predict fraud.  This notebook demonstrates how to use the previous work (cleaning, feature prep) to quickly build up the engineered features we need to train our ML model."
   ]
  },
  {
   "cell_type": "code",
   "execution_count": 54,
   "metadata": {},
   "outputs": [],
   "source": [
    "# Basic setup\n",
    "%run config.ipynb"
   ]
  },
  {
   "cell_type": "code",
   "execution_count": 56,
   "metadata": {},
   "outputs": [],
   "source": [
    "# Connect to Cortex 5 and create a Builder instance\n",
    "cortex = Cortex.client()\n",
    "builder = cortex.builder()"
   ]
  },
  {
   "cell_type": "markdown",
   "metadata": {},
   "source": [
    "### Training Data\n",
    "We will start with the training dataset from our previous steps and run the _features_ pipeline to get cleaned and prepared data"
   ]
  },
  {
   "cell_type": "code",
   "execution_count": 59,
   "metadata": {},
   "outputs": [],
   "source": [
    "train_ds = cortex.dataset('claims-fraud/motorinsurancefraud')"
   ]
  },
  {
   "cell_type": "code",
   "execution_count": 61,
   "metadata": {},
   "outputs": [
    {
     "name": "stdout",
     "output_type": "stream",
     "text": [
      "running pipeline [clean] for dataset [claims-fraud/motorinsurancefraud]:\n",
      "> drop_unused \n",
      "> fill_na_none \n",
      "running pipeline [features] for dataset [claims-fraud/motorinsurancefraud]:\n"
     ]
    }
   ],
   "source": [
    "pipeline = train_ds.pipeline('features')\n",
    "train_df = pipeline.run()"
   ]
  },
  {
   "cell_type": "markdown",
   "metadata": {},
   "source": [
    "### Feature Framing\n",
    "We now need to split out our target variable from the training data and convert our categorical values into _dummies_."
   ]
  },
  {
   "cell_type": "code",
   "execution_count": 64,
   "metadata": {},
   "outputs": [],
   "source": [
    "y = train_df['Fraud Flag']"
   ]
  },
  {
   "cell_type": "code",
   "execution_count": 66,
   "metadata": {},
   "outputs": [],
   "source": [
    "from sklearn import preprocessing\n",
    "from sklearn import utils\n",
    "\n",
    "lab_enc = preprocessing.LabelEncoder()\n",
    "y_encoded = lab_enc.fit_transform(y)"
   ]
  },
  {
   "cell_type": "code",
   "execution_count": 68,
   "metadata": {},
   "outputs": [
    {
     "data": {
      "text/plain": [
       "(500, 13)"
      ]
     },
     "execution_count": 68,
     "metadata": {},
     "output_type": "execute_result"
    }
   ],
   "source": [
    "train_df.shape"
   ]
  },
  {
   "cell_type": "code",
   "execution_count": 72,
   "metadata": {},
   "outputs": [
    {
     "name": "stdout",
     "output_type": "stream",
     "text": [
      "running pipeline [clean] for dataset [claims-fraud/motorinsurancefraud]:\n",
      "> drop_unused \n",
      "> fill_na_none \n",
      "running pipeline [features] for dataset [claims-fraud/motorinsurancefraud]:\n",
      "running pipeline [engineer] for dataset [claims-fraud/motorinsurancefraud]:\n",
      "> drop_target \n",
      "> get_dummies \n",
      "\n",
      "Train shape: (500, 24)\n"
     ]
    }
   ],
   "source": [
    "def drop_target(pipeline, df):\n",
    "    df.drop('Fraud Flag', 1, inplace=True)\n",
    "    \n",
    "def get_dummies(pipeline, df):\n",
    "    return pd.get_dummies(df)\n",
    "\n",
    "\n",
    "pipeline = train_ds.pipeline('engineer', depends=['features'], clear_cache=True)\n",
    "pipeline.reset()\n",
    "pipeline.add_step(drop_target)\n",
    "pipeline.add_step(get_dummies)\n",
    "\n",
    "# Run the feature engineering pipeline to prepare for model training\n",
    "train_df = pipeline.run()\n",
    "\n",
    "# Remember the full set of engineered columns we need to produce for the model\n",
    "pipeline.set_context('columns', train_df.columns.tolist())\n",
    "\n",
    "print('\\nTrain shape: (%d, %d)' % train_df.shape)"
   ]
  },
  {
   "cell_type": "markdown",
   "metadata": {},
   "source": [
    "## Model Training, Validation, and Experimentation\n",
    "We are going to try a variety of alogithms and parameters to achieve optimal results.  This will be an iterative process that Cortex 5 will help us track and reproduce in the future by recording the data pipeline used, the model parameters, model metrics, and model artifacts in Experiments."
   ]
  },
  {
   "cell_type": "code",
   "execution_count": 75,
   "metadata": {},
   "outputs": [],
   "source": [
    "from sklearn.linear_model import LinearRegression, RidgeCV, LassoCV, ElasticNetCV,LogisticRegression\n",
    "from sklearn.metrics import mean_squared_error\n",
    "from sklearn.model_selection import train_test_split"
   ]
  },
  {
   "cell_type": "code",
   "execution_count": 77,
   "metadata": {},
   "outputs": [],
   "source": [
    "def train(x, y, **kwargs):\n",
    "    alphas = kwargs.get('alphas', [1, 0.1, 0.001, 0.0001])\n",
    "\n",
    "    # Select alogrithm\n",
    "    mtype = kwargs.get('model_type')\n",
    "    if mtype == 'Lasso':\n",
    "        model = LassoCV(alphas=alphas)\n",
    "    elif mtype == 'Ridge':\n",
    "        model = RidgeCV(alphas=alphas)\n",
    "    elif mtype == 'ElasticNet':\n",
    "        model = ElasticNetCV(alphas=alphas)\n",
    "    else:\n",
    "        model = LogisticRegression()\n",
    "\n",
    "    # Train model\n",
    "    model.fit(x, y)\n",
    "    \n",
    "    return model"
   ]
  },
  {
   "cell_type": "code",
   "execution_count": 79,
   "metadata": {},
   "outputs": [],
   "source": [
    "def predict_and_score(model, x, y):\n",
    "    predictions = model.predict(x)\n",
    "    rmse = np.sqrt(mean_squared_error(predictions, y))\n",
    "    return [predictions, rmse]"
   ]
  },
  {
   "cell_type": "code",
   "execution_count": 81,
   "metadata": {},
   "outputs": [],
   "source": [
    "X_train, X_test, y_train, y_test = train_test_split(train_df, y.values, test_size=0.20, random_state=10)"
   ]
  },
  {
   "cell_type": "markdown",
   "metadata": {},
   "source": [
    "### Experiment Management\n",
    "We are ready to run our train and validation loop and select the optimal model.  As we run our experiment, Cortex will track each run and record the key params, metrics, and artifacts needed to reproduce and/or deploy the model later."
   ]
  },
  {
   "cell_type": "code",
   "execution_count": 84,
   "metadata": {},
   "outputs": [
    {
     "name": "stdout",
     "output_type": "stream",
     "text": [
      "------------------------------------------------------------------------------------------\n",
      "Training model using Logistic regression algorithm\n",
      "Training error: 0.0\n",
      "Testing error: 0.1\n",
      "------------------------------------------------------------------------------------------\n",
      "Training model using Lasso regression algorithm\n",
      "Training error: 0.4059424519410545\n",
      "Testing error: 0.41364074527261824\n",
      "------------------------------------------------------------------------------------------\n",
      "Training model using Ridge regression algorithm\n",
      "Training error: 0.40390040669216887\n",
      "Testing error: 0.41248003101742137\n",
      "------------------------------------------------------------------------------------------\n",
      "Training model using ElasticNet regression algorithm\n",
      "Training error: 0.4030527924585826\n",
      "Testing error: 0.4113655141350472\n",
      "------------------------------------------------------------------------------------------\n",
      "CPU times: user 90 ms, sys: 110 ms, total: 200 ms\n",
      "Wall time: 131 ms\n"
     ]
    }
   ],
   "source": [
    "%%time\n",
    "\n",
    "best_model = None\n",
    "best_model_type = None\n",
    "best_rmse = 1.0\n",
    "\n",
    "exp = cortex.experiment('claims-fraud/motorinsurancefraud-regression')\n",
    "# exp.reset()\n",
    "exp.set_pipeline(pipeline)\n",
    "exp.set_meta('style', 'supervised')\n",
    "exp.set_meta('function', 'regression')\n",
    "\n",
    "with exp.start_run() as run:\n",
    "    alphas = [1, 0.1, 0.001, 0.0001]\n",
    "    for model_type in ['Logistic', 'Lasso', 'Ridge', 'ElasticNet']:\n",
    "        print('---'*30)\n",
    "        print('Training model using {} regression algorithm'.format(model_type))\n",
    "        model = train(X_train, y_train, model_type=model_type, alphas=alphas)\n",
    "        [predictions, rmse] = predict_and_score(model, X_train, y_train)\n",
    "        print('Training error:', rmse)\n",
    "        [predictions, rmse] = predict_and_score(model, X_test, y_test)\n",
    "        print('Testing error:', rmse)\n",
    "        \n",
    "        if rmse < best_rmse:\n",
    "            best_rmse = rmse\n",
    "            best_model = model\n",
    "            best_model_type = model_type\n",
    "    \n",
    "    r2 = best_model.score(X_test, y_test)\n",
    "    run.log_metric('r2', r2)\n",
    "    run.log_metric('rmse', best_rmse)\n",
    "    run.log_param('model_type', best_model_type)\n",
    "    run.log_param('alphas', alphas)\n",
    "    run.log_artifact('model', best_model)\n",
    "\n",
    "print('---'*30)"
   ]
  },
  {
   "cell_type": "code",
   "execution_count": 86,
   "metadata": {},
   "outputs": [
    {
     "name": "stdout",
     "output_type": "stream",
     "text": [
      "Best model: Logistic\n",
      "Best testing error: 0.100000\n",
      "R2 score: 0.990000\n"
     ]
    }
   ],
   "source": [
    "print('Best model: ' + best_model_type)\n",
    "print('Best testing error: %.6f' % best_rmse)\n",
    "print('R2 score: %.6f' % r2)"
   ]
  },
  {
   "cell_type": "code",
   "execution_count": 88,
   "metadata": {},
   "outputs": [
    {
     "data": {
      "text/html": [
       "\n",
       "                <style>\n",
       "                    #table1 { \n",
       "                      border: solid thin; \n",
       "                      border-collapse: collapse; \n",
       "                    }\n",
       "                    #table1 caption { \n",
       "                      padding-bottom: 0.5em; \n",
       "                    }\n",
       "                    #table1 th, \n",
       "                    #table1 td { \n",
       "                      border: solid thin;\n",
       "                      padding: 0.5rem 2rem;\n",
       "                    }\n",
       "                    #table1 td {\n",
       "                      white-space: nowrap;\n",
       "                    }\n",
       "                    #table1 td { \n",
       "                      border-style: none solid; \n",
       "                      vertical-align: top; \n",
       "                    }\n",
       "                    #table1 th { \n",
       "                      padding: 0.2em; \n",
       "                      vertical-align: middle; \n",
       "                      text-align: center; \n",
       "                    }\n",
       "                    #table1 tbody td:first-child::after { \n",
       "                      content: leader(\". \"); '\n",
       "                    }\n",
       "                </style>\n",
       "                <table id=\"table1\">\n",
       "                    <caption><b>Experiment:</b> claims-fraud/motorinsurancefraud-regression</caption>\n",
       "                    <thead>\n",
       "                    <tr>\n",
       "                        <th rowspan=\"2\">ID</th>\n",
       "                        <th rowspan=\"2\">Date</th>\n",
       "                        <th rowspan=\"2\">Took</th>\n",
       "                        <th colspan=\"2\" scope=\"colgroup\">Params</th>\n",
       "                        <th colspan=\"2\" scope=\"colgroup\">Metrics</th>\n",
       "                    </tr>\n",
       "                    <tr>\n",
       "                        \n",
       "                        <th>alphas</th>\n",
       "                        \n",
       "                        <th>model_type</th>\n",
       "                        \n",
       "                        \n",
       "                        <th>r2</th>\n",
       "                        \n",
       "                        <th>rmse</th>\n",
       "                        \n",
       "                    </tr>\n",
       "                    </thead>\n",
       "                    <tbody>\n",
       "                        \n",
       "                        <tr>\n",
       "                        <td>koff7hn</td>\n",
       "                        <td>Mon, 24 Sep 2018 19:40:05 GMT</td>\n",
       "                        <td>0.00 s</td>\n",
       "                        \n",
       "                        <td>&#x2011;</td>\n",
       "                        \n",
       "                        <td>&#x2011;</td>\n",
       "                        \n",
       "                        \n",
       "                        <td>0.000000</td>\n",
       "                        \n",
       "                        <td>0.000000</td>\n",
       "                        \n",
       "                        </tr>\n",
       "                        \n",
       "                        <tr>\n",
       "                        <td>8ygf7t0</td>\n",
       "                        <td>Mon, 24 Sep 2018 19:41:28 GMT</td>\n",
       "                        <td>0.00 s</td>\n",
       "                        \n",
       "                        <td>&#x2011;</td>\n",
       "                        \n",
       "                        <td>&#x2011;</td>\n",
       "                        \n",
       "                        \n",
       "                        <td>0.000000</td>\n",
       "                        \n",
       "                        <td>0.000000</td>\n",
       "                        \n",
       "                        </tr>\n",
       "                        \n",
       "                        <tr>\n",
       "                        <td>gwhf77v</td>\n",
       "                        <td>Mon, 24 Sep 2018 20:29:29 GMT</td>\n",
       "                        <td>0.00 s</td>\n",
       "                        \n",
       "                        <td>&#x2011;</td>\n",
       "                        \n",
       "                        <td>&#x2011;</td>\n",
       "                        \n",
       "                        \n",
       "                        <td>0.000000</td>\n",
       "                        \n",
       "                        <td>0.000000</td>\n",
       "                        \n",
       "                        </tr>\n",
       "                        \n",
       "                        <tr>\n",
       "                        <td>doif7rc</td>\n",
       "                        <td>Mon, 24 Sep 2018 20:31:12 GMT</td>\n",
       "                        <td>0.00 s</td>\n",
       "                        \n",
       "                        <td>&#x2011;</td>\n",
       "                        \n",
       "                        <td>&#x2011;</td>\n",
       "                        \n",
       "                        \n",
       "                        <td>0.000000</td>\n",
       "                        \n",
       "                        <td>0.000000</td>\n",
       "                        \n",
       "                        </tr>\n",
       "                        \n",
       "                        <tr>\n",
       "                        <td>dmjf79a</td>\n",
       "                        <td>Mon, 24 Sep 2018 20:34:12 GMT</td>\n",
       "                        <td>0.00 s</td>\n",
       "                        \n",
       "                        <td>&#x2011;</td>\n",
       "                        \n",
       "                        <td>&#x2011;</td>\n",
       "                        \n",
       "                        \n",
       "                        <td>0.000000</td>\n",
       "                        \n",
       "                        <td>0.000000</td>\n",
       "                        \n",
       "                        </tr>\n",
       "                        \n",
       "                        <tr>\n",
       "                        <td>2gkf7g5</td>\n",
       "                        <td>Mon, 24 Sep 2018 20:40:09 GMT</td>\n",
       "                        <td>0.03 s</td>\n",
       "                        \n",
       "                        <td>[1, 0.1, 0.001, 0.0001]</td>\n",
       "                        \n",
       "                        <td>Logistic</td>\n",
       "                        \n",
       "                        \n",
       "                        <td>0.990000</td>\n",
       "                        \n",
       "                        <td>0.100000</td>\n",
       "                        \n",
       "                        </tr>\n",
       "                        \n",
       "                        <tr>\n",
       "                        <td>iflf7gi</td>\n",
       "                        <td>Mon, 24 Sep 2018 20:41:48 GMT</td>\n",
       "                        <td>0.04 s</td>\n",
       "                        \n",
       "                        <td>[1, 0.1, 0.001, 0.0001]</td>\n",
       "                        \n",
       "                        <td>Logistic</td>\n",
       "                        \n",
       "                        \n",
       "                        <td>0.990000</td>\n",
       "                        \n",
       "                        <td>0.100000</td>\n",
       "                        \n",
       "                        </tr>\n",
       "                        \n",
       "                        <tr>\n",
       "                        <td>jn03y1r</td>\n",
       "                        <td>Mon, 24 Sep 2018 23:21:13 GMT</td>\n",
       "                        <td>0.04 s</td>\n",
       "                        \n",
       "                        <td>[1, 0.1, 0.001, 0.0001]</td>\n",
       "                        \n",
       "                        <td>Logistic</td>\n",
       "                        \n",
       "                        \n",
       "                        <td>0.990000</td>\n",
       "                        \n",
       "                        <td>0.100000</td>\n",
       "                        \n",
       "                        </tr>\n",
       "                        \n",
       "                        <tr>\n",
       "                        <td>4593yrn</td>\n",
       "                        <td>Mon, 24 Sep 2018 23:55:59 GMT</td>\n",
       "                        <td>0.05 s</td>\n",
       "                        \n",
       "                        <td>[1, 0.1, 0.001, 0.0001]</td>\n",
       "                        \n",
       "                        <td>Logistic</td>\n",
       "                        \n",
       "                        \n",
       "                        <td>0.990000</td>\n",
       "                        \n",
       "                        <td>0.100000</td>\n",
       "                        \n",
       "                        </tr>\n",
       "                        \n",
       "                    </tbody>\n",
       "                </table>"
      ],
      "text/plain": [
       "<cortex.experiment.Experiment at 0x7f4c56e21780>"
      ]
     },
     "execution_count": 88,
     "metadata": {},
     "output_type": "execute_result"
    }
   ],
   "source": [
    "exp"
   ]
  },
  {
   "cell_type": "code",
   "execution_count": null,
   "metadata": {},
   "outputs": [],
   "source": []
  }
 ],
 "metadata": {
  "kernelspec": {
   "display_name": "Python 3",
   "language": "python",
   "name": "python3"
  },
  "language_info": {
   "codemirror_mode": {
    "name": "ipython",
    "version": 3
   },
   "file_extension": ".py",
   "mimetype": "text/x-python",
   "name": "python",
   "nbconvert_exporter": "python",
   "pygments_lexer": "ipython3",
   "version": "3.6.5"
  }
 },
 "nbformat": 4,
 "nbformat_minor": 2
}
