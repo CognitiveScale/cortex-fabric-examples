{
 "cells": [
  {
   "cell_type": "code",
   "execution_count": null,
   "metadata": {
    "jupyter": {
     "outputs_hidden": true
    }
   },
   "outputs": [],
   "source": [
    "# Basic setup and sanity checking\n",
    "%run ./00_setup.ipynb"
   ]
  },
  {
   "cell_type": "markdown",
   "metadata": {},
   "source": [
    "## Connect to Cortex and use the Cortex Builder\n",
    "The Builder will allow us to declaratively define and deploy a Skill using our Language Detection Action from the previous step."
   ]
  },
  {
   "cell_type": "code",
   "execution_count": null,
   "metadata": {},
   "outputs": [],
   "source": [
    "cortex = Cortex.client()\n",
    "builder = cortex.builder()"
   ]
  },
  {
   "cell_type": "markdown",
   "metadata": {},
   "source": [
    "### Retreive the Language Detection Action"
   ]
  },
  {
   "cell_type": "code",
   "execution_count": null,
   "metadata": {},
   "outputs": [],
   "source": [
    "action = cortex.action('c12e/image-train')\n",
    "display(action)"
   ]
  },
  {
   "cell_type": "markdown",
   "metadata": {},
   "source": [
    "### Define and Deploy the Skill"
   ]
  },
  {
   "cell_type": "code",
   "execution_count": null,
   "metadata": {},
   "outputs": [],
   "source": [
    "b = builder.skill('c12e/image-train-skill').title('Custom Image Classification Training').description('Trains a custom image classifier based on a set of images')\n",
    "\n",
    "#b.dataset('lkrishna/hdmi_male.zip')\n",
    "\n",
    "b.input('request').parameter('apiKey','string',None,'Text').parameter(\n",
    "    'classifier_name','string',None,'Text').parameter('datasets','array','string','Text').parameter('classes','array','string','Text').all_routing(action, 'response').build()\n",
    "\n",
    "b.output('response').parameter('text', 'string', None, 'Text').build()\n",
    "\n",
    "skill = b.build()\n",
    "print('Deployed skill {} at version v{}'.format(skill.name, skill.version))"
   ]
  },
  {
   "cell_type": "markdown",
   "metadata": {},
   "source": [
    "### Test the Skill"
   ]
  },
  {
   "cell_type": "code",
   "execution_count": null,
   "metadata": {},
   "outputs": [],
   "source": [
    "classifier_name = 'Connectors-New'\n",
    "apiKey = 'BVaceevn9oDep6ow12MASoLubdwkLYkDYEKdjLdBKFRi'\n",
    "m = cortex.message({'classifier_name': classifier_name,'apiKey':apiKey,'datasets':['lkrishna/hdmi_male.zip','lkrishna/thunderbolt_male.zip','lkrishna/usb_male.zip','lkrishna/vga_male.zip'],'classes':['thunderbolt_male','hdmi_male','usb_male','vga_male']})\n",
    "result = skill.invoke(input_name='request', message=m)\n",
    "print(result.payload)"
   ]
  },
  {
   "cell_type": "code",
   "execution_count": null,
   "metadata": {},
   "outputs": [],
   "source": []
  }
 ],
 "metadata": {
  "kernelspec": {
   "display_name": "Python 3",
   "language": "python",
   "name": "python3"
  },
  "language_info": {
   "codemirror_mode": {
    "name": "ipython",
    "version": 3
   },
   "file_extension": ".py",
   "mimetype": "text/x-python",
   "name": "python",
   "nbconvert_exporter": "python",
   "pygments_lexer": "ipython3",
   "version": "3.6.8"
  }
 },
 "nbformat": 4,
 "nbformat_minor": 4
}
