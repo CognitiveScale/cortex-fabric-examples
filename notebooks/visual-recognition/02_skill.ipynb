{
 "cells": [
  {
   "cell_type": "code",
   "execution_count": 16,
   "metadata": {
    "collapsed": true
   },
   "outputs": [
    {
     "name": "stdout",
     "output_type": "stream",
     "text": [
      "Python version: 3.6.6\n",
      "Pandas version: 0.23.4\n",
      "Numpy version: 1.15.1\n",
      "Cortex SDK version: 5.5.0\n"
     ]
    }
   ],
   "source": [
    "# Basic setup and sanity checking\n",
    "%run ./00_setup.ipynb"
   ]
  },
  {
   "cell_type": "markdown",
   "metadata": {},
   "source": [
    "## Connect to Cortex and use the Cortex Builder\n",
    "The Builder will allow us to declaratively define and deploy a Skill using our Language Detection Action from the previous step."
   ]
  },
  {
   "cell_type": "code",
   "execution_count": 20,
   "metadata": {},
   "outputs": [],
   "source": [
    "cortex = Cortex.client()\n",
    "builder = cortex.builder()"
   ]
  },
  {
   "cell_type": "markdown",
   "metadata": {},
   "source": [
    "### Retreive the Language Detection Action"
   ]
  },
  {
   "cell_type": "code",
   "execution_count": 23,
   "metadata": {},
   "outputs": [
    {
     "data": {
      "text/html": [
       "\n",
       "        <table>\n",
       "            <thead>\n",
       "                <tr>\n",
       "                    <th>Name</th>\n",
       "                    <th>Version</th>\n",
       "                    <th>Type</th>\n",
       "                    <th>Kind</th>\n",
       "                    <th>Image</th>\n",
       "                    <th>Deployment Status</th>\n",
       "                </tr>\n",
       "            </thead>\n",
       "            <tbody>\n",
       "                <td>c12e/image-train</td>\n",
       "                <td>34</td>\n",
       "                <td>daemon</td>\n",
       "                <td>None</td>\n",
       "                <td>private-registry.cortex.insights.ai/lkrishna-prod/c12e_image-train:t31t7z1</td>\n",
       "                <td>COMPLETED (running)</td>\n",
       "            </tbody>\n",
       "        </table>\n",
       "        "
      ],
      "text/plain": [
       "<cortex.action.Action at 0x11a4746d8>"
      ]
     },
     "metadata": {},
     "output_type": "display_data"
    }
   ],
   "source": [
    "action = cortex.action('c12e/image-train')\n",
    "display(action)"
   ]
  },
  {
   "cell_type": "markdown",
   "metadata": {},
   "source": [
    "### Define and Deploy the Skill"
   ]
  },
  {
   "cell_type": "code",
   "execution_count": 26,
   "metadata": {},
   "outputs": [
    {
     "name": "stdout",
     "output_type": "stream",
     "text": [
      "Deployed skill c12e/image-train-skill at version v7\n"
     ]
    }
   ],
   "source": [
    "b = builder.skill('c12e/image-train-skill').title('Custom Image Classification Training').description('Trains a custom image classifier based on a set of images')\n",
    "\n",
    "#b.dataset('lkrishna/hdmi_male.zip')\n",
    "\n",
    "b.input('request').parameter('apiKey','string',None,'Text').parameter(\n",
    "    'classifier_name','string',None,'Text').parameter('datasets','array','string','Text').parameter('classes','array','string','Text').all_routing(action, 'response').build()\n",
    "\n",
    "b.output('response').parameter('text', 'string', None, 'Text').build()\n",
    "\n",
    "skill = b.build()\n",
    "print('Deployed skill {} at version v{}'.format(skill.name, skill.version))"
   ]
  },
  {
   "cell_type": "markdown",
   "metadata": {},
   "source": [
    "### Test the Skill"
   ]
  },
  {
   "cell_type": "code",
   "execution_count": 41,
   "metadata": {},
   "outputs": [
    {
     "name": "stdout",
     "output_type": "stream",
     "text": [
      "{\n",
      "  \"classifier_id\": \"ConnectorsxNew_442652259\",\n",
      "  \"name\": \"Connectors-New\",\n",
      "  \"status\": \"training\",\n",
      "  \"owner\": \"252e799b-e77d-4aca-87ab-8eb95787b580\",\n",
      "  \"created\": \"2018-12-12T21:36:52.104Z\",\n",
      "  \"updated\": \"2018-12-12T21:36:52.104Z\",\n",
      "  \"classes\": [\n",
      "    {\n",
      "      \"class\": \"vga_male\"\n",
      "    },\n",
      "    {\n",
      "      \"class\": \"usb_male\"\n",
      "    },\n",
      "    {\n",
      "      \"class\": \"hdmi_male\"\n",
      "    },\n",
      "    {\n",
      "      \"class\": \"thunderbolt_male\"\n",
      "    }\n",
      "  ],\n",
      "  \"core_ml_enabled\": true\n",
      "}\n"
     ]
    }
   ],
   "source": [
    "classifier_name = 'Connectors-New'\n",
    "apiKey = 'BVaceevn9oDep6ow12MASoLubdwkLYkDYEKdjLdBKFRi'\n",
    "m = cortex.message({'classifier_name': classifier_name,'apiKey':apiKey,'datasets':['lkrishna/hdmi_male.zip','lkrishna/thunderbolt_male.zip','lkrishna/usb_male.zip','lkrishna/vga_male.zip'],'classes':['thunderbolt_male','hdmi_male','usb_male','vga_male']})\n",
    "result = skill.invoke(input_name='request', message=m)\n",
    "print(result.payload)"
   ]
  },
  {
   "cell_type": "code",
   "execution_count": null,
   "metadata": {},
   "outputs": [],
   "source": []
  }
 ],
 "metadata": {
  "kernelspec": {
   "display_name": "Python 3",
   "language": "python",
   "name": "python3"
  },
  "language_info": {
   "codemirror_mode": {
    "name": "ipython",
    "version": 3
   },
   "file_extension": ".py",
   "mimetype": "text/x-python",
   "name": "python",
   "nbconvert_exporter": "python",
   "pygments_lexer": "ipython3",
   "version": "3.6.8"
  }
 },
 "nbformat": 4,
 "nbformat_minor": 2
}
