{
 "cells": [
  {
   "cell_type": "code",
   "execution_count": null,
   "metadata": {},
   "outputs": [],
   "source": [
    "# Basic setup and sanity checking\n",
    "%run ./00_setup.ipynb"
   ]
  },
  {
   "cell_type": "markdown",
   "metadata": {},
   "source": [
    "## Connect to Cortex and use the Cortex Builder\n",
    "The Builder will allow us to declaratively define and deploy a Skill using our Language Detection Action from the previous step."
   ]
  },
  {
   "cell_type": "code",
   "execution_count": null,
   "metadata": {},
   "outputs": [],
   "source": [
    "cortex = Cortex.client()\n",
    "builder = cortex.builder()"
   ]
  },
  {
   "cell_type": "markdown",
   "metadata": {},
   "source": [
    "### Retreive the Language Detection Action"
   ]
  },
  {
   "cell_type": "code",
   "execution_count": null,
   "metadata": {},
   "outputs": [],
   "source": [
    "action = cortex.action('c12e/image-classify')\n",
    "display(action)"
   ]
  },
  {
   "cell_type": "markdown",
   "metadata": {},
   "source": [
    "### Define and Deploy the Skill"
   ]
  },
  {
   "cell_type": "code",
   "execution_count": null,
   "metadata": {},
   "outputs": [],
   "source": [
    "b = builder.skill('c12e/image-classify-skill').title('Custom Image Classification-V2').description('Classifies an image used in a provided image.')\n",
    "\n",
    "b.input('image_input').parameter(\n",
    "    'imageUrl', 'string', None, 'Text').parameter(\n",
    "    'apiKey','string',None,'Text').parameter(\n",
    "    'classifierId','string',None,'Text').all_routing(action, 'response').build()\n",
    "\n",
    "b.output('response').parameter('text', 'string', None, 'Text').build()\n",
    "\n",
    "skill = b.build()\n",
    "print('Deployed skill {} at version v{}'.format(skill.name, skill.version))"
   ]
  },
  {
   "cell_type": "markdown",
   "metadata": {},
   "source": [
    "### Test the Skill"
   ]
  },
  {
   "cell_type": "code",
   "execution_count": null,
   "metadata": {},
   "outputs": [],
   "source": [
    "imageUrl = 'https://showmecables-static.scdn3.secure.raxcdn.com/media/catalog/product/cache/c687aa7517cf01e65c009f6943c2b1e9/u/s/usb-a-male-to-usb-b-female-adapter-3506-1.jpg'\n",
    "classifierId = 'Connectors_227384960'\n",
    "apiKey = 'BVaceevn9oDep6ow12MASoLubdwkLYkDYEKdjLdBKFRi'\n",
    "m = cortex.message({'imageUrl': imageUrl,'apiKey':apiKey,'classifierId':classifierId})\n",
    "result = skill.invoke(input_name='image_input', message=m)\n",
    "payload = result.payload\n",
    "classifiers =  payload.get(\"images\")\n",
    "print (classifiers[0].get('classifiers'))"
   ]
  },
  {
   "cell_type": "code",
   "execution_count": null,
   "metadata": {},
   "outputs": [],
   "source": []
  }
 ],
 "metadata": {
  "kernelspec": {
   "display_name": "Python 3",
   "language": "python",
   "name": "python3"
  },
  "language_info": {
   "codemirror_mode": {
    "name": "ipython",
    "version": 3
   },
   "file_extension": ".py",
   "mimetype": "text/x-python",
   "name": "python",
   "nbconvert_exporter": "python",
   "pygments_lexer": "ipython3",
   "version": "3.6.8"
  }
 },
 "nbformat": 4,
 "nbformat_minor": 4
}
