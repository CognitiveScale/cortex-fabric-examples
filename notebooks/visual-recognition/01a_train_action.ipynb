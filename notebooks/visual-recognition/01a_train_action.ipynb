{
 "cells": [
  {
   "cell_type": "code",
   "execution_count": null,
   "metadata": {},
   "outputs": [],
   "source": [
    "# Basic setup and sanity checking\n",
    "%run ./00_setup.ipynb"
   ]
  },
  {
   "cell_type": "markdown",
   "metadata": {},
   "source": [
    "## Create a data set for Training Data"
   ]
  },
  {
   "cell_type": "markdown",
   "metadata": {},
   "source": [
    "Create a data set for Visual Recognition training. These are input files or folders that typically exist in your local file system or in S3."
   ]
  },
  {
   "cell_type": "code",
   "execution_count": null,
   "metadata": {},
   "outputs": [],
   "source": [
    "from cortex.dataset import Dataset\n",
    "from cortex.connection import ConnectionClient\n",
    "import os\n",
    "from os.path import join\n",
    "cortex = Cortex.client()\n",
    "builder = cortex.builder()\n",
    "\n",
    "positive_example_1 = ''\n",
    "\n",
    "for filename in os.listdir('./data/images'):\n",
    "    fullpath = join('./data/images',filename)\n",
    "    datasetbuilder = builder.dataset(\"lkrishna/\" + filename)\n",
    "    datasetbuilder.title(filename)\n",
    "    with open(fullpath,'rb') as f:\n",
    "        datasetbuilder.from_file(f,format='zip').build()"
   ]
  },
  {
   "cell_type": "markdown",
   "metadata": {},
   "source": [
    "## Action Authoring and Deployment\n",
    "A Cortex Action can be authored and deployed from within a notebook for rapid prototyping and testing.  The Cortex SDK for Python includes an iPython Magic called `%%cortex_action` that takes a notebook cell and deploys it as a Cortex Action."
   ]
  },
  {
   "cell_type": "code",
   "execution_count": null,
   "metadata": {},
   "outputs": [],
   "source": [
    "%%cortex_action --name c12e/image-train --function train --daemon --requirements watson_developer_cloud\n",
    "\n",
    "from cortex import Message\n",
    "from watson_developer_cloud import VisualRecognitionV3\n",
    "import cortex\n",
    "import io\n",
    "\n",
    "def get_dataset_refs(params):\n",
    "    return {\n",
    "        x[\"datasetName\"]: x[\"refName\"] for x in params[\"datasetBindings\"]\n",
    "    }\n",
    "\n",
    "def read_dataset(args, jwt, dsname):\n",
    "\n",
    "    URL = 'https://api.cortex.insights.ai'\n",
    "    dc = cortex.dataset.DatasetsClient(URL, \"3\", jwt)\n",
    "    data = dc.get_stream(dsname).read()\n",
    "    return data\n",
    "    \n",
    "def train(params):\n",
    "\n",
    "\n",
    "    msg = Message(params)\n",
    "    \n",
    "    #datasetReferences = get_dataset_refs(params)\n",
    "    \n",
    "    #parsedArgs = {\n",
    "    #    HDMI_FILE_REF: datasetReferences.get(HDMI_FILE_REF),\n",
    "    #    \"api_endpoint\": params.get(\"apiEndpoint\")\n",
    "    #   }\n",
    "    \n",
    "    parsedArgs = None\n",
    "    jwt = params.get(\"token\")\n",
    "    \n",
    "    apiKey = msg.payload.get('apiKey')\n",
    "    classifier_name = msg.payload.get('classifier_name')\n",
    "    datasets = msg.payload.get('datasets')\n",
    "    classes = msg.payload.get('classes')\n",
    "    \n",
    "    if classifier_name is None or classifier_name == \"\":\n",
    "        return {\"payload\": \"Classifier Name Not Provided\"}\n",
    "    \n",
    "    # Store all files\n",
    "    image_files = []\n",
    "    count = 0\n",
    "    for dataset in datasets:\n",
    "        file_name = '/tmp/file_'+ str(count) + '.zip'\n",
    "        file = open(file_name,'wb')\n",
    "        file.write(read_dataset(parsedArgs, jwt, dataset))\n",
    "        image_files.append(file_name)\n",
    "        count=count+1\n",
    "    \n",
    "    # Get Watson VR\n",
    "    visual_recognition = VisualRecognitionV3('2018-03-19', iam_apikey=apiKey)\n",
    "    \n",
    "    positive_examples = {}\n",
    "    \n",
    "    count = 0\n",
    "    for class_name in classes:\n",
    "        file_name = class_name + \"_positive_examples\"\n",
    "        file = open(image_files[count],'rb')\n",
    "        positive_examples[file_name] = file\n",
    "        count=count+1\n",
    "\n",
    "    model = visual_recognition.create_classifier(\n",
    "        classifier_name,\n",
    "        **positive_examples).get_result()\n",
    "    response = json.dumps(model, indent=2)\n",
    "    \n",
    "    if response is not None:\n",
    "        return {\"payload\": response}\n",
    "    else:\n",
    "        return {\"payload\": \"Unable to get response from Watson Visual Recognition\"}        \n"
   ]
  },
  {
   "cell_type": "markdown",
   "metadata": {},
   "source": [
    "## Local Testing\n",
    "Once the Action is built, we can run both a local and remote test.  The local test in our example can be done by simply calling the `detect` function we defined above."
   ]
  },
  {
   "cell_type": "code",
   "execution_count": null,
   "metadata": {},
   "outputs": [],
   "source": [
    "import sys\n",
    "import argparse\n",
    "from pprint import pprint\n",
    "\n",
    "\n",
    "def test_train(args):\n",
    "    classifier_name = 'Connectors'\n",
    "    apiKey = 'BVaceevn9oDep6ow12MASoLubdwkLYkDYEKdjLdBKFRi'\n",
    "    m = Message.with_payload({'apiKey':apiKey,'classifier_name':classifier_name,'classes':['thunderbolt_male','hdmi_male','usb_male','vga_male'],'datasets':['lkrishna/hdmi_male.zip','lkrishna/thunderbolt_male.zip','lkrishna/vga_male.zip','lkrishna/usb_male.zip']})\n",
    "    result = train(m.to_params())\n",
    "    pprint(result)\n",
    "\n",
    "test_train(None)"
   ]
  },
  {
   "cell_type": "markdown",
   "metadata": {},
   "source": [
    "## Remote Testing\n",
    "Using the Cortex client, we can execute a remote test of our Action to make sure it deployed as expected."
   ]
  },
  {
   "cell_type": "code",
   "execution_count": null,
   "metadata": {},
   "outputs": [],
   "source": [
    "client = Cortex.client()\n",
    "action = client.action('c12e/image-train')\n",
    "action"
   ]
  },
  {
   "cell_type": "code",
   "execution_count": null,
   "metadata": {},
   "outputs": [],
   "source": [
    "classifier_name = 'Connectors'\n",
    "apiKey = 'BVaceevn9oDep6ow12MASoLubdwkLYkDYEKdjLdBKFRi'\n",
    "params = {'payload': {'apiKey':apiKey,'classifier_name':classifier_name,'datasets':['lkrishna/thunderbolt_male.zip','lkrishna/hdmi_male.zip','lkrishna/usb_male.zip','lkrishna/vga_male.zip'],'classes':['thunderbolt_male','hdmi_male','usb_male','vga_male']}}\n",
    "rs = action.invoke(client.message(params.get('payload')))\n",
    "result = rs.payload\n",
    "print(result)"
   ]
  },
  {
   "cell_type": "markdown",
   "metadata": {},
   "source": [
    "## Get Status of Training"
   ]
  }
 ],
 "metadata": {
  "kernelspec": {
   "display_name": "Python 3",
   "language": "python",
   "name": "python3"
  },
  "language_info": {
   "codemirror_mode": {
    "name": "ipython",
    "version": 3
   },
   "file_extension": ".py",
   "mimetype": "text/x-python",
   "name": "python",
   "nbconvert_exporter": "python",
   "pygments_lexer": "ipython3",
   "version": "3.6.0"
  }
 },
 "nbformat": 4,
 "nbformat_minor": 4
}
