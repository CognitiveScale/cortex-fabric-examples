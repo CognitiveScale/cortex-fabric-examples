{
 "cells": [
  {
   "cell_type": "markdown",
   "metadata": {},
   "source": [
    "# Ames Housing Prices - Step 4: Modeling\n",
    "We are now ready to begin building our regression model to predict prices.  This notebook demonstrates how to use the previous work (cleaning, feature prep) to quickly build up the engineered features we need to train our ML model."
   ]
  },
  {
   "cell_type": "code",
   "execution_count": 4,
   "metadata": {},
   "outputs": [
    {
     "name": "stdout",
     "output_type": "stream",
     "text": [
      "Cortex Python SDK v1.1.0\n"
     ]
    }
   ],
   "source": [
    "# Basic setup\n",
    "%run config.ipynb"
   ]
  },
  {
   "cell_type": "code",
   "execution_count": 5,
   "metadata": {},
   "outputs": [],
   "source": [
    "# Connect to Cortex 5 and create a Builder instance\n",
    "cortex = Cortex.client()\n",
    "\n",
    "# You can also run locally, with no need to connect to the Cortex client.\n",
    "# Comment out the line cortex = Cortex.client() above and uncomment the line below\n",
    "# cortex = Cortex.local()\n",
    "\n",
    "builder = cortex.builder()"
   ]
  },
  {
   "cell_type": "markdown",
   "metadata": {},
   "source": [
    "### Training Data\n",
    "We will start with the training dataset from our previous steps and run the _features_ pipeline to get cleaned and prepared data"
   ]
  },
  {
   "cell_type": "code",
   "execution_count": 6,
   "metadata": {},
   "outputs": [],
   "source": [
    "train_ds = cortex.dataset('kaggle/ames-housing-train')"
   ]
  },
  {
   "cell_type": "code",
   "execution_count": 7,
   "metadata": {},
   "outputs": [
    {
     "name": "stdout",
     "output_type": "stream",
     "text": [
      "running pipeline [clean]:\n",
      "> drop_unused \n",
      "> drop_outliers \n",
      "> fill_zero_cols \n",
      "> fill_median_cols \n",
      "> fill_na_none \n",
      "running pipeline [features]:\n",
      "> scale_target \n"
     ]
    }
   ],
   "source": [
    "pipeline = train_ds.pipeline('features')\n",
    "train_df = pipeline.run(pd.read_csv('../../data/kaggle/ames-housing/train.csv'))"
   ]
  },
  {
   "cell_type": "markdown",
   "metadata": {},
   "source": [
    "### Feature Framing\n",
    "We now need to split out our target variable from the training data and convert our categorical values into _dummies_."
   ]
  },
  {
   "cell_type": "code",
   "execution_count": 8,
   "metadata": {},
   "outputs": [],
   "source": [
    "y = train_df['SalePrice']"
   ]
  },
  {
   "cell_type": "code",
   "execution_count": 9,
   "metadata": {},
   "outputs": [
    {
     "data": {
      "text/plain": [
       "(1458, 80)"
      ]
     },
     "execution_count": 9,
     "metadata": {},
     "output_type": "execute_result"
    }
   ],
   "source": [
    "train_df.shape"
   ]
  },
  {
   "cell_type": "code",
   "execution_count": 10,
   "metadata": {},
   "outputs": [
    {
     "name": "stdout",
     "output_type": "stream",
     "text": [
      "running pipeline [clean]:\n",
      "> drop_unused \n",
      "> drop_outliers \n",
      "> fill_zero_cols \n",
      "> fill_median_cols \n",
      "> fill_na_none \n",
      "running pipeline [features]:\n",
      "> scale_target \n",
      "running pipeline [engineer]:\n",
      "> drop_target \n",
      "> get_dummies \n",
      "\n",
      "Train shape: (1458, 303)\n"
     ]
    }
   ],
   "source": [
    "def drop_target(pipeline, df):\n",
    "    df.drop('SalePrice', 1, inplace=True)\n",
    "    \n",
    "def get_dummies(pipeline, df):\n",
    "    return pd.get_dummies(df)\n",
    "\n",
    "pipeline = train_ds.pipeline('engineer', depends=['features'], clear_cache=True)\n",
    "pipeline.reset()\n",
    "pipeline.add_step(drop_target)\n",
    "pipeline.add_step(get_dummies)\n",
    "\n",
    "# Run the feature engineering pipeline to prepare for model training\n",
    "train_df = pipeline.run(pd.read_csv('../../data/kaggle/ames-housing/train.csv'))\n",
    "\n",
    "# Remember the full set of engineered columns we need to produce for the model\n",
    "pipeline.set_context('columns', train_df.columns.tolist())\n",
    "\n",
    "train_ds.save()\n",
    "print('\\nTrain shape: (%d, %d)' % train_df.shape)"
   ]
  },
  {
   "cell_type": "markdown",
   "metadata": {},
   "source": [
    "## Model Training, Validation, and Experimentation\n",
    "We are going to try a variety of alogithms and parameters to achieve optimal results.  This will be an iterative process that Cortex 5 will help us track and reproduce in the future by recording the data pipeline used, the model parameters, model metrics, and model artifacts in Experiments."
   ]
  },
  {
   "cell_type": "markdown",
   "metadata": {},
   "source": [
    "### Please install `scikit-learn` package if not already installed to run the Model training and experimentation"
   ]
  },
  {
   "cell_type": "code",
   "execution_count": 11,
   "metadata": {},
   "outputs": [],
   "source": [
    "from sklearn.linear_model import LinearRegression, RidgeCV, LassoCV, ElasticNetCV\n",
    "from sklearn.metrics import mean_squared_error\n",
    "from sklearn.model_selection import train_test_split"
   ]
  },
  {
   "cell_type": "code",
   "execution_count": 12,
   "metadata": {},
   "outputs": [],
   "source": [
    "def train(x, y, **kwargs):\n",
    "    alphas = kwargs.get('alphas', [1, 0.1, 0.001, 0.0001])\n",
    "\n",
    "    # Select alogrithm\n",
    "    mtype = kwargs.get('model_type')\n",
    "    if mtype == 'Lasso':\n",
    "        model = LassoCV(alphas=alphas)\n",
    "    elif mtype == 'Ridge':\n",
    "        model = RidgeCV(alphas=alphas)\n",
    "    elif mtype == 'ElasticNet':\n",
    "        model = ElasticNetCV(alphas=alphas)\n",
    "    else:\n",
    "        model = LinearRegression()\n",
    "\n",
    "    # Train model\n",
    "    model.fit(x, y)\n",
    "    \n",
    "    return model"
   ]
  },
  {
   "cell_type": "code",
   "execution_count": 13,
   "metadata": {},
   "outputs": [],
   "source": [
    "def predict_and_score(model, x, y):\n",
    "    predictions = model.predict(x)\n",
    "    rmse = np.sqrt(mean_squared_error(predictions, y))\n",
    "    return [predictions, rmse]"
   ]
  },
  {
   "cell_type": "code",
   "execution_count": 14,
   "metadata": {},
   "outputs": [],
   "source": [
    "X_train, X_test, y_train, y_test = train_test_split(train_df, y.values, test_size=0.20, random_state=10)"
   ]
  },
  {
   "cell_type": "markdown",
   "metadata": {},
   "source": [
    "### Experiment Management\n",
    "We are ready to run our train and validation loop and select the optimal model.  As we run our experiment, Cortex will track each run and record the key params, metrics, and artifacts needed to reproduce and/or deploy the model later."
   ]
  },
  {
   "cell_type": "code",
   "execution_count": 15,
   "metadata": {},
   "outputs": [
    {
     "name": "stdout",
     "output_type": "stream",
     "text": [
      "------------------------------------------------------------------------------------------\n",
      "Training model using Linear regression algorithm\n",
      "Training error: 0.08792096455489085\n",
      "Testing error: 0.11715496123176941\n",
      "------------------------------------------------------------------------------------------\n",
      "Training model using Lasso regression algorithm\n",
      "Training error: 0.0995143459788363\n",
      "Testing error: 0.10838639184071469\n",
      "------------------------------------------------------------------------------------------\n",
      "Training model using Ridge regression algorithm\n",
      "Training error: 0.0895281449607103\n",
      "Testing error: 0.11080945490758537\n",
      "------------------------------------------------------------------------------------------\n",
      "Training model using ElasticNet regression algorithm\n",
      "Training error: 0.09986249373851433\n",
      "Testing error: 0.10851964458526737\n",
      "------------------------------------------------------------------------------------------\n",
      "CPU times: user 2.75 s, sys: 66 ms, total: 2.81 s\n",
      "Wall time: 3.96 s\n"
     ]
    }
   ],
   "source": [
    "%%time\n",
    "\n",
    "best_model = None\n",
    "best_model_type = None\n",
    "best_rmse = 1.0\n",
    "\n",
    "exp = cortex.experiment('kaggle/ames-housing-regression')\n",
    "exp.set_meta('style', 'supervised')\n",
    "exp.set_meta('function', 'regression')\n",
    "\n",
    "with exp.start_run() as run:\n",
    "    alphas = [1, 0.1, 0.001, 0.0005]\n",
    "    for model_type in ['Linear', 'Lasso', 'Ridge', 'ElasticNet']:\n",
    "        print('---'*30)\n",
    "        print('Training model using {} regression algorithm'.format(model_type))\n",
    "        model = train(X_train, y_train, model_type=model_type, alphas=alphas)\n",
    "        [predictions, rmse] = predict_and_score(model, X_train, y_train)\n",
    "        print('Training error:', rmse)\n",
    "        [predictions, rmse] = predict_and_score(model, X_test, y_test)\n",
    "        print('Testing error:', rmse)\n",
    "        \n",
    "        if rmse < best_rmse:\n",
    "            best_rmse = rmse\n",
    "            best_model = model\n",
    "            best_model_type = model_type\n",
    "    \n",
    "    r2 = best_model.score(X_test, y_test)\n",
    "    run.log_metric('r2', r2)\n",
    "    run.log_metric('rmse', best_rmse)\n",
    "    run.log_param('model_type', best_model_type)\n",
    "    run.log_param('alphas', alphas)\n",
    "    run.log_artifact('model', best_model)\n",
    "\n",
    "print('---'*30)"
   ]
  },
  {
   "cell_type": "code",
   "execution_count": 16,
   "metadata": {},
   "outputs": [
    {
     "name": "stdout",
     "output_type": "stream",
     "text": [
      "Best model: Lasso\n",
      "Best testing error: 0.108386\n",
      "R2 score: 0.920696\n"
     ]
    }
   ],
   "source": [
    "print('Best model: ' + best_model_type)\n",
    "print('Best testing error: %.6f' % best_rmse)\n",
    "print('R2 score: %.6f' % r2)"
   ]
  },
  {
   "cell_type": "code",
   "execution_count": 14,
   "metadata": {},
   "outputs": [
    {
     "data": {
      "text/html": [
       "\n",
       "                    <style>\n",
       "                        #table1 {\n",
       "                          border: solid thin;\n",
       "                          border-collapse: collapse;\n",
       "                        }\n",
       "                        #table1 caption {\n",
       "                          padding-bottom: 0.5em;\n",
       "                        }\n",
       "                        #table1 th,\n",
       "                        #table1 td {\n",
       "                          border: solid thin;\n",
       "                          padding: 0.5rem 2rem;\n",
       "                        }\n",
       "                        #table1 td {\n",
       "                          white-space: nowrap;\n",
       "                        }\n",
       "                        #table1 td {\n",
       "                          border-style: none solid;\n",
       "                          vertical-align: top;\n",
       "                        }\n",
       "                        #table1 th {\n",
       "                          padding: 0.2em;\n",
       "                          vertical-align: middle;\n",
       "                          text-align: center;\n",
       "                        }\n",
       "                        #table1 tbody td:first-child::after {\n",
       "                          content: leader(\". \"); '\n",
       "                        }\n",
       "                    </style>\n",
       "                    <table id=\"table1\">\n",
       "                        <caption><b>Experiment:</b> kaggle/ames-housing-regression</caption>\n",
       "                        <thead>\n",
       "                        <tr>\n",
       "                            <th rowspan=\"2\">ID</th>\n",
       "                            <th rowspan=\"2\">Date</th>\n",
       "                            <th rowspan=\"2\">Took</th>\n",
       "                            <th colspan=\"2\" scope=\"colgroup\">Params</th>\n",
       "                            <th colspan=\"2\" scope=\"colgroup\">Metrics</th>\n",
       "                        </tr>\n",
       "                        <tr>\n",
       "                            \n",
       "                            <th>alphas</th>\n",
       "                            \n",
       "                            <th>model_type</th>\n",
       "                            \n",
       "                            \n",
       "                            <th>r2</th>\n",
       "                            \n",
       "                            <th>rmse</th>\n",
       "                            \n",
       "                        </tr>\n",
       "                        </thead>\n",
       "                        <tbody>\n",
       "                            \n",
       "                            <tr>\n",
       "                            <td>xj20ghw</td>\n",
       "                            <td>Fri, 28 Feb 2020 05:13:30 GMT</td>\n",
       "                            <td>8.06 s</td>\n",
       "                            \n",
       "                            <td>[1, 0.1, 0.001, 0.0005]</td>\n",
       "                            \n",
       "                            <td>Lasso</td>\n",
       "                            \n",
       "                            \n",
       "                            <td>0.920696</td>\n",
       "                            \n",
       "                            <td>0.108386</td>\n",
       "                            \n",
       "                            </tr>\n",
       "                            \n",
       "                            <tr>\n",
       "                            <td>le30gog</td>\n",
       "                            <td>Fri, 28 Feb 2020 05:39:04 GMT</td>\n",
       "                            <td>4.14 s</td>\n",
       "                            \n",
       "                            <td>[1, 0.1, 0.001, 0.0005]</td>\n",
       "                            \n",
       "                            <td>Lasso</td>\n",
       "                            \n",
       "                            \n",
       "                            <td>0.920696</td>\n",
       "                            \n",
       "                            <td>0.108386</td>\n",
       "                            \n",
       "                            </tr>\n",
       "                            \n",
       "                            <tr>\n",
       "                            <td>up40g0f</td>\n",
       "                            <td>Fri, 28 Feb 2020 05:39:38 GMT</td>\n",
       "                            <td>4.24 s</td>\n",
       "                            \n",
       "                            <td>[1, 0.1, 0.001, 0.0005]</td>\n",
       "                            \n",
       "                            <td>Lasso</td>\n",
       "                            \n",
       "                            \n",
       "                            <td>0.920696</td>\n",
       "                            \n",
       "                            <td>0.108386</td>\n",
       "                            \n",
       "                            </tr>\n",
       "                            \n",
       "                            <tr>\n",
       "                            <td>jk60gkg</td>\n",
       "                            <td>Fri, 28 Feb 2020 15:31:49 GMT</td>\n",
       "                            <td>1.61 s</td>\n",
       "                            \n",
       "                            <td>[1, 0.1, 0.001, 0.0005]</td>\n",
       "                            \n",
       "                            <td>Lasso</td>\n",
       "                            \n",
       "                            \n",
       "                            <td>0.920696</td>\n",
       "                            \n",
       "                            <td>0.108386</td>\n",
       "                            \n",
       "                            </tr>\n",
       "                            \n",
       "                            <tr>\n",
       "                            <td>3n70g7g</td>\n",
       "                            <td>Fri, 28 Feb 2020 15:34:54 GMT</td>\n",
       "                            <td>1.56 s</td>\n",
       "                            \n",
       "                            <td>[1, 0.1, 0.001, 0.0005]</td>\n",
       "                            \n",
       "                            <td>Lasso</td>\n",
       "                            \n",
       "                            \n",
       "                            <td>0.920696</td>\n",
       "                            \n",
       "                            <td>0.108386</td>\n",
       "                            \n",
       "                            </tr>\n",
       "                            \n",
       "                            <tr>\n",
       "                            <td>3890g7v</td>\n",
       "                            <td>Fri, 28 Feb 2020 20:30:53 GMT</td>\n",
       "                            <td>1.56 s</td>\n",
       "                            \n",
       "                            <td>[1, 0.1, 0.001, 0.0005]</td>\n",
       "                            \n",
       "                            <td>Lasso</td>\n",
       "                            \n",
       "                            \n",
       "                            <td>0.920696</td>\n",
       "                            \n",
       "                            <td>0.108386</td>\n",
       "                            \n",
       "                            </tr>\n",
       "                            \n",
       "                        </tbody>\n",
       "                    </table>"
      ],
      "text/plain": [
       "<cortex.experiment.Experiment at 0x129485d10>"
      ]
     },
     "execution_count": 14,
     "metadata": {},
     "output_type": "execute_result"
    }
   ],
   "source": [
    "exp"
   ]
  },
  {
   "cell_type": "code",
   "execution_count": null,
   "metadata": {},
   "outputs": [],
   "source": []
  }
 ],
 "metadata": {
  "kernelspec": {
   "display_name": "Python 3",
   "language": "python",
   "name": "python3"
  },
  "language_info": {
   "codemirror_mode": {
    "name": "ipython",
    "version": 3
   },
   "file_extension": ".py",
   "mimetype": "text/x-python",
   "name": "python",
   "nbconvert_exporter": "python",
   "pygments_lexer": "ipython3",
   "version": "3.7.4"
  }
 },
 "nbformat": 4,
 "nbformat_minor": 4
}
