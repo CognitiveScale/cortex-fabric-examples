{
 "cells": [
  {
   "cell_type": "markdown",
   "metadata": {},
   "source": [
    "# Ames Housing Prices - Step 5: Model Deployment\n",
    "Now that we have trained and selected our optimal model, its time to deploy it.  This notebook demonstrates how to user our Experiment and Pipelines from the previous steps to easly deploy our model as a Cortex Action. "
   ]
  },
  {
   "cell_type": "code",
   "execution_count": 1,
   "metadata": {},
   "outputs": [
    {
     "name": "stdout",
     "output_type": "stream",
     "text": [
      "Cortex Python SDK v1.0.1\n",
      "Cortex Python Builders SDK v1.0.1a2\n"
     ]
    }
   ],
   "source": [
    "# Basic setup\n",
    "%run config.ipynb"
   ]
  },
  {
   "cell_type": "code",
   "execution_count": 2,
   "metadata": {},
   "outputs": [],
   "source": [
    "# Connect to Cortex 5 and create a Builder instance\n",
    "cortex = Cortex.client()\n",
    "\n",
    "# Running locally isn't meaningful for the deploy step, since this deploys to the Cortex client.\n",
    "builder = cortex.builder()"
   ]
  },
  {
   "cell_type": "markdown",
   "metadata": {},
   "source": [
    "### Load the Experiment\n",
    "Let's load our experiment from the previous step and find the model we want to deploy."
   ]
  },
  {
   "cell_type": "code",
   "execution_count": 3,
   "metadata": {},
   "outputs": [
    {
     "data": {
      "text/html": [
       "\n",
       "                    <style>\n",
       "                        #table1 {\n",
       "                          border: solid thin;\n",
       "                          border-collapse: collapse;\n",
       "                        }\n",
       "                        #table1 caption {\n",
       "                          padding-bottom: 0.5em;\n",
       "                        }\n",
       "                        #table1 th,\n",
       "                        #table1 td {\n",
       "                          border: solid thin;\n",
       "                          padding: 0.5rem 2rem;\n",
       "                        }\n",
       "                        #table1 td {\n",
       "                          white-space: nowrap;\n",
       "                        }\n",
       "                        #table1 td {\n",
       "                          border-style: none solid;\n",
       "                          vertical-align: top;\n",
       "                        }\n",
       "                        #table1 th {\n",
       "                          padding: 0.2em;\n",
       "                          vertical-align: middle;\n",
       "                          text-align: center;\n",
       "                        }\n",
       "                        #table1 tbody td:first-child::after {\n",
       "                          content: leader(\". \"); '\n",
       "                        }\n",
       "                    </style>\n",
       "                    <table id=\"table1\">\n",
       "                        <caption><b>Experiment:</b> kaggle/ames-housing-regression</caption>\n",
       "                        <thead>\n",
       "                        <tr>\n",
       "                            <th rowspan=\"2\">ID</th>\n",
       "                            <th rowspan=\"2\">Date</th>\n",
       "                            <th rowspan=\"2\">Took</th>\n",
       "                            <th colspan=\"2\" scope=\"colgroup\">Params</th>\n",
       "                            <th colspan=\"2\" scope=\"colgroup\">Metrics</th>\n",
       "                        </tr>\n",
       "                        <tr>\n",
       "                            \n",
       "                            <th>alphas</th>\n",
       "                            \n",
       "                            <th>model_type</th>\n",
       "                            \n",
       "                            \n",
       "                            <th>r2</th>\n",
       "                            \n",
       "                            <th>rmse</th>\n",
       "                            \n",
       "                        </tr>\n",
       "                        </thead>\n",
       "                        <tbody>\n",
       "                            \n",
       "                            <tr>\n",
       "                            <td>4ny0ata</td>\n",
       "                            <td>Mon, 29 Jul 2019 14:24:11 GMT</td>\n",
       "                            <td>2.47 s</td>\n",
       "                            \n",
       "                            <td>[1, 0.1, 0.001, 0.0005]</td>\n",
       "                            \n",
       "                            <td>Lasso</td>\n",
       "                            \n",
       "                            \n",
       "                            <td>0.920696</td>\n",
       "                            \n",
       "                            <td>0.108386</td>\n",
       "                            \n",
       "                            </tr>\n",
       "                            \n",
       "                            <tr>\n",
       "                            <td>4t130ay7</td>\n",
       "                            <td>Mon, 29 Jul 2019 16:32:17 GMT</td>\n",
       "                            <td>2.93 s</td>\n",
       "                            \n",
       "                            <td>[1, 0.1, 0.001, 0.0005]</td>\n",
       "                            \n",
       "                            <td>Lasso</td>\n",
       "                            \n",
       "                            \n",
       "                            <td>0.920696</td>\n",
       "                            \n",
       "                            <td>0.108386</td>\n",
       "                            \n",
       "                            </tr>\n",
       "                            \n",
       "                        </tbody>\n",
       "                    </table>"
      ],
      "text/plain": [
       "<cortex.experiment.Experiment at 0x10c7765c0>"
      ]
     },
     "execution_count": 3,
     "metadata": {},
     "output_type": "execute_result"
    }
   ],
   "source": [
    "exp = cortex.experiment('kaggle/ames-housing-regression')\n",
    "exp"
   ]
  },
  {
   "cell_type": "markdown",
   "metadata": {},
   "source": [
    "---\n",
    "The model created in the last run looks to be the best, let's deploy it"
   ]
  },
  {
   "cell_type": "code",
   "execution_count": 4,
   "metadata": {},
   "outputs": [
    {
     "data": {
      "text/plain": [
       "LassoCV(alphas=[1, 0.1, 0.001, 0.0005], copy_X=True, cv='warn', eps=0.001,\n",
       "        fit_intercept=True, max_iter=1000, n_alphas=100, n_jobs=None,\n",
       "        normalize=False, positive=False, precompute='auto', random_state=None,\n",
       "        selection='cyclic', tol=0.0001, verbose=False)"
      ]
     },
     "execution_count": 4,
     "metadata": {},
     "output_type": "execute_result"
    }
   ],
   "source": [
    "run = exp.runs()[-1]\n",
    "model = run.get_artifact('model')\n",
    "model"
   ]
  },
  {
   "cell_type": "markdown",
   "metadata": {},
   "source": [
    "### Model deployment - Step 1: Configure Data Pipeline for Inputs\n",
    "Our model was trained with data that has had cleaning and feature engineering steps applied to it.  Since we want our users to send us the actual raw data, we need to deploy our pipeline to transform the input data into the form we expect.  This requires applying some of the same steps from before, but also requires us to remember some of the data created during model training such as the median values of certain columns and the final list of _dummy_ categorical columns created during feature engineering.  Luckily, our pipelines have a memory in the form of _context_ that we can reference here to achieve this."
   ]
  },
  {
   "cell_type": "code",
   "execution_count": 5,
   "metadata": {},
   "outputs": [
    {
     "data": {
      "text/plain": [
       "<cortex.pipeline.Pipeline at 0x12abeaf28>"
      ]
     },
     "execution_count": 5,
     "metadata": {},
     "output_type": "execute_result"
    }
   ],
   "source": [
    "train_ds = cortex.dataset('kaggle/ames-housing-train')\n",
    "\n",
    "# Model our feature pipeline after the 'clean' pipeline\n",
    "x_pipe = builder.pipeline('x_pipe')\n",
    "x_pipe.from_pipeline(train_ds.pipeline('clean'))"
   ]
  },
  {
   "cell_type": "code",
   "execution_count": 6,
   "metadata": {},
   "outputs": [],
   "source": [
    "# Same idea from our training prep, however we need to use the median values we computed before which we stored in our pipeline context\n",
    "def fill_median_cols_ctx(pipeline, df):\n",
    "    fill_median_cols = ['GarageArea','TotalBsmtSF', 'MasVnrArea', 'BsmtFinSF1', 'LotFrontage', 'BsmtUnfSF', 'GarageYrBlt']\n",
    "    [df[j].fillna(pipeline.get_context('{}_median'.format(j)), inplace=True) for j in fill_median_cols]\n",
    "                  \n",
    "# The dummy column conversion we did during training needs to be applied here.  Afterwards there will be missing columns because \n",
    "# our input instance will only contain at most one value per category.  We need to fill in the other expected columns.  We stored\n",
    "# the expected set of columns in our pipeline so we can easily do this now.\n",
    "def fix_columns(pipeline, df):\n",
    "    all_cols = pipeline.get_context('columns')\n",
    "    missing_cols = set(all_cols) - set(df.columns)\n",
    "    for c in missing_cols:\n",
    "        df[c] = 0\n",
    "    \n",
    "    # make sure we have all the columns we need\n",
    "    assert(set(all_cols) - set(df.columns) == set())\n",
    "    \n",
    "    return df[all_cols]"
   ]
  },
  {
   "cell_type": "code",
   "execution_count": 7,
   "metadata": {},
   "outputs": [
    {
     "name": "stdout",
     "output_type": "stream",
     "text": [
      "[<cortex.pipeline._FunctionStep object at 0x12ac0ab00>, <cortex.pipeline._FunctionStep object at 0x12ac0a8d0>]\n"
     ]
    }
   ],
   "source": [
    "# The feature engineering pipeline contains the complete list of dummy columns in addition to some steps we need\n",
    "engineer_pipe = train_ds.pipeline('engineer')\n",
    "x_pipe.set_context('columns', engineer_pipe.get_context('columns'))\n",
    "\n",
    "# Reuse steps from our clean, features, and engineer pipelines\n",
    "fill_zero_cols = x_pipe.get_step('fill_zero_cols')\n",
    "fill_na_none = x_pipe.get_step('fill_na_none')\n",
    "get_dummies = engineer_pipe.get_step('get_dummies')\n",
    "print(engineer_pipe.steps)"
   ]
  },
  {
   "cell_type": "code",
   "execution_count": 8,
   "metadata": {},
   "outputs": [
    {
     "data": {
      "text/plain": [
       "<cortex.pipeline.Pipeline at 0x12abeaf28>"
      ]
     },
     "execution_count": 8,
     "metadata": {},
     "output_type": "execute_result"
    }
   ],
   "source": [
    "# Build our final input pipeline\n",
    "x_pipe.reset()\n",
    "x_pipe.add_step(fill_zero_cols)\n",
    "x_pipe.add_step(fill_median_cols_ctx)\n",
    "x_pipe.add_step(fill_na_none)\n",
    "x_pipe.add_step(get_dummies)\n",
    "x_pipe.add_step(fix_columns)"
   ]
  },
  {
   "cell_type": "markdown",
   "metadata": {},
   "source": [
    "### Model deployment - Step 2: Configure Data Pipeline for Output\n",
    "If you remember, we scaled our target variable using the numpy _log1p_ function.  We need to inverse this using the _exp_ function so our predicted value is correct."
   ]
  },
  {
   "cell_type": "code",
   "execution_count": 9,
   "metadata": {},
   "outputs": [],
   "source": [
    "y_pipe = builder.pipeline('y_pipe')"
   ]
  },
  {
   "cell_type": "code",
   "execution_count": 10,
   "metadata": {},
   "outputs": [],
   "source": [
    "def rescale_target(pipeline, df):\n",
    "    df['SalePrice'] = np.exp(df['SalePrice'])"
   ]
  },
  {
   "cell_type": "code",
   "execution_count": 11,
   "metadata": {},
   "outputs": [
    {
     "data": {
      "text/plain": [
       "<cortex.pipeline.Pipeline at 0x12abf5f28>"
      ]
     },
     "execution_count": 11,
     "metadata": {},
     "output_type": "execute_result"
    }
   ],
   "source": [
    "y_pipe.add_step(rescale_target)"
   ]
  },
  {
   "cell_type": "markdown",
   "metadata": {},
   "source": [
    "### Model deployment - Step 3: Build and Deploy Cortex Action\n",
    "##### when using Python 3.6 - Use Base Image 'c12e/cortex-python36:29c5a9c' when building actions.\n",
    "##### when using Python 3.7 - Use Base Image 'c12e/cortex-python37:29c5a9c' when building actions.\n",
    "\n",
    "Now that we have our input and output pipelines, we can use the Cortex Builder to package and deploy our model in one step.\n"
   ]
  },
  {
   "cell_type": "code",
   "execution_count": 22,
   "metadata": {},
   "outputs": [
    {
     "name": "stdout",
     "output_type": "stream",
     "text": [
      "Building Cortex Action (function): kaggle/ames-housing-predict\n",
      "Building Docker image private-registry.cortex-dev.insights.ai/abhi-dev/kaggle_ames-housing-predict:dz8kbsd...\n",
      "Step 1/7 : FROM c12e/cortex-python36:29c5a9c\n",
      "Step 2/7 : WORKDIR /function\n",
      "Removing intermediate container db9a461d6956\n",
      "Step 3/7 : RUN pip install \"fdk==0.0.31\" \"cortex-python==1.0.1\"\n",
      "Collecting fdk==0.0.31\n",
      "Downloading https://files.pythonhosted.org/packages/f0/21/b5d773f200caedf2d2a0fdd9b87a47477174b450b6658b5751796ddbadeb/fdk-0.0.31-py2.py3-none-any.whl\n",
      "Collecting cortex-python==1.0.1\n",
      "Downloading https://files.pythonhosted.org/packages/06/13/eea8ced4be429919268b6ee0dd581a01ee54724c9b713215a5b2dcee7f33/cortex_python-1.0.1-py3-none-any.whl (70kB)\n",
      "Collecting uvloop (from fdk==0.0.31)\n",
      "Downloading https://files.pythonhosted.org/packages/e4/d6/ea6a9bdeb3effcd036443182e0967639852c798d78bd77b8394c0f7520ef/uvloop-0.12.2-cp36-cp36m-manylinux1_x86_64.whl (3.5MB)\n",
      "Collecting ujson==1.35 (from fdk==0.0.31)\n",
      "Downloading https://files.pythonhosted.org/packages/16/c4/79f3409bc710559015464e5f49b9879430d8f87498ecdc335899732e5377/ujson-1.35.tar.gz (192kB)\n",
      "Collecting dill==0.2.7.1 (from fdk==0.0.31)\n",
      "Downloading https://files.pythonhosted.org/packages/91/a0/19d4d31dee064fc553ae01263b5c55e7fb93daff03a69debbedee647c5a0/dill-0.2.7.1.tar.gz (64kB)\n",
      "Collecting iso8601==0.1.12 (from fdk==0.0.31)\n",
      "Downloading https://files.pythonhosted.org/packages/ef/57/7162609dab394d38bbc7077b7ba0a6f10fb09d8b7701ea56fa1edc0c4345/iso8601-0.1.12-py2.py3-none-any.whl\n",
      "Collecting pbr!=2.1.0,>=2.0.0 (from fdk==0.0.31)\n",
      "Downloading https://files.pythonhosted.org/packages/8b/67/bb6fe2e2c66585acb4dd2b57f50c8db65848f737f63b04cb35f0627bce5e/pbr-5.4.1-py2.py3-none-any.whl (108kB)\n",
      "Requirement already satisfied: requests==2.18.4 in /opt/conda/lib/python3.6/site-packages (from fdk==0.0.31) (2.18.4)\n",
      "Collecting pyyaml<4,>=3.13 (from cortex-python==1.0.1)\n",
      "Downloading https://files.pythonhosted.org/packages/9e/a3/1d13970c3f36777c583f136c136f804d70f500168edc1edea6daa7200769/PyYAML-3.13.tar.gz (270kB)\n",
      "Collecting cuid<1,>=0.3 (from cortex-python==1.0.1)\n",
      "Downloading https://files.pythonhosted.org/packages/f6/0b/d306167bc2c6ecb9a0ff1552610d4e844045ec7bfd67f79e8041100f9d62/cuid-0.3.tar.gz\n",
      "Collecting pyjwt<2,>=1.6.1 (from cortex-python==1.0.1)\n",
      "Downloading https://files.pythonhosted.org/packages/87/8b/6a9f14b5f781697e51259d81657e6048fd31a113229cf346880bb7545565/PyJWT-1.7.1-py2.py3-none-any.whl\n",
      "Collecting tenacity>=5.0.2 (from cortex-python==1.0.1)\n",
      "Downloading https://files.pythonhosted.org/packages/6a/93/dfcf5b1b46ab29196274b78dcba69fab5e54b6dc303a7eed90a79194d277/tenacity-5.0.4-py2.py3-none-any.whl\n",
      "Collecting requests-toolbelt==0.8.0 (from cortex-python==1.0.1)\n",
      "Downloading https://files.pythonhosted.org/packages/97/8a/d710f792d6f6ecc089c5e55b66e66c3f2f35516a1ede5a8f54c13350ffb0/requests_toolbelt-0.8.0-py2.py3-none-any.whl (54kB)\n",
      "Collecting deprecation>=2.0.6 (from cortex-python==1.0.1)\n",
      "Downloading https://files.pythonhosted.org/packages/32/e9/01ffbaf3540ad54476cd7066439d629f1dd73b851cc5c0993ce2c12e1cdd/deprecation-2.0.6-py2.py3-none-any.whl\n",
      "Requirement already satisfied: chardet<3.1.0,>=3.0.2 in /opt/conda/lib/python3.6/site-packages (from requests==2.18.4->fdk==0.0.31) (3.0.4)\n",
      "Requirement already satisfied: idna<2.7,>=2.5 in /opt/conda/lib/python3.6/site-packages (from requests==2.18.4->fdk==0.0.31) (2.6)\n",
      "Requirement already satisfied: urllib3<1.23,>=1.21.1 in /opt/conda/lib/python3.6/site-packages (from requests==2.18.4->fdk==0.0.31) (1.22)\n",
      "Requirement already satisfied: certifi>=2017.4.17 in /opt/conda/lib/python3.6/site-packages (from requests==2.18.4->fdk==0.0.31) (2018.4.16)\n",
      "Requirement already satisfied: six>=1.9.0 in /opt/conda/lib/python3.6/site-packages (from tenacity>=5.0.2->cortex-python==1.0.1) (1.11.0)\n",
      "Collecting packaging (from deprecation>=2.0.6->cortex-python==1.0.1)\n",
      "Downloading https://files.pythonhosted.org/packages/91/32/58bc30e646e55eab8b21abf89e353f59c0cc02c417e42929f4a9546e1b1d/packaging-19.0-py2.py3-none-any.whl\n",
      "Collecting pyparsing>=2.0.2 (from packaging->deprecation>=2.0.6->cortex-python==1.0.1)\n",
      "Downloading https://files.pythonhosted.org/packages/ff/2c/afc36631a9e0dc9f2b8bd4c19fa2d330cbe07d6679a1c0910418a200acad/pyparsing-2.4.1.1-py2.py3-none-any.whl (64kB)\n",
      "Building wheels for collected packages: ujson, dill, pyyaml, cuid\n",
      "Running setup.py bdist_wheel for ujson: started\n",
      "Running setup.py bdist_wheel for ujson: finished with status 'done'\n",
      "Stored in directory: /root/.cache/pip/wheels/28/77/e4/0311145b9c2e2f01470e744855131f9e34d6919687550f87d1\n",
      "Running setup.py bdist_wheel for dill: started\n",
      "Running setup.py bdist_wheel for dill: finished with status 'done'\n",
      "Stored in directory: /root/.cache/pip/wheels/99/c4/ed/1b64d2d5809e60d5a3685530432f6159d6a9959739facb61f2\n",
      "Running setup.py bdist_wheel for pyyaml: started\n",
      "Running setup.py bdist_wheel for pyyaml: finished with status 'done'\n",
      "Stored in directory: /root/.cache/pip/wheels/ad/da/0c/74eb680767247273e2cf2723482cb9c924fe70af57c334513f\n",
      "Running setup.py bdist_wheel for cuid: started\n",
      "Running setup.py bdist_wheel for cuid: finished with status 'done'\n",
      "Stored in directory: /root/.cache/pip/wheels/9f/ac/8f/7e19a7949ad05a7efd2987ad2e1b910b6964d265b07adc029f\n",
      "Successfully built ujson dill pyyaml cuid\n",
      "\u001b[91mcortex-python 1.0.1 has requirement dill>=0.2.8.2, but you'll have dill 0.2.7.1 which is incompatible.\n",
      "\u001b[0m\n",
      "Installing collected packages: uvloop, ujson, dill, iso8601, pbr, fdk, pyyaml, cuid, pyjwt, tenacity, requests-toolbelt, pyparsing, packaging, deprecation, cortex-python\n",
      "Successfully installed cortex-python-1.0.1 cuid-0.3 deprecation-2.0.6 dill-0.2.7.1 fdk-0.0.31 iso8601-0.1.12 packaging-19.0 pbr-5.4.1 pyjwt-1.7.1 pyparsing-2.4.1.1 pyyaml-3.13 requests-toolbelt-0.8.0 tenacity-5.0.4 ujson-1.35 uvloop-0.12.2\n",
      "\u001b[91mYou are using pip version 10.0.1, however version 19.2.1 is available.\n",
      "You should consider upgrading via the 'pip install --upgrade pip' command.\n",
      "\u001b[0m\n",
      "Removing intermediate container 3ea6326880ad\n",
      "Step 4/7 : COPY requirements.txt .\n",
      "Step 5/7 : RUN pip install -r requirements.txt\n",
      "Collecting scikit-learn<1,>=0.20.0 (from -r requirements.txt (line 2))\n",
      "Downloading https://files.pythonhosted.org/packages/85/04/49633f490f726da6e454fddc8e938bbb5bfed2001681118d3814c219b723/scikit_learn-0.21.2-cp36-cp36m-manylinux1_x86_64.whl (6.7MB)\n",
      "Collecting pandas (from -r requirements.txt (line 3))\n",
      "Downloading https://files.pythonhosted.org/packages/1d/9a/7eb9952f4b4d73fbd75ad1d5d6112f407e695957444cb695cbb3cdab918a/pandas-0.25.0-cp36-cp36m-manylinux1_x86_64.whl (10.5MB)\n",
      "Collecting scipy>=0.17.0 (from scikit-learn<1,>=0.20.0->-r requirements.txt (line 2))\n",
      "Downloading https://files.pythonhosted.org/packages/72/4c/5f81e7264b0a7a8bd570810f48cd346ba36faedbd2ba255c873ad556de76/scipy-1.3.0-cp36-cp36m-manylinux1_x86_64.whl (25.2MB)\n",
      "Collecting joblib>=0.11 (from scikit-learn<1,>=0.20.0->-r requirements.txt (line 2))\n",
      "Downloading https://files.pythonhosted.org/packages/cd/c1/50a758e8247561e58cb87305b1e90b171b8c767b15b12a1734001f41d356/joblib-0.13.2-py2.py3-none-any.whl (278kB)\n",
      "Collecting numpy>=1.11.0 (from scikit-learn<1,>=0.20.0->-r requirements.txt (line 2))\n",
      "Downloading https://files.pythonhosted.org/packages/19/b9/bda9781f0a74b90ebd2e046fde1196182900bd4a8e1ea503d3ffebc50e7c/numpy-1.17.0-cp36-cp36m-manylinux1_x86_64.whl (20.4MB)\n",
      "Collecting python-dateutil>=2.6.1 (from pandas->-r requirements.txt (line 3))\n",
      "Downloading https://files.pythonhosted.org/packages/41/17/c62faccbfbd163c7f57f3844689e3a78bae1f403648a6afb1d0866d87fbb/python_dateutil-2.8.0-py2.py3-none-any.whl (226kB)\n",
      "Collecting pytz>=2017.2 (from pandas->-r requirements.txt (line 3))\n",
      "Downloading https://files.pythonhosted.org/packages/3d/73/fe30c2daaaa0713420d0382b16fbb761409f532c56bdcc514bf7b6262bb6/pytz-2019.1-py2.py3-none-any.whl (510kB)\n",
      "Requirement already satisfied: six>=1.5 in /opt/conda/lib/python3.6/site-packages (from python-dateutil>=2.6.1->pandas->-r requirements.txt (line 3)) (1.11.0)\n",
      "\u001b[91mcortex-python 1.0.1 has requirement dill>=0.2.8.2, but you'll have dill 0.2.7.1 which is incompatible.\n",
      "\u001b[0m\n",
      "Installing collected packages: numpy, scipy, joblib, scikit-learn, python-dateutil, pytz, pandas\n",
      "Successfully installed joblib-0.13.2 numpy-1.17.0 pandas-0.25.0 python-dateutil-2.8.0 pytz-2019.1 scikit-learn-0.21.2 scipy-1.3.0\n",
      "\u001b[91mYou are using pip version 10.0.1, however version 19.2.1 is available.\n",
      "You should consider upgrading via the 'pip install --upgrade pip' command.\n",
      "\u001b[0m\n",
      "Removing intermediate container 65d7d52de133\n",
      "Step 6/7 : COPY action.py .\n",
      "Step 7/7 : ENTRYPOINT [\"python\", \"action.py\"]\n",
      "Removing intermediate container 7301d2603019\n",
      "Successfully built e834d00f0049\n",
      "Successfully tagged private-registry.cortex-dev.insights.ai/abhi-dev/kaggle_ames-housing-predict:dz8kbsd\n",
      "Image private-registry.cortex-dev.insights.ai/abhi-dev/kaggle_ames-housing-predict:dz8kbsd built in 26.742209 seconds\n",
      "Pushing image to remote repository...\n",
      "dz8kbsd: digest: sha256:0f07fe796f47fcc2f6c4eb4311aa7f27f1837233807cda3285a025b4a8889d07 size: 3045\n",
      "Image private-registry.cortex-dev.insights.ai/abhi-dev/kaggle_ames-housing-predict:dz8kbsd pushed in 26.114612 seconds\n",
      "Cleaning up...\n",
      "Removing previous image: sha256:1e90293c60\n"
     ]
    },
    {
     "data": {
      "text/html": [
       "\n",
       "        <table>\n",
       "            <thead>\n",
       "                <tr>\n",
       "                    <th>Name</th>\n",
       "                    <th>Version</th>\n",
       "                    <th>Type</th>\n",
       "                    <th>Kind</th>\n",
       "                    <th>Image</th>\n",
       "                    <th>Deployment Status</th>\n",
       "                </tr>\n",
       "            </thead>\n",
       "            <tbody>\n",
       "                <td>kaggle/ames-housing-predict</td>\n",
       "                <td>5</td>\n",
       "                <td>function</td>\n",
       "                <td>python:3</td>\n",
       "                <td>private-registry.cortex-dev.insights.ai/abhi-dev/kaggle_ames-housing-predict:dz8kbsd</td>\n",
       "                <td>COMPLETED</td>\n",
       "            </tbody>\n",
       "        </table>\n",
       "        "
      ],
      "text/plain": [
       "<cortex.action.Action at 0x12ace5ba8>"
      ]
     },
     "execution_count": 22,
     "metadata": {},
     "output_type": "execute_result"
    }
   ],
   "source": [
    "builder.action('kaggle/ames-housing-predict')\\\n",
    "    .with_base_image('c12e/cortex-python36:29c5a9c')\\\n",
    "    .with_requirements(['scikit-learn>=0.20.0,<1'])\\\n",
    "    .from_model(model, x_pipeline=x_pipe, y_pipeline=y_pipe, target='SalePrice')\\\n",
    "    .build()"
   ]
  },
  {
   "cell_type": "code",
   "execution_count": 23,
   "metadata": {},
   "outputs": [
    {
     "data": {
      "text/html": [
       "\n",
       "        <table>\n",
       "            <thead>\n",
       "                <tr>\n",
       "                    <th>Name</th>\n",
       "                    <th>Version</th>\n",
       "                    <th>Type</th>\n",
       "                    <th>Kind</th>\n",
       "                    <th>Image</th>\n",
       "                    <th>Deployment Status</th>\n",
       "                </tr>\n",
       "            </thead>\n",
       "            <tbody>\n",
       "                <td>kaggle/ames-housing-predict</td>\n",
       "                <td>5</td>\n",
       "                <td>function</td>\n",
       "                <td>python:3</td>\n",
       "                <td>private-registry.cortex-dev.insights.ai/abhi-dev/kaggle_ames-housing-predict:dz8kbsd</td>\n",
       "                <td>COMPLETED</td>\n",
       "            </tbody>\n",
       "        </table>\n",
       "        "
      ],
      "text/plain": [
       "<cortex.action.Action at 0x12ac6d550>"
      ]
     },
     "execution_count": 23,
     "metadata": {},
     "output_type": "execute_result"
    }
   ],
   "source": [
    "action = cortex.action('kaggle/ames-housing-predict')\n",
    "action"
   ]
  },
  {
   "cell_type": "markdown",
   "metadata": {
    "slideshow": {
     "slide_type": "notes"
    }
   },
   "source": [
    "---\n",
    "Unit test for the Action.  Make sure our action is ready for use."
   ]
  },
  {
   "cell_type": "code",
   "execution_count": 24,
   "metadata": {},
   "outputs": [
    {
     "name": "stderr",
     "output_type": "stream",
     "text": [
      "2019-07-29 12:35:01,207 - INFO - cortex.serviceconnector/serviceconnector: Status: 500, Message: {\"success\":false,\"error\":\"500 - {\\\"error\\\":{\\\"message\\\":\\\"No module named 'dill._dill'\\\"}}\"}\n"
     ]
    },
    {
     "ename": "HTTPError",
     "evalue": "500 Server Error: Internal Server Error for url: https://api.cortex-dev.insights.ai/v3/actions/kaggle/ames-housing-predict/invoke",
     "output_type": "error",
     "traceback": [
      "\u001b[0;31m---------------------------------------------------------------------------\u001b[0m",
      "\u001b[0;31mHTTPError\u001b[0m                                 Traceback (most recent call last)",
      "\u001b[0;32m<timed exec>\u001b[0m in \u001b[0;36m<module>\u001b[0;34m\u001b[0m\n",
      "\u001b[0;32m~/miniconda3/envs/cortex-examples-new-sdk/lib/python3.6/site-packages/cortex/action.py\u001b[0m in \u001b[0;36minvoke\u001b[0;34m(self, message, timeout)\u001b[0m\n\u001b[1;32m    251\u001b[0m         \"\"\"\n\u001b[1;32m    252\u001b[0m         \u001b[0maction_client\u001b[0m \u001b[0;34m=\u001b[0m \u001b[0mActionClient\u001b[0m\u001b[0;34m(\u001b[0m\u001b[0mself\u001b[0m\u001b[0;34m.\u001b[0m\u001b[0m_connector\u001b[0m\u001b[0;34m.\u001b[0m\u001b[0murl\u001b[0m\u001b[0;34m,\u001b[0m \u001b[0mself\u001b[0m\u001b[0;34m.\u001b[0m\u001b[0m_connector\u001b[0m\u001b[0;34m.\u001b[0m\u001b[0mversion\u001b[0m\u001b[0;34m,\u001b[0m \u001b[0mself\u001b[0m\u001b[0;34m.\u001b[0m\u001b[0m_connector\u001b[0m\u001b[0;34m.\u001b[0m\u001b[0mtoken\u001b[0m\u001b[0;34m)\u001b[0m\u001b[0;34m\u001b[0m\u001b[0m\n\u001b[0;32m--> 253\u001b[0;31m         \u001b[0;32mreturn\u001b[0m \u001b[0mMessage\u001b[0m\u001b[0;34m(\u001b[0m\u001b[0maction_client\u001b[0m\u001b[0;34m.\u001b[0m\u001b[0minvoke_action\u001b[0m\u001b[0;34m(\u001b[0m\u001b[0mself\u001b[0m\u001b[0;34m.\u001b[0m\u001b[0mname\u001b[0m\u001b[0;34m,\u001b[0m \u001b[0mmessage\u001b[0m\u001b[0;34m.\u001b[0m\u001b[0mto_params\u001b[0m\u001b[0;34m(\u001b[0m\u001b[0;34m)\u001b[0m\u001b[0;34m)\u001b[0m\u001b[0;34m)\u001b[0m\u001b[0;34m\u001b[0m\u001b[0m\n\u001b[0m\u001b[1;32m    254\u001b[0m \u001b[0;34m\u001b[0m\u001b[0m\n\u001b[1;32m    255\u001b[0m     \u001b[0;32mdef\u001b[0m \u001b[0mget_deployment_status\u001b[0m\u001b[0;34m(\u001b[0m\u001b[0mself\u001b[0m\u001b[0;34m)\u001b[0m\u001b[0;34m:\u001b[0m\u001b[0;34m\u001b[0m\u001b[0m\n",
      "\u001b[0;32m~/miniconda3/envs/cortex-examples-new-sdk/lib/python3.6/site-packages/cortex/action.py\u001b[0m in \u001b[0;36minvoke_action\u001b[0;34m(self, action_name, params)\u001b[0m\n\u001b[1;32m    107\u001b[0m         \"\"\"\n\u001b[1;32m    108\u001b[0m         \u001b[0muri\u001b[0m \u001b[0;34m=\u001b[0m \u001b[0mself\u001b[0m\u001b[0;34m.\u001b[0m\u001b[0mURIs\u001b[0m\u001b[0;34m[\u001b[0m\u001b[0;34m'invoke'\u001b[0m\u001b[0;34m]\u001b[0m\u001b[0;34m.\u001b[0m\u001b[0mformat\u001b[0m\u001b[0;34m(\u001b[0m\u001b[0maction_name\u001b[0m\u001b[0;34m=\u001b[0m\u001b[0maction_name\u001b[0m\u001b[0;34m)\u001b[0m\u001b[0;34m\u001b[0m\u001b[0m\n\u001b[0;32m--> 109\u001b[0;31m         \u001b[0;32mreturn\u001b[0m \u001b[0mself\u001b[0m\u001b[0;34m.\u001b[0m\u001b[0m_post_json\u001b[0m\u001b[0;34m(\u001b[0m\u001b[0muri\u001b[0m\u001b[0;34m,\u001b[0m \u001b[0mparams\u001b[0m\u001b[0;34m)\u001b[0m\u001b[0;34m\u001b[0m\u001b[0m\n\u001b[0m\u001b[1;32m    110\u001b[0m \u001b[0;34m\u001b[0m\u001b[0m\n\u001b[1;32m    111\u001b[0m     \u001b[0;32mdef\u001b[0m \u001b[0mget_logs\u001b[0m\u001b[0;34m(\u001b[0m\u001b[0mself\u001b[0m\u001b[0;34m,\u001b[0m \u001b[0maction_name\u001b[0m\u001b[0;34m)\u001b[0m \u001b[0;34m->\u001b[0m \u001b[0mDict\u001b[0m\u001b[0;34m[\u001b[0m\u001b[0mstr\u001b[0m\u001b[0;34m,\u001b[0m \u001b[0mobject\u001b[0m\u001b[0;34m]\u001b[0m\u001b[0;34m:\u001b[0m\u001b[0;34m\u001b[0m\u001b[0m\n",
      "\u001b[0;32m~/miniconda3/envs/cortex-examples-new-sdk/lib/python3.6/site-packages/cortex/serviceconnector.py\u001b[0m in \u001b[0;36m_post_json\u001b[0;34m(self, uri, obj)\u001b[0m\n\u001b[1;32m    130\u001b[0m         \u001b[0;32mif\u001b[0m \u001b[0mr\u001b[0m\u001b[0;34m.\u001b[0m\u001b[0mstatus_code\u001b[0m \u001b[0;32mnot\u001b[0m \u001b[0;32min\u001b[0m \u001b[0;34m[\u001b[0m\u001b[0mrequests\u001b[0m\u001b[0;34m.\u001b[0m\u001b[0mcodes\u001b[0m\u001b[0;34m.\u001b[0m\u001b[0mok\u001b[0m\u001b[0;34m,\u001b[0m \u001b[0mrequests\u001b[0m\u001b[0;34m.\u001b[0m\u001b[0mcodes\u001b[0m\u001b[0;34m.\u001b[0m\u001b[0mcreated\u001b[0m\u001b[0;34m]\u001b[0m\u001b[0;34m:\u001b[0m\u001b[0;34m\u001b[0m\u001b[0m\n\u001b[1;32m    131\u001b[0m             \u001b[0mlog\u001b[0m\u001b[0;34m.\u001b[0m\u001b[0minfo\u001b[0m\u001b[0;34m(\u001b[0m\u001b[0;34m\"Status: {}, Message: {}\"\u001b[0m\u001b[0;34m.\u001b[0m\u001b[0mformat\u001b[0m\u001b[0;34m(\u001b[0m\u001b[0mr\u001b[0m\u001b[0;34m.\u001b[0m\u001b[0mstatus_code\u001b[0m\u001b[0;34m,\u001b[0m \u001b[0mr\u001b[0m\u001b[0;34m.\u001b[0m\u001b[0mtext\u001b[0m\u001b[0;34m)\u001b[0m\u001b[0;34m)\u001b[0m\u001b[0;34m\u001b[0m\u001b[0m\n\u001b[0;32m--> 132\u001b[0;31m         \u001b[0mr\u001b[0m\u001b[0;34m.\u001b[0m\u001b[0mraise_for_status\u001b[0m\u001b[0;34m(\u001b[0m\u001b[0;34m)\u001b[0m\u001b[0;34m\u001b[0m\u001b[0m\n\u001b[0m\u001b[1;32m    133\u001b[0m         \u001b[0;32mreturn\u001b[0m \u001b[0mr\u001b[0m\u001b[0;34m.\u001b[0m\u001b[0mjson\u001b[0m\u001b[0;34m(\u001b[0m\u001b[0;34m)\u001b[0m\u001b[0;34m\u001b[0m\u001b[0m\n\u001b[1;32m    134\u001b[0m \u001b[0;34m\u001b[0m\u001b[0m\n",
      "\u001b[0;32m~/miniconda3/envs/cortex-examples-new-sdk/lib/python3.6/site-packages/requests/models.py\u001b[0m in \u001b[0;36mraise_for_status\u001b[0;34m(self)\u001b[0m\n\u001b[1;32m    938\u001b[0m \u001b[0;34m\u001b[0m\u001b[0m\n\u001b[1;32m    939\u001b[0m         \u001b[0;32mif\u001b[0m \u001b[0mhttp_error_msg\u001b[0m\u001b[0;34m:\u001b[0m\u001b[0;34m\u001b[0m\u001b[0m\n\u001b[0;32m--> 940\u001b[0;31m             \u001b[0;32mraise\u001b[0m \u001b[0mHTTPError\u001b[0m\u001b[0;34m(\u001b[0m\u001b[0mhttp_error_msg\u001b[0m\u001b[0;34m,\u001b[0m \u001b[0mresponse\u001b[0m\u001b[0;34m=\u001b[0m\u001b[0mself\u001b[0m\u001b[0;34m)\u001b[0m\u001b[0;34m\u001b[0m\u001b[0m\n\u001b[0m\u001b[1;32m    941\u001b[0m \u001b[0;34m\u001b[0m\u001b[0m\n\u001b[1;32m    942\u001b[0m     \u001b[0;32mdef\u001b[0m \u001b[0mclose\u001b[0m\u001b[0;34m(\u001b[0m\u001b[0mself\u001b[0m\u001b[0;34m)\u001b[0m\u001b[0;34m:\u001b[0m\u001b[0;34m\u001b[0m\u001b[0m\n",
      "\u001b[0;31mHTTPError\u001b[0m: 500 Server Error: Internal Server Error for url: https://api.cortex-dev.insights.ai/v3/actions/kaggle/ames-housing-predict/invoke"
     ]
    }
   ],
   "source": [
    "%%time\n",
    "\n",
    "params = {\n",
    "    \"columns\": ['MSSubClass', 'MSZoning', 'LotFrontage', 'LotArea', 'Street', 'Alley', 'LotShape', 'LandContour', 'Utilities', 'LotConfig', 'LandSlope', 'Neighborhood', 'Condition1', 'Condition2', 'BldgType', 'HouseStyle', 'OverallQual', 'OverallCond', 'YearBuilt', 'YearRemodAdd', 'RoofStyle', 'RoofMatl', 'Exterior1st', 'Exterior2nd', 'MasVnrType', 'MasVnrArea', 'ExterQual', 'ExterCond', 'Foundation', 'BsmtQual', 'BsmtCond', 'BsmtExposure', 'BsmtFinType1', 'BsmtFinSF1', 'BsmtFinType2', 'BsmtFinSF2', 'BsmtUnfSF', 'TotalBsmtSF', 'Heating', 'HeatingQC', 'CentralAir', 'Electrical', '1stFlrSF', '2ndFlrSF', 'LowQualFinSF', 'GrLivArea', 'BsmtFullBath', 'BsmtHalfBath', 'FullBath', 'HalfBath', 'BedroomAbvGr', 'KitchenAbvGr', 'KitchenQual', 'TotRmsAbvGrd', 'Functional', 'Fireplaces', 'FireplaceQu', 'GarageType', 'GarageYrBlt', 'GarageFinish', 'GarageCars', 'GarageArea', 'GarageQual', 'GarageCond', 'PavedDrive', 'WoodDeckSF', 'OpenPorchSF', 'EnclosedPorch', '3SsnPorch', 'ScreenPorch', 'PoolArea', 'PoolQC', 'Fence', 'MiscFeature', 'MiscVal', 'MoSold', 'YrSold', 'SaleType', 'SaleCondition'],\n",
    "    \"values\": [[20,\"RH\",80.0,11622,\"Pave\",None,\"Reg\",\"Lvl\",\"AllPub\",\"Inside\",\"Gtl\",\"NAmes\",\"Feedr\",\"Norm\",\"1Fam\",\"1Story\",5,6,1961,1961,\"Gable\",\"CompShg\",\"VinylSd\",\"VinylSd\",\"None\",0.0,\"TA\",\"TA\",\"CBlock\",\"TA\",\"TA\",\"No\",\"Rec\",468.0,\"LwQ\",144.0,270.0,882.0,\"GasA\",\"TA\",\"Y\",\"SBrkr\",896,0,0,896,0.0,0.0,1,0,2,1,\"TA\",5,\"Typ\",0,None,\"Attchd\",1961.0,\"Unf\",1.0,730.0,\"TA\",\"TA\",\"Y\",140,0,0,0,120,0,None,\"MnPrv\",None,0,6,2010,\"WD\",\"Normal\"]]\n",
    "}\n",
    "\n",
    "result = action.invoke(message=cortex.message(params))\n",
    "print(result.payload)\n",
    "print()"
   ]
  },
  {
   "cell_type": "markdown",
   "metadata": {},
   "source": [
    "## Building a Cortex Skill\n",
    "Now that our Action is ready and tested, we can move on to building a Cortex Skill.  We start by creating a Schema that defines our input for Ames Housing price prediction.  The schema will be built automatically using the parameters we already defined in our training dataset."
   ]
  },
  {
   "cell_type": "code",
   "execution_count": null,
   "metadata": {},
   "outputs": [],
   "source": [
    "x_schema = builder.schema('kaggle/ames-housing-instance').title('Ames Housing Test Instance').from_parameters(train_ds.parameters[1:][:-1]).build()"
   ]
  },
  {
   "cell_type": "markdown",
   "metadata": {},
   "source": [
    "The _builder_ has multiple entry points, we use the _skill_ method here to declare a new \"Ames Housing Price Prediction\" Skill.  Each _builder_ method returns an instance of the builder so we can chain calls together."
   ]
  },
  {
   "cell_type": "code",
   "execution_count": null,
   "metadata": {},
   "outputs": [],
   "source": [
    "b = builder.skill('kaggle/ames-housing-price-predict').title('Ames Housing Price Prediction').description('Predicts the price of a houses in Ames, Iowa.')"
   ]
  },
  {
   "cell_type": "markdown",
   "metadata": {},
   "source": [
    "Next, we use the Input sub-builder to construct our Skill Input.  This is where we declare how our Input will route messages.  In this simple case, we use the _all_ routing which routes all input messages to same Action for processing and declares wich Output to route Action outputs to.  We pass in our Action that we built previously to wire the Skill to the Action (we could have also passed in the Action name here).  Calling _build_ on the Input will create the input object, add it to the Skill builder, and return the Skill builder."
   ]
  },
  {
   "cell_type": "code",
   "execution_count": null,
   "metadata": {},
   "outputs": [],
   "source": [
    "b = b.input('ames-house').title('Ames House').use_schema(x_schema.name).all_routing(action, 'price-prediction').build()"
   ]
  },
  {
   "cell_type": "markdown",
   "metadata": {},
   "source": [
    "In the previous step, we referenced an Output called **price-prediction**.  We can create that Output here using the Output sub-builder."
   ]
  },
  {
   "cell_type": "code",
   "execution_count": null,
   "metadata": {},
   "outputs": [],
   "source": [
    "b = b.output('price-prediction').title('Price Prediction').parameter(name='SalePrice', type='number', format='double').build()"
   ]
  },
  {
   "cell_type": "markdown",
   "metadata": {},
   "source": [
    "We can preview the CAMEL document our builder will create to make sure everything looks correct."
   ]
  },
  {
   "cell_type": "code",
   "execution_count": null,
   "metadata": {},
   "outputs": [],
   "source": [
    "b.to_camel()"
   ]
  },
  {
   "cell_type": "markdown",
   "metadata": {},
   "source": [
    "---\n",
    "### Build and Publish the Skill to the Marketplace\n",
    "This will build the Skill and publish it to my private marketplace.  It will then be available for use in the Agent Builder."
   ]
  },
  {
   "cell_type": "code",
   "execution_count": null,
   "metadata": {},
   "outputs": [],
   "source": [
    "skill = b.build()\n",
    "print('%s (%s) v%d' % (skill.title, skill.name, skill.version))"
   ]
  },
  {
   "cell_type": "code",
   "execution_count": null,
   "metadata": {},
   "outputs": [],
   "source": []
  },
  {
   "cell_type": "code",
   "execution_count": null,
   "metadata": {},
   "outputs": [],
   "source": []
  },
  {
   "cell_type": "code",
   "execution_count": null,
   "metadata": {},
   "outputs": [],
   "source": []
  }
 ],
 "metadata": {
  "kernelspec": {
   "display_name": "Python 3",
   "language": "python",
   "name": "python3"
  },
  "language_info": {
   "codemirror_mode": {
    "name": "ipython",
    "version": 3
   },
   "file_extension": ".py",
   "mimetype": "text/x-python",
   "name": "python",
   "nbconvert_exporter": "python",
   "pygments_lexer": "ipython3",
   "version": "3.6.0"
  }
 },
 "nbformat": 4,
 "nbformat_minor": 4
}
