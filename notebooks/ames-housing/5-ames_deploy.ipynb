{
 "cells": [
  {
   "cell_type": "markdown",
   "metadata": {},
   "source": [
    "# Ames Housing Prices - Step 5: Model Deployment\n",
    "Now that we have trained and selected our optimal model, its time to deploy it.  This notebook demonstrates how to user our Experiment and Pipelines from the previous steps to easly deploy our model as a Cortex Action. "
   ]
  },
  {
   "cell_type": "code",
   "execution_count": 3,
   "metadata": {},
   "outputs": [
    {
     "name": "stdout",
     "output_type": "stream",
     "text": [
      "Cortex Python SDK v1.1.0\n"
     ]
    }
   ],
   "source": [
    "# Basic setup\n",
    "%run config.ipynb"
   ]
  },
  {
   "cell_type": "code",
   "execution_count": 4,
   "metadata": {},
   "outputs": [],
   "source": [
    "# Connect to Cortex 5 and create a Builder instance\n",
    "cortex = Cortex.client()\n",
    "\n",
    "# Running locally isn't meaningful for the deploy step, since this deploys to the Cortex client.\n",
    "builder = cortex.builder()"
   ]
  },
  {
   "cell_type": "markdown",
   "metadata": {},
   "source": [
    "### Load the Experiment\n",
    "Let's load our experiment from the previous step and find the model we want to deploy."
   ]
  },
  {
   "cell_type": "code",
   "execution_count": 5,
   "metadata": {},
   "outputs": [
    {
     "data": {
      "text/html": [
       "\n",
       "                    <style>\n",
       "                        #table1 {\n",
       "                          border: solid thin;\n",
       "                          border-collapse: collapse;\n",
       "                        }\n",
       "                        #table1 caption {\n",
       "                          padding-bottom: 0.5em;\n",
       "                        }\n",
       "                        #table1 th,\n",
       "                        #table1 td {\n",
       "                          border: solid thin;\n",
       "                          padding: 0.5rem 2rem;\n",
       "                        }\n",
       "                        #table1 td {\n",
       "                          white-space: nowrap;\n",
       "                        }\n",
       "                        #table1 td {\n",
       "                          border-style: none solid;\n",
       "                          vertical-align: top;\n",
       "                        }\n",
       "                        #table1 th {\n",
       "                          padding: 0.2em;\n",
       "                          vertical-align: middle;\n",
       "                          text-align: center;\n",
       "                        }\n",
       "                        #table1 tbody td:first-child::after {\n",
       "                          content: leader(\". \"); '\n",
       "                        }\n",
       "                    </style>\n",
       "                    <table id=\"table1\">\n",
       "                        <caption><b>Experiment:</b> kaggle/ames-housing-regression</caption>\n",
       "                        <thead>\n",
       "                        <tr>\n",
       "                            <th rowspan=\"2\">ID</th>\n",
       "                            <th rowspan=\"2\">Date</th>\n",
       "                            <th rowspan=\"2\">Took</th>\n",
       "                            <th colspan=\"2\" scope=\"colgroup\">Params</th>\n",
       "                            <th colspan=\"2\" scope=\"colgroup\">Metrics</th>\n",
       "                        </tr>\n",
       "                        <tr>\n",
       "                            \n",
       "                            <th>alphas</th>\n",
       "                            \n",
       "                            <th>model_type</th>\n",
       "                            \n",
       "                            \n",
       "                            <th>r2</th>\n",
       "                            \n",
       "                            <th>rmse</th>\n",
       "                            \n",
       "                        </tr>\n",
       "                        </thead>\n",
       "                        <tbody>\n",
       "                            \n",
       "                            <tr>\n",
       "                            <td>4n10ftk</td>\n",
       "                            <td>Thu, 27 Aug 2020 18:17:31 GMT</td>\n",
       "                            <td>2.43 s</td>\n",
       "                            \n",
       "                            <td>[1, 0.1, 0.001, 0.0005]</td>\n",
       "                            \n",
       "                            <td>Lasso</td>\n",
       "                            \n",
       "                            \n",
       "                            <td>0.920696</td>\n",
       "                            \n",
       "                            <td>0.108386</td>\n",
       "                            \n",
       "                            </tr>\n",
       "                            \n",
       "                        </tbody>\n",
       "                    </table>"
      ],
      "text/plain": [
       "<cortex.experiment.Experiment at 0x7fe2414cbb50>"
      ]
     },
     "execution_count": 5,
     "metadata": {},
     "output_type": "execute_result"
    }
   ],
   "source": [
    "exp = cortex.experiment('kaggle/ames-housing-regression')\n",
    "exp"
   ]
  },
  {
   "cell_type": "markdown",
   "metadata": {},
   "source": [
    "---\n",
    "The model created in the last run looks to be the best, let's deploy it"
   ]
  },
  {
   "cell_type": "code",
   "execution_count": 6,
   "metadata": {},
   "outputs": [
    {
     "data": {
      "text/plain": [
       "LassoCV(alphas=[1, 0.1, 0.001, 0.0005], copy_X=True, cv=None, eps=0.001,\n",
       "        fit_intercept=True, max_iter=1000, n_alphas=100, n_jobs=None,\n",
       "        normalize=False, positive=False, precompute='auto', random_state=None,\n",
       "        selection='cyclic', tol=0.0001, verbose=False)"
      ]
     },
     "execution_count": 6,
     "metadata": {},
     "output_type": "execute_result"
    }
   ],
   "source": [
    "run = exp.runs()[-1]\n",
    "model = run.get_artifact('model')\n",
    "model"
   ]
  },
  {
   "cell_type": "markdown",
   "metadata": {},
   "source": [
    "### Model deployment - Step 1: Configure Data Pipeline for Inputs\n",
    "Our model was trained with data that has had cleaning and feature engineering steps applied to it.  Since we want our users to send us the actual raw data, we need to deploy our pipeline to transform the input data into the form we expect.  This requires applying some of the same steps from before, but also requires us to remember some of the data created during model training such as the median values of certain columns and the final list of _dummy_ categorical columns created during feature engineering.  Luckily, our pipelines have a memory in the form of _context_ that we can reference here to achieve this."
   ]
  },
  {
   "cell_type": "code",
   "execution_count": 7,
   "metadata": {},
   "outputs": [
    {
     "data": {
      "text/plain": [
       "<cortex.pipeline.Pipeline at 0x7fe2428d5250>"
      ]
     },
     "execution_count": 7,
     "metadata": {},
     "output_type": "execute_result"
    }
   ],
   "source": [
    "train_ds = cortex.dataset('kaggle/ames-housing-train')\n",
    "\n",
    "# Model our feature pipeline after the 'clean' pipeline\n",
    "x_pipe = builder.pipeline('x_pipe')\n",
    "x_pipe.from_pipeline(train_ds.pipeline('clean'))"
   ]
  },
  {
   "cell_type": "code",
   "execution_count": 8,
   "metadata": {},
   "outputs": [],
   "source": [
    "# Same idea from our training prep, however we need to use the median values we computed before which we stored in our pipeline context\n",
    "def fill_median_cols_ctx(pipeline, df):\n",
    "    fill_median_cols = ['GarageArea','TotalBsmtSF', 'MasVnrArea', 'BsmtFinSF1', 'LotFrontage', 'BsmtUnfSF', 'GarageYrBlt']\n",
    "    [df[j].fillna(pipeline.get_context('{}_median'.format(j)), inplace=True) for j in fill_median_cols]\n",
    "                  \n",
    "# The dummy column conversion we did during training needs to be applied here.  Afterwards there will be missing columns because \n",
    "# our input instance will only contain at most one value per category.  We need to fill in the other expected columns.  We stored\n",
    "# the expected set of columns in our pipeline so we can easily do this now.\n",
    "def fix_columns(pipeline, df):\n",
    "    all_cols = pipeline.get_context('columns')\n",
    "    missing_cols = set(all_cols) - set(df.columns)\n",
    "    for c in missing_cols:\n",
    "        df[c] = 0\n",
    "    \n",
    "    # make sure we have all the columns we need\n",
    "    assert(set(all_cols) - set(df.columns) == set())\n",
    "    \n",
    "    return df[all_cols]"
   ]
  },
  {
   "cell_type": "code",
   "execution_count": 9,
   "metadata": {},
   "outputs": [
    {
     "name": "stdout",
     "output_type": "stream",
     "text": [
      "[<cortex.pipeline._FunctionStep object at 0x7fe2428edfd0>, <cortex.pipeline._FunctionStep object at 0x7fe242a0c250>]\n"
     ]
    }
   ],
   "source": [
    "# The feature engineering pipeline contains the complete list of dummy columns in addition to some steps we need\n",
    "engineer_pipe = train_ds.pipeline('engineer')\n",
    "x_pipe.set_context('columns', engineer_pipe.get_context('columns'))\n",
    "\n",
    "# Reuse steps from our clean, features, and engineer pipelines\n",
    "fill_zero_cols = x_pipe.get_step('fill_zero_cols')\n",
    "fill_na_none = x_pipe.get_step('fill_na_none')\n",
    "get_dummies = engineer_pipe.get_step('get_dummies')\n",
    "print(engineer_pipe.steps)"
   ]
  },
  {
   "cell_type": "code",
   "execution_count": 10,
   "metadata": {},
   "outputs": [
    {
     "data": {
      "text/plain": [
       "<cortex.pipeline.Pipeline at 0x7fe2428d5250>"
      ]
     },
     "execution_count": 10,
     "metadata": {},
     "output_type": "execute_result"
    }
   ],
   "source": [
    "# Build our final input pipeline\n",
    "x_pipe.reset()\n",
    "x_pipe.add_step(fill_zero_cols)\n",
    "x_pipe.add_step(fill_median_cols_ctx)\n",
    "x_pipe.add_step(fill_na_none)\n",
    "x_pipe.add_step(get_dummies)\n",
    "x_pipe.add_step(fix_columns)"
   ]
  },
  {
   "cell_type": "markdown",
   "metadata": {},
   "source": [
    "### Model deployment - Step 2: Configure Data Pipeline for Output\n",
    "If you remember, we scaled our target variable using the numpy _log1p_ function.  We need to inverse this using the _exp_ function so our predicted value is correct."
   ]
  },
  {
   "cell_type": "code",
   "execution_count": 11,
   "metadata": {},
   "outputs": [],
   "source": [
    "y_pipe = builder.pipeline('y_pipe')"
   ]
  },
  {
   "cell_type": "code",
   "execution_count": 12,
   "metadata": {},
   "outputs": [],
   "source": [
    "def rescale_target(pipeline, df):\n",
    "    df['SalePrice'] = np.exp(df['SalePrice'])"
   ]
  },
  {
   "cell_type": "code",
   "execution_count": 13,
   "metadata": {},
   "outputs": [
    {
     "data": {
      "text/plain": [
       "<cortex.pipeline.Pipeline at 0x7fe242a0cf50>"
      ]
     },
     "execution_count": 13,
     "metadata": {},
     "output_type": "execute_result"
    }
   ],
   "source": [
    "y_pipe.add_step(rescale_target)"
   ]
  },
  {
   "cell_type": "markdown",
   "metadata": {},
   "source": [
    "### Model deployment - Step 3: Build and Deploy Cortex Action\n",
    "##### when using Python 3.6 - Use Base Image 'c12e/cortex-python36:29c5a9c' when building actions.\n",
    "##### when using Python 3.7 - Use Base Image 'c12e/cortex-python37:29c5a9c' when building actions.\n",
    "\n",
    "Now that we have our input and output pipelines, we can use the Cortex Builder to package and deploy our model in one step.\n"
   ]
  },
  {
   "cell_type": "code",
   "execution_count": 14,
   "metadata": {},
   "outputs": [
    {
     "name": "stdout",
     "output_type": "stream",
     "text": [
      "Building Cortex Action (function): kaggle/ames-housing-predict\n",
      "model version not found, pushing to remote storage: /cortex/models/kaggle/ames-housing-predict/69cd1ea465f4916d2d94d9d49163d505.pk\n",
      "Building Docker image private-registry.dev01.accelerators-dci.insights.ai/accelerators-dev/kaggle_ames-housing-predict:7e2x7n5...\n",
      "Step 1/6 : FROM python:3.6-slim-stretch\n",
      "Step 2/6 : WORKDIR /function\n",
      "Removing intermediate container a5b5627f4dea\n",
      "Step 3/6 : COPY requirements.txt .\n",
      "Step 4/6 : RUN     apt-get update &&     apt-get install --no-install-recommends -y linux-headers-$(`uname -r`) build-essential apt-transport-https &&     echo 'deb https://deb.debian.org/debian stretch main\\ndeb https://deb.debian.org/debian stretch-updates main' > /etc/apt/sources.list &&     pip install --no-cache-dir \"cortex-python==1.1.0\" \"fdk==0.0.31\" &&     pip install --no-cache-dir -r requirements.txt &&     apt-get purge -y --auto-remove build-essential &&     rm -rf /var/lib/apt/lists/*\n",
      "Get:1 http://security.debian.org/debian-security stretch/updates InRelease [53.0 kB]\n",
      "Ign:2 http://deb.debian.org/debian stretch InRelease\n",
      "Get:3 http://deb.debian.org/debian stretch-updates InRelease [93.6 kB]\n",
      "Get:4 http://deb.debian.org/debian stretch Release [118 kB]\n",
      "Get:5 http://security.debian.org/debian-security stretch/updates/main amd64 Packages [558 kB]\n",
      "Get:6 http://deb.debian.org/debian stretch Release.gpg [2410 B]\n",
      "Get:7 http://deb.debian.org/debian stretch-updates/main amd64 Packages [2596 B]\n",
      "Get:8 http://deb.debian.org/debian stretch/main amd64 Packages [7080 kB]\n",
      "Fetched 7907 kB in 4s (1877 kB/s)\n",
      "Reading package lists...\n",
      "\u001b[91m/bin/sh: 1: 4.19.76-linuxkit: not found\n",
      "\u001b[0m\n",
      "Reading package lists...\n",
      "Building dependency tree...\n",
      "Reading state information...\n",
      "Package 'linux-headers' is not installed, so not removed\n",
      "The following additional packages will be installed:\n",
      "binutils bzip2 cpp cpp-6 dpkg-dev g++ g++-6 gcc gcc-6 libasan3 libatomic1\n",
      "  libc-dev-bin libc6-dev libcc1-0 libcilkrts5 libcurl3-gnutls libdpkg-perl\n",
      "libgcc-6-dev libgmp10 libgnutls30 libgomp1 libgssapi-krb5-2 libhogweed4\n",
      "  libidn11 libidn2-0 libisl15 libitm1 libk5crypto3 libkeyutils1 libkrb5-3\n",
      "libkrb5support0 libldap-2.4-2 libldap-common liblsan0 libmpc3 libmpfr4\n",
      "  libmpx2 libnettle6 libnghttp2-14 libp11-kit0 libperl5.24 libpsl5\n",
      "  libquadmath0 librtmp1 libsasl2-2 libsasl2-modules-db libssh2-1\n",
      "libstdc++-6-dev libtasn1-6 libtsan0 libubsan0 libunistring0 linux-libc-dev\n",
      "make patch perl perl-modules-5.24 xz-utils\n",
      "Suggested packages:\n",
      "  binutils-doc bzip2-doc cpp-doc gcc-6-locales debian-keyring g++-multilib\n",
      "  g++-6-multilib gcc-6-doc libstdc++6-6-dbg gcc-multilib manpages-dev autoconf\n",
      "  automake libtool flex bison gdb gcc-doc gcc-6-multilib libgcc1-dbg\n",
      "  libgomp1-dbg libitm1-dbg libatomic1-dbg libasan3-dbg liblsan0-dbg\n",
      "  libtsan0-dbg libubsan0-dbg libcilkrts5-dbg libmpx2-dbg libquadmath0-dbg\n",
      "  glibc-doc gnupg | gnupg2 gnutls-bin krb5-doc krb5-user libstdc++-6-doc\n",
      "  make-doc ed diffutils-doc perl-doc libterm-readline-gnu-perl\n",
      "  | libterm-readline-perl-perl\n",
      "Recommended packages:\n",
      "  fakeroot gnupg | gnupg2 libalgorithm-merge-perl manpages manpages-dev\n",
      "  libfile-fcntllock-perl liblocale-gettext-perl krb5-locales publicsuffix\n",
      "  libsasl2-modules rename\n",
      "The following NEW packages will be installed:\n",
      "  apt-transport-https binutils build-essential bzip2 cpp cpp-6 dpkg-dev g++\n",
      "g++-6 gcc gcc-6 libasan3 libatomic1 libc-dev-bin libc6-dev libcc1-0\n",
      "  libcilkrts5 libcurl3-gnutls libdpkg-perl libgcc-6-dev libgmp10 libgnutls30\n",
      "libgomp1 libgssapi-krb5-2 libhogweed4 libidn11 libidn2-0 libisl15 libitm1\n",
      "libk5crypto3 libkeyutils1 libkrb5-3 libkrb5support0 libldap-2.4-2\n",
      "libldap-common liblsan0 libmpc3 libmpfr4 libmpx2 libnettle6 libnghttp2-14\n",
      "  libp11-kit0 libperl5.24 libpsl5 libquadmath0 librtmp1 libsasl2-2\n",
      "  libsasl2-modules-db libssh2-1 libstdc++-6-dev libtasn1-6 libtsan0 libubsan0\n",
      "libunistring0 linux-libc-dev make patch perl perl-modules-5.24 xz-utils\n",
      "0 upgraded, 60 newly installed, 0 to remove and 1 not upgraded.\n",
      "Need to get 48.6 MB of archives.\n",
      "After this operation, 211 MB of additional disk space will be used.\n",
      "Get:1 http://deb.debian.org/debian stretch/main amd64 perl-modules-5.24 all 5.24.1-3+deb9u7 [2723 kB]\n",
      "Get:2 http://security.debian.org/debian-security stretch/updates/main amd64 libcurl3-gnutls amd64 7.52.1-5+deb9u11 [290 kB]\n",
      "Get:3 http://deb.debian.org/debian stretch/main amd64 libperl5.24 amd64 5.24.1-3+deb9u7 [3527 kB]\n",
      "Get:4 http://deb.debian.org/debian stretch/main amd64 perl amd64 5.24.1-3+deb9u7 [218 kB]\n",
      "Get:5 http://deb.debian.org/debian stretch/main amd64 bzip2 amd64 1.0.6-8.1 [47.5 kB]\n",
      "Get:6 http://deb.debian.org/debian stretch/main amd64 libgmp10 amd64 2:6.1.2+dfsg-1 [253 kB]\n",
      "Get:7 http://deb.debian.org/debian stretch/main amd64 libnettle6 amd64 3.3-1+b2 [192 kB]\n",
      "Get:8 http://deb.debian.org/debian stretch/main amd64 libhogweed4 amd64 3.3-1+b2 [136 kB]\n",
      "Get:9 http://deb.debian.org/debian stretch/main amd64 libidn11 amd64 1.33-1+deb9u1 [115 kB]\n",
      "Get:10 http://deb.debian.org/debian stretch/main amd64 libp11-kit0 amd64 0.23.3-2 [111 kB]\n",
      "Get:11 http://deb.debian.org/debian stretch/main amd64 libtasn1-6 amd64 4.10-1.1+deb9u1 [50.6 kB]\n",
      "Get:12 http://deb.debian.org/debian stretch/main amd64 libgnutls30 amd64 3.5.8-5+deb9u5 [896 kB]\n",
      "Get:13 http://deb.debian.org/debian stretch/main amd64 libkeyutils1 amd64 1.5.9-9 [12.4 kB]\n",
      "Get:14 http://deb.debian.org/debian stretch/main amd64 libkrb5support0 amd64 1.15-1+deb9u1 [61.9 kB]\n",
      "Get:15 http://deb.debian.org/debian stretch/main amd64 libk5crypto3 amd64 1.15-1+deb9u1 [119 kB]\n",
      "Get:16 http://deb.debian.org/debian stretch/main amd64 libkrb5-3 amd64 1.15-1+deb9u1 [311 kB]\n",
      "Get:17 http://deb.debian.org/debian stretch/main amd64 libgssapi-krb5-2 amd64 1.15-1+deb9u1 [155 kB]\n",
      "Get:18 http://deb.debian.org/debian stretch/main amd64 libsasl2-modules-db amd64 2.1.27~101-g0780600+dfsg-3+deb9u1 [68.4 kB]\n",
      "Get:19 http://deb.debian.org/debian stretch/main amd64 libsasl2-2 amd64 2.1.27~101-g0780600+dfsg-3+deb9u1 [105 kB]\n",
      "Get:20 http://deb.debian.org/debian stretch/main amd64 libldap-common all 2.4.44+dfsg-5+deb9u4 [85.7 kB]\n",
      "Get:21 http://deb.debian.org/debian stretch/main amd64 libldap-2.4-2 amd64 2.4.44+dfsg-5+deb9u4 [219 kB]\n",
      "Get:22 http://deb.debian.org/debian stretch/main amd64 xz-utils amd64 5.2.2-1.2+b1 [266 kB]\n",
      "Get:23 http://deb.debian.org/debian stretch/main amd64 libunistring0 amd64 0.9.6+really0.9.3-0.1 [279 kB]\n",
      "Get:24 http://deb.debian.org/debian stretch/main amd64 libidn2-0 amd64 0.16-1+deb9u1 [60.7 kB]\n",
      "Get:25 http://deb.debian.org/debian stretch/main amd64 libnghttp2-14 amd64 1.18.1-1+deb9u1 [79.2 kB]\n",
      "Get:26 http://deb.debian.org/debian stretch/main amd64 libpsl5 amd64 0.17.0-3 [41.8 kB]\n",
      "Get:27 http://deb.debian.org/debian stretch/main amd64 librtmp1 amd64 2.4+20151223.gitfa8646d.1-1+b1 [60.4 kB]\n",
      "Get:28 http://deb.debian.org/debian stretch/main amd64 libssh2-1 amd64 1.7.0-1+deb9u1 [139 kB]\n",
      "Get:29 http://deb.debian.org/debian stretch/main amd64 apt-transport-https amd64 1.4.10 [171 kB]\n",
      "Get:30 http://deb.debian.org/debian stretch/main amd64 binutils amd64 2.28-5 [3770 kB]\n",
      "Get:31 http://deb.debian.org/debian stretch/main amd64 libc-dev-bin amd64 2.24-11+deb9u4 [259 kB]\n",
      "Get:32 http://deb.debian.org/debian stretch/main amd64 linux-libc-dev amd64 4.9.228-1 [1511 kB]\n",
      "Get:33 http://deb.debian.org/debian stretch/main amd64 libc6-dev amd64 2.24-11+deb9u4 [2364 kB]\n",
      "Get:34 http://deb.debian.org/debian stretch/main amd64 libisl15 amd64 0.18-1 [564 kB]\n",
      "Get:35 http://deb.debian.org/debian stretch/main amd64 libmpfr4 amd64 3.1.5-1 [556 kB]\n",
      "Get:36 http://deb.debian.org/debian stretch/main amd64 libmpc3 amd64 1.0.3-1+b2 [39.9 kB]\n",
      "Get:37 http://deb.debian.org/debian stretch/main amd64 cpp-6 amd64 6.3.0-18+deb9u1 [6584 kB]\n",
      "Get:38 http://deb.debian.org/debian stretch/main amd64 cpp amd64 4:6.3.0-4 [18.7 kB]\n",
      "Get:39 http://deb.debian.org/debian stretch/main amd64 libcc1-0 amd64 6.3.0-18+deb9u1 [30.6 kB]\n",
      "Get:40 http://deb.debian.org/debian stretch/main amd64 libgomp1 amd64 6.3.0-18+deb9u1 [73.3 kB]\n",
      "Get:41 http://deb.debian.org/debian stretch/main amd64 libitm1 amd64 6.3.0-18+deb9u1 [27.3 kB]\n",
      "Get:42 http://deb.debian.org/debian stretch/main amd64 libatomic1 amd64 6.3.0-18+deb9u1 [8966 B]\n",
      "Get:43 http://deb.debian.org/debian stretch/main amd64 libasan3 amd64 6.3.0-18+deb9u1 [311 kB]\n",
      "Get:44 http://deb.debian.org/debian stretch/main amd64 liblsan0 amd64 6.3.0-18+deb9u1 [115 kB]\n",
      "Get:45 http://deb.debian.org/debian stretch/main amd64 libtsan0 amd64 6.3.0-18+deb9u1 [257 kB]\n",
      "Get:46 http://deb.debian.org/debian stretch/main amd64 libubsan0 amd64 6.3.0-18+deb9u1 [107 kB]\n",
      "Get:47 http://deb.debian.org/debian stretch/main amd64 libcilkrts5 amd64 6.3.0-18+deb9u1 [40.5 kB]\n",
      "Get:48 http://deb.debian.org/debian stretch/main amd64 libmpx2 amd64 6.3.0-18+deb9u1 [11.2 kB]\n",
      "Get:49 http://deb.debian.org/debian stretch/main amd64 libquadmath0 amd64 6.3.0-18+deb9u1 [131 kB]\n",
      "Get:50 http://deb.debian.org/debian stretch/main amd64 libgcc-6-dev amd64 6.3.0-18+deb9u1 [2296 kB]\n"
     ]
    },
    {
     "name": "stdout",
     "output_type": "stream",
     "text": [
      "Get:51 http://deb.debian.org/debian stretch/main amd64 gcc-6 amd64 6.3.0-18+deb9u1 [6900 kB]\n",
      "Get:52 http://deb.debian.org/debian stretch/main amd64 gcc amd64 4:6.3.0-4 [5196 B]\n",
      "Get:53 http://deb.debian.org/debian stretch/main amd64 libstdc++-6-dev amd64 6.3.0-18+deb9u1 [1420 kB]\n",
      "Get:54 http://deb.debian.org/debian stretch/main amd64 g++-6 amd64 6.3.0-18+deb9u1 [7094 kB]\n",
      "Get:55 http://deb.debian.org/debian stretch/main amd64 g++ amd64 4:6.3.0-4 [1546 B]\n",
      "Get:56 http://deb.debian.org/debian stretch/main amd64 make amd64 4.1-9.1 [302 kB]\n",
      "Get:57 http://deb.debian.org/debian stretch/main amd64 libdpkg-perl all 1.18.25 [1287 kB]\n",
      "Get:58 http://deb.debian.org/debian stretch/main amd64 patch amd64 2.7.5-1+deb9u2 [112 kB]\n",
      "Get:59 http://deb.debian.org/debian stretch/main amd64 dpkg-dev all 1.18.25 [1595 kB]\n",
      "Get:60 http://deb.debian.org/debian stretch/main amd64 build-essential amd64 12.3 [7346 B]\n",
      "\u001b[91mdebconf: delaying package configuration, since apt-utils is not installed\n",
      "\u001b[0m\n",
      "Fetched 48.6 MB in 7s (6830 kB/s)\n",
      "Selecting previously unselected package perl-modules-5.24.\n",
      "(Reading database ...\n",
      "(Reading database ... 80%\n",
      "(Reading database ... 85%\n",
      "(Reading database ... 90%\n",
      "(Reading database ... 95%\n",
      "(Reading database ... 6687 files and directories currently installed.)\n",
      "Preparing to unpack .../00-perl-modules-5.24_5.24.1-3+deb9u7_all.deb ...\n",
      "Unpacking perl-modules-5.24 (5.24.1-3+deb9u7) ...\n",
      "Selecting previously unselected package libperl5.24:amd64.\n",
      "Preparing to unpack .../01-libperl5.24_5.24.1-3+deb9u7_amd64.deb ...\n",
      "Unpacking libperl5.24:amd64 (5.24.1-3+deb9u7) ...\n",
      "Selecting previously unselected package perl.\n",
      "Preparing to unpack .../02-perl_5.24.1-3+deb9u7_amd64.deb ...\n",
      "Unpacking perl (5.24.1-3+deb9u7) ...\n",
      "Selecting previously unselected package bzip2.\n",
      "Preparing to unpack .../03-bzip2_1.0.6-8.1_amd64.deb ...\n",
      "Unpacking bzip2 (1.0.6-8.1) ...\n",
      "Selecting previously unselected package libgmp10:amd64.\n",
      "Preparing to unpack .../04-libgmp10_2%3a6.1.2+dfsg-1_amd64.deb ...\n",
      "Unpacking libgmp10:amd64 (2:6.1.2+dfsg-1) ...\n",
      "Selecting previously unselected package libnettle6:amd64.\n",
      "Preparing to unpack .../05-libnettle6_3.3-1+b2_amd64.deb ...\n",
      "Unpacking libnettle6:amd64 (3.3-1+b2) ...\n",
      "Selecting previously unselected package libhogweed4:amd64.\n",
      "Preparing to unpack .../06-libhogweed4_3.3-1+b2_amd64.deb ...\n",
      "Unpacking libhogweed4:amd64 (3.3-1+b2) ...\n",
      "Selecting previously unselected package libidn11:amd64.\n",
      "Preparing to unpack .../07-libidn11_1.33-1+deb9u1_amd64.deb ...\n",
      "Unpacking libidn11:amd64 (1.33-1+deb9u1) ...\n",
      "Selecting previously unselected package libp11-kit0:amd64.\n",
      "Preparing to unpack .../08-libp11-kit0_0.23.3-2_amd64.deb ...\n",
      "Unpacking libp11-kit0:amd64 (0.23.3-2) ...\n",
      "Selecting previously unselected package libtasn1-6:amd64.\n",
      "Preparing to unpack .../09-libtasn1-6_4.10-1.1+deb9u1_amd64.deb ...\n",
      "Unpacking libtasn1-6:amd64 (4.10-1.1+deb9u1) ...\n",
      "Selecting previously unselected package libgnutls30:amd64.\n",
      "Preparing to unpack .../10-libgnutls30_3.5.8-5+deb9u5_amd64.deb ...\n",
      "Unpacking libgnutls30:amd64 (3.5.8-5+deb9u5) ...\n",
      "Selecting previously unselected package libkeyutils1:amd64.\n",
      "Preparing to unpack .../11-libkeyutils1_1.5.9-9_amd64.deb ...\n",
      "Unpacking libkeyutils1:amd64 (1.5.9-9) ...\n",
      "Selecting previously unselected package libkrb5support0:amd64.\n",
      "Preparing to unpack .../12-libkrb5support0_1.15-1+deb9u1_amd64.deb ...\n",
      "Unpacking libkrb5support0:amd64 (1.15-1+deb9u1) ...\n",
      "Selecting previously unselected package libk5crypto3:amd64.\n",
      "Preparing to unpack .../13-libk5crypto3_1.15-1+deb9u1_amd64.deb ...\n",
      "Unpacking libk5crypto3:amd64 (1.15-1+deb9u1) ...\n",
      "Selecting previously unselected package libkrb5-3:amd64.\n",
      "Preparing to unpack .../14-libkrb5-3_1.15-1+deb9u1_amd64.deb ...\n",
      "Unpacking libkrb5-3:amd64 (1.15-1+deb9u1) ...\n",
      "Selecting previously unselected package libgssapi-krb5-2:amd64.\n",
      "Preparing to unpack .../15-libgssapi-krb5-2_1.15-1+deb9u1_amd64.deb ...\n",
      "Unpacking libgssapi-krb5-2:amd64 (1.15-1+deb9u1) ...\n",
      "Selecting previously unselected package libsasl2-modules-db:amd64.\n",
      "Preparing to unpack .../16-libsasl2-modules-db_2.1.27~101-g0780600+dfsg-3+deb9u1_amd64.deb ...\n",
      "Unpacking libsasl2-modules-db:amd64 (2.1.27~101-g0780600+dfsg-3+deb9u1) ...\n",
      "Selecting previously unselected package libsasl2-2:amd64.\n",
      "Preparing to unpack .../17-libsasl2-2_2.1.27~101-g0780600+dfsg-3+deb9u1_amd64.deb ...\n",
      "Unpacking libsasl2-2:amd64 (2.1.27~101-g0780600+dfsg-3+deb9u1) ...\n",
      "Selecting previously unselected package libldap-common.\n",
      "Preparing to unpack .../18-libldap-common_2.4.44+dfsg-5+deb9u4_all.deb ...\n",
      "Unpacking libldap-common (2.4.44+dfsg-5+deb9u4) ...\n",
      "Selecting previously unselected package libldap-2.4-2:amd64.\n",
      "Preparing to unpack .../19-libldap-2.4-2_2.4.44+dfsg-5+deb9u4_amd64.deb ...\n",
      "Unpacking libldap-2.4-2:amd64 (2.4.44+dfsg-5+deb9u4) ...\n",
      "Selecting previously unselected package xz-utils.\n",
      "Preparing to unpack .../20-xz-utils_5.2.2-1.2+b1_amd64.deb ...\n",
      "Unpacking xz-utils (5.2.2-1.2+b1) ...\n",
      "Selecting previously unselected package libunistring0:amd64.\n",
      "Preparing to unpack .../21-libunistring0_0.9.6+really0.9.3-0.1_amd64.deb ...\n",
      "Unpacking libunistring0:amd64 (0.9.6+really0.9.3-0.1) ...\n",
      "Selecting previously unselected package libidn2-0:amd64.\n",
      "Preparing to unpack .../22-libidn2-0_0.16-1+deb9u1_amd64.deb ...\n",
      "Unpacking libidn2-0:amd64 (0.16-1+deb9u1) ...\n",
      "Selecting previously unselected package libnghttp2-14:amd64.\n",
      "Preparing to unpack .../23-libnghttp2-14_1.18.1-1+deb9u1_amd64.deb ...\n",
      "Unpacking libnghttp2-14:amd64 (1.18.1-1+deb9u1) ...\n",
      "Selecting previously unselected package libpsl5:amd64.\n",
      "Preparing to unpack .../24-libpsl5_0.17.0-3_amd64.deb ...\n",
      "Unpacking libpsl5:amd64 (0.17.0-3) ...\n",
      "Selecting previously unselected package librtmp1:amd64.\n",
      "Preparing to unpack .../25-librtmp1_2.4+20151223.gitfa8646d.1-1+b1_amd64.deb ...\n",
      "Unpacking librtmp1:amd64 (2.4+20151223.gitfa8646d.1-1+b1) ...\n",
      "Selecting previously unselected package libssh2-1:amd64.\n",
      "Preparing to unpack .../26-libssh2-1_1.7.0-1+deb9u1_amd64.deb ...\n",
      "Unpacking libssh2-1:amd64 (1.7.0-1+deb9u1) ...\n",
      "Selecting previously unselected package libcurl3-gnutls:amd64.\n",
      "Preparing to unpack .../27-libcurl3-gnutls_7.52.1-5+deb9u11_amd64.deb ...\n",
      "Unpacking libcurl3-gnutls:amd64 (7.52.1-5+deb9u11) ...\n",
      "Selecting previously unselected package apt-transport-https.\n",
      "Preparing to unpack .../28-apt-transport-https_1.4.10_amd64.deb ...\n",
      "Unpacking apt-transport-https (1.4.10) ...\n",
      "Selecting previously unselected package binutils.\n",
      "Preparing to unpack .../29-binutils_2.28-5_amd64.deb ...\n",
      "Unpacking binutils (2.28-5) ...\n",
      "Selecting previously unselected package libc-dev-bin.\n",
      "Preparing to unpack .../30-libc-dev-bin_2.24-11+deb9u4_amd64.deb ...\n",
      "Unpacking libc-dev-bin (2.24-11+deb9u4) ...\n",
      "Selecting previously unselected package linux-libc-dev:amd64.\n",
      "Preparing to unpack .../31-linux-libc-dev_4.9.228-1_amd64.deb ...\n",
      "Unpacking linux-libc-dev:amd64 (4.9.228-1) ...\n",
      "Selecting previously unselected package libc6-dev:amd64.\n",
      "Preparing to unpack .../32-libc6-dev_2.24-11+deb9u4_amd64.deb ...\n",
      "Unpacking libc6-dev:amd64 (2.24-11+deb9u4) ...\n",
      "Selecting previously unselected package libisl15:amd64.\n",
      "Preparing to unpack .../33-libisl15_0.18-1_amd64.deb ...\n",
      "Unpacking libisl15:amd64 (0.18-1) ...\n",
      "Selecting previously unselected package libmpfr4:amd64.\n",
      "Preparing to unpack .../34-libmpfr4_3.1.5-1_amd64.deb ...\n",
      "Unpacking libmpfr4:amd64 (3.1.5-1) ...\n",
      "Selecting previously unselected package libmpc3:amd64.\n",
      "Preparing to unpack .../35-libmpc3_1.0.3-1+b2_amd64.deb ...\n",
      "Unpacking libmpc3:amd64 (1.0.3-1+b2) ...\n",
      "Selecting previously unselected package cpp-6.\n",
      "Preparing to unpack .../36-cpp-6_6.3.0-18+deb9u1_amd64.deb ...\n",
      "Unpacking cpp-6 (6.3.0-18+deb9u1) ...\n",
      "Selecting previously unselected package cpp.\n",
      "Preparing to unpack .../37-cpp_4%3a6.3.0-4_amd64.deb ...\n",
      "Unpacking cpp (4:6.3.0-4) ...\n",
      "Selecting previously unselected package libcc1-0:amd64.\n",
      "Preparing to unpack .../38-libcc1-0_6.3.0-18+deb9u1_amd64.deb ...\n",
      "Unpacking libcc1-0:amd64 (6.3.0-18+deb9u1) ...\n",
      "Selecting previously unselected package libgomp1:amd64.\n",
      "Preparing to unpack .../39-libgomp1_6.3.0-18+deb9u1_amd64.deb ...\n",
      "Unpacking libgomp1:amd64 (6.3.0-18+deb9u1) ...\n",
      "Selecting previously unselected package libitm1:amd64.\n",
      "Preparing to unpack .../40-libitm1_6.3.0-18+deb9u1_amd64.deb ...\n",
      "Unpacking libitm1:amd64 (6.3.0-18+deb9u1) ...\n",
      "Selecting previously unselected package libatomic1:amd64.\n",
      "Preparing to unpack .../41-libatomic1_6.3.0-18+deb9u1_amd64.deb ...\n",
      "Unpacking libatomic1:amd64 (6.3.0-18+deb9u1) ...\n",
      "Selecting previously unselected package libasan3:amd64.\n",
      "Preparing to unpack .../42-libasan3_6.3.0-18+deb9u1_amd64.deb ...\n",
      "Unpacking libasan3:amd64 (6.3.0-18+deb9u1) ...\n"
     ]
    },
    {
     "name": "stdout",
     "output_type": "stream",
     "text": [
      "Selecting previously unselected package liblsan0:amd64.\n",
      "Preparing to unpack .../43-liblsan0_6.3.0-18+deb9u1_amd64.deb ...\n",
      "Unpacking liblsan0:amd64 (6.3.0-18+deb9u1) ...\n",
      "Selecting previously unselected package libtsan0:amd64.\n",
      "Preparing to unpack .../44-libtsan0_6.3.0-18+deb9u1_amd64.deb ...\n",
      "Unpacking libtsan0:amd64 (6.3.0-18+deb9u1) ...\n",
      "Selecting previously unselected package libubsan0:amd64.\n",
      "Preparing to unpack .../45-libubsan0_6.3.0-18+deb9u1_amd64.deb ...\n",
      "Unpacking libubsan0:amd64 (6.3.0-18+deb9u1) ...\n",
      "Selecting previously unselected package libcilkrts5:amd64.\n",
      "Preparing to unpack .../46-libcilkrts5_6.3.0-18+deb9u1_amd64.deb ...\n",
      "Unpacking libcilkrts5:amd64 (6.3.0-18+deb9u1) ...\n",
      "Selecting previously unselected package libmpx2:amd64.\n",
      "Preparing to unpack .../47-libmpx2_6.3.0-18+deb9u1_amd64.deb ...\n",
      "Unpacking libmpx2:amd64 (6.3.0-18+deb9u1) ...\n",
      "Selecting previously unselected package libquadmath0:amd64.\n",
      "Preparing to unpack .../48-libquadmath0_6.3.0-18+deb9u1_amd64.deb ...\n",
      "Unpacking libquadmath0:amd64 (6.3.0-18+deb9u1) ...\n",
      "Selecting previously unselected package libgcc-6-dev:amd64.\n",
      "Preparing to unpack .../49-libgcc-6-dev_6.3.0-18+deb9u1_amd64.deb ...\n",
      "Unpacking libgcc-6-dev:amd64 (6.3.0-18+deb9u1) ...\n",
      "Selecting previously unselected package gcc-6.\n",
      "Preparing to unpack .../50-gcc-6_6.3.0-18+deb9u1_amd64.deb ...\n",
      "Unpacking gcc-6 (6.3.0-18+deb9u1) ...\n",
      "Selecting previously unselected package gcc.\n",
      "Preparing to unpack .../51-gcc_4%3a6.3.0-4_amd64.deb ...\n",
      "Unpacking gcc (4:6.3.0-4) ...\n",
      "Selecting previously unselected package libstdc++-6-dev:amd64.\n",
      "Preparing to unpack .../52-libstdc++-6-dev_6.3.0-18+deb9u1_amd64.deb ...\n",
      "Unpacking libstdc++-6-dev:amd64 (6.3.0-18+deb9u1) ...\n",
      "Selecting previously unselected package g++-6.\n",
      "Preparing to unpack .../53-g++-6_6.3.0-18+deb9u1_amd64.deb ...\n",
      "Unpacking g++-6 (6.3.0-18+deb9u1) ...\n",
      "Selecting previously unselected package g++.\n",
      "Preparing to unpack .../54-g++_4%3a6.3.0-4_amd64.deb ...\n",
      "Unpacking g++ (4:6.3.0-4) ...\n",
      "Selecting previously unselected package make.\n",
      "Preparing to unpack .../55-make_4.1-9.1_amd64.deb ...\n",
      "Unpacking make (4.1-9.1) ...\n",
      "Selecting previously unselected package libdpkg-perl.\n",
      "Preparing to unpack .../56-libdpkg-perl_1.18.25_all.deb ...\n",
      "Unpacking libdpkg-perl (1.18.25) ...\n",
      "Selecting previously unselected package patch.\n",
      "Preparing to unpack .../57-patch_2.7.5-1+deb9u2_amd64.deb ...\n",
      "Unpacking patch (2.7.5-1+deb9u2) ...\n",
      "Selecting previously unselected package dpkg-dev.\n",
      "Preparing to unpack .../58-dpkg-dev_1.18.25_all.deb ...\n",
      "Unpacking dpkg-dev (1.18.25) ...\n",
      "Selecting previously unselected package build-essential.\n",
      "Preparing to unpack .../59-build-essential_12.3_amd64.deb ...\n",
      "Unpacking build-essential (12.3) ...\n",
      "Setting up libquadmath0:amd64 (6.3.0-18+deb9u1) ...\n",
      "Setting up libgomp1:amd64 (6.3.0-18+deb9u1) ...\n",
      "Setting up libatomic1:amd64 (6.3.0-18+deb9u1) ...\n",
      "Setting up perl-modules-5.24 (5.24.1-3+deb9u7) ...\n",
      "Setting up libperl5.24:amd64 (5.24.1-3+deb9u7) ...\n",
      "Setting up libnettle6:amd64 (3.3-1+b2) ...\n",
      "Setting up libcc1-0:amd64 (6.3.0-18+deb9u1) ...\n",
      "Setting up make (4.1-9.1) ...\n",
      "Setting up libasan3:amd64 (6.3.0-18+deb9u1) ...\n",
      "Setting up libnghttp2-14:amd64 (1.18.1-1+deb9u1) ...\n",
      "Setting up libldap-common (2.4.44+dfsg-5+deb9u4) ...\n",
      "Setting up libcilkrts5:amd64 (6.3.0-18+deb9u1) ...\n",
      "Setting up libubsan0:amd64 (6.3.0-18+deb9u1) ...\n",
      "Setting up libtsan0:amd64 (6.3.0-18+deb9u1) ...\n",
      "Setting up libsasl2-modules-db:amd64 (2.1.27~101-g0780600+dfsg-3+deb9u1) ...\n",
      "Setting up linux-libc-dev:amd64 (4.9.228-1) ...\n",
      "Setting up libsasl2-2:amd64 (2.1.27~101-g0780600+dfsg-3+deb9u1) ...\n",
      "Setting up libtasn1-6:amd64 (4.10-1.1+deb9u1) ...\n",
      "Setting up bzip2 (1.0.6-8.1) ...\n",
      "Setting up liblsan0:amd64 (6.3.0-18+deb9u1) ...\n",
      "Setting up perl (5.24.1-3+deb9u7) ...\n",
      "update-alternatives: using /usr/bin/prename to provide /usr/bin/rename (rename) in auto mode\n",
      "update-alternatives: warning: skip creation of /usr/share/man/man1/rename.1.gz because associated file /usr/share/man/man1/prename.1.gz (of link group rename) doesn't exist\n",
      "Setting up libmpx2:amd64 (6.3.0-18+deb9u1) ...\n",
      "Setting up libgmp10:amd64 (2:6.1.2+dfsg-1) ...\n",
      "Setting up libssh2-1:amd64 (1.7.0-1+deb9u1) ...\n",
      "Setting up patch (2.7.5-1+deb9u2) ...\n",
      "Processing triggers for libc-bin (2.24-11+deb9u4) ...\n",
      "Setting up libunistring0:amd64 (0.9.6+really0.9.3-0.1) ...\n",
      "Setting up xz-utils (5.2.2-1.2+b1) ...\n",
      "update-alternatives: using /usr/bin/xz to provide /usr/bin/lzma (lzma) in auto mode\n",
      "update-alternatives: warning: skip creation of /usr/share/man/man1/lzma.1.gz because associated file /usr/share/man/man1/xz.1.gz (of link group lzma) doesn't exist\n",
      "update-alternatives: warning: skip creation of /usr/share/man/man1/unlzma.1.gz because associated file /usr/share/man/man1/unxz.1.gz (of link group lzma) doesn't exist\n",
      "update-alternatives: warning: skip creation of /usr/share/man/man1/lzcat.1.gz because associated file /usr/share/man/man1/xzcat.1.gz (of link group lzma) doesn't exist\n",
      "update-alternatives: warning: skip creation of /usr/share/man/man1/lzmore.1.gz because associated file /usr/share/man/man1/xzmore.1.gz (of link group lzma) doesn't exist\n",
      "update-alternatives: warning:\n",
      "skip creation of /usr/share/man/man1/lzless.1.gz because associated file /usr/share/man/man1/xzless.1.gz (of link group lzma) doesn't exist\n",
      "update-alternatives: warning: skip creation of /usr/share/man/man1/lzdiff.1.gz because associated file /usr/share/man/man1/xzdiff.1.gz (of link group lzma) doesn't exist\n",
      "update-alternatives: warning: skip creation of /usr/share/man/man1/lzcmp.1.gz because associated file /usr/share/man/man1/xzcmp.1.gz (of link group lzma) doesn't exist\n",
      "update-alternatives: warning: skip creation of /usr/share/man/man1/lzgrep.1.gz because associated file /usr/share/man/man1/xzgrep.1.gz (of link group lzma) doesn't exist\n",
      "update-alternatives: warning: skip creation of /usr/share/man/man1/lzegrep.1.gz because associated file /usr/share/man/man1/xzegrep.1.gz (of link group lzma) doesn't exist\n",
      "update-alternatives: warning: skip creation of /usr/share/man/man1/lzfgrep.1.gz because associated file /usr/share/man/man1/xzfgrep.1.gz (of link group lzma) doesn't exist\n",
      "Setting up libp11-kit0:amd64 (0.23.3-2) ...\n",
      "Setting up libmpfr4:amd64 (3.1.5-1) ...\n",
      "Setting up libmpc3:amd64 (1.0.3-1+b2) ...\n",
      "Setting up binutils (2.28-5) ...\n",
      "Setting up libc-dev-bin (2.24-11+deb9u4) ...\n",
      "Setting up libkeyutils1:amd64 (1.5.9-9) ...\n",
      "Setting up libc6-dev:amd64 (2.24-11+deb9u4) ...\n",
      "Setting up libitm1:amd64 (6.3.0-18+deb9u1) ...\n",
      "Setting up libidn11:amd64 (1.33-1+deb9u1) ...\n",
      "Setting up libidn2-0:amd64 (0.16-1+deb9u1) ...\n",
      "Setting up libgcc-6-dev:amd64 (6.3.0-18+deb9u1) ...\n",
      "Setting up libstdc++-6-dev:amd64 (6.3.0-18+deb9u1) ...\n",
      "Setting up libpsl5:amd64 (0.17.0-3) ...\n",
      "Setting up libdpkg-perl (1.18.25) ...\n",
      "Setting up libkrb5support0:amd64 (1.15-1+deb9u1) ...\n",
      "Setting up libhogweed4:amd64 (3.3-1+b2) ...\n",
      "Setting up libisl15:amd64 (0.18-1) ...\n",
      "Setting up dpkg-dev (1.18.25) ...\n",
      "Setting up cpp-6 (6.3.0-18+deb9u1) ...\n",
      "Setting up cpp (4:6.3.0-4) ...\n",
      "Setting up libk5crypto3:amd64 (1.15-1+deb9u1) ...\n",
      "Setting up libgnutls30:amd64 (3.5.8-5+deb9u5) ...\n",
      "Setting up librtmp1:amd64 (2.4+20151223.gitfa8646d.1-1+b1) ...\n",
      "Setting up gcc-6 (6.3.0-18+deb9u1) ...\n",
      "Setting up g++-6 (6.3.0-18+deb9u1) ...\n",
      "Setting up libldap-2.4-2:amd64 (2.4.44+dfsg-5+deb9u4) ...\n",
      "Setting up libkrb5-3:amd64 (1.15-1+deb9u1) ...\n",
      "Setting up gcc (4:6.3.0-4) ...\n",
      "Setting up libgssapi-krb5-2:amd64 (1.15-1+deb9u1) ...\n",
      "Setting up g++ (4:6.3.0-4) ...\n",
      "update-alternatives: using /usr/bin/g++ to provide /usr/bin/c++ (c++) in auto mode\n",
      "Setting up build-essential (12.3) ...\n",
      "Setting up libcurl3-gnutls:amd64 (7.52.1-5+deb9u11) ...\n",
      "Setting up apt-transport-https (1.4.10) ...\n",
      "Processing triggers for libc-bin (2.24-11+deb9u4) ...\n",
      "Collecting cortex-python==1.1.0\n",
      "Downloading cortex_python-1.1.0-py3-none-any.whl (70 kB)\n",
      "Collecting fdk==0.0.31\n",
      "Downloading fdk-0.0.31-py2.py3-none-any.whl (21 kB)\n",
      "Collecting cuid<1,>=0.3\n",
      "Downloading cuid-0.3.tar.gz (3.9 kB)\n",
      "Collecting tenacity>=5.0.2\n",
      "Downloading tenacity-6.2.0-py2.py3-none-any.whl (24 kB)\n",
      "Collecting pyyaml<4,>=3.13\n",
      "Downloading PyYAML-3.13.tar.gz (270 kB)\n",
      "Collecting dill>=0.2.8.2\n",
      "Downloading dill-0.3.2.zip (177 kB)\n",
      "Collecting requests-toolbelt==0.8.0\n",
      "Downloading requests_toolbelt-0.8.0-py2.py3-none-any.whl (54 kB)\n",
      "Collecting pyjwt<2,>=1.6.1\n",
      "Downloading PyJWT-1.7.1-py2.py3-none-any.whl (18 kB)\n"
     ]
    },
    {
     "name": "stdout",
     "output_type": "stream",
     "text": [
      "Collecting requests<3,>=2.12.4\n",
      "Downloading requests-2.24.0-py2.py3-none-any.whl (61 kB)\n",
      "Collecting uvloop\n",
      "Downloading uvloop-0.14.0-cp36-cp36m-manylinux2010_x86_64.whl (3.9 MB)\n",
      "Collecting iso8601==0.1.12\n",
      "Downloading iso8601-0.1.12-py2.py3-none-any.whl (12 kB)\n",
      "Collecting ujson==1.35\n",
      "Downloading ujson-1.35.tar.gz (192 kB)\n",
      "Collecting pbr!=2.1.0,>=2.0.0\n",
      "Downloading pbr-5.4.5-py2.py3-none-any.whl (110 kB)\n",
      "Collecting six>=1.9.0\n",
      "Downloading six-1.15.0-py2.py3-none-any.whl (10 kB)\n",
      "Collecting certifi>=2017.4.17\n",
      "Downloading certifi-2020.6.20-py2.py3-none-any.whl (156 kB)\n",
      "Collecting urllib3!=1.25.0,!=1.25.1,<1.26,>=1.21.1\n",
      "Downloading urllib3-1.25.10-py2.py3-none-any.whl (127 kB)\n",
      "Collecting chardet<4,>=3.0.2\n",
      "Downloading chardet-3.0.4-py2.py3-none-any.whl (133 kB)\n",
      "Collecting idna<3,>=2.5\n",
      "Downloading idna-2.10-py2.py3-none-any.whl (58 kB)\n",
      "Building wheels for collected packages: cuid, pyyaml, dill, ujson\n",
      "Building wheel for cuid (setup.py): started\n",
      "Building wheel for cuid (setup.py): finished with status 'done'\n",
      "Created wheel for cuid: filename=cuid-0.3-py2.py3-none-any.whl size=3651 sha256=cebdb40edd5816508be278c01a400c9c7b2dc4129a03f78a4258630b6080d27e\n",
      "  Stored in directory: /tmp/pip-ephem-wheel-cache-732f1r4o/wheels/4c/28/44/96d10e02cd2573b83cb5de9edea8a8b2e692bb0da8c53cfade\n",
      "Building wheel for pyyaml (setup.py): started\n",
      "Building wheel for pyyaml (setup.py): finished with status 'done'\n",
      "Created wheel for pyyaml: filename=PyYAML-3.13-cp36-cp36m-linux_x86_64.whl size=43085 sha256=e0f2f3572a213e76d6b9ad2c5d92f5e4f904bad1326ad156c1f77e2e838ebe29\n",
      "  Stored in directory: /tmp/pip-ephem-wheel-cache-732f1r4o/wheels/ab/80/60/97eaebe423482bcf0963b19495b4cfe6c4caef59761a0c427d\n",
      "Building wheel for dill (setup.py): started\n",
      "Building wheel for dill (setup.py): finished with status 'done'\n",
      "Created wheel for dill: filename=dill-0.3.2-py3-none-any.whl size=78912 sha256=4d29493adc5b9d8d49ad945e405e2dec8e5cc85bbff8256660ec453d48133fb4\n",
      "  Stored in directory: /tmp/pip-ephem-wheel-cache-732f1r4o/wheels/02/49/cf/660924cd9bc5fcddc3a0246fe39800c83028d3ccea244de352\n",
      "Building wheel for ujson (setup.py): started\n",
      "Building wheel for ujson (setup.py): finished with status 'done'\n",
      "Created wheel for ujson: filename=ujson-1.35-cp36-cp36m-linux_x86_64.whl size=22219 sha256=827c12930085bec7121549efabf530ccc57ae1f3106e4f2f3fd8af9d61c1f195\n",
      "  Stored in directory: /tmp/pip-ephem-wheel-cache-732f1r4o/wheels/e0/e6/69/fc449f332d998b63ede372a74a53bb953ff0ca6bb90da39fac\n",
      "Successfully built cuid pyyaml dill ujson\n",
      "Installing collected packages: cuid, six, tenacity, pyyaml, dill, certifi, urllib3, chardet, idna, requests, requests-toolbelt, pyjwt, cortex-python, uvloop, iso8601, ujson, pbr, fdk\n",
      "\u001b[91mERROR: After October 2020 you may experience errors when installing or updating packages. This is because pip will change the way that it resolves dependency conflicts.\n",
      "\n",
      "We recommend you use --use-feature=2020-resolver to test your packages with the new resolver before it becomes the default.\n",
      "\n",
      "fdk 0.0.31 requires dill==0.2.7.1, but you'll have dill 0.3.2 which is incompatible.\n",
      "fdk 0.0.31 requires requests==2.18.4, but you'll have requests 2.24.0 which is incompatible.\n",
      "\u001b[0m\n",
      "Successfully installed certifi-2020.6.20 chardet-3.0.4 cortex-python-1.1.0 cuid-0.3 dill-0.3.2 fdk-0.0.31 idna-2.10 iso8601-0.1.12 pbr-5.4.5 pyjwt-1.7.1 pyyaml-3.13 requests-2.24.0 requests-toolbelt-0.8.0 six-1.15.0 tenacity-6.2.0 ujson-1.35 urllib3-1.25.10 uvloop-0.14.0\n",
      "Collecting scikit-learn<1,>=0.20.0\n",
      "Downloading scikit_learn-0.23.2-cp36-cp36m-manylinux1_x86_64.whl (6.8 MB)\n",
      "Collecting pandas\n",
      "Downloading pandas-1.1.1-cp36-cp36m-manylinux1_x86_64.whl (10.5 MB)\n",
      "Collecting threadpoolctl>=2.0.0\n",
      "Downloading threadpoolctl-2.1.0-py3-none-any.whl (12 kB)\n",
      "Collecting numpy>=1.13.3\n",
      "Downloading numpy-1.19.1-cp36-cp36m-manylinux2010_x86_64.whl (14.5 MB)\n",
      "Collecting joblib>=0.11\n",
      "Downloading joblib-0.16.0-py3-none-any.whl (300 kB)\n",
      "Collecting scipy>=0.19.1\n",
      "Downloading scipy-1.5.2-cp36-cp36m-manylinux1_x86_64.whl (25.9 MB)\n",
      "Collecting python-dateutil>=2.7.3\n",
      "Downloading python_dateutil-2.8.1-py2.py3-none-any.whl (227 kB)\n",
      "Collecting pytz>=2017.2\n",
      "Downloading pytz-2020.1-py2.py3-none-any.whl (510 kB)\n",
      "Requirement already satisfied: six>=1.5 in /usr/local/lib/python3.6/site-packages (from python-dateutil>=2.7.3->pandas->-r requirements.txt (line 3)) (1.15.0)\n",
      "Installing collected packages: threadpoolctl, numpy, joblib, scipy, scikit-learn, python-dateutil, pytz, pandas\n",
      "Successfully installed joblib-0.16.0 numpy-1.19.1 pandas-1.1.1 python-dateutil-2.8.1 pytz-2020.1 scikit-learn-0.23.2 scipy-1.5.2 threadpoolctl-2.1.0\n",
      "Reading package lists...\n",
      "Building dependency tree...\n",
      "Reading state information...\n",
      "The following packages will be REMOVED:\n",
      "  binutils* build-essential* bzip2* cpp* cpp-6* dpkg-dev* g++* g++-6* gcc*\n",
      "gcc-6* libasan3* libatomic1* libc-dev-bin* libc6-dev* libcc1-0* libcilkrts5*\n",
      "libdpkg-perl* libgcc-6-dev* libgomp1* libisl15* libitm1* liblsan0* libmpc3*\n",
      "libmpfr4* libmpx2* libperl5.24* libquadmath0* libstdc++-6-dev* libtsan0*\n",
      "libubsan0* linux-libc-dev* make* patch* perl* perl-modules-5.24* xz-utils*\n",
      "0 upgraded, 0 newly installed, 36 to remove and 0 not upgraded.\n",
      "After this operation, 200 MB disk space will be freed.\n",
      "(Reading database ...\n",
      "(Reading database ... 75%\n",
      "(Reading database ... 80%\n",
      "(Reading database ... 85%\n",
      "(Reading database ... 90%\n",
      "(Reading database ... 95%\n",
      "(Reading database ... 11973 files and directories currently installed.)\n",
      "Removing build-essential (12.3) ...\n",
      "Removing g++ (4:6.3.0-4) ...\n",
      "Removing gcc (4:6.3.0-4) ...\n",
      "Removing dpkg-dev (1.18.25) ...\n",
      "Removing bzip2 (1.0.6-8.1) ...\n",
      "Removing cpp (4:6.3.0-4) ...\n",
      "Removing g++-6 (6.3.0-18+deb9u1) ...\n",
      "Removing libstdc++-6-dev:amd64 (6.3.0-18+deb9u1) ...\n",
      "Removing libc6-dev:amd64 (2.24-11+deb9u4) ...\n",
      "Removing libc-dev-bin (2.24-11+deb9u4) ...\n",
      "Removing libdpkg-perl (1.18.25) ...\n",
      "Removing perl (5.24.1-3+deb9u7) ...\n",
      "Removing libperl5.24:amd64 (5.24.1-3+deb9u7) ...\n",
      "Removing linux-libc-dev:amd64 (4.9.228-1) ...\n",
      "Removing make (4.1-9.1) ...\n",
      "Removing patch (2.7.5-1+deb9u2) ...\n",
      "Removing perl-modules-5.24 (5.24.1-3+deb9u7) ...\n",
      "Removing xz-utils (5.2.2-1.2+b1) ...\n",
      "Removing gcc-6 (6.3.0-18+deb9u1) ...\n",
      "Removing binutils (2.28-5) ...\n",
      "Removing cpp-6 (6.3.0-18+deb9u1) ...\n",
      "Removing libgcc-6-dev:amd64 (6.3.0-18+deb9u1) ...\n",
      "Removing libasan3:amd64 (6.3.0-18+deb9u1) ...\n",
      "Removing libatomic1:amd64 (6.3.0-18+deb9u1) ...\n",
      "Removing libcc1-0:amd64 (6.3.0-18+deb9u1) ...\n",
      "Removing libcilkrts5:amd64 (6.3.0-18+deb9u1) ...\n",
      "Removing libgomp1:amd64 (6.3.0-18+deb9u1) ...\n",
      "Removing libisl15:amd64 (0.18-1) ...\n",
      "Removing libitm1:amd64 (6.3.0-18+deb9u1) ...\n",
      "Removing liblsan0:amd64 (6.3.0-18+deb9u1) ...\n",
      "Removing libmpc3:amd64 (1.0.3-1+b2) ...\n",
      "Removing libmpfr4:amd64 (3.1.5-1) ...\n",
      "Removing libmpx2:amd64 (6.3.0-18+deb9u1) ...\n",
      "Removing libquadmath0:amd64 (6.3.0-18+deb9u1) ...\n",
      "Removing libtsan0:amd64 (6.3.0-18+deb9u1) ...\n",
      "Removing libubsan0:amd64 (6.3.0-18+deb9u1) ...\n",
      "Processing triggers for libc-bin (2.24-11+deb9u4) ...\n",
      "(Reading database ...\n",
      "(Reading database ... 75%\n",
      "(Reading database ... 80%\n",
      "(Reading database ... 85%\n",
      "(Reading database ... 90%\n",
      "(Reading database ... 95%\n",
      "(Reading database ... 6898 files and directories currently installed.)\n",
      "Purging configuration files for perl (5.24.1-3+deb9u7) ...\n",
      "Purging configuration files for dpkg-dev (1.18.25) ...\n",
      "Removing intermediate container 431db43c60e0\n",
      "Step 5/6 : COPY action.py .\n",
      "Step 6/6 : ENTRYPOINT [\"python\", \"action.py\"]\n",
      "Removing intermediate container 9ea473e9ccbd\n",
      "Successfully built 4bfdccc5c229\n",
      "Successfully tagged private-registry.dev01.accelerators-dci.insights.ai/accelerators-dev/kaggle_ames-housing-predict:7e2x7n5\n",
      "Image private-registry.dev01.accelerators-dci.insights.ai/accelerators-dev/kaggle_ames-housing-predict:7e2x7n5 built in 100.563677 seconds\n",
      "Pushing image to remote repository...\n",
      "7e2x7n5: digest: sha256:66a088c633428c7f763463dfe84e9f5323f32dfa5c19b17a24bd338918a703f9 size: 2203\n",
      "Image private-registry.dev01.accelerators-dci.insights.ai/accelerators-dev/kaggle_ames-housing-predict:7e2x7n5 pushed in 72.632495 seconds\n",
      "Cleaning up...\n"
     ]
    },
    {
     "ename": "HTTPError",
     "evalue": "500 Server Error: Internal Server Error for url: https://api.dev01.accelerators-dci.insights.ai/v3/actions",
     "output_type": "error",
     "traceback": [
      "\u001b[0;31m---------------------------------------------------------------------------\u001b[0m",
      "\u001b[0;31mHTTPError\u001b[0m                                 Traceback (most recent call last)",
      "\u001b[0;32m<ipython-input-14-2e02ebb43c50>\u001b[0m in \u001b[0;36m<module>\u001b[0;34m\u001b[0m\n\u001b[1;32m      1\u001b[0m \u001b[0mbuilder\u001b[0m\u001b[0;34m.\u001b[0m\u001b[0maction\u001b[0m\u001b[0;34m(\u001b[0m\u001b[0;34m'kaggle/ames-housing-predict'\u001b[0m\u001b[0;34m)\u001b[0m\u001b[0;31m\\\u001b[0m\u001b[0;34m\u001b[0m\u001b[0;34m\u001b[0m\u001b[0m\n\u001b[1;32m      2\u001b[0m     \u001b[0;34m.\u001b[0m\u001b[0mwith_requirements\u001b[0m\u001b[0;34m(\u001b[0m\u001b[0;34m[\u001b[0m\u001b[0;34m'scikit-learn>=0.20.0,<1'\u001b[0m\u001b[0;34m]\u001b[0m\u001b[0;34m)\u001b[0m\u001b[0;31m\\\u001b[0m\u001b[0;34m\u001b[0m\u001b[0;34m\u001b[0m\u001b[0m\n\u001b[0;32m----> 3\u001b[0;31m     \u001b[0;34m.\u001b[0m\u001b[0mfrom_model\u001b[0m\u001b[0;34m(\u001b[0m\u001b[0mmodel\u001b[0m\u001b[0;34m,\u001b[0m \u001b[0mx_pipeline\u001b[0m\u001b[0;34m=\u001b[0m\u001b[0mx_pipe\u001b[0m\u001b[0;34m,\u001b[0m \u001b[0my_pipeline\u001b[0m\u001b[0;34m=\u001b[0m\u001b[0my_pipe\u001b[0m\u001b[0;34m,\u001b[0m \u001b[0mtarget\u001b[0m\u001b[0;34m=\u001b[0m\u001b[0;34m'SalePrice'\u001b[0m\u001b[0;34m)\u001b[0m\u001b[0;31m\\\u001b[0m\u001b[0;34m\u001b[0m\u001b[0;34m\u001b[0m\u001b[0m\n\u001b[0m\u001b[1;32m      4\u001b[0m     \u001b[0;34m.\u001b[0m\u001b[0mbuild\u001b[0m\u001b[0;34m(\u001b[0m\u001b[0;34m)\u001b[0m\u001b[0;34m\u001b[0m\u001b[0;34m\u001b[0m\u001b[0m\n",
      "\u001b[0;32m/opt/miniconda3/lib/python3.7/site-packages/cortex_builders/action_builder.py\u001b[0m in \u001b[0;36mbuild\u001b[0;34m(self, **kwargs)\u001b[0m\n\u001b[1;32m    271\u001b[0m             \u001b[0mself\u001b[0m\u001b[0;34m.\u001b[0m\u001b[0m_build_job\u001b[0m\u001b[0;34m(\u001b[0m\u001b[0msdk_version\u001b[0m\u001b[0;34m,\u001b[0m \u001b[0m_dry_run\u001b[0m\u001b[0;34m,\u001b[0m \u001b[0;34m**\u001b[0m\u001b[0mkwargs\u001b[0m\u001b[0;34m)\u001b[0m\u001b[0;34m\u001b[0m\u001b[0;34m\u001b[0m\u001b[0m\n\u001b[1;32m    272\u001b[0m         \u001b[0;32melse\u001b[0m\u001b[0;34m:\u001b[0m\u001b[0;34m\u001b[0m\u001b[0;34m\u001b[0m\u001b[0m\n\u001b[0;32m--> 273\u001b[0;31m             \u001b[0mself\u001b[0m\u001b[0;34m.\u001b[0m\u001b[0m_build_function\u001b[0m\u001b[0;34m(\u001b[0m\u001b[0msdk_version\u001b[0m\u001b[0;34m,\u001b[0m \u001b[0m_dry_run\u001b[0m\u001b[0;34m)\u001b[0m\u001b[0;34m\u001b[0m\u001b[0;34m\u001b[0m\u001b[0m\n\u001b[0m\u001b[1;32m    274\u001b[0m \u001b[0;34m\u001b[0m\u001b[0m\n\u001b[1;32m    275\u001b[0m         \u001b[0;32mif\u001b[0m \u001b[0m_dry_run\u001b[0m\u001b[0;34m:\u001b[0m\u001b[0;34m\u001b[0m\u001b[0;34m\u001b[0m\u001b[0m\n",
      "\u001b[0;32m/opt/miniconda3/lib/python3.7/site-packages/cortex_builders/action_builder.py\u001b[0m in \u001b[0;36m_build_function\u001b[0;34m(self, cortex_sdk_version, dry_run)\u001b[0m\n\u001b[1;32m    318\u001b[0m             \u001b[0mself\u001b[0m\u001b[0;34m.\u001b[0m\u001b[0m_kind\u001b[0m \u001b[0;34m=\u001b[0m \u001b[0;34m'python:3'\u001b[0m\u001b[0;34m\u001b[0m\u001b[0;34m\u001b[0m\u001b[0m\n\u001b[1;32m    319\u001b[0m             \u001b[0;31m# Deploy from ML model object\u001b[0m\u001b[0;34m\u001b[0m\u001b[0;34m\u001b[0m\u001b[0;34m\u001b[0m\u001b[0m\n\u001b[0;32m--> 320\u001b[0;31m             \u001b[0mself\u001b[0m\u001b[0;34m.\u001b[0m\u001b[0m_deploy_model\u001b[0m\u001b[0;34m(\u001b[0m\u001b[0mcortex_sdk_version\u001b[0m\u001b[0;34m,\u001b[0m \u001b[0mdry_run\u001b[0m\u001b[0;34m)\u001b[0m\u001b[0;34m\u001b[0m\u001b[0;34m\u001b[0m\u001b[0m\n\u001b[0m\u001b[1;32m    321\u001b[0m         \u001b[0;32melse\u001b[0m\u001b[0;34m:\u001b[0m\u001b[0;34m\u001b[0m\u001b[0;34m\u001b[0m\u001b[0m\n\u001b[1;32m    322\u001b[0m             \u001b[0;31m# Deploy existing docker image\u001b[0m\u001b[0;34m\u001b[0m\u001b[0;34m\u001b[0m\u001b[0;34m\u001b[0m\u001b[0m\n",
      "\u001b[0;32m/opt/miniconda3/lib/python3.7/site-packages/cortex_builders/action_builder.py\u001b[0m in \u001b[0;36m_deploy_model\u001b[0;34m(self, cortex_sdk_version, dry_run)\u001b[0m\n\u001b[1;32m    448\u001b[0m                 \u001b[0;32mreturn\u001b[0m\u001b[0;34m\u001b[0m\u001b[0;34m\u001b[0m\u001b[0m\n\u001b[1;32m    449\u001b[0m \u001b[0;34m\u001b[0m\u001b[0m\n\u001b[0;32m--> 450\u001b[0;31m             \u001b[0mself\u001b[0m\u001b[0;34m.\u001b[0m\u001b[0m_deploy_function_image\u001b[0m\u001b[0;34m(\u001b[0m\u001b[0m_predict_source\u001b[0m\u001b[0;34m,\u001b[0m \u001b[0;34m'predict'\u001b[0m\u001b[0;34m,\u001b[0m \u001b[0m_globals\u001b[0m\u001b[0;34m,\u001b[0m \u001b[0mcortex_sdk_version\u001b[0m\u001b[0;34m)\u001b[0m\u001b[0;34m\u001b[0m\u001b[0;34m\u001b[0m\u001b[0m\n\u001b[0m\u001b[1;32m    451\u001b[0m \u001b[0;34m\u001b[0m\u001b[0m\n\u001b[1;32m    452\u001b[0m     \u001b[0;34m@\u001b[0m\u001b[0mstaticmethod\u001b[0m\u001b[0;34m\u001b[0m\u001b[0;34m\u001b[0m\u001b[0m\n",
      "\u001b[0;32m/opt/miniconda3/lib/python3.7/site-packages/cortex_builders/action_builder.py\u001b[0m in \u001b[0;36m_deploy_function_image\u001b[0;34m(self, source, func_name, global_code, cortex_sdk_version, source_archive)\u001b[0m\n\u001b[1;32m    368\u001b[0m         \u001b[0mtemp_dir\u001b[0m \u001b[0;34m=\u001b[0m \u001b[0mself\u001b[0m\u001b[0;34m.\u001b[0m\u001b[0m_docker_builder\u001b[0m\u001b[0;34m.\u001b[0m\u001b[0mcreate_build_context\u001b[0m\u001b[0;34m(\u001b[0m\u001b[0;34m'function'\u001b[0m\u001b[0;34m,\u001b[0m \u001b[0msource\u001b[0m\u001b[0;34m,\u001b[0m \u001b[0mfunc_name\u001b[0m\u001b[0;34m,\u001b[0m \u001b[0mglobal_code\u001b[0m\u001b[0;34m,\u001b[0m \u001b[0mcortex_sdk_version\u001b[0m\u001b[0;34m,\u001b[0m \u001b[0msource_archive\u001b[0m\u001b[0;34m,\u001b[0m \u001b[0mself\u001b[0m\u001b[0;34m.\u001b[0m\u001b[0m_base_image\u001b[0m\u001b[0;34m,\u001b[0m \u001b[0mself\u001b[0m\u001b[0;34m.\u001b[0m\u001b[0m_using_default_base_image\u001b[0m\u001b[0;34m,\u001b[0m \u001b[0mself\u001b[0m\u001b[0;34m.\u001b[0m\u001b[0m_requirements\u001b[0m\u001b[0;34m,\u001b[0m \u001b[0mself\u001b[0m\u001b[0;34m.\u001b[0m\u001b[0m_conda_requirements\u001b[0m\u001b[0;34m)\u001b[0m\u001b[0;34m\u001b[0m\u001b[0;34m\u001b[0m\u001b[0m\n\u001b[1;32m    369\u001b[0m         \u001b[0mself\u001b[0m\u001b[0;34m.\u001b[0m\u001b[0m_docker_builder\u001b[0m\u001b[0;34m.\u001b[0m\u001b[0mbuild_and_push\u001b[0m\u001b[0;34m(\u001b[0m\u001b[0mtemp_dir\u001b[0m\u001b[0;34m,\u001b[0m \u001b[0mself\u001b[0m\u001b[0;34m.\u001b[0m\u001b[0m_name\u001b[0m\u001b[0;34m,\u001b[0m \u001b[0mself\u001b[0m\u001b[0;34m.\u001b[0m\u001b[0m_get_docker_repository\u001b[0m\u001b[0;34m(\u001b[0m\u001b[0;34m)\u001b[0m\u001b[0;34m,\u001b[0m \u001b[0mself\u001b[0m\u001b[0;34m.\u001b[0m\u001b[0m_get_docker_auth\u001b[0m\u001b[0;34m(\u001b[0m\u001b[0;34m)\u001b[0m\u001b[0;34m)\u001b[0m\u001b[0;34m\u001b[0m\u001b[0;34m\u001b[0m\u001b[0m\n\u001b[0;32m--> 370\u001b[0;31m         \u001b[0mself\u001b[0m\u001b[0;34m.\u001b[0m\u001b[0m_client\u001b[0m\u001b[0;34m.\u001b[0m\u001b[0mdeploy_action\u001b[0m\u001b[0;34m(\u001b[0m\u001b[0mself\u001b[0m\u001b[0;34m.\u001b[0m\u001b[0m_name\u001b[0m\u001b[0;34m,\u001b[0m \u001b[0mself\u001b[0m\u001b[0;34m.\u001b[0m\u001b[0m_kind\u001b[0m\u001b[0;34m,\u001b[0m \u001b[0mself\u001b[0m\u001b[0;34m.\u001b[0m\u001b[0m_get_docker_repository\u001b[0m\u001b[0;34m(\u001b[0m\u001b[0muse_prefix\u001b[0m\u001b[0;34m=\u001b[0m\u001b[0;32mTrue\u001b[0m\u001b[0;34m)\u001b[0m\u001b[0;34m)\u001b[0m\u001b[0;34m\u001b[0m\u001b[0;34m\u001b[0m\u001b[0m\n\u001b[0m\u001b[1;32m    371\u001b[0m \u001b[0;34m\u001b[0m\u001b[0m\n\u001b[1;32m    372\u001b[0m     \u001b[0;32mdef\u001b[0m \u001b[0m_deploy_job_image\u001b[0m\u001b[0;34m(\u001b[0m\u001b[0mself\u001b[0m\u001b[0;34m,\u001b[0m \u001b[0msource\u001b[0m\u001b[0;34m,\u001b[0m \u001b[0mfunc_name\u001b[0m\u001b[0;34m,\u001b[0m \u001b[0mglobal_code\u001b[0m\u001b[0;34m,\u001b[0m \u001b[0mcortex_sdk_version\u001b[0m\u001b[0;34m,\u001b[0m \u001b[0msource_archive\u001b[0m\u001b[0;34m=\u001b[0m\u001b[0;32mNone\u001b[0m\u001b[0;34m,\u001b[0m \u001b[0;34m**\u001b[0m\u001b[0mkwargs\u001b[0m\u001b[0;34m)\u001b[0m\u001b[0;34m:\u001b[0m\u001b[0;34m\u001b[0m\u001b[0;34m\u001b[0m\u001b[0m\n",
      "\u001b[0;32m/opt/miniconda3/lib/python3.7/site-packages/cortex/action.py\u001b[0m in \u001b[0;36mdeploy_action\u001b[0;34m(self, name, kind, docker, code, action_type, **kwargs)\u001b[0m\n\u001b[1;32m     94\u001b[0m         \u001b[0mm\u001b[0m \u001b[0;34m=\u001b[0m \u001b[0mMultipartEncoder\u001b[0m\u001b[0;34m(\u001b[0m\u001b[0maction\u001b[0m\u001b[0;34m)\u001b[0m\u001b[0;34m\u001b[0m\u001b[0;34m\u001b[0m\u001b[0m\n\u001b[1;32m     95\u001b[0m         \u001b[0mr\u001b[0m \u001b[0;34m=\u001b[0m \u001b[0mself\u001b[0m\u001b[0;34m.\u001b[0m\u001b[0m_serviceconnector\u001b[0m\u001b[0;34m.\u001b[0m\u001b[0mrequest\u001b[0m\u001b[0;34m(\u001b[0m\u001b[0mmethod\u001b[0m\u001b[0;34m=\u001b[0m\u001b[0;34m'POST'\u001b[0m\u001b[0;34m,\u001b[0m \u001b[0muri\u001b[0m\u001b[0;34m=\u001b[0m\u001b[0muri\u001b[0m\u001b[0;34m,\u001b[0m \u001b[0mbody\u001b[0m\u001b[0;34m=\u001b[0m\u001b[0mm\u001b[0m\u001b[0;34m,\u001b[0m \u001b[0mheaders\u001b[0m\u001b[0;34m=\u001b[0m\u001b[0;34m{\u001b[0m\u001b[0;34m'Content-type'\u001b[0m\u001b[0;34m:\u001b[0m \u001b[0mm\u001b[0m\u001b[0;34m.\u001b[0m\u001b[0mcontent_type\u001b[0m\u001b[0;34m}\u001b[0m\u001b[0;34m)\u001b[0m\u001b[0;34m\u001b[0m\u001b[0;34m\u001b[0m\u001b[0m\n\u001b[0;32m---> 96\u001b[0;31m         \u001b[0mr\u001b[0m\u001b[0;34m.\u001b[0m\u001b[0mraise_for_status\u001b[0m\u001b[0;34m(\u001b[0m\u001b[0;34m)\u001b[0m\u001b[0;34m\u001b[0m\u001b[0;34m\u001b[0m\u001b[0m\n\u001b[0m\u001b[1;32m     97\u001b[0m         \u001b[0;32mreturn\u001b[0m \u001b[0mr\u001b[0m\u001b[0;34m.\u001b[0m\u001b[0mjson\u001b[0m\u001b[0;34m(\u001b[0m\u001b[0;34m)\u001b[0m\u001b[0;34m\u001b[0m\u001b[0;34m\u001b[0m\u001b[0m\n\u001b[1;32m     98\u001b[0m \u001b[0;34m\u001b[0m\u001b[0m\n",
      "\u001b[0;32m/opt/miniconda3/lib/python3.7/site-packages/requests/models.py\u001b[0m in \u001b[0;36mraise_for_status\u001b[0;34m(self)\u001b[0m\n\u001b[1;32m    938\u001b[0m \u001b[0;34m\u001b[0m\u001b[0m\n\u001b[1;32m    939\u001b[0m         \u001b[0;32mif\u001b[0m \u001b[0mhttp_error_msg\u001b[0m\u001b[0;34m:\u001b[0m\u001b[0;34m\u001b[0m\u001b[0;34m\u001b[0m\u001b[0m\n\u001b[0;32m--> 940\u001b[0;31m             \u001b[0;32mraise\u001b[0m \u001b[0mHTTPError\u001b[0m\u001b[0;34m(\u001b[0m\u001b[0mhttp_error_msg\u001b[0m\u001b[0;34m,\u001b[0m \u001b[0mresponse\u001b[0m\u001b[0;34m=\u001b[0m\u001b[0mself\u001b[0m\u001b[0;34m)\u001b[0m\u001b[0;34m\u001b[0m\u001b[0;34m\u001b[0m\u001b[0m\n\u001b[0m\u001b[1;32m    941\u001b[0m \u001b[0;34m\u001b[0m\u001b[0m\n\u001b[1;32m    942\u001b[0m     \u001b[0;32mdef\u001b[0m \u001b[0mclose\u001b[0m\u001b[0;34m(\u001b[0m\u001b[0mself\u001b[0m\u001b[0;34m)\u001b[0m\u001b[0;34m:\u001b[0m\u001b[0;34m\u001b[0m\u001b[0;34m\u001b[0m\u001b[0m\n",
      "\u001b[0;31mHTTPError\u001b[0m: 500 Server Error: Internal Server Error for url: https://api.dev01.accelerators-dci.insights.ai/v3/actions"
     ]
    }
   ],
   "source": [
    "builder.action('kaggle/ames-housing-predict')\\\n",
    "    .with_requirements(['scikit-learn>=0.20.0,<1'])\\\n",
    "    .from_model(model, x_pipeline=x_pipe, y_pipeline=y_pipe, target='SalePrice')\\\n",
    "    .build()"
   ]
  },
  {
   "cell_type": "code",
   "execution_count": null,
   "metadata": {},
   "outputs": [],
   "source": [
    "action = cortex.action('kaggle/ames-housing-predict')\n",
    "action"
   ]
  },
  {
   "cell_type": "markdown",
   "metadata": {
    "slideshow": {
     "slide_type": "notes"
    }
   },
   "source": [
    "---\n",
    "Unit test for the Action.  Make sure our action is ready for use."
   ]
  },
  {
   "cell_type": "code",
   "execution_count": null,
   "metadata": {},
   "outputs": [],
   "source": [
    "%%time\n",
    "\n",
    "params = {\n",
    "    \"columns\": ['MSSubClass', 'MSZoning', 'LotFrontage', 'LotArea', 'Street', 'Alley', 'LotShape', 'LandContour', 'Utilities', 'LotConfig', 'LandSlope', 'Neighborhood', 'Condition1', 'Condition2', 'BldgType', 'HouseStyle', 'OverallQual', 'OverallCond', 'YearBuilt', 'YearRemodAdd', 'RoofStyle', 'RoofMatl', 'Exterior1st', 'Exterior2nd', 'MasVnrType', 'MasVnrArea', 'ExterQual', 'ExterCond', 'Foundation', 'BsmtQual', 'BsmtCond', 'BsmtExposure', 'BsmtFinType1', 'BsmtFinSF1', 'BsmtFinType2', 'BsmtFinSF2', 'BsmtUnfSF', 'TotalBsmtSF', 'Heating', 'HeatingQC', 'CentralAir', 'Electrical', '1stFlrSF', '2ndFlrSF', 'LowQualFinSF', 'GrLivArea', 'BsmtFullBath', 'BsmtHalfBath', 'FullBath', 'HalfBath', 'BedroomAbvGr', 'KitchenAbvGr', 'KitchenQual', 'TotRmsAbvGrd', 'Functional', 'Fireplaces', 'FireplaceQu', 'GarageType', 'GarageYrBlt', 'GarageFinish', 'GarageCars', 'GarageArea', 'GarageQual', 'GarageCond', 'PavedDrive', 'WoodDeckSF', 'OpenPorchSF', 'EnclosedPorch', '3SsnPorch', 'ScreenPorch', 'PoolArea', 'PoolQC', 'Fence', 'MiscFeature', 'MiscVal', 'MoSold', 'YrSold', 'SaleType', 'SaleCondition'],\n",
    "    \"values\": [[20,\"RH\",80.0,11622,\"Pave\",None,\"Reg\",\"Lvl\",\"AllPub\",\"Inside\",\"Gtl\",\"NAmes\",\"Feedr\",\"Norm\",\"1Fam\",\"1Story\",5,6,1961,1961,\"Gable\",\"CompShg\",\"VinylSd\",\"VinylSd\",\"None\",0.0,\"TA\",\"TA\",\"CBlock\",\"TA\",\"TA\",\"No\",\"Rec\",468.0,\"LwQ\",144.0,270.0,882.0,\"GasA\",\"TA\",\"Y\",\"SBrkr\",896,0,0,896,0.0,0.0,1,0,2,1,\"TA\",5,\"Typ\",0,None,\"Attchd\",1961.0,\"Unf\",1.0,730.0,\"TA\",\"TA\",\"Y\",140,0,0,0,120,0,None,\"MnPrv\",None,0,6,2010,\"WD\",\"Normal\"]]\n",
    "}\n",
    "\n",
    "result = action.invoke(message=cortex.message(params))\n",
    "print(result.payload)\n",
    "print()"
   ]
  },
  {
   "cell_type": "markdown",
   "metadata": {},
   "source": [
    "## Building a Cortex Skill\n",
    "Now that our Action is ready and tested, we can move on to building a Cortex Skill.  We start by creating a Schema that defines our input for Ames Housing price prediction.  The schema will be built automatically using the parameters we already defined in our training dataset."
   ]
  },
  {
   "cell_type": "code",
   "execution_count": null,
   "metadata": {},
   "outputs": [],
   "source": [
    "x_schema = builder.schema('kaggle/ames-housing-instance').title('Ames Housing Test Instance').from_parameters(train_ds.parameters[1:][:-1]).build()"
   ]
  },
  {
   "cell_type": "markdown",
   "metadata": {},
   "source": [
    "The _builder_ has multiple entry points, we use the _skill_ method here to declare a new \"Ames Housing Price Prediction\" Skill.  Each _builder_ method returns an instance of the builder so we can chain calls together."
   ]
  },
  {
   "cell_type": "code",
   "execution_count": null,
   "metadata": {},
   "outputs": [],
   "source": [
    "b = builder.skill('kaggle/ames-housing-price-predict').title('Ames Housing Price Prediction').description('Predicts the price of a houses in Ames, Iowa.')"
   ]
  },
  {
   "cell_type": "markdown",
   "metadata": {},
   "source": [
    "Next, we use the Input sub-builder to construct our Skill Input.  This is where we declare how our Input will route messages.  In this simple case, we use the _all_ routing which routes all input messages to same Action for processing and declares wich Output to route Action outputs to.  We pass in our Action that we built previously to wire the Skill to the Action (we could have also passed in the Action name here).  Calling _build_ on the Input will create the input object, add it to the Skill builder, and return the Skill builder."
   ]
  },
  {
   "cell_type": "code",
   "execution_count": null,
   "metadata": {},
   "outputs": [],
   "source": [
    "b = b.input('ames-house').title('Ames House').use_schema(x_schema.name).all_routing(action, 'price-prediction').build()"
   ]
  },
  {
   "cell_type": "markdown",
   "metadata": {},
   "source": [
    "In the previous step, we referenced an Output called **price-prediction**.  We can create that Output here using the Output sub-builder."
   ]
  },
  {
   "cell_type": "code",
   "execution_count": null,
   "metadata": {},
   "outputs": [],
   "source": [
    "b = b.output('price-prediction').title('Price Prediction').parameter(name='SalePrice', type='number', format='double').build()"
   ]
  },
  {
   "cell_type": "markdown",
   "metadata": {},
   "source": [
    "We can preview the CAMEL document our builder will create to make sure everything looks correct."
   ]
  },
  {
   "cell_type": "code",
   "execution_count": null,
   "metadata": {},
   "outputs": [],
   "source": [
    "b.to_camel()"
   ]
  },
  {
   "cell_type": "markdown",
   "metadata": {},
   "source": [
    "---\n",
    "### Build and Publish the Skill Cortex Catalog\n",
    "This will build the Skill and publish it to my private marketplace.  It will then be available for use in the Agent Builder."
   ]
  },
  {
   "cell_type": "code",
   "execution_count": null,
   "metadata": {},
   "outputs": [],
   "source": [
    "skill = b.build()\n",
    "print('%s (%s) v%d' % (skill.title, skill.name, skill.version))"
   ]
  }
 ],
 "metadata": {
  "kernelspec": {
   "display_name": "Python 3",
   "language": "python",
   "name": "python3"
  },
  "language_info": {
   "codemirror_mode": {
    "name": "ipython",
    "version": 3
   },
   "file_extension": ".py",
   "mimetype": "text/x-python",
   "name": "python",
   "nbconvert_exporter": "python",
   "pygments_lexer": "ipython3",
   "version": "3.7.4"
  }
 },
 "nbformat": 4,
 "nbformat_minor": 4
}
