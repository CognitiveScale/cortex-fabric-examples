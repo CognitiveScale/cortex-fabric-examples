{
 "cells": [
  {
   "cell_type": "markdown",
   "metadata": {},
   "source": [
    "# Insurance Fraud Claim Prediction - Step 5: Model Deployment\n",
    "Now that we have trained and selected our optimal model, its time to deploy it.  This notebook demonstrates how to user our Experiment and Pipelines from the previous steps to easly deploy our model as a Cortex Action. "
   ]
  },
  {
   "cell_type": "code",
   "execution_count": 29,
   "metadata": {},
   "outputs": [],
   "source": [
    "# Basic setup\n",
    "%run config.ipynb"
   ]
  },
  {
   "cell_type": "code",
   "execution_count": 30,
   "metadata": {},
   "outputs": [],
   "source": [
    "# Connect to Cortex 5 and create a Builder instance\n",
    "cortex = Cortex.client()\n",
    "builder = cortex.builder()"
   ]
  },
  {
   "cell_type": "markdown",
   "metadata": {},
   "source": [
    "### Load the Experiement\n",
    "Let's load our experiment from the previous step and find the model we want to deploy."
   ]
  },
  {
   "cell_type": "code",
   "execution_count": 31,
   "metadata": {},
   "outputs": [
    {
     "data": {
      "text/html": [
       "\n",
       "                <style>\n",
       "                    #table1 { \n",
       "                      border: solid thin; \n",
       "                      border-collapse: collapse; \n",
       "                    }\n",
       "                    #table1 caption { \n",
       "                      padding-bottom: 0.5em; \n",
       "                    }\n",
       "                    #table1 th, \n",
       "                    #table1 td { \n",
       "                      border: solid thin;\n",
       "                      padding: 0.5rem 2rem;\n",
       "                    }\n",
       "                    #table1 td {\n",
       "                      white-space: nowrap;\n",
       "                    }\n",
       "                    #table1 td { \n",
       "                      border-style: none solid; \n",
       "                      vertical-align: top; \n",
       "                    }\n",
       "                    #table1 th { \n",
       "                      padding: 0.2em; \n",
       "                      vertical-align: middle; \n",
       "                      text-align: center; \n",
       "                    }\n",
       "                    #table1 tbody td:first-child::after { \n",
       "                      content: leader(\". \"); '\n",
       "                    }\n",
       "                </style>\n",
       "                <table id=\"table1\">\n",
       "                    <caption><b>Experiment:</b> claims-fraud/motorinsurancefraud-regression</caption>\n",
       "                    <thead>\n",
       "                    <tr>\n",
       "                        <th rowspan=\"2\">ID</th>\n",
       "                        <th rowspan=\"2\">Date</th>\n",
       "                        <th rowspan=\"2\">Took</th>\n",
       "                        <th colspan=\"2\" scope=\"colgroup\">Params</th>\n",
       "                        <th colspan=\"2\" scope=\"colgroup\">Metrics</th>\n",
       "                    </tr>\n",
       "                    <tr>\n",
       "                        \n",
       "                        <th>alphas</th>\n",
       "                        \n",
       "                        <th>model_type</th>\n",
       "                        \n",
       "                        \n",
       "                        <th>r2</th>\n",
       "                        \n",
       "                        <th>rmse</th>\n",
       "                        \n",
       "                    </tr>\n",
       "                    </thead>\n",
       "                    <tbody>\n",
       "                        \n",
       "                        <tr>\n",
       "                        <td>koff7hn</td>\n",
       "                        <td>Mon, 24 Sep 2018 19:40:05 GMT</td>\n",
       "                        <td>0.00 s</td>\n",
       "                        \n",
       "                        <td>&#x2011;</td>\n",
       "                        \n",
       "                        <td>&#x2011;</td>\n",
       "                        \n",
       "                        \n",
       "                        <td>0.000000</td>\n",
       "                        \n",
       "                        <td>0.000000</td>\n",
       "                        \n",
       "                        </tr>\n",
       "                        \n",
       "                        <tr>\n",
       "                        <td>8ygf7t0</td>\n",
       "                        <td>Mon, 24 Sep 2018 19:41:28 GMT</td>\n",
       "                        <td>0.00 s</td>\n",
       "                        \n",
       "                        <td>&#x2011;</td>\n",
       "                        \n",
       "                        <td>&#x2011;</td>\n",
       "                        \n",
       "                        \n",
       "                        <td>0.000000</td>\n",
       "                        \n",
       "                        <td>0.000000</td>\n",
       "                        \n",
       "                        </tr>\n",
       "                        \n",
       "                        <tr>\n",
       "                        <td>gwhf77v</td>\n",
       "                        <td>Mon, 24 Sep 2018 20:29:29 GMT</td>\n",
       "                        <td>0.00 s</td>\n",
       "                        \n",
       "                        <td>&#x2011;</td>\n",
       "                        \n",
       "                        <td>&#x2011;</td>\n",
       "                        \n",
       "                        \n",
       "                        <td>0.000000</td>\n",
       "                        \n",
       "                        <td>0.000000</td>\n",
       "                        \n",
       "                        </tr>\n",
       "                        \n",
       "                        <tr>\n",
       "                        <td>doif7rc</td>\n",
       "                        <td>Mon, 24 Sep 2018 20:31:12 GMT</td>\n",
       "                        <td>0.00 s</td>\n",
       "                        \n",
       "                        <td>&#x2011;</td>\n",
       "                        \n",
       "                        <td>&#x2011;</td>\n",
       "                        \n",
       "                        \n",
       "                        <td>0.000000</td>\n",
       "                        \n",
       "                        <td>0.000000</td>\n",
       "                        \n",
       "                        </tr>\n",
       "                        \n",
       "                        <tr>\n",
       "                        <td>dmjf79a</td>\n",
       "                        <td>Mon, 24 Sep 2018 20:34:12 GMT</td>\n",
       "                        <td>0.00 s</td>\n",
       "                        \n",
       "                        <td>&#x2011;</td>\n",
       "                        \n",
       "                        <td>&#x2011;</td>\n",
       "                        \n",
       "                        \n",
       "                        <td>0.000000</td>\n",
       "                        \n",
       "                        <td>0.000000</td>\n",
       "                        \n",
       "                        </tr>\n",
       "                        \n",
       "                        <tr>\n",
       "                        <td>2gkf7g5</td>\n",
       "                        <td>Mon, 24 Sep 2018 20:40:09 GMT</td>\n",
       "                        <td>0.03 s</td>\n",
       "                        \n",
       "                        <td>[1, 0.1, 0.001, 0.0001]</td>\n",
       "                        \n",
       "                        <td>Logistic</td>\n",
       "                        \n",
       "                        \n",
       "                        <td>0.990000</td>\n",
       "                        \n",
       "                        <td>0.100000</td>\n",
       "                        \n",
       "                        </tr>\n",
       "                        \n",
       "                        <tr>\n",
       "                        <td>iflf7gi</td>\n",
       "                        <td>Mon, 24 Sep 2018 20:41:48 GMT</td>\n",
       "                        <td>0.04 s</td>\n",
       "                        \n",
       "                        <td>[1, 0.1, 0.001, 0.0001]</td>\n",
       "                        \n",
       "                        <td>Logistic</td>\n",
       "                        \n",
       "                        \n",
       "                        <td>0.990000</td>\n",
       "                        \n",
       "                        <td>0.100000</td>\n",
       "                        \n",
       "                        </tr>\n",
       "                        \n",
       "                        <tr>\n",
       "                        <td>jn03y1r</td>\n",
       "                        <td>Mon, 24 Sep 2018 23:21:13 GMT</td>\n",
       "                        <td>0.04 s</td>\n",
       "                        \n",
       "                        <td>[1, 0.1, 0.001, 0.0001]</td>\n",
       "                        \n",
       "                        <td>Logistic</td>\n",
       "                        \n",
       "                        \n",
       "                        <td>0.990000</td>\n",
       "                        \n",
       "                        <td>0.100000</td>\n",
       "                        \n",
       "                        </tr>\n",
       "                        \n",
       "                        <tr>\n",
       "                        <td>4593yrn</td>\n",
       "                        <td>Mon, 24 Sep 2018 23:55:59 GMT</td>\n",
       "                        <td>0.05 s</td>\n",
       "                        \n",
       "                        <td>[1, 0.1, 0.001, 0.0001]</td>\n",
       "                        \n",
       "                        <td>Logistic</td>\n",
       "                        \n",
       "                        \n",
       "                        <td>0.990000</td>\n",
       "                        \n",
       "                        <td>0.100000</td>\n",
       "                        \n",
       "                        </tr>\n",
       "                        \n",
       "                    </tbody>\n",
       "                </table>"
      ],
      "text/plain": [
       "<cortex.experiment.Experiment at 0x7ff1888932e8>"
      ]
     },
     "execution_count": 31,
     "metadata": {},
     "output_type": "execute_result"
    }
   ],
   "source": [
    "exp = cortex.experiment('claims-fraud/motorinsurancefraud-regression')\n",
    "exp"
   ]
  },
  {
   "cell_type": "markdown",
   "metadata": {},
   "source": [
    "---\n",
    "The model created in the last run looks to be the best, let's deploy it"
   ]
  },
  {
   "cell_type": "code",
   "execution_count": 32,
   "metadata": {},
   "outputs": [
    {
     "data": {
      "text/plain": [
       "LogisticRegression(C=1.0, class_weight=None, dual=False, fit_intercept=True,\n",
       "          intercept_scaling=1, max_iter=100, multi_class='ovr', n_jobs=1,\n",
       "          penalty='l2', random_state=None, solver='liblinear', tol=0.0001,\n",
       "          verbose=0, warm_start=False)"
      ]
     },
     "execution_count": 32,
     "metadata": {},
     "output_type": "execute_result"
    }
   ],
   "source": [
    "run = exp.get_run('4593yrn')\n",
    "model = run.get_artifact('model')\n",
    "model"
   ]
  },
  {
   "cell_type": "markdown",
   "metadata": {},
   "source": [
    "### Model deployment - Step 1: Configure Data Pipeline for Inputs\n",
    "Our model was trained with data that has had cleaning and feature engineering steps applied to it.  Since we want our users to send us the actual raw data, we need to deploy our pipeline to transform the input data into the form we expect.  This requires applying some of the same steps from before, but also requires us to remember some of the data created during model training such as the median values of certain columns and the final list of _dummy_ categorical columns created during feature engineering.  Luckily, our pipelines have a memory in the form of _context_ that we can reference here to achieve this."
   ]
  },
  {
   "cell_type": "code",
   "execution_count": 33,
   "metadata": {},
   "outputs": [
    {
     "data": {
      "text/plain": [
       "<cortex.pipeline.Pipeline at 0x7ff188fd8208>"
      ]
     },
     "execution_count": 33,
     "metadata": {},
     "output_type": "execute_result"
    }
   ],
   "source": [
    "train_ds = cortex.dataset('claims-fraud/motorinsurancefraud')\n",
    "\n",
    "# Model our feature pipeline after the 'clean' pipeline\n",
    "x_pipe = builder.pipeline('x_pipe')\n",
    "x_pipe.from_pipeline(train_ds.pipeline('clean'))"
   ]
  },
  {
   "cell_type": "code",
   "execution_count": 34,
   "metadata": {},
   "outputs": [],
   "source": [
    "# The dummy column conversion we did during training needs to be applied here.  Afterwards there will be missing columns because \n",
    "# our input instance will only contain at most one value per category.  We need to fill in the other expected columns.  We stored\n",
    "# the expected set of columns in our pipeline so we can easily do this now.\n",
    "def fix_columns(pipeline, df):\n",
    "    all_cols = pipeline.get_context('columns')\n",
    "    missing_cols = set(all_cols) - set(df.columns)\n",
    "    for c in missing_cols:\n",
    "        df[c] = 0\n",
    "    \n",
    "    # make sure we have all the columns we need\n",
    "    assert(set(all_cols) - set(df.columns) == set())\n",
    "    print (df.head())\n",
    "    return df[all_cols]\n"
   ]
  },
  {
   "cell_type": "code",
   "execution_count": 35,
   "metadata": {},
   "outputs": [
    {
     "data": {
      "text/plain": [
       "<cortex.pipeline.Pipeline at 0x7ff188fd8208>"
      ]
     },
     "execution_count": 35,
     "metadata": {},
     "output_type": "execute_result"
    }
   ],
   "source": [
    "# The feature engineering pipeline contains the complete list of dummy columns in addition to some steps we need\n",
    "engineer_pipe = train_ds.pipeline('engineer')\n",
    "x_pipe.set_context('columns', engineer_pipe.get_context('columns'))\n",
    "\n",
    "# Reuse steps from our clean, features, and engineer pipelines\n",
    "drop_unused = x_pipe.get_step('drop_unused')\n",
    "fill_na_none = x_pipe.get_step('fill_na_none')\n",
    "get_dummies = engineer_pipe.get_step('get_dummies')\n",
    "\n",
    "# Build our final input pipeline\n",
    "x_pipe.reset()\n",
    "x_pipe.add_step(fill_na_none)\n",
    "x_pipe.add_step(drop_unused)\n",
    "x_pipe.add_step(get_dummies)\n",
    "x_pipe.add_step(fix_columns)"
   ]
  },
  {
   "cell_type": "markdown",
   "metadata": {},
   "source": [
    "### Model deployment - Step 2: Configure Data Pipeline for Output\n",
    "If you remember, we scaled our target variable using the numpy _log1p_ function.  We need to inverse this using the _exp_ function so our predicted value is correct."
   ]
  },
  {
   "cell_type": "code",
   "execution_count": 36,
   "metadata": {},
   "outputs": [],
   "source": [
    "y_pipe = builder.pipeline('y_pipe')"
   ]
  },
  {
   "cell_type": "code",
   "execution_count": 37,
   "metadata": {},
   "outputs": [],
   "source": [
    "def rescale_target(pipeline, df):\n",
    "    df['Fraud Flag'] = np.exp(df['Fraud Flag'])"
   ]
  },
  {
   "cell_type": "code",
   "execution_count": 38,
   "metadata": {},
   "outputs": [
    {
     "data": {
      "text/plain": [
       "<cortex.pipeline.Pipeline at 0x7ff18888f710>"
      ]
     },
     "execution_count": 38,
     "metadata": {},
     "output_type": "execute_result"
    }
   ],
   "source": [
    "y_pipe.add_step(rescale_target)"
   ]
  },
  {
   "cell_type": "markdown",
   "metadata": {},
   "source": [
    "### Model deployment - Step 3: Build and Deploy Cortex Action\n",
    "Now that we have our input and output pipelines, we can use the Cortex Builder to package and deploy our model in one step."
   ]
  },
  {
   "cell_type": "code",
   "execution_count": 39,
   "metadata": {},
   "outputs": [
    {
     "name": "stdout",
     "output_type": "stream",
     "text": [
      "Building Cortex Action (function): claims-fraud/motorinsurancefraud-predict\n",
      "model version not found, pushing to remote storage: /cortex/models/claims-fraud/motorinsurancefraud-predict/2f278529ea82131fba9293e3d4974b7f.pk\n",
      "Building Docker image private-registry.cortex-dev.insights.ai/skoorg53/claims-fraud_motorinsurancefraud-predict:9gi4y81...\n",
      "Step 1/11 : FROM continuumio/miniconda3:4.5.4\n",
      "Step 2/11 : WORKDIR /function\n",
      "Step 3/11 : RUN apt-get update && apt-get install -y linux-headers-amd64 build-essential\n",
      "Step 4/11 : RUN conda config --add channels conda-forge\n",
      "Step 5/11 : COPY conda_requirements.txt .\n",
      "Step 6/11 : RUN conda install --yes --file conda_requirements.txt\n",
      "Step 7/11 : RUN pip install \"dill==0.2.8.2\" \"fdk==0.0.31\" \"cortex-client==5.4a7\"\n",
      "Step 8/11 : COPY requirements.txt .\n",
      "Step 9/11 : RUN pip install -r requirements.txt\n",
      "Step 10/11 : COPY action.py .\n",
      "Step 11/11 : ENTRYPOINT [\"python\", \"action.py\"]\n",
      "Removing intermediate container f07485b7012b\n",
      "Successfully built 46a0986d2be0\n",
      "Successfully tagged private-registry.cortex-dev.insights.ai/skoorg53/claims-fraud_motorinsurancefraud-predict:9gi4y81\n",
      "Image private-registry.cortex-dev.insights.ai/skoorg53/claims-fraud_motorinsurancefraud-predict:9gi4y81 built in 0.816045 seconds\n",
      "Pushing image to remote repository...\n",
      "9gi4y81: digest: sha256:405a8965ab8114852bdd7fa24989b79b4ca941922dd289fb7a3c9208cb92d9b3 size: 3247\n",
      "Image private-registry.cortex-dev.insights.ai/skoorg53/claims-fraud_motorinsurancefraud-predict:9gi4y81 pushed in 6.375442 seconds\n",
      "Cleaning up...\n",
      "Removing previous image: sha256:c345353f33\n"
     ]
    },
    {
     "data": {
      "text/html": [
       "\n",
       "        <table>\n",
       "            <thead>\n",
       "                <tr>\n",
       "                    <th>Name</th>\n",
       "                    <th>Version</th>\n",
       "                    <th>Type</th>\n",
       "                    <th>Kind</th>\n",
       "                    <th>Image</th>\n",
       "                    <th>Deployment Status</th>\n",
       "                </tr>\n",
       "            </thead>\n",
       "            <tbody>\n",
       "                <td>claims-fraud/motorinsurancefraud-predict</td>\n",
       "                <td>12</td>\n",
       "                <td>function</td>\n",
       "                <td>python:3</td>\n",
       "                <td>private-registry.cortex-dev.insights.ai/skoorg53/claims-fraud_motorinsurancefraud-predict:9gi4y81</td>\n",
       "                <td>COMPLETED</td>\n",
       "            </tbody>\n",
       "        </table>\n",
       "        "
      ],
      "text/plain": [
       "<cortex.action.Action at 0x7ff189676978>"
      ]
     },
     "execution_count": 39,
     "metadata": {},
     "output_type": "execute_result"
    }
   ],
   "source": [
    "builder.action('claims-fraud/motorinsurancefraud-predict')\\\n",
    "       .from_model(model, x_pipeline=x_pipe, y_pipeline=y_pipe, target='Fraud Flag')\\\n",
    "       .build()"
   ]
  },
  {
   "cell_type": "code",
   "execution_count": 40,
   "metadata": {},
   "outputs": [
    {
     "data": {
      "text/html": [
       "\n",
       "        <table>\n",
       "            <thead>\n",
       "                <tr>\n",
       "                    <th>Name</th>\n",
       "                    <th>Version</th>\n",
       "                    <th>Type</th>\n",
       "                    <th>Kind</th>\n",
       "                    <th>Image</th>\n",
       "                    <th>Deployment Status</th>\n",
       "                </tr>\n",
       "            </thead>\n",
       "            <tbody>\n",
       "                <td>claims-fraud/motorinsurancefraud-predict</td>\n",
       "                <td>12</td>\n",
       "                <td>function</td>\n",
       "                <td>python:3</td>\n",
       "                <td>private-registry.cortex-dev.insights.ai/skoorg53/claims-fraud_motorinsurancefraud-predict:9gi4y81</td>\n",
       "                <td>COMPLETED</td>\n",
       "            </tbody>\n",
       "        </table>\n",
       "        "
      ],
      "text/plain": [
       "<cortex.action.Action at 0x7ff18888fcc0>"
      ]
     },
     "execution_count": 40,
     "metadata": {},
     "output_type": "execute_result"
    }
   ],
   "source": [
    "action = cortex.action('claims-fraud/motorinsurancefraud-predict')\n",
    "action"
   ]
  },
  {
   "cell_type": "markdown",
   "metadata": {},
   "source": [
    "---\n",
    "Unit test for the Action.  Make sure our action is ready for use."
   ]
  },
  {
   "cell_type": "code",
   "execution_count": 82,
   "metadata": {},
   "outputs": [
    {
     "name": "stdout",
     "output_type": "stream",
     "text": [
      "{'columns': ['Fraud Flag'], 'values': [1]}\n"
     ]
    }
   ],
   "source": [
    "params = {\n",
    "    \"columns\": ['ID','Insurance Type', 'Income of Policy Holder','Marital Status', 'Num Claimants', 'Injury Type', 'Overnight Hospital Stay', 'Claim Amount', 'Total Claimed', 'Num Claims', 'Num Soft Tissue', '% of Soft Tissue', 'Claim Amount Received'],\n",
    "    \"values\": [[1,'CI',55000,'Married', 2,'Back','Yes',10000,15000,2,6,0.5,27000]]\n",
    "}\n",
    "\n",
    "result = action.invoke(message=cortex.message(params))\n",
    "print(result.payload)\n",
    "print()"
   ]
  },
  {
   "cell_type": "markdown",
   "metadata": {},
   "source": [
    "## Building a Cortex Skill\n",
    "Now that our Action is ready and tested, we can move on to building a Cortex Skill.  We start by creating a Schema that defines our input for Ames Housing price prediction.  The schema will be built automatically using the parameters we already defined in our training dataset."
   ]
  },
  {
   "cell_type": "code",
   "execution_count": 115,
   "metadata": {},
   "outputs": [],
   "source": [
    "x_schema = builder.schema('claims-fraund/motorinsurancefraud').title('Motor Insurance Claims Fraud Test Instance').from_parameters(train_ds.parameters[0:][:-1]).build()"
   ]
  },
  {
   "cell_type": "markdown",
   "metadata": {},
   "source": [
    "The _builder_ has multiple entry points, we use the _skill_ method here to declare a new \"Ames Housing Price Prediction\" Skill.  Each _builder_ method returns an instance of the builder so we can chain calls together."
   ]
  },
  {
   "cell_type": "code",
   "execution_count": 118,
   "metadata": {},
   "outputs": [],
   "source": [
    "b = builder.skill('claims-fraud/motorinsurancefraud-predict').title('Motor Insurance Claims Fraud Prediction').description(' Predicts fraud for auto insurance claims')"
   ]
  },
  {
   "cell_type": "markdown",
   "metadata": {},
   "source": [
    "Next, we use the Input sub-builder to construct our Skill Input.  This is where we declare how our Input will route messages.  In this simple case, we use the _all_ routing which routes all input messages to same Action for processing and declares wich Output to route Action outputs to.  We pass in our Action that we built previously to wire the Skill to the Action (we could have also passed in the Action name here).  Calling _build_ on the Input will create the input object, add it to the Skill builder, and return the Skill builder."
   ]
  },
  {
   "cell_type": "code",
   "execution_count": 121,
   "metadata": {},
   "outputs": [],
   "source": [
    "b = b.input('auto-claim').title('Auto Claim').use_schema(x_schema.name).all_routing(action, 'auto-claim-fraud-prediction').build()"
   ]
  },
  {
   "cell_type": "markdown",
   "metadata": {},
   "source": [
    "In the previous step, we referenced an Output called **claim-prediction**.  We can create that Output here using the Output sub-builder."
   ]
  },
  {
   "cell_type": "code",
   "execution_count": 124,
   "metadata": {},
   "outputs": [],
   "source": [
    "b = b.output('auto-claim-fraud-prediction').title('Fraudulent Claim Prediction').parameter(name='Fraud Flag', type='number', format='double').build()"
   ]
  },
  {
   "cell_type": "markdown",
   "metadata": {},
   "source": [
    "We can preview the CAMEL document our builder will create to make sure everything looks correct."
   ]
  },
  {
   "cell_type": "code",
   "execution_count": 127,
   "metadata": {},
   "outputs": [
    {
     "data": {
      "text/plain": [
       "{'camel': '1.0.0',\n",
       " 'name': 'claims-fraud/motorinsurancefraud-predict',\n",
       " 'title': 'Motor Insurance Claims Fraud Prediction',\n",
       " 'inputs': [{'name': 'auto-claim',\n",
       "   'title': 'Auto Claim',\n",
       "   'parameters': {'$ref': 'claims-fraund/motorinsurancefraud'},\n",
       "   'routing': {'all': {'action': 'claims-fraud/motorinsurancefraud-predict',\n",
       "     'output': 'auto-claim-fraud-prediction'}}}],\n",
       " 'outputs': [{'name': 'auto-claim-fraud-prediction',\n",
       "   'title': 'Fraudulent Claim Prediction',\n",
       "   'parameters': [{'name': 'Fraud Flag',\n",
       "     'type': 'number',\n",
       "     'required': True,\n",
       "     'format': 'double'}]}],\n",
       " 'description': ' Predicts fraud for auto insurance claims'}"
      ]
     },
     "execution_count": 127,
     "metadata": {},
     "output_type": "execute_result"
    }
   ],
   "source": [
    "b.to_camel()"
   ]
  },
  {
   "cell_type": "markdown",
   "metadata": {},
   "source": [
    "---\n",
    "### Build and Publish the Skill to the Marketplace\n",
    "This will build the Skill and publish it to my private marketplace.  It will then be available for use in the Agent Builder."
   ]
  },
  {
   "cell_type": "code",
   "execution_count": 130,
   "metadata": {},
   "outputs": [
    {
     "name": "stdout",
     "output_type": "stream",
     "text": [
      "Motor Insurance Claims Fraud Prediction (claims-fraud/motorinsurancefraud-predict) v3\n"
     ]
    }
   ],
   "source": [
    "skill = b.build()\n",
    "print('%s (%s) v%d' % (skill.title, skill.name, skill.version))"
   ]
  },
  {
   "cell_type": "code",
   "execution_count": null,
   "metadata": {},
   "outputs": [],
   "source": []
  }
 ],
 "metadata": {
  "kernelspec": {
   "display_name": "Python 3",
   "language": "python",
   "name": "python3"
  },
  "language_info": {
   "codemirror_mode": {
    "name": "ipython",
    "version": 3
   },
   "file_extension": ".py",
   "mimetype": "text/x-python",
   "name": "python",
   "nbconvert_exporter": "python",
   "pygments_lexer": "ipython3",
   "version": "3.6.8"
  }
 },
 "nbformat": 4,
 "nbformat_minor": 2
}
