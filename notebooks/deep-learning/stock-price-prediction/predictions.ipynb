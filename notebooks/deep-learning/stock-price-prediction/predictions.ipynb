{
 "cells": [
  {
   "cell_type": "code",
   "execution_count": 1,
   "metadata": {},
   "outputs": [],
   "source": [
    "%run config.ipynb"
   ]
  },
  {
   "cell_type": "code",
   "execution_count": 2,
   "metadata": {},
   "outputs": [],
   "source": [
    "# Connect to Cortex\n",
    "cortex = Cortex.client()"
   ]
  },
  {
   "cell_type": "code",
   "execution_count": 3,
   "metadata": {},
   "outputs": [],
   "source": [
    "# Our stock symbols\n",
    "symbols = ['fb', 'xlf', 'aapl']\n",
    "s = symbols[0]"
   ]
  },
  {
   "cell_type": "code",
   "execution_count": 4,
   "metadata": {},
   "outputs": [
    {
     "name": "stdout",
     "output_type": "stream",
     "text": [
      "Loading stock prices for fb\n"
     ]
    }
   ],
   "source": [
    "print('Loading stock prices for %s' % s)\n",
    "ds = cortex.dataset('demo/stock-prices-%s' % s)\n",
    "c = ds.contract('stock-prices')"
   ]
  },
  {
   "cell_type": "code",
   "execution_count": 5,
   "metadata": {},
   "outputs": [
    {
     "name": "stderr",
     "output_type": "stream",
     "text": [
      "Using TensorFlow backend.\n"
     ]
    }
   ],
   "source": [
    "from keras.models import load_model\n",
    "model = load_model('model_stock_prices_%s.h5' % s)"
   ]
  },
  {
   "cell_type": "code",
   "execution_count": 6,
   "metadata": {},
   "outputs": [],
   "source": [
    "# Load our scaler model so we can inverse the transform for visualization/validation\n",
    "price_scaler = c.load_model_file(tag='prices_scaler_%s' % s)"
   ]
  },
  {
   "cell_type": "code",
   "execution_count": 12,
   "metadata": {},
   "outputs": [
    {
     "data": {
      "text/html": [
       "<div>\n",
       "<style scoped>\n",
       "    .dataframe tbody tr th:only-of-type {\n",
       "        vertical-align: middle;\n",
       "    }\n",
       "\n",
       "    .dataframe tbody tr th {\n",
       "        vertical-align: top;\n",
       "    }\n",
       "\n",
       "    .dataframe thead th {\n",
       "        text-align: right;\n",
       "    }\n",
       "</style>\n",
       "<table border=\"1\" class=\"dataframe\">\n",
       "  <thead>\n",
       "    <tr style=\"text-align: right;\">\n",
       "      <th></th>\n",
       "      <th>close</th>\n",
       "    </tr>\n",
       "    <tr>\n",
       "      <th>date</th>\n",
       "      <th></th>\n",
       "    </tr>\n",
       "  </thead>\n",
       "  <tbody>\n",
       "    <tr>\n",
       "      <th>2018-08-02</th>\n",
       "      <td>1.456182</td>\n",
       "    </tr>\n",
       "    <tr>\n",
       "      <th>2018-08-03</th>\n",
       "      <td>1.488092</td>\n",
       "    </tr>\n",
       "    <tr>\n",
       "      <th>2018-08-06</th>\n",
       "      <td>1.667103</td>\n",
       "    </tr>\n",
       "    <tr>\n",
       "      <th>2018-08-07</th>\n",
       "      <td>1.624557</td>\n",
       "    </tr>\n",
       "    <tr>\n",
       "      <th>2018-08-08</th>\n",
       "      <td>1.655561</td>\n",
       "    </tr>\n",
       "  </tbody>\n",
       "</table>\n",
       "</div>"
      ],
      "text/plain": [
       "               close\n",
       "date                \n",
       "2018-08-02  1.456182\n",
       "2018-08-03  1.488092\n",
       "2018-08-06  1.667103\n",
       "2018-08-07  1.624557\n",
       "2018-08-08  1.655561"
      ]
     },
     "execution_count": 12,
     "metadata": {},
     "output_type": "execute_result"
    }
   ],
   "source": [
    "df = c.load_feature_file(tag='prices_%s' % s)\n",
    "df.tail()"
   ]
  },
  {
   "cell_type": "code",
   "execution_count": 8,
   "metadata": {},
   "outputs": [
    {
     "name": "stdout",
     "output_type": "stream",
     "text": [
      "Predicted price for 2018-08-09 is $181.88\n",
      "Predicted price for 2018-08-10 is $179.81\n",
      "Predicted price for 2018-08-11 is $178.11\n",
      "Predicted price for 2018-08-12 is $176.84\n",
      "Predicted price for 2018-08-13 is $175.99\n",
      "Predicted price for 2018-08-14 is $175.50\n",
      "Predicted price for 2018-08-15 is $175.26\n",
      "Predicted price for 2018-08-16 is $175.16\n",
      "Predicted price for 2018-08-17 is $175.12\n",
      "Predicted price for 2018-08-18 is $175.10\n",
      "Predicted price for 2018-08-19 is $175.07\n",
      "Predicted price for 2018-08-20 is $175.01\n",
      "Predicted price for 2018-08-21 is $174.93\n",
      "Predicted price for 2018-08-22 is $174.84\n",
      "Predicted price for 2018-08-23 is $174.75\n",
      "Predicted price for 2018-08-24 is $174.65\n",
      "Predicted price for 2018-08-25 is $174.56\n",
      "Predicted price for 2018-08-26 is $174.47\n",
      "Predicted price for 2018-08-27 is $174.38\n",
      "Predicted price for 2018-08-28 is $174.30\n",
      "Predicted price for 2018-08-29 is $174.23\n",
      "Predicted price for 2018-08-30 is $174.18\n",
      "Predicted price for 2018-08-31 is $174.13\n",
      "Predicted price for 2018-09-01 is $174.09\n",
      "Predicted price for 2018-09-02 is $174.05\n",
      "Predicted price for 2018-09-03 is $174.01\n",
      "Predicted price for 2018-09-04 is $173.96\n",
      "Predicted price for 2018-09-05 is $173.91\n",
      "Predicted price for 2018-09-06 is $173.85\n",
      "Predicted price for 2018-09-07 is $173.80\n"
     ]
    }
   ],
   "source": [
    "from datetime import timedelta\n",
    "\n",
    "look_back = 30\n",
    "future_df = df.copy(deep=True)\n",
    "\n",
    "start_d = future_df.index.date[-1]\n",
    "start_idx = len(future_df) - 1\n",
    "results = {}\n",
    "\n",
    "for i in range(look_back):\n",
    "    ix = start_idx + i + 1\n",
    "    pred_d = start_d + timedelta(days=i+1)\n",
    "    X = future_df.loc[future_df.index[ix-look_back:ix], 'close'].as_matrix()\n",
    "    X = X.reshape(1,look_back,1)\n",
    "    y = model.predict(X)\n",
    "    pred_price = y[0][0]\n",
    "    future_df.loc[pd.to_datetime(pred_d), 'close'] = pred_price\n",
    "    future_df.loc[pd.to_datetime(pred_d), 'Pred'] = pred_price\n",
    "    print('Predicted price for %s is $%.2f' % (pred_d, price_scaler.inverse_transform(y)))"
   ]
  },
  {
   "cell_type": "code",
   "execution_count": 9,
   "metadata": {},
   "outputs": [],
   "source": [
    "future_df.loc[:, 'close'] = price_scaler.inverse_transform(future_df.loc[:, 'close'])\n",
    "future_df.loc[:, 'Pred'] = price_scaler.inverse_transform(future_df.loc[:, 'Pred'])"
   ]
  },
  {
   "cell_type": "code",
   "execution_count": 10,
   "metadata": {},
   "outputs": [
    {
     "data": {
      "text/plain": [
       "<matplotlib.axes._subplots.AxesSubplot at 0x12f5a4400>"
      ]
     },
     "execution_count": 10,
     "metadata": {},
     "output_type": "execute_result"
    },
    {
     "data": {
      "image/png": "[encoded data removed]",
      "text/plain": [
       "<Figure size 1296x648 with 1 Axes>"
      ]
     },
     "metadata": {},
     "output_type": "display_data"
    }
   ],
   "source": [
    "%matplotlib inline\n",
    "plt.rcParams['figure.figsize'] = [18,9]\n",
    "future_df.tail(look_back*3).plot()"
   ]
  },
  {
   "cell_type": "code",
   "execution_count": 11,
   "metadata": {},
   "outputs": [
    {
     "data": {
      "text/html": [
       "<div>\n",
       "<style scoped>\n",
       "    .dataframe tbody tr th:only-of-type {\n",
       "        vertical-align: middle;\n",
       "    }\n",
       "\n",
       "    .dataframe tbody tr th {\n",
       "        vertical-align: top;\n",
       "    }\n",
       "\n",
       "    .dataframe thead th {\n",
       "        text-align: right;\n",
       "    }\n",
       "</style>\n",
       "<table border=\"1\" class=\"dataframe\">\n",
       "  <thead>\n",
       "    <tr style=\"text-align: right;\">\n",
       "      <th></th>\n",
       "      <th>close</th>\n",
       "      <th>Pred</th>\n",
       "    </tr>\n",
       "    <tr>\n",
       "      <th>date</th>\n",
       "      <th></th>\n",
       "      <th></th>\n",
       "    </tr>\n",
       "  </thead>\n",
       "  <tbody>\n",
       "    <tr>\n",
       "      <th>2018-08-09</th>\n",
       "      <td>181.875497</td>\n",
       "      <td>181.875497</td>\n",
       "    </tr>\n",
       "    <tr>\n",
       "      <th>2018-08-10</th>\n",
       "      <td>179.808526</td>\n",
       "      <td>179.808526</td>\n",
       "    </tr>\n",
       "    <tr>\n",
       "      <th>2018-08-11</th>\n",
       "      <td>178.105421</td>\n",
       "      <td>178.105421</td>\n",
       "    </tr>\n",
       "    <tr>\n",
       "      <th>2018-08-12</th>\n",
       "      <td>176.835147</td>\n",
       "      <td>176.835147</td>\n",
       "    </tr>\n",
       "    <tr>\n",
       "      <th>2018-08-13</th>\n",
       "      <td>175.993797</td>\n",
       "      <td>175.993797</td>\n",
       "    </tr>\n",
       "    <tr>\n",
       "      <th>2018-08-14</th>\n",
       "      <td>175.502253</td>\n",
       "      <td>175.502253</td>\n",
       "    </tr>\n",
       "    <tr>\n",
       "      <th>2018-08-15</th>\n",
       "      <td>175.256334</td>\n",
       "      <td>175.256334</td>\n",
       "    </tr>\n",
       "    <tr>\n",
       "      <th>2018-08-16</th>\n",
       "      <td>175.155593</td>\n",
       "      <td>175.155593</td>\n",
       "    </tr>\n",
       "    <tr>\n",
       "      <th>2018-08-17</th>\n",
       "      <td>175.120853</td>\n",
       "      <td>175.120853</td>\n",
       "    </tr>\n",
       "    <tr>\n",
       "      <th>2018-08-18</th>\n",
       "      <td>175.100046</td>\n",
       "      <td>175.100046</td>\n",
       "    </tr>\n",
       "    <tr>\n",
       "      <th>2018-08-19</th>\n",
       "      <td>175.065797</td>\n",
       "      <td>175.065797</td>\n",
       "    </tr>\n",
       "    <tr>\n",
       "      <th>2018-08-20</th>\n",
       "      <td>175.009182</td>\n",
       "      <td>175.009182</td>\n",
       "    </tr>\n",
       "    <tr>\n",
       "      <th>2018-08-21</th>\n",
       "      <td>174.932260</td>\n",
       "      <td>174.932260</td>\n",
       "    </tr>\n",
       "    <tr>\n",
       "      <th>2018-08-22</th>\n",
       "      <td>174.841880</td>\n",
       "      <td>174.841880</td>\n",
       "    </tr>\n",
       "    <tr>\n",
       "      <th>2018-08-23</th>\n",
       "      <td>174.745558</td>\n",
       "      <td>174.745558</td>\n",
       "    </tr>\n",
       "    <tr>\n",
       "      <th>2018-08-24</th>\n",
       "      <td>174.649120</td>\n",
       "      <td>174.649120</td>\n",
       "    </tr>\n",
       "    <tr>\n",
       "      <th>2018-08-25</th>\n",
       "      <td>174.555775</td>\n",
       "      <td>174.555775</td>\n",
       "    </tr>\n",
       "    <tr>\n",
       "      <th>2018-08-26</th>\n",
       "      <td>174.466332</td>\n",
       "      <td>174.466332</td>\n",
       "    </tr>\n",
       "    <tr>\n",
       "      <th>2018-08-27</th>\n",
       "      <td>174.378459</td>\n",
       "      <td>174.378459</td>\n",
       "    </tr>\n",
       "    <tr>\n",
       "      <th>2018-08-28</th>\n",
       "      <td>174.296412</td>\n",
       "      <td>174.296412</td>\n",
       "    </tr>\n",
       "    <tr>\n",
       "      <th>2018-08-29</th>\n",
       "      <td>174.231632</td>\n",
       "      <td>174.231632</td>\n",
       "    </tr>\n",
       "    <tr>\n",
       "      <th>2018-08-30</th>\n",
       "      <td>174.177940</td>\n",
       "      <td>174.177940</td>\n",
       "    </tr>\n",
       "    <tr>\n",
       "      <th>2018-08-31</th>\n",
       "      <td>174.132508</td>\n",
       "      <td>174.132508</td>\n",
       "    </tr>\n",
       "    <tr>\n",
       "      <th>2018-09-01</th>\n",
       "      <td>174.091274</td>\n",
       "      <td>174.091274</td>\n",
       "    </tr>\n",
       "    <tr>\n",
       "      <th>2018-09-02</th>\n",
       "      <td>174.051299</td>\n",
       "      <td>174.051299</td>\n",
       "    </tr>\n",
       "    <tr>\n",
       "      <th>2018-09-03</th>\n",
       "      <td>174.008979</td>\n",
       "      <td>174.008979</td>\n",
       "    </tr>\n",
       "    <tr>\n",
       "      <th>2018-09-04</th>\n",
       "      <td>173.962567</td>\n",
       "      <td>173.962567</td>\n",
       "    </tr>\n",
       "    <tr>\n",
       "      <th>2018-09-05</th>\n",
       "      <td>173.910166</td>\n",
       "      <td>173.910166</td>\n",
       "    </tr>\n",
       "    <tr>\n",
       "      <th>2018-09-06</th>\n",
       "      <td>173.854436</td>\n",
       "      <td>173.854436</td>\n",
       "    </tr>\n",
       "    <tr>\n",
       "      <th>2018-09-07</th>\n",
       "      <td>173.797383</td>\n",
       "      <td>173.797383</td>\n",
       "    </tr>\n",
       "  </tbody>\n",
       "</table>\n",
       "</div>"
      ],
      "text/plain": [
       "                 close        Pred\n",
       "date                              \n",
       "2018-08-09  181.875497  181.875497\n",
       "2018-08-10  179.808526  179.808526\n",
       "2018-08-11  178.105421  178.105421\n",
       "2018-08-12  176.835147  176.835147\n",
       "2018-08-13  175.993797  175.993797\n",
       "2018-08-14  175.502253  175.502253\n",
       "2018-08-15  175.256334  175.256334\n",
       "2018-08-16  175.155593  175.155593\n",
       "2018-08-17  175.120853  175.120853\n",
       "2018-08-18  175.100046  175.100046\n",
       "2018-08-19  175.065797  175.065797\n",
       "2018-08-20  175.009182  175.009182\n",
       "2018-08-21  174.932260  174.932260\n",
       "2018-08-22  174.841880  174.841880\n",
       "2018-08-23  174.745558  174.745558\n",
       "2018-08-24  174.649120  174.649120\n",
       "2018-08-25  174.555775  174.555775\n",
       "2018-08-26  174.466332  174.466332\n",
       "2018-08-27  174.378459  174.378459\n",
       "2018-08-28  174.296412  174.296412\n",
       "2018-08-29  174.231632  174.231632\n",
       "2018-08-30  174.177940  174.177940\n",
       "2018-08-31  174.132508  174.132508\n",
       "2018-09-01  174.091274  174.091274\n",
       "2018-09-02  174.051299  174.051299\n",
       "2018-09-03  174.008979  174.008979\n",
       "2018-09-04  173.962567  173.962567\n",
       "2018-09-05  173.910166  173.910166\n",
       "2018-09-06  173.854436  173.854436\n",
       "2018-09-07  173.797383  173.797383"
      ]
     },
     "execution_count": 11,
     "metadata": {},
     "output_type": "execute_result"
    }
   ],
   "source": [
    "future_df.tail(look_back)"
   ]
  },
  {
   "cell_type": "code",
   "execution_count": null,
   "metadata": {},
   "outputs": [],
   "source": []
  }
 ],
 "metadata": {
  "kernelspec": {
   "display_name": "Python 3",
   "language": "python",
   "name": "python3"
  },
  "language_info": {
   "codemirror_mode": {
    "name": "ipython",
    "version": 3
   },
   "file_extension": ".py",
   "mimetype": "text/x-python",
   "name": "python",
   "nbconvert_exporter": "python",
   "pygments_lexer": "ipython3",
   "version": "3.6.6"
  }
 },
 "nbformat": 4,
 "nbformat_minor": 2
}
