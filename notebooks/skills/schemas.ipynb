{
 "cells": [
  {
   "cell_type": "code",
   "execution_count": 1,
   "metadata": {},
   "outputs": [],
   "source": [
    "# Common Setup\n",
    "%run setup.ipynb"
   ]
  },
  {
   "cell_type": "code",
   "execution_count": 2,
   "metadata": {},
   "outputs": [],
   "source": [
    "cortex = Cortex.client()\n",
    "builder = cortex.builder()"
   ]
  },
  {
   "cell_type": "code",
   "execution_count": 3,
   "metadata": {},
   "outputs": [],
   "source": [
    "from dataclasses import dataclass\n",
    "from typing import List, Dict\n",
    "import datetime\n",
    "\n",
    "@dataclass\n",
    "class MyType:\n",
    "    field1: int\n",
    "    field2: str\n",
    "    field3: float\n",
    "    field4: bool\n",
    "    field5: object\n",
    "    field6: List[int]\n",
    "    field7: Dict[str, object]\n",
    "    field8: list\n",
    "    field9: []\n",
    "    field10: {}\n",
    "    field11: dict\n",
    "    field12: datetime.date\n",
    "    field13: datetime.datetime"
   ]
  },
  {
   "cell_type": "code",
   "execution_count": 4,
   "metadata": {},
   "outputs": [],
   "source": [
    "b = builder.schema('demo/my-type').title('My Type').from_dataclass(MyType)"
   ]
  },
  {
   "cell_type": "code",
   "execution_count": 5,
   "metadata": {},
   "outputs": [
    {
     "data": {
      "text/plain": [
       "{'camel': '1.0.0',\n",
       " 'name': 'demo/my-type',\n",
       " 'title': 'My Type',\n",
       " 'description': ' ',\n",
       " 'parameters': [{'name': 'field1', 'type': 'integer', 'format': 'int64'},\n",
       "  {'name': 'field2', 'type': 'string'},\n",
       "  {'name': 'field3', 'type': 'number', 'format': 'double'},\n",
       "  {'name': 'field4', 'type': 'boolean'},\n",
       "  {'name': 'field5', 'type': 'object'},\n",
       "  {'name': 'field6', 'type': 'array'},\n",
       "  {'name': 'field7', 'type': 'object'},\n",
       "  {'name': 'field8', 'type': 'array'},\n",
       "  {'name': 'field9', 'type': 'array'},\n",
       "  {'name': 'field10', 'type': 'object'},\n",
       "  {'name': 'field11', 'type': 'object'},\n",
       "  {'name': 'field12', 'type': 'string', 'format': 'date'},\n",
       "  {'name': 'field13', 'type': 'string', 'format': 'date-time'}]}"
      ]
     },
     "execution_count": 5,
     "metadata": {},
     "output_type": "execute_result"
    }
   ],
   "source": [
    "b.to_camel()"
   ]
  },
  {
   "cell_type": "code",
   "execution_count": 6,
   "metadata": {},
   "outputs": [
    {
     "name": "stderr",
     "output_type": "stream",
     "text": [
      "2018-08-10 10:26:03,387 - INFO - cortex.schema/schema @ MainThread: Getting schema using URI: catalog/types/demo/my-type\n"
     ]
    }
   ],
   "source": [
    "s = b.build()"
   ]
  },
  {
   "cell_type": "code",
   "execution_count": 8,
   "metadata": {},
   "outputs": [
    {
     "name": "stdout",
     "output_type": "stream",
     "text": [
      "My Type (demo/my-type) v5\n"
     ]
    }
   ],
   "source": [
    "print(\"%s (%s) v%d\" % (s.title, s.name, s.version))"
   ]
  },
  {
   "cell_type": "code",
   "execution_count": null,
   "metadata": {},
   "outputs": [],
   "source": []
  }
 ],
 "metadata": {
  "kernelspec": {
   "display_name": "Python 3",
   "language": "python",
   "name": "python3"
  },
  "language_info": {
   "codemirror_mode": {
    "name": "ipython",
    "version": 3
   },
   "file_extension": ".py",
   "mimetype": "text/x-python",
   "name": "python",
   "nbconvert_exporter": "python",
   "pygments_lexer": "ipython3",
   "version": "3.6.6"
  }
 },
 "nbformat": 4,
 "nbformat_minor": 2
}
