{
 "cells": [
  {
   "cell_type": "markdown",
   "id": "c71f33f5",
   "metadata": {},
   "source": [
    "# Telco Customer Churn"
   ]
  },
  {
   "cell_type": "code",
   "execution_count": 24,
   "id": "c89d33f1",
   "metadata": {},
   "outputs": [
    {
     "name": "stdout",
     "output_type": "stream",
     "text": [
      "Cortex Python SDK v6.2.0\n",
      "Cortex Discovery Libraries v3.5.14\n"
     ]
    }
   ],
   "source": [
    "# set task name\n",
    "task_name = 'telco_churn-v2'\n",
    "\n",
    "# load common\n",
    "%run common.ipynb"
   ]
  },
  {
   "cell_type": "markdown",
   "id": "6d371c9f",
   "metadata": {},
   "source": [
    "## Controller"
   ]
  },
  {
   "cell_type": "code",
   "execution_count": 25,
   "id": "99232e40",
   "metadata": {},
   "outputs": [],
   "source": [
    "from ds_discovery import Controller"
   ]
  },
  {
   "cell_type": "code",
   "execution_count": 26,
   "id": "3c8e31dd",
   "metadata": {},
   "outputs": [],
   "source": [
    "controller = Controller.from_env(has_contract=False)"
   ]
  },
  {
   "cell_type": "code",
   "execution_count": 27,
   "id": "1c945b8c",
   "metadata": {},
   "outputs": [],
   "source": [
    "# register the components\n",
    "controller.intent_model.transition(canonical=0, task_name=task_name, intent_level='telco_churn_tr')\n",
    "controller.intent_model.synthetic_builder(canonical=0, task_name=task_name, intent_level='telco_churn_sb')\n",
    "controller.intent_model.wrangle(canonical=0, task_name=task_name, intent_level='telco_churn_wr')"
   ]
  },
  {
   "cell_type": "code",
   "execution_count": 28,
   "id": "ad9d3f0a",
   "metadata": {},
   "outputs": [
    {
     "data": {
      "text/html": [
       "<style type=\"text/css\">\n",
       "#T_7c7db th {\n",
       "  font-size: 120%;\n",
       "  text-align: center;\n",
       "}\n",
       "#T_7c7db .row_heading {\n",
       "  display: none;;\n",
       "}\n",
       "#T_7c7db  .blank {\n",
       "  display: none;;\n",
       "}\n",
       "#T_7c7db_row0_col0, #T_7c7db_row1_col0, #T_7c7db_row2_col0 {\n",
       "  text-align: left;\n",
       "  font-weight: bold;\n",
       "  font-size: 120%;\n",
       "}\n",
       "#T_7c7db_row0_col1, #T_7c7db_row0_col2, #T_7c7db_row0_col3, #T_7c7db_row0_col4, #T_7c7db_row0_col5, #T_7c7db_row1_col1, #T_7c7db_row1_col2, #T_7c7db_row1_col3, #T_7c7db_row1_col4, #T_7c7db_row1_col5, #T_7c7db_row2_col1, #T_7c7db_row2_col2, #T_7c7db_row2_col3, #T_7c7db_row2_col4, #T_7c7db_row2_col5 {\n",
       "  text-align: left;\n",
       "}\n",
       "</style>\n",
       "<table id=\"T_7c7db\">\n",
       "  <thead>\n",
       "    <tr>\n",
       "      <th class=\"blank level0\" >&nbsp;</th>\n",
       "      <th id=\"T_7c7db_level0_col0\" class=\"col_heading level0 col0\" >level</th>\n",
       "      <th id=\"T_7c7db_level0_col1\" class=\"col_heading level0 col1\" >order</th>\n",
       "      <th id=\"T_7c7db_level0_col2\" class=\"col_heading level0 col2\" >component</th>\n",
       "      <th id=\"T_7c7db_level0_col3\" class=\"col_heading level0 col3\" >task</th>\n",
       "      <th id=\"T_7c7db_level0_col4\" class=\"col_heading level0 col4\" >parameters</th>\n",
       "      <th id=\"T_7c7db_level0_col5\" class=\"col_heading level0 col5\" >creator</th>\n",
       "    </tr>\n",
       "  </thead>\n",
       "  <tbody>\n",
       "    <tr>\n",
       "      <th id=\"T_7c7db_level0_row0\" class=\"row_heading level0 row0\" >0</th>\n",
       "      <td id=\"T_7c7db_row0_col0\" class=\"data row0 col0\" >telco_churn_sb</td>\n",
       "      <td id=\"T_7c7db_row0_col1\" class=\"data row0 col1\" >0</td>\n",
       "      <td id=\"T_7c7db_row0_col2\" class=\"data row0 col2\" >SyntheticBuilder</td>\n",
       "      <td id=\"T_7c7db_row0_col3\" class=\"data row0 col3\" >'telco_churn-v2'</td>\n",
       "      <td id=\"T_7c7db_row0_col4\" class=\"data row0 col4\" >[]</td>\n",
       "      <td id=\"T_7c7db_row0_col5\" class=\"data row0 col5\" >lkrishna</td>\n",
       "    </tr>\n",
       "    <tr>\n",
       "      <th id=\"T_7c7db_level0_row1\" class=\"row_heading level0 row1\" >1</th>\n",
       "      <td id=\"T_7c7db_row1_col0\" class=\"data row1 col0\" >telco_churn_tr</td>\n",
       "      <td id=\"T_7c7db_row1_col1\" class=\"data row1 col1\" >0</td>\n",
       "      <td id=\"T_7c7db_row1_col2\" class=\"data row1 col2\" >Transition</td>\n",
       "      <td id=\"T_7c7db_row1_col3\" class=\"data row1 col3\" >'telco_churn-v2'</td>\n",
       "      <td id=\"T_7c7db_row1_col4\" class=\"data row1 col4\" >[]</td>\n",
       "      <td id=\"T_7c7db_row1_col5\" class=\"data row1 col5\" >lkrishna</td>\n",
       "    </tr>\n",
       "    <tr>\n",
       "      <th id=\"T_7c7db_level0_row2\" class=\"row_heading level0 row2\" >2</th>\n",
       "      <td id=\"T_7c7db_row2_col0\" class=\"data row2 col0\" >telco_churn_wr</td>\n",
       "      <td id=\"T_7c7db_row2_col1\" class=\"data row2 col1\" >0</td>\n",
       "      <td id=\"T_7c7db_row2_col2\" class=\"data row2 col2\" >Wrangle</td>\n",
       "      <td id=\"T_7c7db_row2_col3\" class=\"data row2 col3\" >'telco_churn-v2'</td>\n",
       "      <td id=\"T_7c7db_row2_col4\" class=\"data row2 col4\" >[]</td>\n",
       "      <td id=\"T_7c7db_row2_col5\" class=\"data row2 col5\" >lkrishna</td>\n",
       "    </tr>\n",
       "  </tbody>\n",
       "</table>\n"
      ],
      "text/plain": [
       "<pandas.io.formats.style.Styler at 0x2a0036400>"
      ]
     },
     "execution_count": 28,
     "metadata": {},
     "output_type": "execute_result"
    }
   ],
   "source": [
    "controller.report_tasks()"
   ]
  },
  {
   "cell_type": "code",
   "execution_count": 29,
   "id": "a6ba458e",
   "metadata": {},
   "outputs": [
    {
     "data": {
      "text/html": [
       "<div>\n",
       "<style scoped>\n",
       "    .dataframe tbody tr th:only-of-type {\n",
       "        vertical-align: middle;\n",
       "    }\n",
       "\n",
       "    .dataframe tbody tr th {\n",
       "        vertical-align: top;\n",
       "    }\n",
       "\n",
       "    .dataframe thead th {\n",
       "        text-align: right;\n",
       "    }\n",
       "</style>\n",
       "<table border=\"1\" class=\"dataframe\">\n",
       "  <thead>\n",
       "    <tr style=\"text-align: right;\">\n",
       "      <th></th>\n",
       "      <th>time</th>\n",
       "      <th>text</th>\n",
       "    </tr>\n",
       "  </thead>\n",
       "  <tbody>\n",
       "    <tr>\n",
       "      <th>0</th>\n",
       "      <td>2022-12-28 13:38:51.397225</td>\n",
       "      <td>start run-cycle 0</td>\n",
       "    </tr>\n",
       "    <tr>\n",
       "      <th>1</th>\n",
       "      <td>2022-12-28 13:38:51.397642</td>\n",
       "      <td>start task cycle 0</td>\n",
       "    </tr>\n",
       "    <tr>\n",
       "      <th>2</th>\n",
       "      <td>2022-12-28 13:38:51.398288</td>\n",
       "      <td>running telco_churn_tr</td>\n",
       "    </tr>\n",
       "    <tr>\n",
       "      <th>3</th>\n",
       "      <td>2022-12-28 13:38:53.972949</td>\n",
       "      <td>canonical shape is (7043, 52)</td>\n",
       "    </tr>\n",
       "    <tr>\n",
       "      <th>4</th>\n",
       "      <td>2022-12-28 13:38:53.976836</td>\n",
       "      <td>running telco_churn_sb</td>\n",
       "    </tr>\n",
       "    <tr>\n",
       "      <th>5</th>\n",
       "      <td>2022-12-28 13:39:11.884329</td>\n",
       "      <td>canonical shape is (1000, 52)</td>\n",
       "    </tr>\n",
       "    <tr>\n",
       "      <th>6</th>\n",
       "      <td>2022-12-28 13:39:11.885377</td>\n",
       "      <td>running telco_churn_wr</td>\n",
       "    </tr>\n",
       "    <tr>\n",
       "      <th>7</th>\n",
       "      <td>2022-12-28 13:39:12.068636</td>\n",
       "      <td>canonical shape is (1000, 1428)</td>\n",
       "    </tr>\n",
       "    <tr>\n",
       "      <th>8</th>\n",
       "      <td>2022-12-28 13:39:12.069722</td>\n",
       "      <td>tasks complete</td>\n",
       "    </tr>\n",
       "    <tr>\n",
       "      <th>9</th>\n",
       "      <td>2022-12-28 13:39:12.070228</td>\n",
       "      <td>end of report</td>\n",
       "    </tr>\n",
       "  </tbody>\n",
       "</table>\n",
       "</div>"
      ],
      "text/plain": [
       "                         time                             text\n",
       "0  2022-12-28 13:38:51.397225                start run-cycle 0\n",
       "1  2022-12-28 13:38:51.397642               start task cycle 0\n",
       "2  2022-12-28 13:38:51.398288           running telco_churn_tr\n",
       "3  2022-12-28 13:38:53.972949    canonical shape is (7043, 52)\n",
       "4  2022-12-28 13:38:53.976836           running telco_churn_sb\n",
       "5  2022-12-28 13:39:11.884329    canonical shape is (1000, 52)\n",
       "6  2022-12-28 13:39:11.885377           running telco_churn_wr\n",
       "7  2022-12-28 13:39:12.068636  canonical shape is (1000, 1428)\n",
       "8  2022-12-28 13:39:12.069722                   tasks complete\n",
       "9  2022-12-28 13:39:12.070228                    end of report"
      ]
     },
     "execution_count": 29,
     "metadata": {},
     "output_type": "execute_result"
    }
   ],
   "source": [
    "# run the controller and load the run report\n",
    "controller.run_controller(run_cycle_report='cycle_report.csv')\n",
    "controller.load_canonical(connector_name='run_cycle_report')"
   ]
  },
  {
   "cell_type": "code",
   "execution_count": null,
   "id": "0fdb8f1c",
   "metadata": {},
   "outputs": [],
   "source": []
  }
 ],
 "metadata": {
  "kernelspec": {
   "display_name": "Python 3.9.12 ('base')",
   "language": "python",
   "name": "python3"
  },
  "language_info": {
   "codemirror_mode": {
    "name": "ipython",
    "version": 3
   },
   "file_extension": ".py",
   "mimetype": "text/x-python",
   "name": "python",
   "nbconvert_exporter": "python",
   "pygments_lexer": "ipython3",
   "version": "3.9.12 (main, Jun  1 2022, 06:34:44) \n[Clang 12.0.0 ]"
  },
  "vscode": {
   "interpreter": {
    "hash": "5b955cc64629c387b472d3b10f98cda91d6b328f243e804e483ec62675621a2c"
   }
  }
 },
 "nbformat": 4,
 "nbformat_minor": 5
}
