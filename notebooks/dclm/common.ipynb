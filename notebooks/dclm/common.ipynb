{
 "cells": [
  {
   "cell_type": "markdown",
   "id": "a293f502",
   "metadata": {},
   "source": [
    "## Common load"
   ]
  },
  {
   "cell_type": "code",
   "execution_count": null,
   "id": "f6883323",
   "metadata": {},
   "outputs": [],
   "source": [
    "# saves you having to use print as all exposed variables are printed in the cell\n",
    "from IPython.core.interactiveshell import InteractiveShell\n",
    "InteractiveShell.ast_node_interactivity = \"all\""
   ]
  },
  {
   "cell_type": "code",
   "execution_count": 5,
   "id": "0d7820e9",
   "metadata": {},
   "outputs": [],
   "source": [
    "# core libraries\n",
    "import os\n",
    "from pathlib import Path\n",
    "import numpy as np\n",
    "import pandas as pd\n",
    "import matplotlib.pyplot as plt\n",
    "import seaborn as sns\n",
    "from cortex import Cortex, Message\n",
    "\n",
    "# matpolitlib config\n",
    "%matplotlib inline\n",
    "\n",
    "# Style setup\n",
    "plt.style.use('ggplot')\n",
    "sns.set()\n",
    "\n",
    "# Pandas setup\n",
    "pd.set_option('max_colwidth', 200)\n",
    "pd.set_option('display.max_rows', 500)\n",
    "pd.set_option('display.max_columns', 99)\n",
    "pd.set_option('expand_frame_repr', True)\n",
    "\n",
    "# Limiting floats output to 3 decimal points\n",
    "pd.set_option('display.float_format', lambda x: '{:.3f}'.format(x))\n",
    "\n",
    "# suppress warning message\n",
    "import warnings\n",
    "warnings.filterwarnings('ignore')\n"
   ]
  },
  {
   "cell_type": "code",
   "execution_count": null,
   "id": "7719a718",
   "metadata": {},
   "outputs": [],
   "source": [
    "# clean out any old environments\n",
    "for key in os.environ.keys():\n",
    "    if key.startswith('HADRON'):\n",
    "        del os.environ[key]"
   ]
  },
  {
   "cell_type": "code",
   "execution_count": null,
   "id": "5f7fa632",
   "metadata": {},
   "outputs": [],
   "source": [
    "# Domain Contract\n",
    "os.environ['HADRON_PM_PATH'] = Path('/Users/lkrishna/git/cortex-fabric-examples/notebooks/telco-churn-v2/hadron/meta', task_name, 'contracts').as_posix() \n",
    "os.environ['HADRON_PM_TYPE'] = 'json'\n",
    "\n",
    "# local\n",
    "os.environ['HADRON_DEFAULT_PATH'] = Path('/Users/lkrishna/git/cortex-fabric-examples/notebooks/telco-churn-v2/hadron/meta', task_name, 'data').as_posix()\n",
    "os.environ['HADRON_DEFAULT_MODULE'] = 'ds_discovery.handlers.pandas_handlers'\n",
    "os.environ['HADRON_DEFAULT_SOURCE_HANDLER'] = 'PandasSourceHandler'\n",
    "os.environ['HADRON_DEFAULT_PERSIST_HANDLER'] = 'PandasPersistHandler'\n",
    "\n",
    "# S3\n",
    "# os.environ['HADRON_DEFAULT_PATH'] = f's3://project-hadron-cs-repo/domain/hello_hadron/data/demo/{task_name}/'\n",
    "# os.environ['HADRON_DEFAULT_MODULE'] = 'ds_discovery.handlers.s3_handlers'\n",
    "# os.environ['HADRON_DEFAULT_SOURCE_HANDLER'] = 'S3SourceHandler'\n",
    "# os.environ['HADRON_DEFAULT_PERSIST_HANDLER'] = 'S3PersistHandler'\n"
   ]
  },
  {
   "cell_type": "code",
   "execution_count": 7,
   "id": "943e0bc1",
   "metadata": {},
   "outputs": [
    {
     "name": "stdout",
     "output_type": "stream",
     "text": [
      "Cortex Python SDK v6.2.0\n",
      "Cortex Discovery Libraries v3.5.14\n"
     ]
    }
   ],
   "source": [
    "import pkg_resources\n",
    "_cortex_sdk_version = pkg_resources.get_distribution(\"cortex-python\").version\n",
    "_discovery_library_version = pkg_resources.get_distribution(\"discovery-transition-ds\").version\n",
    "print('Cortex Python SDK v%s' % _cortex_sdk_version)\n",
    "print('Cortex Discovery Libraries v%s' % _discovery_library_version)"
   ]
  }
 ],
 "metadata": {
  "kernelspec": {
   "display_name": "Python 3.9.12 ('base')",
   "language": "python",
   "name": "python3"
  },
  "language_info": {
   "codemirror_mode": {
    "name": "ipython",
    "version": 3
   },
   "file_extension": ".py",
   "mimetype": "text/x-python",
   "name": "python",
   "nbconvert_exporter": "python",
   "pygments_lexer": "ipython3",
   "version": "3.9.12"
  },
  "vscode": {
   "interpreter": {
    "hash": "5b955cc64629c387b472d3b10f98cda91d6b328f243e804e483ec62675621a2c"
   }
  }
 },
 "nbformat": 4,
 "nbformat_minor": 5
}
