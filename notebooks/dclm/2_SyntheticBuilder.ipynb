{
 "cells": [
  {
   "cell_type": "markdown",
   "id": "017ff6ce",
   "metadata": {},
   "source": [
    "# Telco Customer Churn"
   ]
  },
  {
   "cell_type": "code",
   "execution_count": 1,
   "id": "c89d33f1",
   "metadata": {},
   "outputs": [
    {
     "name": "stdout",
     "output_type": "stream",
     "text": [
      "Cortex Python SDK v6.2.0\n",
      "Cortex Discovery Libraries v3.5.14\n"
     ]
    }
   ],
   "source": [
    "# set task name\n",
    "task_name = 'tecnotree-dclm'\n",
    "\n",
    "# load common\n",
    "%run common.ipynb"
   ]
  },
  {
   "cell_type": "markdown",
   "id": "d865f417",
   "metadata": {},
   "source": [
    "## Synthetic Build\n",
    "Synthetic build uses the `SyntheticBuilder` capability"
   ]
  },
  {
   "cell_type": "code",
   "execution_count": 2,
   "id": "68110cb4",
   "metadata": {},
   "outputs": [],
   "source": [
    "from ds_discovery import SyntheticBuilder, Transition"
   ]
  },
  {
   "cell_type": "code",
   "execution_count": 3,
   "id": "f2870381",
   "metadata": {},
   "outputs": [],
   "source": [
    "builder = SyntheticBuilder.from_env(task_name, has_contract=False)"
   ]
  },
  {
   "cell_type": "code",
   "execution_count": 4,
   "id": "239c2991",
   "metadata": {},
   "outputs": [],
   "source": [
    "# set the output\n",
    "builder.set_persist(builder.pm.file_pattern(name='synthetic', prefix='Telco-Customer', file_type='csv'))\n",
    "\n",
    "# point to the clean sample\n",
    "builder.add_connector_uri('clean_sample', uri=Transition.from_env(task_name).get_persist_contract().uri)\n",
    "sample = builder.load_canonical('clean_sample')"
   ]
  },
  {
   "cell_type": "code",
   "execution_count": 5,
   "id": "3f33fabc",
   "metadata": {},
   "outputs": [],
   "source": [
    "# target\n",
    "#y = sample['Churn']\n",
    "# features\n",
    "X = sample.drop(['_id', 'startDateTime'], axis=1)"
   ]
  },
  {
   "cell_type": "code",
   "execution_count": 6,
   "id": "f6778d05",
   "metadata": {},
   "outputs": [
    {
     "ename": "NameError",
     "evalue": "name 'df' is not defined",
     "output_type": "error",
     "traceback": [
      "\u001b[0;31m---------------------------------------------------------------------------\u001b[0m",
      "\u001b[0;31mNameError\u001b[0m                                 Traceback (most recent call last)",
      "\u001b[1;32m/Users/lkrishna/git/cortex-fabric-examples/notebooks/dclm/2_SyntheticBuilder.ipynb Cell 8\u001b[0m in \u001b[0;36m<cell line: 9>\u001b[0;34m()\u001b[0m\n\u001b[1;32m      <a href='vscode-notebook-cell:/Users/lkrishna/git/cortex-fabric-examples/notebooks/dclm/2_SyntheticBuilder.ipynb#X10sZmlsZQ%3D%3D?line=2'>3</a>\u001b[0m a \u001b[39m=\u001b[39m{}\n\u001b[1;32m      <a href='vscode-notebook-cell:/Users/lkrishna/git/cortex-fabric-examples/notebooks/dclm/2_SyntheticBuilder.ipynb#X10sZmlsZQ%3D%3D?line=3'>4</a>\u001b[0m \u001b[39m#for c in X.columns:\u001b[39;00m\n\u001b[1;32m      <a href='vscode-notebook-cell:/Users/lkrishna/git/cortex-fabric-examples/notebooks/dclm/2_SyntheticBuilder.ipynb#X10sZmlsZQ%3D%3D?line=4'>5</a>\u001b[0m     \u001b[39m#a.update({c: {}})\u001b[39;00m\n\u001b[1;32m      <a href='vscode-notebook-cell:/Users/lkrishna/git/cortex-fabric-examples/notebooks/dclm/2_SyntheticBuilder.ipynb#X10sZmlsZQ%3D%3D?line=5'>6</a>\u001b[0m     \n\u001b[1;32m      <a href='vscode-notebook-cell:/Users/lkrishna/git/cortex-fabric-examples/notebooks/dclm/2_SyntheticBuilder.ipynb#X10sZmlsZQ%3D%3D?line=6'>7</a>\u001b[0m \u001b[39m# churn is the target\u001b[39;00m\n\u001b[1;32m      <a href='vscode-notebook-cell:/Users/lkrishna/git/cortex-fabric-examples/notebooks/dclm/2_SyntheticBuilder.ipynb#X10sZmlsZQ%3D%3D?line=7'>8</a>\u001b[0m \u001b[39m#df = builder.tools.model_analysis(size, other='clean_sample', columns_list=[a], column_name='analysis')\u001b[39;00m\n\u001b[0;32m----> <a href='vscode-notebook-cell:/Users/lkrishna/git/cortex-fabric-examples/notebooks/dclm/2_SyntheticBuilder.ipynb#X10sZmlsZQ%3D%3D?line=8'>9</a>\u001b[0m df\u001b[39m.\u001b[39mshape\n",
      "\u001b[0;31mNameError\u001b[0m: name 'df' is not defined"
     ]
    }
   ],
   "source": [
    "# synthesis the sample\n",
    "size = 100000\n",
    "a ={}\n",
    "#for c in X.columns:\n",
    "    #a.update({c: {}})\n",
    "    \n",
    "# churn is the target\n",
    "#df = builder.tools.model_analysis(size, other='clean_sample', columns_list=[a], column_name='analysis')\n",
    "df.shape"
   ]
  },
  {
   "cell_type": "code",
   "execution_count": null,
   "id": "3731db8a",
   "metadata": {},
   "outputs": [],
   "source": [
    "# rebuild the customer_id as a unique reference\n",
    "df['customerId'] = builder.tools.get_number(from_value=1000000, to_value=9999999, at_most=1, size=size, column_name='CustomerID')"
   ]
  },
  {
   "cell_type": "code",
   "execution_count": null,
   "id": "7b259fc3",
   "metadata": {},
   "outputs": [],
   "source": [
    "# run the pipeline \n",
    "builder.run_component_pipeline()"
   ]
  },
  {
   "cell_type": "code",
   "execution_count": null,
   "id": "0fdb8f1c",
   "metadata": {},
   "outputs": [],
   "source": [
    "df.head()"
   ]
  }
 ],
 "metadata": {
  "kernelspec": {
   "display_name": "Python 3.9.12 ('base')",
   "language": "python",
   "name": "python3"
  },
  "language_info": {
   "codemirror_mode": {
    "name": "ipython",
    "version": 3
   },
   "file_extension": ".py",
   "mimetype": "text/x-python",
   "name": "python",
   "nbconvert_exporter": "python",
   "pygments_lexer": "ipython3",
   "version": "3.9.12"
  },
  "vscode": {
   "interpreter": {
    "hash": "5b955cc64629c387b472d3b10f98cda91d6b328f243e804e483ec62675621a2c"
   }
  }
 },
 "nbformat": 4,
 "nbformat_minor": 5
}
