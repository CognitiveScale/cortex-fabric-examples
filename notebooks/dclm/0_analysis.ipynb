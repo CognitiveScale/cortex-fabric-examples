{
 "cells": [
  {
   "cell_type": "code",
   "execution_count": 1,
   "metadata": {},
   "outputs": [
    {
     "name": "stdout",
     "output_type": "stream",
     "text": [
      "Cortex Python SDK v6.2.0\n",
      "Cortex Discovery Libraries v3.5.14\n"
     ]
    }
   ],
   "source": [
    "# set task name\n",
    "task_name = 'tecnotree-dclm'\n",
    "\n",
    "# Basic setup\n",
    "%run ./common.ipynb\n",
    "\n",
    "from ds_discovery import Transition"
   ]
  },
  {
   "cell_type": "code",
   "execution_count": 4,
   "metadata": {},
   "outputs": [],
   "source": [
    "tr = Transition.from_env(task_name, has_contract=False)\n",
    "tr.set_source_uri('s3://lk-datasets/telco/dclm_int_customer_data-20230117-204811.csv')\n",
    "\n",
    "tr.set_persist(tr.pm.file_pattern(name='select', prefix='Telco-Customer', file_type='parquet'))\n",
    "tr.set_description(\"Telco Customer Dataset\")"
   ]
  },
  {
   "cell_type": "code",
   "execution_count": 6,
   "metadata": {},
   "outputs": [
    {
     "ename": "ConnectionError",
     "evalue": "Failed to retrieve the object from region 'us-east-2', bucket 'lk-datasets' Key 'telco/dclm_int_customer_data-20230117-204811.csv' with error code 'AccessDenied'",
     "output_type": "error",
     "traceback": [
      "\u001b[0;31m---------------------------------------------------------------------------\u001b[0m",
      "\u001b[0;31mClientError\u001b[0m                               Traceback (most recent call last)",
      "File \u001b[0;32m~/opt/anaconda3/lib/python3.9/site-packages/ds_discovery/handlers/s3_handlers.py:146\u001b[0m, in \u001b[0;36mS3SourceHandler.load_canonical\u001b[0;34m(self, **kwargs)\u001b[0m\n\u001b[1;32m    145\u001b[0m \u001b[39mtry\u001b[39;00m:\n\u001b[0;32m--> 146\u001b[0m     s3_object \u001b[39m=\u001b[39m s3_client\u001b[39m.\u001b[39;49mget_object(Bucket\u001b[39m=\u001b[39;49m_cc\u001b[39m.\u001b[39;49mnetloc, Key\u001b[39m=\u001b[39;49m_cc\u001b[39m.\u001b[39;49mpath[\u001b[39m1\u001b[39;49m:], \u001b[39m*\u001b[39;49m\u001b[39m*\u001b[39;49ms3_get_params)\n\u001b[1;32m    147\u001b[0m \u001b[39mexcept\u001b[39;00m ClientError \u001b[39mas\u001b[39;00m e:\n",
      "File \u001b[0;32m~/opt/anaconda3/lib/python3.9/site-packages/botocore/client.py:508\u001b[0m, in \u001b[0;36mClientCreator._create_api_method.<locals>._api_call\u001b[0;34m(self, *args, **kwargs)\u001b[0m\n\u001b[1;32m    507\u001b[0m \u001b[39m# The \"self\" in this scope is referring to the BaseClient.\u001b[39;00m\n\u001b[0;32m--> 508\u001b[0m \u001b[39mreturn\u001b[39;00m \u001b[39mself\u001b[39;49m\u001b[39m.\u001b[39;49m_make_api_call(operation_name, kwargs)\n",
      "File \u001b[0;32m~/opt/anaconda3/lib/python3.9/site-packages/botocore/client.py:915\u001b[0m, in \u001b[0;36mBaseClient._make_api_call\u001b[0;34m(self, operation_name, api_params)\u001b[0m\n\u001b[1;32m    914\u001b[0m     error_class \u001b[39m=\u001b[39m \u001b[39mself\u001b[39m\u001b[39m.\u001b[39mexceptions\u001b[39m.\u001b[39mfrom_code(error_code)\n\u001b[0;32m--> 915\u001b[0m     \u001b[39mraise\u001b[39;00m error_class(parsed_response, operation_name)\n\u001b[1;32m    916\u001b[0m \u001b[39melse\u001b[39;00m:\n",
      "\u001b[0;31mClientError\u001b[0m: An error occurred (AccessDenied) when calling the GetObject operation: Access Denied",
      "\nDuring handling of the above exception, another exception occurred:\n",
      "\u001b[0;31mConnectionError\u001b[0m                           Traceback (most recent call last)",
      "\u001b[1;32m/Users/lkrishna/git/cortex-fabric-examples/notebooks/dclm/0_analysis.ipynb Cell 3\u001b[0m in \u001b[0;36m<cell line: 1>\u001b[0;34m()\u001b[0m\n\u001b[0;32m----> <a href='vscode-notebook-cell:/Users/lkrishna/git/cortex-fabric-examples/notebooks/dclm/0_analysis.ipynb#W2sZmlsZQ%3D%3D?line=0'>1</a>\u001b[0m df \u001b[39m=\u001b[39m tr\u001b[39m.\u001b[39;49mload_source_canonical()\n",
      "File \u001b[0;32m~/opt/anaconda3/lib/python3.9/site-packages/ds_discovery/components/abstract_common_component.py:57\u001b[0m, in \u001b[0;36mAbstractCommonComponent.load_source_canonical\u001b[0;34m(self, reset_changed, has_changed, return_empty, **kwargs)\u001b[0m\n\u001b[1;32m     48\u001b[0m \u001b[39mdef\u001b[39;00m \u001b[39mload_source_canonical\u001b[39m(\u001b[39mself\u001b[39m, reset_changed: \u001b[39mbool\u001b[39m\u001b[39m=\u001b[39m\u001b[39mNone\u001b[39;00m, has_changed: \u001b[39mbool\u001b[39m\u001b[39m=\u001b[39m\u001b[39mNone\u001b[39;00m, return_empty: \u001b[39mbool\u001b[39m\u001b[39m=\u001b[39m\u001b[39mNone\u001b[39;00m,\n\u001b[1;32m     49\u001b[0m                           \u001b[39m*\u001b[39m\u001b[39m*\u001b[39mkwargs) \u001b[39m-\u001b[39m\u001b[39m>\u001b[39m pd\u001b[39m.\u001b[39mDataFrame:\n\u001b[1;32m     50\u001b[0m     \u001b[39m\"\"\"returns the contracted source data as a DataFrame\u001b[39;00m\n\u001b[1;32m     51\u001b[0m \n\u001b[1;32m     52\u001b[0m \u001b[39m    :param reset_changed: (optional) resets the has_changed boolean to True\u001b[39;00m\n\u001b[0;32m   (...)\u001b[0m\n\u001b[1;32m     55\u001b[0m \u001b[39m    :param kwargs: arguments to be passed to the handler on load\u001b[39;00m\n\u001b[1;32m     56\u001b[0m \u001b[39m    \"\"\"\u001b[39;00m\n\u001b[0;32m---> 57\u001b[0m     \u001b[39mreturn\u001b[39;00m \u001b[39mself\u001b[39;49m\u001b[39m.\u001b[39;49mload_canonical(\u001b[39mself\u001b[39;49m\u001b[39m.\u001b[39;49mCONNECTOR_SOURCE, reset_changed\u001b[39m=\u001b[39;49mreset_changed, has_changed\u001b[39m=\u001b[39;49mhas_changed,\n\u001b[1;32m     58\u001b[0m                                return_empty\u001b[39m=\u001b[39;49mreturn_empty, \u001b[39m*\u001b[39;49m\u001b[39m*\u001b[39;49mkwargs)\n",
      "File \u001b[0;32m~/opt/anaconda3/lib/python3.9/site-packages/ds_discovery/components/abstract_common_component.py:70\u001b[0m, in \u001b[0;36mAbstractCommonComponent.load_canonical\u001b[0;34m(self, connector_name, reset_changed, has_changed, return_empty, **kwargs)\u001b[0m\n\u001b[1;32m     60\u001b[0m \u001b[39mdef\u001b[39;00m \u001b[39mload_canonical\u001b[39m(\u001b[39mself\u001b[39m, connector_name: \u001b[39mstr\u001b[39m, reset_changed: \u001b[39mbool\u001b[39m\u001b[39m=\u001b[39m\u001b[39mNone\u001b[39;00m, has_changed: \u001b[39mbool\u001b[39m\u001b[39m=\u001b[39m\u001b[39mNone\u001b[39;00m,\n\u001b[1;32m     61\u001b[0m                    return_empty: \u001b[39mbool\u001b[39m\u001b[39m=\u001b[39m\u001b[39mNone\u001b[39;00m, \u001b[39m*\u001b[39m\u001b[39m*\u001b[39mkwargs) \u001b[39m-\u001b[39m\u001b[39m>\u001b[39m pd\u001b[39m.\u001b[39mDataFrame:\n\u001b[1;32m     62\u001b[0m     \u001b[39m\"\"\"returns the canonical of the referenced connector\u001b[39;00m\n\u001b[1;32m     63\u001b[0m \n\u001b[1;32m     64\u001b[0m \u001b[39m    :param connector_name: the name or label to identify and reference the connector\u001b[39;00m\n\u001b[0;32m   (...)\u001b[0m\n\u001b[1;32m     68\u001b[0m \u001b[39m    :param kwargs: arguments to be passed to the handler on load\u001b[39;00m\n\u001b[1;32m     69\u001b[0m \u001b[39m    \"\"\"\u001b[39;00m\n\u001b[0;32m---> 70\u001b[0m     canonical \u001b[39m=\u001b[39m \u001b[39msuper\u001b[39;49m()\u001b[39m.\u001b[39;49mload_canonical(connector_name\u001b[39m=\u001b[39;49mconnector_name, reset_changed\u001b[39m=\u001b[39;49mreset_changed,\n\u001b[1;32m     71\u001b[0m                                        has_changed\u001b[39m=\u001b[39;49mhas_changed, return_empty\u001b[39m=\u001b[39;49mreturn_empty, \u001b[39m*\u001b[39;49m\u001b[39m*\u001b[39;49mkwargs)\n\u001b[1;32m     72\u001b[0m     \u001b[39mif\u001b[39;00m \u001b[39misinstance\u001b[39m(canonical, \u001b[39mdict\u001b[39m):\n\u001b[1;32m     73\u001b[0m         canonical \u001b[39m=\u001b[39m pd\u001b[39m.\u001b[39mDataFrame\u001b[39m.\u001b[39mfrom_dict(data\u001b[39m=\u001b[39mcanonical)\n",
      "File \u001b[0;32m~/opt/anaconda3/lib/python3.9/site-packages/aistac/components/abstract_component.py:854\u001b[0m, in \u001b[0;36mAbstractComponent.load_canonical\u001b[0;34m(self, connector_name, reset_changed, has_changed, return_empty, **kwargs)\u001b[0m\n\u001b[1;32m    851\u001b[0m         \u001b[39mreturn\u001b[39;00m {}\n\u001b[1;32m    852\u001b[0m     \u001b[39mraise\u001b[39;00m \u001b[39mConnectionAbortedError\u001b[39;00m(\u001b[39m\"\u001b[39m\u001b[39mThe connector name \u001b[39m\u001b[39m{}\u001b[39;00m\u001b[39m has been aborted as the canonical to load \u001b[39m\u001b[39m\"\u001b[39m\n\u001b[1;32m    853\u001b[0m                                  \u001b[39m\"\u001b[39m\u001b[39mhas not changed\u001b[39m\u001b[39m\"\u001b[39m\u001b[39m.\u001b[39mformat(connector_name))\n\u001b[0;32m--> 854\u001b[0m canonical \u001b[39m=\u001b[39m handler\u001b[39m.\u001b[39;49mload_canonical(\u001b[39m*\u001b[39;49m\u001b[39m*\u001b[39;49mkwargs)\n\u001b[1;32m    855\u001b[0m handler\u001b[39m.\u001b[39mreset_changed(changed\u001b[39m=\u001b[39mreset_changed)\n\u001b[1;32m    856\u001b[0m \u001b[39mreturn\u001b[39;00m canonical\n",
      "File \u001b[0;32m~/opt/anaconda3/lib/python3.9/site-packages/ds_discovery/handlers/s3_handlers.py:149\u001b[0m, in \u001b[0;36mS3SourceHandler.load_canonical\u001b[0;34m(self, **kwargs)\u001b[0m\n\u001b[1;32m    147\u001b[0m \u001b[39mexcept\u001b[39;00m ClientError \u001b[39mas\u001b[39;00m e:\n\u001b[1;32m    148\u001b[0m     code \u001b[39m=\u001b[39m e\u001b[39m.\u001b[39mresponse[\u001b[39m\"\u001b[39m\u001b[39mError\u001b[39m\u001b[39m\"\u001b[39m][\u001b[39m\"\u001b[39m\u001b[39mCode\u001b[39m\u001b[39m\"\u001b[39m]\n\u001b[0;32m--> 149\u001b[0m     \u001b[39mraise\u001b[39;00m \u001b[39mConnectionError\u001b[39;00m(\u001b[39m\"\u001b[39m\u001b[39mFailed to retrieve the object from region \u001b[39m\u001b[39m'\u001b[39m\u001b[39m{}\u001b[39;00m\u001b[39m'\u001b[39m\u001b[39m, bucket \u001b[39m\u001b[39m'\u001b[39m\u001b[39m{}\u001b[39;00m\u001b[39m'\u001b[39m\u001b[39m \u001b[39m\u001b[39m\"\u001b[39m\n\u001b[1;32m    150\u001b[0m                           \u001b[39m\"\u001b[39m\u001b[39mKey \u001b[39m\u001b[39m'\u001b[39m\u001b[39m{}\u001b[39;00m\u001b[39m'\u001b[39m\u001b[39m with error code \u001b[39m\u001b[39m'\u001b[39m\u001b[39m{}\u001b[39;00m\u001b[39m'\u001b[39m\u001b[39m\"\u001b[39m\u001b[39m.\u001b[39mformat(\u001b[39mself\u001b[39m\u001b[39m.\u001b[39m_session\u001b[39m.\u001b[39mregion_name, _cc\u001b[39m.\u001b[39mnetloc,\n\u001b[1;32m    151\u001b[0m                                                                  _cc\u001b[39m.\u001b[39mpath[\u001b[39m1\u001b[39m:], code))\n\u001b[1;32m    152\u001b[0m resource_body \u001b[39m=\u001b[39m s3_object[\u001b[39m'\u001b[39m\u001b[39mBody\u001b[39m\u001b[39m'\u001b[39m]\u001b[39m.\u001b[39mread()\n\u001b[1;32m    153\u001b[0m \u001b[39mwith\u001b[39;00m \u001b[39mself\u001b[39m\u001b[39m.\u001b[39m_lock:\n",
      "\u001b[0;31mConnectionError\u001b[0m: Failed to retrieve the object from region 'us-east-2', bucket 'lk-datasets' Key 'telco/dclm_int_customer_data-20230117-204811.csv' with error code 'AccessDenied'"
     ]
    }
   ],
   "source": [
    "df = tr.load_source_canonical()"
   ]
  },
  {
   "cell_type": "code",
   "execution_count": null,
   "metadata": {},
   "outputs": [],
   "source": [
    "tr.canonical_report(df)"
   ]
  },
  {
   "cell_type": "code",
   "execution_count": null,
   "metadata": {},
   "outputs": [],
   "source": [
    "df = tr.tools.auto_transition(df)"
   ]
  },
  {
   "cell_type": "code",
   "execution_count": null,
   "metadata": {},
   "outputs": [],
   "source": [
    "tr.canonical_report(df)"
   ]
  },
  {
   "cell_type": "code",
   "execution_count": null,
   "metadata": {},
   "outputs": [],
   "source": [
    "tr.report_quality_summary(df)"
   ]
  },
  {
   "cell_type": "code",
   "execution_count": null,
   "metadata": {},
   "outputs": [],
   "source": [
    "tr.run_component_pipeline()"
   ]
  },
  {
   "cell_type": "code",
   "execution_count": null,
   "metadata": {},
   "outputs": [],
   "source": [
    "df = tr.load_persist_canonical()\n",
    "df.shape"
   ]
  },
  {
   "cell_type": "code",
   "execution_count": null,
   "metadata": {},
   "outputs": [],
   "source": [
    "tr.visual.show_categories(df)"
   ]
  }
 ],
 "metadata": {
  "kernelspec": {
   "display_name": "Python 3.9.12 ('base')",
   "language": "python",
   "name": "python3"
  },
  "language_info": {
   "codemirror_mode": {
    "name": "ipython",
    "version": 3
   },
   "file_extension": ".py",
   "mimetype": "text/x-python",
   "name": "python",
   "nbconvert_exporter": "python",
   "pygments_lexer": "ipython3",
   "version": "3.9.12"
  },
  "orig_nbformat": 4,
  "vscode": {
   "interpreter": {
    "hash": "5b955cc64629c387b472d3b10f98cda91d6b328f243e804e483ec62675621a2c"
   }
  }
 },
 "nbformat": 4,
 "nbformat_minor": 2
}
