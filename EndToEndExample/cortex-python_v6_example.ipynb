{
 "cells": [
  {
   "cell_type": "markdown",
   "source": [
    "## steps\n",
    "1. S3 bucket contains the data(in this case csv file) \n",
    "2. We save a connection of the given types -> (demonstrated using cortex-python sdk)\n",
    "5. Dockerize and push an action to train multiple models and save in expermients (use the connection in step 2 to load the data) -> job\n",
    "3. Dockerize and push another action to predict using the exprinment name(to specify a particular model) -> daemon\n",
    "4. Save a skill definition, and route inputs to two different actions -> (demonstrated using cortex-python sdk)\n",
    "5. Test the skills using cli"
   ],
   "metadata": {}
  },
  {
   "cell_type": "markdown",
   "source": [
    "### Run the following command\n",
    "```make check-env``` to check if all neccassary environment variables are set"
   ],
   "metadata": {}
  },
  {
   "cell_type": "code",
   "execution_count": null,
   "source": [
    "# install dependencies\n",
    "!pip install cortex-python==6.0.2a4"
   ],
   "outputs": [],
   "metadata": {}
  },
  {
   "cell_type": "code",
   "execution_count": 2,
   "source": [
    "import time\n",
    "import sys\n",
    "import json\n",
    "from pprint import pprint\n",
    "\n",
    "from cortex import Cortex\n",
    "from cortex.model import Model, ModelClient\n",
    "from cortex.experiment import Experiment, ExperimentClient\n",
    "from cortex.connection import ConnectionClient, Connection\n",
    "from cortex.skill import SkillClient"
   ],
   "outputs": [],
   "metadata": {}
  },
  {
   "cell_type": "code",
   "execution_count": 3,
   "source": [
    "# Global Configs\n",
    "PROJECT_ID = \"\"\n",
    "API_ENDPOINT = \"\"\n",
    "CORTEX_TOKEN = \"\"\n",
    "\n",
    "AWS_PUBLIC_KEY = \"\"\n",
    "S3_BUCKET = \"cortex-fabric-examples\"\n",
    "FILE_NAME = \"german_credit_eval.csv\"\n",
    "URI = f\"s3a://{S3_BUCKET}/{FILE_NAME}\"\n",
    "S3_ENDPOINT = \"http://s3.us-east-1.amazonaws.com\"\n",
    "# use `cortex configure token` to get token"
   ],
   "outputs": [],
   "metadata": {}
  },
  {
   "cell_type": "code",
   "execution_count": 4,
   "source": [
    "params = {\n",
    "    \"projectId\" : PROJECT_ID,\n",
    "    \"apiEndpoint\": API_ENDPOINT,\n",
    "    \"token\": CORTEX_TOKEN\n",
    "}"
   ],
   "outputs": [],
   "metadata": {}
  },
  {
   "cell_type": "code",
   "execution_count": 5,
   "source": [
    "client = Cortex.client(api_endpoint=params['apiEndpoint'], project=params['projectId'], token=params['token'])\n",
    "cc = ConnectionClient(client)"
   ],
   "outputs": [],
   "metadata": {}
  },
  {
   "cell_type": "code",
   "execution_count": 33,
   "source": [
    "conn_params = {\n",
    "    \"name\": \"exp-connection\",\n",
    "    \"title\": \"S3 Conn for fabric examples 6\",\n",
    "    \"description\": \"S3 Conn\",\n",
    "    \"connectionType\": \"s3\",\n",
    "    \"allowWrite\": False,\n",
    "    \"allowRead\":True,\n",
    "    \"contentType\": \"csv\",\n",
    "    \"params\": [\n",
    "        {\"name\": \"s3Endpoint\", \"value\":  S3_ENDPOINT},\n",
    "        {\"name\": \"bucket\",\"value\": S3_BUCKET},\n",
    "        {\"name\": \"publicKey\",\"value\": AWS_PUBLIC_KEY},\n",
    "        {\"name\": \"secretKey\",\"value\": \"#SECURE.awssecretadmin\"},\n",
    "        {\"name\":\"uri\",\"value\": URI}\n",
    "         ]\n",
    "}\n",
    "# create a secret called awssecretadmin in your project which contains the aws secret key "
   ],
   "outputs": [],
   "metadata": {}
  },
  {
   "cell_type": "code",
   "execution_count": 34,
   "source": [
    "# create a connection\n",
    "cc.save_connection(project=PROJECT_ID, connection=conn_params)"
   ],
   "outputs": [
    {
     "output_type": "execute_result",
     "data": {
      "text/plain": [
       "{'success': True, 'code': 200, 'message': 'Connection saved successfully'}"
      ]
     },
     "metadata": {},
     "execution_count": 34
    }
   ],
   "metadata": {}
  },
  {
   "cell_type": "markdown",
   "source": [
    "### run the following command\n",
    "``make build`` to build the docker images for train(job) and predict(daemon) action <br>\n",
    "``make push`` to push the images to docker registry set by the env variable DOCKER_PREGISTRY_URL\n"
   ],
   "metadata": {}
  },
  {
   "cell_type": "code",
   "execution_count": 49,
   "source": [
    "# Deploying the Skills and actions"
   ],
   "outputs": [],
   "metadata": {}
  },
  {
   "cell_type": "code",
   "execution_count": 10,
   "source": [
    "skill_object = {}\n",
    "with open(\"skill.json\") as f:\n",
    "    skill_object = json.load(f)"
   ],
   "outputs": [],
   "metadata": {}
  },
  {
   "cell_type": "code",
   "execution_count": 11,
   "source": [
    "pprint(skill_object)"
   ],
   "outputs": [
    {
     "output_type": "stream",
     "name": "stdout",
     "text": [
      "{'actions': [{'command': ['scuttle', 'python', '/app/train.py'],\n",
      "              'description': 'Experimnent Train Example',\n",
      "              'environmentVariables': None,\n",
      "              'image': 'private-registry.dci-dev.dev-eks.insights.ai/train-example:latest',\n",
      "              'name': 'train-example',\n",
      "              'podSpec': '',\n",
      "              'scaleCount': 1,\n",
      "              'type': 'job'},\n",
      "             {'command': ['uvicorn',\n",
      "                          'main:app',\n",
      "                          '--host',\n",
      "                          '0.0.0.0',\n",
      "                          '--port',\n",
      "                          '5000',\n",
      "                          '--workers',\n",
      "                          '2'],\n",
      "              'description': 'Experimnent Predict Example',\n",
      "              'environmentVariables': None,\n",
      "              'image': 'private-registry.dci-dev.dev-eks.insights.ai/predict-example:latest',\n",
      "              'name': 'predict-example',\n",
      "              'podSpec': '',\n",
      "              'port': '5000',\n",
      "              'scaleCount': 1,\n",
      "              'type': 'daemon'}],\n",
      " 'camel': '1.0.0',\n",
      " 'description': 'Training multiple models and using them to predict',\n",
      " 'inputs': [{'name': 'train',\n",
      "             'parameters': [{'name': 'connection_name',\n",
      "                             'required': 'true',\n",
      "                             'type': 'string'},\n",
      "                            {'name': 'model_name',\n",
      "                             'required': 'true',\n",
      "                             'type': 'string'},\n",
      "                            {'name': 'model_source', 'type': 'string'},\n",
      "                            {'name': 'model_tags', 'type': 'array'},\n",
      "                            {'name': 'model_title', 'type': 'string'},\n",
      "                            {'name': 'model_type', 'type': 'string'},\n",
      "                            {'name': 'model_mode', 'type': 'string'}],\n",
      "             'routing': {'all': {'action': 'train-example',\n",
      "                                 'output': 'response_train',\n",
      "                                 'runtime': 'cortex/jobs'}},\n",
      "             'title': 'Train Request'},\n",
      "            {'name': 'predict',\n",
      "             'parameters': [{'name': 'exp_name',\n",
      "                             'required': 'true',\n",
      "                             'type': 'string'},\n",
      "                            {'name': 'run_id', 'type': 'string'},\n",
      "                            {'name': 'instances',\n",
      "                             'required': 'true',\n",
      "                             'type': 'object'}],\n",
      "             'routing': {'all': {'action': 'predict-example',\n",
      "                                 'output': 'response_predict',\n",
      "                                 'runtime': 'cortex/daemons'}},\n",
      "             'title': 'Predict Request'}],\n",
      " 'name': 'FAB-2397-e2eexample',\n",
      " 'outputs': [{'name': 'response_train',\n",
      "              'parameters': [{'name': 'response_train', 'type': 'object'}],\n",
      "              'title': 'Train response'},\n",
      "             {'name': 'response_predict',\n",
      "              'parameters': [{'name': 'response_predict', 'type': 'object'}],\n",
      "              'title': 'Predict response'}],\n",
      " 'properties': [{'defaultValue': 'POST',\n",
      "                 'description': 'Update default value to HTTP method supported '\n",
      "                                'by endpoint',\n",
      "                 'name': 'daemon.method',\n",
      "                 'required': True,\n",
      "                 'secure': False,\n",
      "                 'title': 'Daemon method',\n",
      "                 'type': 'string',\n",
      "                 'validValues': []},\n",
      "                {'defaultValue': 'invoke',\n",
      "                 'description': 'Update default value to HTTP endpoint path in '\n",
      "                                'container',\n",
      "                 'name': 'daemon.path',\n",
      "                 'required': True,\n",
      "                 'secure': False,\n",
      "                 'title': 'Daemon path',\n",
      "                 'type': 'string',\n",
      "                 'validValues': []},\n",
      "                {'defaultValue': '5000',\n",
      "                 'description': 'Update default value to port on which app '\n",
      "                                'will be running',\n",
      "                 'name': 'daemon.port',\n",
      "                 'required': True,\n",
      "                 'secure': False,\n",
      "                 'title': 'Daemon Port',\n",
      "                 'type': 'string',\n",
      "                 'validValues': []}],\n",
      " 'title': 'End to End example with cortex-python v6 SDK'}\n"
     ]
    }
   ],
   "metadata": {}
  },
  {
   "cell_type": "code",
   "execution_count": 12,
   "source": [
    "skill_client = SkillClient(client)"
   ],
   "outputs": [],
   "metadata": {}
  },
  {
   "cell_type": "code",
   "execution_count": 13,
   "source": [
    "skill_client.save_skill(skill_object)"
   ],
   "outputs": [
    {
     "output_type": "execute_result",
     "data": {
      "text/plain": [
       "{'success': True,\n",
       " 'version': 1,\n",
       " 'message': 'Skill definition FAB-2397-e2eexample saved.'}"
      ]
     },
     "metadata": {},
     "execution_count": 13
    }
   ],
   "metadata": {}
  },
  {
   "cell_type": "code",
   "execution_count": null,
   "source": [
    "# we can see the skill with name e2e-example has been deployed"
   ],
   "outputs": [],
   "metadata": {}
  },
  {
   "cell_type": "code",
   "execution_count": 14,
   "source": [
    "sks = skill_client.get_skill(skill_object['name'])"
   ],
   "outputs": [],
   "metadata": {}
  },
  {
   "cell_type": "code",
   "execution_count": 15,
   "source": [
    "pprint(sks)"
   ],
   "outputs": [
    {
     "output_type": "stream",
     "name": "stdout",
     "text": [
      "{'actions': [{'command': ['scuttle', 'python', '/app/train.py'],\n",
      "              'description': 'Experimnent Train Example',\n",
      "              'environmentVariables': None,\n",
      "              'image': 'private-registry.dci-dev.dev-eks.insights.ai/train-example:latest',\n",
      "              'name': 'train-example',\n",
      "              'podSpec': '\"\"',\n",
      "              'scaleCount': 1,\n",
      "              'type': 'job'},\n",
      "             {'command': ['uvicorn',\n",
      "                          'main:app',\n",
      "                          '--host',\n",
      "                          '0.0.0.0',\n",
      "                          '--port',\n",
      "                          '5000',\n",
      "                          '--workers',\n",
      "                          '2'],\n",
      "              'description': 'Experimnent Predict Example',\n",
      "              'environmentVariables': None,\n",
      "              'image': 'private-registry.dci-dev.dev-eks.insights.ai/predict-example:latest',\n",
      "              'name': 'predict-example',\n",
      "              'podSpec': '\"\"',\n",
      "              'port': '5000',\n",
      "              'scaleCount': 1,\n",
      "              'type': 'daemon'}],\n",
      " 'camel': '1.0.0',\n",
      " 'description': 'Training multiple models and using them to predict',\n",
      " 'inputs': [{'name': 'train',\n",
      "             'parameters': [{'name': 'connection_name',\n",
      "                             'required': True,\n",
      "                             'type': 'string'},\n",
      "                            {'name': 'model_name',\n",
      "                             'required': True,\n",
      "                             'type': 'string'},\n",
      "                            {'name': 'model_source',\n",
      "                             'required': False,\n",
      "                             'type': 'string'},\n",
      "                            {'name': 'model_tags',\n",
      "                             'required': False,\n",
      "                             'type': 'array'},\n",
      "                            {'name': 'model_title',\n",
      "                             'required': False,\n",
      "                             'type': 'string'},\n",
      "                            {'name': 'model_type',\n",
      "                             'required': False,\n",
      "                             'type': 'string'},\n",
      "                            {'name': 'model_mode',\n",
      "                             'required': False,\n",
      "                             'type': 'string'}],\n",
      "             'routing': {'all': {'action': 'train-example',\n",
      "                                 'output': 'response_train',\n",
      "                                 'runtime': 'cortex/jobs'}},\n",
      "             'title': 'Train Request'},\n",
      "            {'name': 'predict',\n",
      "             'parameters': [{'name': 'exp_name',\n",
      "                             'required': True,\n",
      "                             'type': 'string'},\n",
      "                            {'name': 'run_id',\n",
      "                             'required': False,\n",
      "                             'type': 'string'},\n",
      "                            {'name': 'instances',\n",
      "                             'required': True,\n",
      "                             'type': 'object'}],\n",
      "             'routing': {'all': {'action': 'predict-example',\n",
      "                                 'output': 'response_predict',\n",
      "                                 'runtime': 'cortex/daemons'}},\n",
      "             'title': 'Predict Request'}],\n",
      " 'name': 'FAB-2397-e2eexample',\n",
      " 'outputs': [{'name': 'response_train',\n",
      "              'parameters': [{'name': 'response_train',\n",
      "                              'required': False,\n",
      "                              'type': 'object'}],\n",
      "              'title': 'Train response'},\n",
      "             {'name': 'response_predict',\n",
      "              'parameters': [{'name': 'response_predict',\n",
      "                              'required': False,\n",
      "                              'type': 'object'}],\n",
      "              'title': 'Predict response'}],\n",
      " 'properties': [{'defaultValue': 'POST',\n",
      "                 'description': 'Update default value to HTTP method supported '\n",
      "                                'by endpoint',\n",
      "                 'name': 'daemon.method',\n",
      "                 'required': True,\n",
      "                 'secure': False,\n",
      "                 'title': 'Daemon method',\n",
      "                 'type': 'string',\n",
      "                 'validValues': []},\n",
      "                {'defaultValue': 'invoke',\n",
      "                 'description': 'Update default value to HTTP endpoint path in '\n",
      "                                'container',\n",
      "                 'name': 'daemon.path',\n",
      "                 'required': True,\n",
      "                 'secure': False,\n",
      "                 'title': 'Daemon path',\n",
      "                 'type': 'string',\n",
      "                 'validValues': []},\n",
      "                {'defaultValue': '5000',\n",
      "                 'description': 'Update default value to port on which app '\n",
      "                                'will be running',\n",
      "                 'name': 'daemon.port',\n",
      "                 'required': True,\n",
      "                 'secure': False,\n",
      "                 'title': 'Daemon Port',\n",
      "                 'type': 'string',\n",
      "                 'validValues': []}],\n",
      " 'tags': [],\n",
      " 'title': 'End to End example with cortex-python v6 SDK'}\n"
     ]
    }
   ],
   "metadata": {}
  },
  {
   "cell_type": "markdown",
   "source": [
    "### run the following command\n",
    "``make tests`` to test the skills deployment with the json present in tests folder\n"
   ],
   "metadata": {}
  },
  {
   "cell_type": "code",
   "execution_count": null,
   "source": [],
   "outputs": [],
   "metadata": {}
  },
  {
   "cell_type": "code",
   "execution_count": null,
   "source": [],
   "outputs": [],
   "metadata": {}
  },
  {
   "cell_type": "code",
   "execution_count": null,
   "source": [],
   "outputs": [],
   "metadata": {}
  }
 ],
 "metadata": {
  "kernelspec": {
   "name": "python3",
   "display_name": "Python 3.7.10 64-bit ('cortex': conda)"
  },
  "language_info": {
   "codemirror_mode": {
    "name": "ipython",
    "version": 3
   },
   "file_extension": ".py",
   "mimetype": "text/x-python",
   "name": "python",
   "nbconvert_exporter": "python",
   "pygments_lexer": "ipython3",
   "version": "3.7.10"
  },
  "interpreter": {
   "hash": "5523d97f8d39242cc18343035ad1a8004da0150714d0307060e9a4c47049a6fe"
  }
 },
 "nbformat": 4,
 "nbformat_minor": 5
}