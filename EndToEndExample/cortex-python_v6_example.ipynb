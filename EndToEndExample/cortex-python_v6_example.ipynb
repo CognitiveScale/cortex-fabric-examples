{
 "cells": [
  {
   "cell_type": "markdown",
   "id": "6b37fb70",
   "metadata": {},
   "source": [
    "## steps\n",
    "1. S3 bucket contains the data(in this case csv file) \n",
    "2. We save a connection of the given types -> (demonstrated using cortex-python sdk)\n",
    "5. Dockerize and push an action to train multiple models and save in expermients (use the connection in step 2 to load the data) -> job\n",
    "3. Dockerize and push another action to predict using the exprinment name(to specify a particular model) -> daemon\n",
    "4. Save a skill definition, and route inputs to two different actions -> (demonstrated using cortex-python sdk)\n",
    "5. Test the skills using cli"
   ]
  },
  {
   "cell_type": "markdown",
   "id": "96159481",
   "metadata": {},
   "source": [
    "### Run the following command\n",
    "```make check-env``` to check if all neccassary environment variables are set"
   ]
  },
  {
   "cell_type": "markdown",
   "id": "7eac4149",
   "metadata": {},
   "source": []
  },
  {
   "cell_type": "code",
   "execution_count": null,
   "id": "e476735d",
   "metadata": {},
   "outputs": [],
   "source": [
    "# install dependencies\n",
    "!pip install cortex-python==6.0.2a4"
   ]
  },
  {
   "cell_type": "code",
   "execution_count": 1,
   "id": "fdaebabc",
   "metadata": {},
   "outputs": [],
   "source": [
    "import time\n",
    "import sys\n",
    "import json\n",
    "from pprint import pprint\n",
    "\n",
    "from cortex import Cortex\n",
    "from cortex.model import Model, ModelClient\n",
    "from cortex.experiment import Experiment, ExperimentClient\n",
    "from cortex.connection import ConnectionClient, Connection\n",
    "from cortex.skill import SkillClient"
   ]
  },
  {
   "cell_type": "code",
   "execution_count": 1,
   "id": "6c17a0ea",
   "metadata": {},
   "outputs": [],
   "source": [
    "# Global Configs\n",
    "PROJECT_ID = \"\"\n",
    "API_ENDPOINT = \"\"\n",
    "CORTEX_TOKEN = \"\"\n",
    "\n",
    "AWS_PUBLIC_KEY = \"\"\n",
    "S3_BUCKET = \"cortex-fabric-examples\"\n",
    "FILE_NAME = \"german_credit_eval.csv\"\n",
    "URI = f\"s3a://{S3_BUCKET}/{FILE_NAME}\"\n",
    "S3_ENDPOINT = \"http://s3.us-east-1.amazonaws.com\"\n",
    "# use `cortex configure token` to get token"
   ]
  },
  {
   "cell_type": "code",
   "execution_count": 3,
   "id": "3bc00727",
   "metadata": {},
   "outputs": [],
   "source": [
    "params = {\n",
    "    \"projectId\" : PROJECT_ID,\n",
    "    \"apiEndpoint\": API_ENDPOINT,\n",
    "    \"token\": CORTEX_TOKEN\n",
    "}"
   ]
  },
  {
   "cell_type": "code",
   "execution_count": 4,
   "id": "7c24b4fe",
   "metadata": {},
   "outputs": [],
   "source": [
    "client = Cortex.client(api_endpoint=params['apiEndpoint'], project=params['projectId'], token=params['token'])\n",
    "cc = ConnectionClient(client)"
   ]
  },
  {
   "cell_type": "code",
   "execution_count": 5,
   "id": "dbea18a6",
   "metadata": {},
   "outputs": [],
   "source": [
    "conn_params = {\n",
    "    \"name\": \"exp-connection\",\n",
    "    \"title\": \"S3 Conn for fabric examples - German Credit Data\",\n",
    "    \"description\": \"S3 Conn\",\n",
    "    \"connectionType\": \"s3\",\n",
    "    \"allowWrite\": False,\n",
    "    \"allowRead\":True,\n",
    "    \"contentType\": \"csv\",\n",
    "    \"params\": [\n",
    "        {\"name\": \"s3Endpoint\", \"value\":  S3_ENDPOINT},\n",
    "        {\"name\": \"bucket\",\"value\": S3_BUCKET},\n",
    "        {\"name\": \"publicKey\",\"value\": AWS_PUBLIC_KEY},\n",
    "        {\"name\": \"secretKey\",\"value\": \"#SECURE.awssecretadmin\"},\n",
    "        {\"name\":\"uri\",\"value\": URI}\n",
    "         ]\n",
    "}\n",
    "# create a secret called awssecretadmin in your project which contains the aws secret jey "
   ]
  },
  {
   "cell_type": "code",
   "execution_count": 6,
   "id": "f1b8ec61",
   "metadata": {},
   "outputs": [
    {
     "data": {
      "text/plain": [
       "{'success': True, 'code': 200, 'message': 'Connection saved successfully'}"
      ]
     },
     "execution_count": 6,
     "metadata": {},
     "output_type": "execute_result"
    }
   ],
   "source": [
    "# create a connection\n",
    "cc.save_connection(project=PROJECT_ID, connection=conn_params)"
   ]
  },
  {
   "cell_type": "markdown",
   "id": "96850ed9",
   "metadata": {},
   "source": [
    "### run the following command\n",
    "``make build`` to build the docker images for train(job) and predict(daemon) action <br>\n",
    "``make push`` to push the images to docker registry set by the env variable DOCKER_PREGISTRY_URL\n"
   ]
  },
  {
   "cell_type": "code",
   "execution_count": 49,
   "id": "ca8e0d16",
   "metadata": {},
   "outputs": [],
   "source": [
    "# Deploying the Skills and actions"
   ]
  },
  {
   "cell_type": "code",
   "execution_count": 7,
   "id": "f5713fdd",
   "metadata": {},
   "outputs": [],
   "source": [
    "skill_object = {}\n",
    "with open(\"skill.json\") as f:\n",
    "    skill_object = json.load(f)"
   ]
  },
  {
   "cell_type": "code",
   "execution_count": 8,
   "id": "c26a4612",
   "metadata": {},
   "outputs": [
    {
     "name": "stdout",
     "output_type": "stream",
     "text": [
      "{'actions': [{'command': ['scuttle', 'python', '/app/train.py'],\n",
      "              'description': 'Experimnent Train Example',\n",
      "              'environmentVariables': None,\n",
      "              'image': 'private-registry.dci-dev.dev-eks.insights.ai/train-example:latestab',\n",
      "              'name': 'train-example',\n",
      "              'podSpec': '',\n",
      "              'scaleCount': 1,\n",
      "              'type': 'job'},\n",
      "             {'command': ['uvicorn',\n",
      "                          'main:app',\n",
      "                          '--host',\n",
      "                          '0.0.0.0',\n",
      "                          '--port',\n",
      "                          '5000',\n",
      "                          '--workers',\n",
      "                          '2'],\n",
      "              'description': 'Experimnent Predict Example',\n",
      "              'environmentVariables': None,\n",
      "              'image': 'private-registry.dci-dev.dev-eks.insights.ai/predict-example:latestab',\n",
      "              'name': 'predict-example',\n",
      "              'podSpec': '',\n",
      "              'port': '5000',\n",
      "              'scaleCount': 1,\n",
      "              'type': 'daemon'}],\n",
      " 'camel': '1.0.0',\n",
      " 'description': 'Training multiple models and using them to predict',\n",
      " 'inputs': [{'name': 'train',\n",
      "             'parameters': [{'name': 'connection_name',\n",
      "                             'required': 'true',\n",
      "                             'type': 'string'},\n",
      "                            {'name': 'model_name',\n",
      "                             'required': 'true',\n",
      "                             'type': 'string'},\n",
      "                            {'name': 'model_source', 'type': 'string'},\n",
      "                            {'name': 'model_tags', 'type': 'array'},\n",
      "                            {'name': 'model_title', 'type': 'string'},\n",
      "                            {'name': 'model_type', 'required': 'true', 'type': 'string'},\n",
      "                            {'name': 'model_status', 'required': 'true', 'type': 'string'}],\n",
      "                            {'name': 'model_mode', 'type': 'string'}],\n",
      "             'routing': {'all': {'action': 'train-example',\n",
      "                                 'output': 'response_train',\n",
      "                                 'runtime': 'cortex/jobs'}},\n",
      "             'title': 'Train Request'},\n",
      "            {'name': 'predict',\n",
      "             'parameters': [{'name': 'exp_name',\n",
      "                             'required': 'true',\n",
      "                             'type': 'string'},\n",
      "                            {'name': 'run_id', 'type': 'string'},\n",
      "                            {'name': 'instances',\n",
      "                             'required': 'true',\n",
      "                             'type': 'object'}],\n",
      "             'routing': {'all': {'action': 'predict-example',\n",
      "                                 'output': 'response_predict',\n",
      "                                 'runtime': 'cortex/daemons'}},\n",
      "             'title': 'Predict Request'}],\n",
      " 'name': 'e2e-example',\n",
      " 'outputs': [{'name': 'response_train',\n",
      "              'parameters': [{'name': 'response_train', 'type': 'object'}],\n",
      "              'title': 'Train response'},\n",
      "             {'name': 'response_predict',\n",
      "              'parameters': [{'name': 'response_predict', 'type': 'object'}],\n",
      "              'title': 'Predict response'}],\n",
      " 'properties': [{'defaultValue': 'POST',\n",
      "                 'description': 'Update default value to HTTP method supported '\n",
      "                                'by endpoint',\n",
      "                 'name': 'daemon.method',\n",
      "                 'required': True,\n",
      "                 'secure': False,\n",
      "                 'title': 'Daemon method',\n",
      "                 'type': 'string',\n",
      "                 'validValues': []},\n",
      "                {'defaultValue': 'invoke',\n",
      "                 'description': 'Update default value to HTTP endpoint path in '\n",
      "                                'container',\n",
      "                 'name': 'daemon.path',\n",
      "                 'required': True,\n",
      "                 'secure': False,\n",
      "                 'title': 'Daemon path',\n",
      "                 'type': 'string',\n",
      "                 'validValues': []},\n",
      "                {'defaultValue': '5000',\n",
      "                 'description': 'Update default value to port on which app '\n",
      "                                'will be running',\n",
      "                 'name': 'daemon.port',\n",
      "                 'required': True,\n",
      "                 'secure': False,\n",
      "                 'title': 'Daemon Port',\n",
      "                 'type': 'string',\n",
      "                 'validValues': []}],\n",
      " 'title': 'End to End example with cortex-python v6 SDK'}\n"
     ]
    }
   ],
   "source": [
    "pprint(skill_object)"
   ]
  },
  {
   "cell_type": "code",
   "execution_count": 9,
   "id": "f260f3b2",
   "metadata": {},
   "outputs": [],
   "source": [
    "skill_client = SkillClient(client)"
   ]
  },
  {
   "cell_type": "code",
   "execution_count": 10,
   "id": "5edc76c5",
   "metadata": {},
   "outputs": [
    {
     "data": {
      "text/plain": [
       "{'success': True,\n",
       " 'version': 1,\n",
       " 'message': 'Skill definition e2e-example saved.'}"
      ]
     },
     "execution_count": 10,
     "metadata": {},
     "output_type": "execute_result"
    }
   ],
   "source": [
    "skill_client.save_skill(skill_object)"
   ]
  },
  {
   "cell_type": "code",
   "execution_count": null,
   "id": "9baa3219",
   "metadata": {},
   "outputs": [],
   "source": [
    "# we can see the skill with name e2e-example has been deployed"
   ]
  },
  {
   "cell_type": "code",
   "execution_count": 14,
   "id": "5a414ed2",
   "metadata": {},
   "outputs": [],
   "source": [
    "sks = skill_client.get_skill(skill_object['name'])"
   ]
  },
  {
   "cell_type": "code",
   "execution_count": 15,
   "id": "cbba4a6b",
   "metadata": {},
   "outputs": [
    {
     "name": "stdout",
     "output_type": "stream",
     "text": [
      "{'actions': [{'command': ['scuttle', 'python', '/app/train.py'],\n",
      "              'description': 'Experimnent Train Example',\n",
      "              'environmentVariables': None,\n",
      "              'image': 'private-registry.dci-dev.dev-eks.insights.ai/train-example:latest',\n",
      "              'name': 'train-example',\n",
      "              'podSpec': '\"\"',\n",
      "              'scaleCount': 1,\n",
      "              'type': 'job'},\n",
      "             {'command': ['uvicorn',\n",
      "                          'main:app',\n",
      "                          '--host',\n",
      "                          '0.0.0.0',\n",
      "                          '--port',\n",
      "                          '5000',\n",
      "                          '--workers',\n",
      "                          '2'],\n",
      "              'description': 'Experimnent Predict Example',\n",
      "              'environmentVariables': None,\n",
      "              'image': 'private-registry.dci-dev.dev-eks.insights.ai/predict-example:latest',\n",
      "              'name': 'predict-example',\n",
      "              'podSpec': '\"\"',\n",
      "              'port': '5000',\n",
      "              'scaleCount': 1,\n",
      "              'type': 'daemon'}],\n",
      " 'camel': '1.0.0',\n",
      " 'description': 'Training multiple models and using them to predict',\n",
      " 'inputs': [{'name': 'train',\n",
      "             'parameters': [{'name': 'connection_name',\n",
      "                             'required': True,\n",
      "                             'type': 'string'},\n",
      "                            {'name': 'model_name',\n",
      "                             'required': True,\n",
      "                             'type': 'string'},\n",
      "                            {'name': 'model_source',\n",
      "                             'required': False,\n",
      "                             'type': 'string'},\n",
      "                            {'name': 'model_tags',\n",
      "                             'required': False,\n",
      "                             'type': 'array'},\n",
      "                            {'name': 'model_title',\n",
      "                             'required': False,\n",
      "                             'type': 'string'},\n",
      "                            {'name': 'model_type',\n",
      "                             'required': True,\n",
      "                             'type': 'string'},\n",
      "                            {'name': 'model_status',\n",
      "                             'required': True,\n",
      "                             'type': 'string'},\n",
      "                            {'name': 'model_mode',\n",
      "                             'required': False,\n",
      "                             'type': 'string'}],\n",
      "             'routing': {'all': {'action': 'train-example',\n",
      "                                 'output': 'response_train',\n",
      "                                 'runtime': 'cortex/jobs'}},\n",
      "             'title': 'Train Request'},\n",
      "            {'name': 'predict',\n",
      "             'parameters': [{'name': 'exp_name',\n",
      "                             'required': True,\n",
      "                             'type': 'string'},\n",
      "                            {'name': 'run_id',\n",
      "                             'required': False,\n",
      "                             'type': 'string'},\n",
      "                            {'name': 'instances',\n",
      "                             'required': True,\n",
      "                             'type': 'object'}],\n",
      "             'routing': {'all': {'action': 'predict-example',\n",
      "                                 'output': 'response_predict',\n",
      "                                 'runtime': 'cortex/daemons'}},\n",
      "             'title': 'Predict Request'}],\n",
      " 'name': 'FAB-2397-e2eexample',\n",
      " 'outputs': [{'name': 'response_train',\n",
      "              'parameters': [{'name': 'response_train',\n",
      "                              'required': False,\n",
      "                              'type': 'object'}],\n",
      "              'title': 'Train response'},\n",
      "             {'name': 'response_predict',\n",
      "              'parameters': [{'name': 'response_predict',\n",
      "                              'required': False,\n",
      "                              'type': 'object'}],\n",
      "              'title': 'Predict response'}],\n",
      " 'properties': [{'defaultValue': 'POST',\n",
      "                 'description': 'Update default value to HTTP method supported '\n",
      "                                'by endpoint',\n",
      "                 'name': 'daemon.method',\n",
      "                 'required': True,\n",
      "                 'secure': False,\n",
      "                 'title': 'Daemon method',\n",
      "                 'type': 'string',\n",
      "                 'validValues': []},\n",
      "                {'defaultValue': 'invoke',\n",
      "                 'description': 'Update default value to HTTP endpoint path in '\n",
      "                                'container',\n",
      "                 'name': 'daemon.path',\n",
      "                 'required': True,\n",
      "                 'secure': False,\n",
      "                 'title': 'Daemon path',\n",
      "                 'type': 'string',\n",
      "                 'validValues': []},\n",
      "                {'defaultValue': '5000',\n",
      "                 'description': 'Update default value to port on which app '\n",
      "                                'will be running',\n",
      "                 'name': 'daemon.port',\n",
      "                 'required': True,\n",
      "                 'secure': False,\n",
      "                 'title': 'Daemon Port',\n",
      "                 'type': 'string',\n",
      "                 'validValues': []}],\n",
      " 'tags': [],\n",
      " 'title': 'End to End example with cortex-python v6 SDK'}\n"
     ]
    }
   ],
   "source": [
    "pprint(sks)"
   ]
  },
  {
   "cell_type": "markdown",
   "id": "950aafd1",
   "metadata": {},
   "source": [
    "### run the following command\n",
    "``make tests`` to test the skills deployment with the json present in tests folder\n"
   ]
  },
  {
   "cell_type": "code",
   "execution_count": null,
   "id": "494fafc4",
   "metadata": {},
   "outputs": [],
   "source": []
  },
  {
   "cell_type": "code",
   "execution_count": null,
   "id": "49f507df",
   "metadata": {},
   "outputs": [],
   "source": []
  },
  {
   "cell_type": "code",
   "execution_count": null,
   "id": "cf4f2c0c",
   "metadata": {},
   "outputs": [],
   "source": []
  }
 ],
 "metadata": {
  "interpreter": {
   "hash": "5523d97f8d39242cc18343035ad1a8004da0150714d0307060e9a4c47049a6fe"
  },
  "kernelspec": {
   "display_name": "Python 3 (ipykernel)",
   "language": "python",
   "name": "python3"
  },
  "language_info": {
   "codemirror_mode": {
    "name": "ipython",
    "version": 3
   },
   "file_extension": ".py",
   "mimetype": "text/x-python",
   "name": "python",
   "nbconvert_exporter": "python",
   "pygments_lexer": "ipython3",
   "version": "3.7.10"
  }
 },
 "nbformat": 4,
 "nbformat_minor": 5
}
