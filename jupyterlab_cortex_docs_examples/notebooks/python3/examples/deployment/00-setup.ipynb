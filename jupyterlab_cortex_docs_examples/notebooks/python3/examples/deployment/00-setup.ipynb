{
 "cells": [
  {
   "cell_type": "markdown",
   "metadata": {},
   "source": [
    "# Setup Only\n",
    "\n",
    "This notebook is not intended to run be by itself, but is a set up for the [deployment notebook](./01-deployment.ipynb). It is an abbreviated version of the [experiment annotaion notebook](../experiment/experiment_annotations.ipynb).  "
   ]
  },
  {
   "cell_type": "code",
   "execution_count": null,
   "metadata": {},
   "outputs": [],
   "source": [
    "# imports and client instaniation\n",
    "!pip install numpy\n",
    "!pip install tensorflow\n",
    "!pip install keras\n",
    "\n",
    "import numpy\n",
    "import pandas\n",
    "\n",
    "from keras.models import Sequential\n",
    "from keras.layers import Dense\n",
    "from keras.wrappers.scikit_learn import KerasClassifier\n",
    "\n",
    "from sklearn.model_selection import cross_val_score\n",
    "from sklearn.model_selection import KFold\n",
    "from sklearn.model_selection import train_test_split\n",
    "\n",
    "from cortex import Cortex\n",
    "\n",
    "client = Cortex.client()\n",
    "exp = client.experiment('flowers/experiment')"
   ]
  },
  {
   "cell_type": "code",
   "execution_count": null,
   "metadata": {},
   "outputs": [],
   "source": [
    "# datasets\n",
    "df = pandas.read_csv('../experiment/data/iris.data')\n",
    "dataset = df.values\n",
    "ds_classes = pandas.get_dummies(df).values # one-hot encode the classes\n",
    "\n",
    "X = dataset[:,0:4].astype(float)\n",
    "Y = ds_classes[:,4:8].astype(int)\n",
    "\n",
    "(train_inputs, test_inputs, train_classes, test_classes) = train_test_split(X, Y, test_size=0.333, train_size=0.667)"
   ]
  },
  {
   "cell_type": "code",
   "execution_count": null,
   "metadata": {},
   "outputs": [],
   "source": [
    "# models\n",
    "lf = 'categorical_crossentropy'\n",
    "\n",
    "def adam_opt_model():\n",
    "    model = Sequential()\n",
    "    model.name = 'adam optimizer'\n",
    "    model.add(Dense(16, input_dim=4, activation='relu'))\n",
    "    model.add(Dense(3, activation='softmax'))\n",
    "    model.compile(loss=lf, optimizer='adam', metrics=['accuracy'])\n",
    "    return model\n",
    "\n",
    "\n",
    "def small_sgd_opt_model():\n",
    "    model = Sequential()\n",
    "    model.name = 'small sgd optimizer'\n",
    "    model.add(Dense(8, input_dim=4, activation='relu'))\n",
    "    model.add(Dense(3, activation='softmax'))\n",
    "    model.compile(loss=lf, optimizer='sgd', metrics=['accuracy'])\n",
    "    return model"
   ]
  },
  {
   "cell_type": "code",
   "execution_count": null,
   "metadata": {},
   "outputs": [],
   "source": [
    "epoch_cts = [1, 10]\n",
    "batch_sz = 3\n",
    "\n",
    "for model in [adam_opt_model, small_sgd_opt_model]:\n",
    "    for epoch_ct in epoch_cts:\n",
    "        with exp.start_run() as run: \n",
    "            estimator = KerasClassifier(build_fn=model, epochs=epoch_ct, batch_size=batch_sz, verbose=0)\n",
    "            kfold = KFold(n_splits=3, shuffle=True)\n",
    "            results = cross_val_score(estimator, test_inputs, test_classes, cv=kfold)\n",
    "            run.log_artifact('model', model())\n",
    "            run.log_param('batch size', batch_sz)\n",
    "            run.log_param('epochs', epoch_ct)\n",
    "            run.log_param('model name', model().name)\n",
    "            run.log_metric('mean acc', results.mean()*100)\n",
    "            run.log_metric('margin of err', results.std()*100)"
   ]
  }
 ],
 "metadata": {
  "kernelspec": {
   "display_name": "Python 3",
   "language": "python",
   "name": "python3"
  },
  "language_info": {
   "codemirror_mode": {
    "name": "ipython",
    "version": 3
   },
   "file_extension": ".py",
   "mimetype": "text/x-python",
   "name": "python",
   "nbconvert_exporter": "python",
   "pygments_lexer": "ipython3",
   "version": "3.7.1"
  }
 },
 "nbformat": 4,
 "nbformat_minor": 2
}
