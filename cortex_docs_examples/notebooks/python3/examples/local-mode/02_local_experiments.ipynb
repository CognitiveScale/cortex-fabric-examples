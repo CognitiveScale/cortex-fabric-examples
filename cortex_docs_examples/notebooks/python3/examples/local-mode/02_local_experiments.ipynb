{
 "cells": [
  {
   "cell_type": "markdown",
   "metadata": {},
   "source": [
    "## Experiments in Local Mode\n",
    "This notebook requires scikit-learn.  Please install using `pip install scikit-learn` or equivalent in your environment. Please install `cortex-python`,`cortex-python[builders]` for builder functionality, `cortex-python[viz]` for vizualizations. \n"
   ]
  },
  {
   "cell_type": "code",
   "execution_count": null,
   "metadata": {},
   "outputs": [],
   "source": [
    "%run ./00_setup.ipynb"
   ]
  },
  {
   "cell_type": "code",
   "execution_count": null,
   "metadata": {},
   "outputs": [],
   "source": [
    "from sklearn.datasets.california_housing import fetch_california_housing\n",
    "houses = fetch_california_housing()"
   ]
  },
  {
   "cell_type": "code",
   "execution_count": null,
   "metadata": {},
   "outputs": [],
   "source": [
    "print(houses.DESCR)"
   ]
  },
  {
   "cell_type": "code",
   "execution_count": null,
   "metadata": {},
   "outputs": [],
   "source": [
    "df = pd.DataFrame(data=houses.data, columns=houses.feature_names)\n",
    "df.head()"
   ]
  },
  {
   "cell_type": "code",
   "execution_count": null,
   "metadata": {},
   "outputs": [],
   "source": [
    "cortex = Cortex.local()\n",
    "builder = cortex.builder()"
   ]
  },
  {
   "cell_type": "code",
   "execution_count": null,
   "metadata": {},
   "outputs": [],
   "source": [
    "ds = builder.dataset('c12e/cal-housing').title('California Housing dataset').from_df(df).build()\n",
    "print('{} v{}'.format(ds.name, ds.version))"
   ]
  },
  {
   "cell_type": "code",
   "execution_count": null,
   "metadata": {},
   "outputs": [],
   "source": [
    "from sklearn.linear_model import LinearRegression, RidgeCV, LassoCV, ElasticNetCV\n",
    "from sklearn.metrics import mean_squared_error\n",
    "from sklearn.model_selection import train_test_split"
   ]
  },
  {
   "cell_type": "code",
   "execution_count": null,
   "metadata": {},
   "outputs": [],
   "source": [
    "def train(x, y, **kwargs):\n",
    "    alphas = kwargs.get('alphas', [1, 0.1, 0.001, 0.0001])\n",
    "    # Select alogrithm \"\n",
    "    mtype = kwargs.get('model_type')\n",
    "    if mtype == 'Lasso':\n",
    "        model = LassoCV(alphas=alphas)\n",
    "    elif mtype == 'Ridge':\n",
    "        model = RidgeCV(alphas=alphas)\n",
    "    elif mtype == 'ElasticNet':\n",
    "        model = ElasticNetCV(alphas=alphas)\n",
    "    else:\n",
    "        model = LinearRegression()\n",
    "\n",
    "    # Train model\n",
    "    model.fit(x, y)\n",
    "    \n",
    "    return model"
   ]
  },
  {
   "cell_type": "code",
   "execution_count": null,
   "metadata": {},
   "outputs": [],
   "source": [
    "def predict_and_score(model, x, y):\n",
    "    predictions = model.predict(x)\n",
    "    rmse = np.sqrt(mean_squared_error(predictions, y))\n",
    "    return [predictions, rmse]"
   ]
  },
  {
   "cell_type": "code",
   "execution_count": null,
   "metadata": {},
   "outputs": [],
   "source": [
    "X_train, X_test, y_train, y_test = train_test_split(df, houses.target, test_size=0.30, random_state=10)"
   ]
  },
  {
   "cell_type": "code",
   "execution_count": null,
   "metadata": {},
   "outputs": [],
   "source": [
    "%%time\n",
    "\n",
    "best_model = None\n",
    "best_model_type = None\n",
    "best_rmse = 1.0\n",
    "\n",
    "exp = cortex.experiment('c12e/cal-housing-regression')\n",
    "exp.reset()\n",
    "exp.set_meta('style', 'supervised')\n",
    "exp.set_meta('function', 'regression')\n",
    "\n",
    "with exp.start_run() as run:\n",
    "    alphas = [1, 0.1, 0.001, 0.0005]\n",
    "    for model_type in ['Linear', 'Lasso', 'Ridge', 'ElasticNet']:\n",
    "        print('---'*30)\n",
    "        print('Training model using {} regression algorithm'.format(model_type))\n",
    "        model = train(X_train, y_train, model_type=model_type, alphas=alphas)\n",
    "        [predictions, rmse] = predict_and_score(model, X_train, y_train)\n",
    "        print('Training error:', rmse)\n",
    "        [predictions, rmse] = predict_and_score(model, X_test, y_test)\n",
    "        print('Testing error:', rmse)\n",
    "\n",
    "        if rmse < best_rmse:\n",
    "            best_rmse = rmse\n",
    "            best_model = model\n",
    "            best_model_type = model_type\n",
    "\n",
    "    r2 = best_model.score(X_test, y_test)\n",
    "    run.log_metric('r2', r2)\n",
    "    run.log_metric('rmse', best_rmse)\n",
    "    run.log_param('model_type', best_model_type)\n",
    "    run.log_param('alphas', alphas)\n",
    "    run.log_artifact('model', best_model)\n",
    "\n",
    "print('---'*30)\n",
    "print('Best model: ' + best_model_type)\n",
    "print('Best testing error: %.6f' % best_rmse)\n",
    "print('R2 score: %.6f' % r2)"
   ]
  },
  {
   "cell_type": "code",
   "execution_count": null,
   "metadata": {},
   "outputs": [],
   "source": [
    "exp"
   ]
  },
  {
   "cell_type": "code",
   "execution_count": null,
   "metadata": {},
   "outputs": [],
   "source": []
  }
 ],
 "metadata": {
  "kernelspec": {
   "display_name": "Python 3",
   "language": "python",
   "name": "python3"
  },
  "language_info": {
   "codemirror_mode": {
    "name": "ipython",
    "version": 3
   },
   "file_extension": ".py",
   "mimetype": "text/x-python",
   "name": "python",
   "nbconvert_exporter": "python",
   "pygments_lexer": "ipython3",
   "version": "3.6.8"
  }
 },
 "nbformat": 4,
 "nbformat_minor": 4
}
