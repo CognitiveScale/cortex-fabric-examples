{
 "cells": [
  {
   "cell_type": "markdown",
   "metadata": {},
   "source": [
    "# Deploy a Model\n",
    "\n",
    "After the experiments on your data have been run and a suitable model is selected, the next step is to create an inference Skill that uses our model. \n",
    "\n",
    "Please install `cortex-python`,`cortex-python[builders]` for builder functionality, `cortex-python[viz]` for vizualizations. \n",
    "\n",
    "\n",
    "## Select the Model\n",
    "\n",
    "In this example, the first cell runs a setup notebook similar to the [Experiment annotations notebook](https://docs.cortex.insights.ai/docs/cortex-python-sdk-guide/experiment-annotations/). Then, the example imports the last run from an experiment ran on the [UCI Iris Dataset](https://archive.ics.uci.edu/ml/datasets/Iris). "
   ]
  },
  {
   "cell_type": "code",
   "execution_count": null,
   "metadata": {},
   "outputs": [],
   "source": [
    "%run ./00-setup.ipynb"
   ]
  },
  {
   "cell_type": "code",
   "execution_count": null,
   "metadata": {},
   "outputs": [],
   "source": [
    "from cortex import Cortex, Message\n",
    "\n",
    "client = Cortex.client()\n",
    "exp = client.experiment('flowers/experiment')\n",
    "\n",
    "exp"
   ]
  },
  {
   "cell_type": "markdown",
   "metadata": {},
   "source": [
    "After running the last cell, the experiment displays runs from the experiments notebook. Select the last of these runs and use that as the model for the skill."
   ]
  },
  {
   "cell_type": "code",
   "execution_count": null,
   "metadata": {},
   "outputs": [],
   "source": [
    "run = exp.last_run() \n",
    "\n",
    "model = run.get_artifact('model')\n",
    "\n",
    "print('Run id: %s \\nModel name: \"%s\"' % (run.id, model.name))"
   ]
  },
  {
   "cell_type": "markdown",
   "metadata": {},
   "source": [
    "## Create an action using the model\n",
    "\n",
    "A skill's action builds from the model with a builder supplied by the Cortex Client. In the following example, the action name is `flowers/iris-predict`. \n",
    "\n",
    "A model may depend on other python libraries. To make those libraries available to the action, specify them in the `with_requirements` method. Only specify libraries that your model needs that are not provided by the Cortex Python SDK[ * ](#requirements). The following example requires the keras library and the TensorFlow backend. The final `build` command builds a docker image and deploys an Action to run the image when invoked."
   ]
  },
  {
   "cell_type": "code",
   "execution_count": null,
   "metadata": {},
   "outputs": [],
   "source": [
    "builder = client.builder()\n",
    "builder.action('flowers/iris-predict')\\\n",
    "        .with_requirements(['tensorflow>=1.12,<2',\n",
    "                            'keras>=2.2.4,<3'])\\\n",
    "        .from_model(model)\\\n",
    "        .build()"
   ]
  },
  {
   "cell_type": "markdown",
   "metadata": {},
   "source": [
    "Instantiate the newly saved action to be tested."
   ]
  },
  {
   "cell_type": "code",
   "execution_count": null,
   "metadata": {},
   "outputs": [],
   "source": [
    "action = client.action('flowers/iris-predict')\n",
    "action"
   ]
  },
  {
   "cell_type": "markdown",
   "metadata": {},
   "source": [
    "Test the action by invoking it to ensures the action is ready for use."
   ]
  },
  {
   "cell_type": "code",
   "execution_count": null,
   "metadata": {},
   "outputs": [],
   "source": [
    "params = {'columns': ['sepal_len','sepal_w','petal_len','petal_w'],\n",
    "           'values': [[4.9,3.1,1.5,0.2]]}\n",
    "\n",
    "result = action.invoke(message=client.message(params))\n",
    "print(result.payload)"
   ]
  },
  {
   "cell_type": "markdown",
   "metadata": {},
   "source": [
    "In the following cell, the maximum value for the three-node output of the neural network selects and matches itself to the appropriate type of iris flower. "
   ]
  },
  {
   "cell_type": "code",
   "execution_count": null,
   "metadata": {},
   "outputs": [],
   "source": [
    "x = numpy.argmax(result.payload['values'][0])\n",
    "\n",
    "iris_dict = {0:'Iris-setosa',1:'Iris-versicolor',2:'Iris-virginica'}\n",
    "\n",
    "iris_dict[x]"
   ]
  },
  {
   "cell_type": "markdown",
   "metadata": {},
   "source": [
    "## Create a skill using the action\n",
    "\n",
    "To create a skill from the action, call the `builder` to get a skill builder. "
   ]
  },
  {
   "cell_type": "code",
   "execution_count": null,
   "metadata": {},
   "outputs": [],
   "source": [
    "skill_builder = builder.skill('flowers/iris-predict')\\\n",
    "     .title('Iris Flower Prediction')\\\n",
    "     .description('Measurement based prediction for the type of Iris flowers.')\n"
   ]
  },
  {
   "cell_type": "markdown",
   "metadata": {},
   "source": [
    "A resulting schema is used by the skill builder to identify elements of the input. In this example, the schema describes the measurement values for parts of the Iris flower. "
   ]
  },
  {
   "cell_type": "code",
   "execution_count": null,
   "metadata": {},
   "outputs": [],
   "source": [
    "schema_name = 'flowers/iris-input-schema'\n",
    "\n",
    "builder.schema(schema_name)\\\n",
    "     .title('Iris Prediction Schema Instance')\\\n",
    "     .from_parameters([{'name': 'values', 'type': 'array', 'format': 'float32'}]).build()\n",
    "\n",
    "skill_builder = skill_builder.input('iris-measurement').title('Iris Measurements')\\\n",
    "     .use_schema(schema_name)\\\n",
    "     .all_routing(action, 'measurement-based-prediction').build()"
   ]
  },
  {
   "cell_type": "markdown",
   "metadata": {},
   "source": [
    "Specify the skill construction. The construction describes the skill including a name that matches the action name and a description of the output."
   ]
  },
  {
   "cell_type": "code",
   "execution_count": null,
   "metadata": {},
   "outputs": [],
   "source": [
    "skill_builder = skill_builder.output('measurement-based-prediction').title('Classification')\\\n",
    "    .parameter(name='IrisClass', type='array', format='float32').build()"
   ]
  },
  {
   "cell_type": "markdown",
   "metadata": {},
   "source": [
    "With the skill `builder` fully specified, call `to_camel` so the skill's contents can be reviewed."
   ]
  },
  {
   "cell_type": "code",
   "execution_count": null,
   "metadata": {},
   "outputs": [],
   "source": [
    "skill_builder.to_camel()"
   ]
  },
  {
   "cell_type": "markdown",
   "metadata": {},
   "source": [
    "## Publish the skill\n",
    "\n",
    "Invoke the builder to publish the skill. Upon publication, the skill can be used in Cortex Studio with other skills to compose agents. "
   ]
  },
  {
   "cell_type": "code",
   "execution_count": null,
   "metadata": {},
   "outputs": [],
   "source": [
    "skill = skill_builder.build()\n",
    "print('%s (%s) v%d' % (skill.title, skill.name, skill.version))"
   ]
  },
  {
   "cell_type": "markdown",
   "metadata": {},
   "source": [
    "## Requirements\n",
    "\n",
    "The Cortex Python SDK provides the following requirements and do not need to be added to an action's Docker Image. \n",
    "\n",
    "* seaborn>=0.9.0,<0.10\n",
    "* dill==0.2.8.2\n",
    "* discovery-transitioning-utils>=1.3.50,<2\n",
    "* fdk==0.0.31\n",
    "* dataclasses>=0.6\n",
    "* seaborn>=0.9.0,<0.10\n",
    "* matplotlib>=2.2.2,<3\n",
    "* more_itertools>=4.3.0,<5\n",
    "* pyyaml>=3.13,<4\n",
    "* cuid>=0.3,<1\n",
    "* maya==0.5.0\n",
    "* docker==3.5.0\n",
    "* deprecation==2.0.6\n",
    "* tenacity==5.0.2"
   ]
  }
 ],
 "metadata": {
  "kernelspec": {
   "display_name": "_venv",
   "language": "python",
   "name": "_venv"
  },
  "language_info": {
   "codemirror_mode": {
    "name": "ipython",
    "version": 3
   },
   "file_extension": ".py",
   "mimetype": "text/x-python",
   "name": "python",
   "nbconvert_exporter": "python",
   "pygments_lexer": "ipython3",
   "version": "3.6.8"
  }
 },
 "nbformat": 4,
 "nbformat_minor": 4
}
