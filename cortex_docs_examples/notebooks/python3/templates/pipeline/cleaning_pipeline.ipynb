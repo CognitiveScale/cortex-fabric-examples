{
 "cells": [
  {
   "cell_type": "markdown",
   "metadata": {},
   "source": [
    "# Clean Data with Pipelines\n",
    "\n",
    "This notebook is a template for common data cleaning and preparation activities. Use a data cleaning pipeline in preparation for training the model or as a part of the input processing for a deployed model. \n",
    "\n",
    "## Setup\n",
    "\n",
    "This section defines variables used in the following sections to construct and run the pipeline. You can change the values of the variables to meet your needs. "
   ]
  },
  {
   "cell_type": "code",
   "execution_count": null,
   "metadata": {},
   "outputs": [],
   "source": [
    "data_file = './data/clean.csv'"
   ]
  },
  {
   "cell_type": "markdown",
   "metadata": {},
   "source": [
    "This template works with pandas datasets. Pandas provides a rich set of [I/O tools](https://pandas.pydata.org/pandas-docs/stable/user_guide/io.html) for reading and writing data. The template uses as `csv` file by default. "
   ]
  },
  {
   "cell_type": "code",
   "execution_count": null,
   "metadata": {},
   "outputs": [],
   "source": [
    "name_space = 'example'\n",
    "dataset_name = 'sample01'\n",
    "full_ds_name = '/'.join([name_space, dataset_name])"
   ]
  },
  {
   "cell_type": "markdown",
   "metadata": {},
   "source": [
    "A namespace is an organizational element for data saved in the Cortex infrastructure. Use it to keep various artifacts related to a particular project together. This template combines the namespace and the dataset name to create a qualified dataset name. "
   ]
  },
  {
   "cell_type": "code",
   "execution_count": null,
   "metadata": {},
   "outputs": [],
   "source": [
    "pipeline_name = 'clean'\n",
    "full_pipeline_name = '/'.join([name_space, pipeline_name])"
   ]
  },
  {
   "cell_type": "markdown",
   "metadata": {},
   "source": [
    "Pipelines are persistent and are retrieved by name. \n",
    "\n",
    "### Column variables\n",
    "\n",
    "The following cell contains lists of columns that can be used for common data cleaning activities. \n",
    "\n",
    "Extract the columns that fit your particular dataset. "
   ]
  },
  {
   "cell_type": "code",
   "execution_count": null,
   "metadata": {},
   "outputs": [],
   "source": [
    "columns_of_interest = ['ALPHA','EPSILON','ZETA','ETA']"
   ]
  },
  {
   "cell_type": "markdown",
   "metadata": {},
   "source": [
    "If some categorical columns need to be encoded, specify those columns in the following list. "
   ]
  },
  {
   "cell_type": "code",
   "execution_count": null,
   "metadata": {},
   "outputs": [],
   "source": [
    "columns_to_encode = ['EPSILON']"
   ]
  },
  {
   "cell_type": "markdown",
   "metadata": {},
   "source": [
    "Columns that have missing elements which need to be filled for modeling can be specified in the following cell:"
   ]
  },
  {
   "cell_type": "code",
   "execution_count": null,
   "metadata": {},
   "outputs": [],
   "source": [
    "columns_with_missing_data = ['ALPHA']"
   ]
  },
  {
   "cell_type": "markdown",
   "metadata": {},
   "source": [
    "An additional step for removing outliers can be added here. Removing outliers requires that you write expressions to exclude upper or lower bounds for a column.\n",
    "\n",
    "## Pipeline and Dataset \n",
    "\n",
    "Import the pandas' or other needed libraries, and then create a dataset and pipeline:"
   ]
  },
  {
   "cell_type": "code",
   "execution_count": null,
   "metadata": {},
   "outputs": [],
   "source": [
    "from cortex import Cortex\n",
    "import pandas as pd"
   ]
  },
  {
   "cell_type": "markdown",
   "metadata": {},
   "source": [
    "In the next line a local Cortex client is created. You create a server-side client by replacing `Cortex.local()` with `Cortex.client()`. Doing that will cause the data set to be persisted in Cortex."
   ]
  },
  {
   "cell_type": "code",
   "execution_count": null,
   "metadata": {},
   "outputs": [],
   "source": [
    "cortex = Cortex.local()"
   ]
  },
  {
   "cell_type": "markdown",
   "metadata": {},
   "source": [
    "Now create the dataset and the pipeline."
   ]
  },
  {
   "cell_type": "code",
   "execution_count": null,
   "metadata": {},
   "outputs": [],
   "source": [
    "clean_dataset = cortex.dataset(full_ds_name) \n",
    "pipeline = clean_dataset.pipeline(full_pipeline_name, clear_cache=True)"
   ]
  },
  {
   "cell_type": "markdown",
   "metadata": {},
   "source": [
    "If you run this pipeline multiple times reset the kernal after each run to remove steps. See the [pipeline persistence notebook](https://docs.cortex.insights.ai/docs/cortex-python-sdk-guide/pipeline/#pipeline-persistence) for more information."
   ]
  },
  {
   "cell_type": "code",
   "execution_count": null,
   "metadata": {},
   "outputs": [],
   "source": [
    "pipeline.reset()"
   ]
  },
  {
   "cell_type": "markdown",
   "metadata": {},
   "source": [
    "## Pipeline steps\n",
    "\n",
    "### Get a subset of columns\n",
    "\n",
    "Use the list you create `columns_of_interest` to create the desired subset of the data. "
   ]
  },
  {
   "cell_type": "code",
   "execution_count": null,
   "metadata": {},
   "outputs": [],
   "source": [
    "def subset_columns(pipeline, df):\n",
    "    return df[columns_of_interest]\n",
    "\n",
    "pipeline.add_step(subset_columns)"
   ]
  },
  {
   "cell_type": "markdown",
   "metadata": {},
   "source": [
    "### Use get_dummies for encoding categorical data\n",
    "\n",
    "Pandas supplies the [get_dummies](https://pandas.pydata.org/pandas-docs/stable/reference/api/pandas.get_dummies.html) function to provide one hot encoding for categorical data."
   ]
  },
  {
   "cell_type": "code",
   "execution_count": null,
   "metadata": {},
   "outputs": [],
   "source": [
    "def encode_cat_cols(pipeline, df):\n",
    "    return pd.get_dummies(df,columns=columns_to_encode)\n",
    "\n",
    "pipeline.add_step(encode_cat_cols)"
   ]
  },
  {
   "cell_type": "markdown",
   "metadata": {},
   "source": [
    "### Handle missing values"
   ]
  },
  {
   "cell_type": "code",
   "execution_count": null,
   "metadata": {},
   "outputs": [],
   "source": [
    "def fill_missing(pipeline, df):\n",
    "    return df.fillna(0.0)\n",
    "\n",
    "pipeline.add_step(fill_missing)"
   ]
  },
  {
   "cell_type": "markdown",
   "metadata": {},
   "source": [
    "### Drop outliers\n",
    "\n",
    "You can write expressions to provide bounds for acceptable values for a particular column."
   ]
  },
  {
   "cell_type": "code",
   "execution_count": null,
   "metadata": {},
   "outputs": [],
   "source": [
    "def drop_outliers(pipeline, df):\n",
    "    df.drop(df[df['ZETA'].astype(int)>1.0].index, inplace=True) # modify/add expressions to id outliers in your data  \n",
    "    \n",
    "pipeline.add_step(drop_outliers)"
   ]
  },
  {
   "cell_type": "markdown",
   "metadata": {},
   "source": [
    "## Run the pipeline"
   ]
  },
  {
   "cell_type": "code",
   "execution_count": null,
   "metadata": {},
   "outputs": [],
   "source": [
    "cleaned_ds = pipeline.run(pd.read_csv(data_file))"
   ]
  },
  {
   "cell_type": "markdown",
   "metadata": {},
   "source": [
    "## Display the results"
   ]
  },
  {
   "cell_type": "code",
   "execution_count": null,
   "metadata": {},
   "outputs": [],
   "source": [
    "cleaned_ds"
   ]
  },
  {
   "cell_type": "markdown",
   "metadata": {},
   "source": [
    " "
   ]
  }
 ],
 "metadata": {
  "kernelspec": {
   "display_name": "Python 3",
   "language": "python",
   "name": "python3"
  },
  "language_info": {
   "codemirror_mode": {
    "name": "ipython",
    "version": 3
   },
   "file_extension": ".py",
   "mimetype": "text/x-python",
   "name": "python",
   "nbconvert_exporter": "python",
   "pygments_lexer": "ipython3",
   "version": "3.6.7"
  }
 },
 "nbformat": 4,
 "nbformat_minor": 2
}
