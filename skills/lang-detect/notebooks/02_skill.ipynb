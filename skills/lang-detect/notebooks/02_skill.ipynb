{
 "cells": [
  {
   "cell_type": "code",
   "execution_count": null,
   "metadata": {
    "collapsed": true
   },
   "outputs": [],
   "source": [
    "# Basic setup and sanity checking\n",
    "%run ./00_setup.ipynb"
   ]
  },
  {
   "cell_type": "markdown",
   "metadata": {},
   "source": [
    "## Connect to Cortex and use the Cortex Builder\n",
    "The Builder will allow us to declaratively define and deploy a Skill using our Language Detection Action from the previous step."
   ]
  },
  {
   "cell_type": "code",
   "execution_count": null,
   "metadata": {},
   "outputs": [],
   "source": [
    "cortex = Cortex.client()\n",
    "builder = cortex.builder()"
   ]
  },
  {
   "cell_type": "markdown",
   "metadata": {},
   "source": [
    "### Retreive the Language Detection Action"
   ]
  },
  {
   "cell_type": "code",
   "execution_count": null,
   "metadata": {},
   "outputs": [],
   "source": [
    "action = cortex.action('c12e/lang-detect')\n",
    "display(action)"
   ]
  },
  {
   "cell_type": "markdown",
   "metadata": {},
   "source": [
    "### Define and Deploy the Skill"
   ]
  },
  {
   "cell_type": "code",
   "execution_count": null,
   "metadata": {},
   "outputs": [],
   "source": [
    "b = builder.skill('c12e/lang-detect-skill').title('Language Detection').description('Detects the language used in a provided text.')\n",
    "\n",
    "b.input('text_input').parameter('text', 'string', None, 'Text').all_routing(action, 'text_with_language').build()\n",
    "\n",
    "b.output('text_with_language').parameter(\n",
    "    'text', 'string', None, 'Text').parameter(\n",
    "    'lang', 'string', None, 'Language').parameter(\n",
    "    'score', 'number', 'float', 'Score').parameter(\n",
    "    'other_langs', 'array', None, 'Other Languages').build()\n",
    "\n",
    "skill = b.build()\n",
    "print('Deployed skill {} at version v{}'.format(skill.name, skill.version))"
   ]
  },
  {
   "cell_type": "markdown",
   "metadata": {},
   "source": [
    "### Test the Skill"
   ]
  },
  {
   "cell_type": "code",
   "execution_count": null,
   "metadata": {},
   "outputs": [],
   "source": [
    "msg = Message.with_payload({'text': '¡Bienvenido a CognitiveScale, que tengas un buen día!'})\n",
    "result = skill.invoke(input_name='text_input', message=msg)\n",
    "print(result.payload)"
   ]
  },
  {
   "cell_type": "code",
   "execution_count": null,
   "metadata": {},
   "outputs": [],
   "source": []
  }
 ],
 "metadata": {
  "kernelspec": {
   "display_name": "Python 3",
   "language": "python",
   "name": "python3"
  },
  "language_info": {
   "codemirror_mode": {
    "name": "ipython",
    "version": 3
   },
   "file_extension": ".py",
   "mimetype": "text/x-python",
   "name": "python",
   "nbconvert_exporter": "python",
   "pygments_lexer": "ipython3",
   "version": "3.6.6"
  }
 },
 "nbformat": 4,
 "nbformat_minor": 2
}
