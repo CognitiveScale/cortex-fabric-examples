{
 "cells": [
  {
   "cell_type": "code",
   "execution_count": null,
   "metadata": {},
   "outputs": [],
   "source": [
    "# Basic setup\n",
    "%run ./config.ipynb"
   ]
  },
  {
   "cell_type": "code",
   "execution_count": null,
   "metadata": {},
   "outputs": [],
   "source": [
    "from cortex import Message, Cortex\n",
    "from langdetect import detect_langs\n",
    "\n",
    "\n",
    "def detect(params):\n",
    "    msg = Message(params)\n",
    "    cortex= Cortex.client(msg.apiEndpoint, token = msg.token)\n",
    "    text = msg.payload.get('text')\n",
    "\n",
    "    results = detect_langs(text)\n",
    "\n",
    "    others = []\n",
    "    for lang in results[1:]:\n",
    "        others.append({'lang': lang.lang, 'score': lang.prob})\n",
    "\n",
    "    top_lang = results[0]\n",
    "\n",
    "    return cortex.message(\n",
    "        {'text': text, 'lang': top_lang.lang, 'score': top_lang.prob, 'other_langs': others}).to_params()"
   ]
  },
  {
   "cell_type": "code",
   "execution_count": null,
   "metadata": {},
   "outputs": [],
   "source": [
    "import sys\n",
    "import argparse\n",
    "from pprint import pprint\n",
    "\n",
    "\n",
    "def test_detect(args):\n",
    "    text = u'¡Bienvenido a CognitiveScale, que tengas un buen día!'\n",
    "    print('Detecting language in: {}'.format(text))\n",
    "    m = Message.with_payload({'text': text})\n",
    "    result = detect(m.to_params())\n",
    "    pprint(result['payload'])\n",
    "\n",
    "test_detect(None)"
   ]
  },
  {
   "cell_type": "code",
   "execution_count": null,
   "metadata": {},
   "outputs": [],
   "source": [
    "import sys\n",
    "from cortex import Cortex\n",
    "\n",
    "_shim = \"\"\"\n",
    "def main(params):\n",
    "    return %s(params)\n",
    "\"\"\"\n",
    "\n",
    "\n",
    "def load_source(path, fn):\n",
    "    with open(path) as f:\n",
    "        source = f.read()\n",
    "    return '{}\\n\\n{}'.format(source, _shim % fn)\n",
    "\n",
    "\n",
    "def build_detect_action(builder):\n",
    "    action = builder.action('c12e/lang-detect').from_source(\n",
    "        load_source('lang_detect/detect.py', 'detect')).with_requirements(['langdetect']).daemon().build()\n",
    "\n",
    "    return action\n",
    "\n",
    "\n",
    "def build_detect_skill(builder, action):\n",
    "    b = builder.skill('c12e/lang-detect-skill').title('Language Detection').description(\n",
    "        'Detects the language used in a provided text.')\n",
    "\n",
    "    b.input('text_input').parameter('text', 'string', None, 'Text').all_routing(\n",
    "        action, 'text_with_language').build()\n",
    "\n",
    "    b.output('text_with_language').parameter('text', 'string', None, 'Text').parameter(\n",
    "        'lang', 'string', None, 'Language').parameter('score', 'number', 'float', 'Score').parameter(\n",
    "        'other_langs', 'array', None, 'Other Languages').build()\n",
    "\n",
    "    return b.build()\n",
    "\n",
    "\n",
    "def build_detect():\n",
    "    cortex = Cortex.client()\n",
    "    builder = cortex.builder()\n",
    "\n",
    "    action = build_detect_action(builder)\n",
    "    print('Deployed action {} at version v{}'.format(action.name, action.version))\n",
    "    print(action.get_deployment_status())\n",
    "\n",
    "    skill = build_detect_skill(builder, action)\n",
    "    print('Deployed skill {} at version v{}'.format(skill.name, skill.version))\n",
    "\n",
    "build_detect()\n"
   ]
  },
  {
   "cell_type": "code",
   "execution_count": null,
   "metadata": {},
   "outputs": [],
   "source": []
  }
 ],
 "metadata": {
  "kernelspec": {
   "display_name": "Python 3",
   "language": "python",
   "name": "python3"
  },
  "language_info": {
   "codemirror_mode": {
    "name": "ipython",
    "version": 3
   },
   "file_extension": ".py",
   "mimetype": "text/x-python",
   "name": "python",
   "nbconvert_exporter": "python",
   "pygments_lexer": "ipython3",
   "version": "3.6.8"
  }
 },
 "nbformat": 4,
 "nbformat_minor": 4
}
