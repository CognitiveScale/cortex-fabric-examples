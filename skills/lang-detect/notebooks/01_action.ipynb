{
 "cells": [
  {
   "cell_type": "code",
   "execution_count": null,
   "metadata": {
    "collapsed": true
   },
   "outputs": [],
   "source": [
    "# Basic setup and sanity checking\n",
    "%run ./00_setup.ipynb"
   ]
  },
  {
   "cell_type": "markdown",
   "metadata": {},
   "source": [
    "## Action Authoring and Deployment\n",
    "A Cortex Action can be authored and deployed from within a notebook for rapid prototyping and testing.  The Cortex SDK for Python includes an iPython Magic called `%%cortex_action` that takes a notebook cell and deploys it as a Cortex Action."
   ]
  },
  {
   "cell_type": "code",
   "execution_count": null,
   "metadata": {
    "collapsed": true
   },
   "outputs": [],
   "source": [
    "%%cortex_action --name c12e/lang-detect --function detect --daemon --requirements langdetect\n",
    "\n",
    "from cortex import Message\n",
    "from langdetect import detect_langs\n",
    "\n",
    "\n",
    "def detect(params):\n",
    "    msg = Message(params)\n",
    "    text = msg.payload.get('text')\n",
    "\n",
    "    results = detect_langs(text)\n",
    "\n",
    "    others = []\n",
    "    for lang in results[1:]:\n",
    "        others.append({'lang': lang.lang, 'score': lang.prob})\n",
    "\n",
    "    top_lang = results[0]\n",
    "\n",
    "    return Message.with_payload(\n",
    "        {'text': text, 'lang': top_lang.lang, 'score': top_lang.prob, 'other_langs': others}).to_params()"
   ]
  },
  {
   "cell_type": "markdown",
   "metadata": {},
   "source": [
    "## Local Testing\n",
    "Once the Action is built, we can run both a local and remote test.  The local test in our example can be done by simply calling the `detect` function we defined above."
   ]
  },
  {
   "cell_type": "code",
   "execution_count": null,
   "metadata": {},
   "outputs": [],
   "source": [
    "params = {'payload': {'text': '¡Bienvenido a CognitiveScale, que tengas un buen día!'}}\n",
    "rs = detect(params)\n",
    "result = rs.get('payload')\n",
    "print(result)\n",
    "assert(result['lang'] == 'es')"
   ]
  },
  {
   "cell_type": "markdown",
   "metadata": {},
   "source": [
    "## Remote Testing\n",
    "Using the Cortex client, we can execute a remote test of our Action to make sure it deployed as expected."
   ]
  },
  {
   "cell_type": "code",
   "execution_count": null,
   "metadata": {},
   "outputs": [],
   "source": [
    "client = Cortex.client()\n",
    "action = client.action('c12e/lang-detect')\n",
    "action"
   ]
  },
  {
   "cell_type": "code",
   "execution_count": null,
   "metadata": {},
   "outputs": [],
   "source": [
    "rs = action.invoke(Message.with_payload(params.get('payload')))\n",
    "result = rs.payload\n",
    "print(result)\n",
    "assert(result['lang'] == 'es')"
   ]
  },
  {
   "cell_type": "code",
   "execution_count": null,
   "metadata": {},
   "outputs": [],
   "source": []
  }
 ],
 "metadata": {
  "kernelspec": {
   "display_name": "Python 3",
   "language": "python",
   "name": "python3"
  },
  "language_info": {
   "codemirror_mode": {
    "name": "ipython",
    "version": 3
   },
   "file_extension": ".py",
   "mimetype": "text/x-python",
   "name": "python",
   "nbconvert_exporter": "python",
   "pygments_lexer": "ipython3",
   "version": "3.6.6"
  }
 },
 "nbformat": 4,
 "nbformat_minor": 2
}
